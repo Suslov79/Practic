{
 "cells": [
  {
   "cell_type": "markdown",
   "metadata": {
    "id": "sRW85nPMDWKb"
   },
   "source": [
    "Необходимые данные находятся в таблицах схемы `stackoverflow`. подключение к архиву БД Stackoverflow с помощью SQLAlchemy. \n",
    "\n",
    "Некоторые задания включают дополнительные вопросы. На часть вопросов можно ответить текстом, а для некоторых понадобится визуализация."
   ]
  },
  {
   "cell_type": "markdown",
   "metadata": {},
   "source": [
    "#  Конфигурация для подключения к базе данных "
   ]
  },
  {
   "cell_type": "markdown",
   "metadata": {},
   "source": [
    "База данных  `data-analyst-advanced-sql` содержит схему `stackoverflow`, с которой будем работать в проекте"
   ]
  },
  {
   "cell_type": "code",
   "execution_count": 1,
   "metadata": {
    "id": "nlZBlglMDWKe"
   },
   "outputs": [],
   "source": [
    "import pandas as pd\n",
    "import matplotlib.pyplot as plt\n",
    "import seaborn as sns\n",
    "import datetime\n",
    "import calendar\n",
    "from sqlalchemy import create_engine "
   ]
  },
  {
   "cell_type": "code",
   "execution_count": 2,
   "metadata": {
    "id": "6p-yGp7qDWKg"
   },
   "outputs": [],
   "source": [
    "db_config = {\n",
    "    'user': 'praktikum_student', # имя пользователя\n",
    "    'pwd': 'Sdf4$2;d-d30pp', # пароль\n",
    "    'host': 'rc1b-wcoijxj3yxfsf3fs.mdb.yandexcloud.net',\n",
    "    'port': 6432, # порт подключения\n",
    "    'db': 'data-analyst-advanced-sql' # название базы данных\n",
    "}  \n",
    "\n",
    "connection_string = 'postgresql://{}:{}@{}:{}/{}'.format(\n",
    "    db_config['user'],\n",
    "    db_config['pwd'],\n",
    "    db_config['host'],\n",
    "    db_config['port'],\n",
    "    db_config['db'],\n",
    ")"
   ]
  },
  {
   "cell_type": "markdown",
   "metadata": {
    "id": "2Rg8ZpS0DWKh"
   },
   "source": [
    "Создание подключения"
   ]
  },
  {
   "cell_type": "code",
   "execution_count": 3,
   "metadata": {
    "id": "DamCUTR6DWKi"
   },
   "outputs": [],
   "source": [
    "engine = create_engine(connection_string) "
   ]
  },
  {
   "cell_type": "markdown",
   "metadata": {
    "id": "bel8XeSlDWKj"
   },
   "source": [
    "Пример запроса к базе данных\n",
    "\n",
    "`sample_df` является pandas-датафреймом."
   ]
  },
  {
   "cell_type": "code",
   "execution_count": 4,
   "metadata": {
    "id": "6Z_fw0yLDWKk"
   },
   "outputs": [],
   "source": [
    "query = '''\n",
    "SELECT *\n",
    "FROM stackoverflow.users\n",
    "LIMIT 10;\n",
    "'''\n",
    "\n",
    "sample_df = pd.read_sql_query(query, con=engine) "
   ]
  },
  {
   "cell_type": "code",
   "execution_count": 5,
   "metadata": {
    "id": "ZpuZ290oDWKk",
    "outputId": "22785a0a-e2bc-4559-ec3c-4879c4b377eb"
   },
   "outputs": [
    {
     "data": {
      "text/html": [
       "<div>\n",
       "<style scoped>\n",
       "    .dataframe tbody tr th:only-of-type {\n",
       "        vertical-align: middle;\n",
       "    }\n",
       "\n",
       "    .dataframe tbody tr th {\n",
       "        vertical-align: top;\n",
       "    }\n",
       "\n",
       "    .dataframe thead th {\n",
       "        text-align: right;\n",
       "    }\n",
       "</style>\n",
       "<table border=\"1\" class=\"dataframe\">\n",
       "  <thead>\n",
       "    <tr style=\"text-align: right;\">\n",
       "      <th></th>\n",
       "      <th>id</th>\n",
       "      <th>creation_date</th>\n",
       "      <th>display_name</th>\n",
       "      <th>last_access_date</th>\n",
       "      <th>location</th>\n",
       "      <th>reputation</th>\n",
       "      <th>views</th>\n",
       "    </tr>\n",
       "  </thead>\n",
       "  <tbody>\n",
       "    <tr>\n",
       "      <th>0</th>\n",
       "      <td>1</td>\n",
       "      <td>2008-07-31 14:22:31</td>\n",
       "      <td>Jeff Atwood</td>\n",
       "      <td>2018-08-29 02:34:23</td>\n",
       "      <td>El Cerrito, CA</td>\n",
       "      <td>44300</td>\n",
       "      <td>408587</td>\n",
       "    </tr>\n",
       "    <tr>\n",
       "      <th>1</th>\n",
       "      <td>2</td>\n",
       "      <td>2008-07-31 14:22:31</td>\n",
       "      <td>Geoff Dalgas</td>\n",
       "      <td>2018-08-23 17:31:56</td>\n",
       "      <td>Corvallis, OR</td>\n",
       "      <td>3491</td>\n",
       "      <td>23966</td>\n",
       "    </tr>\n",
       "    <tr>\n",
       "      <th>2</th>\n",
       "      <td>3</td>\n",
       "      <td>2008-07-31 14:22:31</td>\n",
       "      <td>Jarrod Dixon</td>\n",
       "      <td>2018-08-30 20:56:24</td>\n",
       "      <td>Raleigh, NC, United States</td>\n",
       "      <td>13418</td>\n",
       "      <td>24396</td>\n",
       "    </tr>\n",
       "    <tr>\n",
       "      <th>3</th>\n",
       "      <td>4</td>\n",
       "      <td>2008-07-31 14:22:31</td>\n",
       "      <td>Joel Spolsky</td>\n",
       "      <td>2018-08-14 22:18:15</td>\n",
       "      <td>New York, NY</td>\n",
       "      <td>28768</td>\n",
       "      <td>73755</td>\n",
       "    </tr>\n",
       "    <tr>\n",
       "      <th>4</th>\n",
       "      <td>5</td>\n",
       "      <td>2008-07-31 14:22:31</td>\n",
       "      <td>Jon Galloway</td>\n",
       "      <td>2018-08-29 16:48:36</td>\n",
       "      <td>San Diego, CA</td>\n",
       "      <td>39172</td>\n",
       "      <td>11700</td>\n",
       "    </tr>\n",
       "    <tr>\n",
       "      <th>5</th>\n",
       "      <td>8</td>\n",
       "      <td>2008-07-31 21:33:24</td>\n",
       "      <td>Eggs McLaren</td>\n",
       "      <td>2018-04-09 02:04:56</td>\n",
       "      <td>None</td>\n",
       "      <td>942</td>\n",
       "      <td>6372</td>\n",
       "    </tr>\n",
       "    <tr>\n",
       "      <th>6</th>\n",
       "      <td>9</td>\n",
       "      <td>2008-07-31 21:35:27</td>\n",
       "      <td>Kevin Dente</td>\n",
       "      <td>2018-08-30 18:18:03</td>\n",
       "      <td>Oakland, CA</td>\n",
       "      <td>14337</td>\n",
       "      <td>4949</td>\n",
       "    </tr>\n",
       "    <tr>\n",
       "      <th>7</th>\n",
       "      <td>11</td>\n",
       "      <td>2008-08-01 00:59:11</td>\n",
       "      <td>Anonymous User</td>\n",
       "      <td>2008-08-01 00:59:11</td>\n",
       "      <td>None</td>\n",
       "      <td>1890</td>\n",
       "      <td>2123</td>\n",
       "    </tr>\n",
       "    <tr>\n",
       "      <th>8</th>\n",
       "      <td>13</td>\n",
       "      <td>2008-08-01 04:18:05</td>\n",
       "      <td>Chris Jester-Young</td>\n",
       "      <td>2018-08-30 02:47:23</td>\n",
       "      <td>Raleigh, NC, United States</td>\n",
       "      <td>177138</td>\n",
       "      <td>35414</td>\n",
       "    </tr>\n",
       "    <tr>\n",
       "      <th>9</th>\n",
       "      <td>17</td>\n",
       "      <td>2008-08-01 12:02:22</td>\n",
       "      <td>Nick Berardi</td>\n",
       "      <td>2018-01-22 01:35:38</td>\n",
       "      <td>Issaquah, WA</td>\n",
       "      <td>44443</td>\n",
       "      <td>4786</td>\n",
       "    </tr>\n",
       "  </tbody>\n",
       "</table>\n",
       "</div>"
      ],
      "text/plain": [
       "   id       creation_date        display_name    last_access_date  \\\n",
       "0   1 2008-07-31 14:22:31         Jeff Atwood 2018-08-29 02:34:23   \n",
       "1   2 2008-07-31 14:22:31        Geoff Dalgas 2018-08-23 17:31:56   \n",
       "2   3 2008-07-31 14:22:31        Jarrod Dixon 2018-08-30 20:56:24   \n",
       "3   4 2008-07-31 14:22:31        Joel Spolsky 2018-08-14 22:18:15   \n",
       "4   5 2008-07-31 14:22:31        Jon Galloway 2018-08-29 16:48:36   \n",
       "5   8 2008-07-31 21:33:24        Eggs McLaren 2018-04-09 02:04:56   \n",
       "6   9 2008-07-31 21:35:27         Kevin Dente 2018-08-30 18:18:03   \n",
       "7  11 2008-08-01 00:59:11      Anonymous User 2008-08-01 00:59:11   \n",
       "8  13 2008-08-01 04:18:05  Chris Jester-Young 2018-08-30 02:47:23   \n",
       "9  17 2008-08-01 12:02:22        Nick Berardi 2018-01-22 01:35:38   \n",
       "\n",
       "                     location  reputation   views  \n",
       "0              El Cerrito, CA       44300  408587  \n",
       "1               Corvallis, OR        3491   23966  \n",
       "2  Raleigh, NC, United States       13418   24396  \n",
       "3                New York, NY       28768   73755  \n",
       "4               San Diego, CA       39172   11700  \n",
       "5                        None         942    6372  \n",
       "6                 Oakland, CA       14337    4949  \n",
       "7                        None        1890    2123  \n",
       "8  Raleigh, NC, United States      177138   35414  \n",
       "9                Issaquah, WA       44443    4786  "
      ]
     },
     "execution_count": 5,
     "metadata": {},
     "output_type": "execute_result"
    }
   ],
   "source": [
    "sample_df"
   ]
  },
  {
   "cell_type": "markdown",
   "metadata": {
    "id": "gnBMXkDBDWKm"
   },
   "source": [
    "## Задание 1"
   ]
  },
  {
   "cell_type": "markdown",
   "metadata": {
    "id": "vHsfOrrNDWKn"
   },
   "source": [
    "Выведите общую сумму просмотров постов за каждый месяц 2008 года. Если данных за какой-либо месяц в базе нет, такой месяц можно пропустить. Результат отсортируйте по убыванию общего количества просмотров."
   ]
  },
  {
   "cell_type": "markdown",
   "metadata": {
    "id": "N5rTgGNmDWKn"
   },
   "source": [
    "| month_date  | total_views |\n",
    "| ------------- | ------------- |\n",
    "| 2008-09-01  | 452928568  |\n",
    "| 2008-10-01  | 365400138  |\n",
    "| ...         | ... |"
   ]
  },
  {
   "cell_type": "code",
   "execution_count": 6,
   "metadata": {
    "id": "eWvykcXTDWKo"
   },
   "outputs": [
    {
     "data": {
      "text/html": [
       "<div>\n",
       "<style scoped>\n",
       "    .dataframe tbody tr th:only-of-type {\n",
       "        vertical-align: middle;\n",
       "    }\n",
       "\n",
       "    .dataframe tbody tr th {\n",
       "        vertical-align: top;\n",
       "    }\n",
       "\n",
       "    .dataframe thead th {\n",
       "        text-align: right;\n",
       "    }\n",
       "</style>\n",
       "<table border=\"1\" class=\"dataframe\">\n",
       "  <thead>\n",
       "    <tr style=\"text-align: right;\">\n",
       "      <th></th>\n",
       "      <th>month_date</th>\n",
       "      <th>sum</th>\n",
       "    </tr>\n",
       "  </thead>\n",
       "  <tbody>\n",
       "    <tr>\n",
       "      <th>0</th>\n",
       "      <td>2008-09-01</td>\n",
       "      <td>452928568</td>\n",
       "    </tr>\n",
       "    <tr>\n",
       "      <th>1</th>\n",
       "      <td>2008-10-01</td>\n",
       "      <td>365400138</td>\n",
       "    </tr>\n",
       "    <tr>\n",
       "      <th>2</th>\n",
       "      <td>2008-11-01</td>\n",
       "      <td>221759651</td>\n",
       "    </tr>\n",
       "    <tr>\n",
       "      <th>3</th>\n",
       "      <td>2008-12-01</td>\n",
       "      <td>197792841</td>\n",
       "    </tr>\n",
       "    <tr>\n",
       "      <th>4</th>\n",
       "      <td>2008-08-01</td>\n",
       "      <td>131367083</td>\n",
       "    </tr>\n",
       "    <tr>\n",
       "      <th>5</th>\n",
       "      <td>2008-07-01</td>\n",
       "      <td>669895</td>\n",
       "    </tr>\n",
       "  </tbody>\n",
       "</table>\n",
       "</div>"
      ],
      "text/plain": [
       "   month_date        sum\n",
       "0  2008-09-01  452928568\n",
       "1  2008-10-01  365400138\n",
       "2  2008-11-01  221759651\n",
       "3  2008-12-01  197792841\n",
       "4  2008-08-01  131367083\n",
       "5  2008-07-01     669895"
      ]
     },
     "execution_count": 6,
     "metadata": {},
     "output_type": "execute_result"
    }
   ],
   "source": [
    "# напишите запрос\n",
    "query = '''\n",
    "SELECT DISTINCT CAST(DATE_TRUNC('month',creation_date)as date ) as month_date, \n",
    "    sum(views_count) OVER (PARTITION BY CAST(DATE_TRUNC('month',creation_date)as date ) )\n",
    "FROM stackoverflow.posts\n",
    "ORDER BY 2 DESC\n",
    "'''\n",
    "\n",
    "# выполните запрос\n",
    "df_1 = pd.read_sql_query(query, con=engine) \n",
    "df_1"
   ]
  },
  {
   "cell_type": "code",
   "execution_count": 7,
   "metadata": {},
   "outputs": [
    {
     "data": {
      "image/png": "[encoded data removed]",
      "text/plain": [
       "<Figure size 432x288 with 1 Axes>"
      ]
     },
     "metadata": {
      "needs_background": "light"
     },
     "output_type": "display_data"
    }
   ],
   "source": [
    "df_1.plot.barh(x=\"month_date\", y=\"sum\")\n",
    "plt.show()"
   ]
  },
  {
   "cell_type": "markdown",
   "metadata": {
    "id": "I_ZvhOxkDWKp"
   },
   "source": [
    "###  Проанализируйте итоговую таблицу. Отличаются ли данные за разные месяцы? С чем могут быть связаны отличия?"
   ]
  },
  {
   "cell_type": "markdown",
   "metadata": {
    "id": "luxSj17oDWKq"
   },
   "source": [
    "Данные представлены фактически с августа по декабрь ( за июль только один неполный день). Резкий рост просмотров в сентябре  предположительно связан с очень актуальным и/или интересными постом (постами). В октябре предположительно присутсвуют \"отголосикх\" этих постов и прододение их просмотров и/или обсуждение. "
   ]
  },
  {
   "cell_type": "markdown",
   "metadata": {
    "id": "FziIXkn5DWKr"
   },
   "source": [
    "## Задание 2"
   ]
  },
  {
   "cell_type": "markdown",
   "metadata": {
    "id": "fTGESZvYDWKr"
   },
   "source": [
    "Выведите имена самых активных пользователей, которые в первый месяц после регистрации (включая день регистрации) дали больше 100 ответов. Вопросы, которые задавали пользователи, не учитывайте. Для каждого имени пользователя выведите количество уникальных значений `user_id`. Отсортируйте результат по полю с именами в лексикографическом порядке."
   ]
  },
  {
   "cell_type": "markdown",
   "metadata": {
    "id": "W5-tv6Y3DWKs"
   },
   "source": [
    "| display_name | count |\n",
    "| ------------ | ----- |\n",
    "| 1800 INFORMATION | 1 |\n",
    "| Adam Bellaire | 1 |\n",
    "| Adam Davis | 1 |\n",
    "| ... | ... |"
   ]
  },
  {
   "cell_type": "code",
   "execution_count": 9,
   "metadata": {},
   "outputs": [
    {
     "data": {
      "text/html": [
       "<div>\n",
       "<style scoped>\n",
       "    .dataframe tbody tr th:only-of-type {\n",
       "        vertical-align: middle;\n",
       "    }\n",
       "\n",
       "    .dataframe tbody tr th {\n",
       "        vertical-align: top;\n",
       "    }\n",
       "\n",
       "    .dataframe thead th {\n",
       "        text-align: right;\n",
       "    }\n",
       "</style>\n",
       "<table border=\"1\" class=\"dataframe\">\n",
       "  <thead>\n",
       "    <tr style=\"text-align: right;\">\n",
       "      <th></th>\n",
       "      <th>name</th>\n",
       "      <th>count</th>\n",
       "    </tr>\n",
       "  </thead>\n",
       "  <tbody>\n",
       "    <tr>\n",
       "      <th>0</th>\n",
       "      <td>1800 INFORMATION</td>\n",
       "      <td>1</td>\n",
       "    </tr>\n",
       "    <tr>\n",
       "      <th>1</th>\n",
       "      <td>Adam Bellaire</td>\n",
       "      <td>1</td>\n",
       "    </tr>\n",
       "    <tr>\n",
       "      <th>2</th>\n",
       "      <td>Adam Davis</td>\n",
       "      <td>1</td>\n",
       "    </tr>\n",
       "    <tr>\n",
       "      <th>3</th>\n",
       "      <td>Adam Liss</td>\n",
       "      <td>1</td>\n",
       "    </tr>\n",
       "    <tr>\n",
       "      <th>4</th>\n",
       "      <td>Alan</td>\n",
       "      <td>8</td>\n",
       "    </tr>\n",
       "    <tr>\n",
       "      <th>5</th>\n",
       "      <td>Amy B</td>\n",
       "      <td>1</td>\n",
       "    </tr>\n",
       "    <tr>\n",
       "      <th>6</th>\n",
       "      <td>Ben Hoffstein</td>\n",
       "      <td>1</td>\n",
       "    </tr>\n",
       "    <tr>\n",
       "      <th>7</th>\n",
       "      <td>Brian</td>\n",
       "      <td>15</td>\n",
       "    </tr>\n",
       "    <tr>\n",
       "      <th>8</th>\n",
       "      <td>Cade Roux</td>\n",
       "      <td>1</td>\n",
       "    </tr>\n",
       "    <tr>\n",
       "      <th>9</th>\n",
       "      <td>CesarB</td>\n",
       "      <td>1</td>\n",
       "    </tr>\n",
       "    <tr>\n",
       "      <th>10</th>\n",
       "      <td>Chris</td>\n",
       "      <td>29</td>\n",
       "    </tr>\n",
       "    <tr>\n",
       "      <th>11</th>\n",
       "      <td>ConcernedOfTunbridgeWells</td>\n",
       "      <td>1</td>\n",
       "    </tr>\n",
       "    <tr>\n",
       "      <th>12</th>\n",
       "      <td>Craig</td>\n",
       "      <td>10</td>\n",
       "    </tr>\n",
       "    <tr>\n",
       "      <th>13</th>\n",
       "      <td>Dale Ragan</td>\n",
       "      <td>1</td>\n",
       "    </tr>\n",
       "    <tr>\n",
       "      <th>14</th>\n",
       "      <td>Dan</td>\n",
       "      <td>21</td>\n",
       "    </tr>\n",
       "  </tbody>\n",
       "</table>\n",
       "</div>"
      ],
      "text/plain": [
       "                         name  count\n",
       "0            1800 INFORMATION      1\n",
       "1               Adam Bellaire      1\n",
       "2                  Adam Davis      1\n",
       "3                   Adam Liss      1\n",
       "4                        Alan      8\n",
       "5                       Amy B      1\n",
       "6               Ben Hoffstein      1\n",
       "7                       Brian     15\n",
       "8                   Cade Roux      1\n",
       "9                      CesarB      1\n",
       "10                      Chris     29\n",
       "11  ConcernedOfTunbridgeWells      1\n",
       "12                      Craig     10\n",
       "13                 Dale Ragan      1\n",
       "14                        Dan     21"
      ]
     },
     "execution_count": 9,
     "metadata": {},
     "output_type": "execute_result"
    }
   ],
   "source": [
    "query = '''\n",
    "SELECT display_name as name , count(distinct p.user_id)\n",
    "FROM  stackoverflow.posts as p\n",
    "JOIN stackoverflow.post_types as pt on p.post_type_id = pt.id\n",
    "JOIN stackoverflow.users as u on p.user_id = u.id\n",
    "WHERE type = 'Answer' and  CAST(DATE_TRUNC('day',p.creation_date)as date ) <= (u.creation_date + interval '1' month)\n",
    "GROUP BY 1\n",
    "HAVING count (type) >  100\n",
    "'''\n",
    "\n",
    "df_2_1 = pd.read_sql_query(query, con=engine) \n",
    "df_2_1.head(15)"
   ]
  },
  {
   "cell_type": "markdown",
   "metadata": {
    "id": "CEIGGQ6ODWKy"
   },
   "source": [
    "Некторые имена неоднократно встречаются среди самых активных. Например имя Chris достаточно популярно. Так же можно выделить Jon Skeet ( id =22656) и Joel Coehoorn (id = 3043), давших 387 и 306 ответов за первый месяц после регистрации соответсвенною Видимо очень знающие товарищи. но необходимо проверить рекацию на их ответы. Может в них не очень много пользы. "
   ]
  },
  {
   "cell_type": "markdown",
   "metadata": {
    "id": "JhM2xXj5DWKu"
   },
   "source": [
    "## Задание 3"
   ]
  },
  {
   "cell_type": "markdown",
   "metadata": {
    "id": "IS6xPqyyDWKu"
   },
   "source": [
    "Выведите количество постов за 2008 год по месяцам. Отберите посты от пользователей, которые зарегистрировались в сентябре 2008 года и сделали хотя бы один пост в декабре того же года. Отсортируйте таблицу по значению месяца по убыванию."
   ]
  },
  {
   "cell_type": "markdown",
   "metadata": {
    "id": "WmjhjV2xDWKv"
   },
   "source": [
    "| month | count |\n",
    "| ------|------ |\n",
    "| 2008-12-01 | 17641 |\n",
    "| 2008-11-01 | 18294 |\n",
    "| ... | ... |"
   ]
  },
  {
   "cell_type": "code",
   "execution_count": 10,
   "metadata": {
    "id": "kVu0FB8WDWKv"
   },
   "outputs": [
    {
     "data": {
      "text/html": [
       "<div>\n",
       "<style scoped>\n",
       "    .dataframe tbody tr th:only-of-type {\n",
       "        vertical-align: middle;\n",
       "    }\n",
       "\n",
       "    .dataframe tbody tr th {\n",
       "        vertical-align: top;\n",
       "    }\n",
       "\n",
       "    .dataframe thead th {\n",
       "        text-align: right;\n",
       "    }\n",
       "</style>\n",
       "<table border=\"1\" class=\"dataframe\">\n",
       "  <thead>\n",
       "    <tr style=\"text-align: right;\">\n",
       "      <th></th>\n",
       "      <th>month</th>\n",
       "      <th>posts</th>\n",
       "    </tr>\n",
       "  </thead>\n",
       "  <tbody>\n",
       "    <tr>\n",
       "      <th>0</th>\n",
       "      <td>2008-12-01</td>\n",
       "      <td>17641</td>\n",
       "    </tr>\n",
       "    <tr>\n",
       "      <th>1</th>\n",
       "      <td>2008-11-01</td>\n",
       "      <td>18294</td>\n",
       "    </tr>\n",
       "    <tr>\n",
       "      <th>2</th>\n",
       "      <td>2008-10-01</td>\n",
       "      <td>27171</td>\n",
       "    </tr>\n",
       "    <tr>\n",
       "      <th>3</th>\n",
       "      <td>2008-09-01</td>\n",
       "      <td>24870</td>\n",
       "    </tr>\n",
       "    <tr>\n",
       "      <th>4</th>\n",
       "      <td>2008-08-01</td>\n",
       "      <td>32</td>\n",
       "    </tr>\n",
       "  </tbody>\n",
       "</table>\n",
       "</div>"
      ],
      "text/plain": [
       "        month  posts\n",
       "0  2008-12-01  17641\n",
       "1  2008-11-01  18294\n",
       "2  2008-10-01  27171\n",
       "3  2008-09-01  24870\n",
       "4  2008-08-01     32"
      ]
     },
     "execution_count": 10,
     "metadata": {},
     "output_type": "execute_result"
    }
   ],
   "source": [
    "# напишите запрос\n",
    "query = '''\n",
    "SELECT CAST(DATE_TRUNC('month',p.creation_date)as date ) as month, count (id) as posts\n",
    "FROM stackoverflow.posts as p\n",
    "WHERE p.user_id in (\n",
    "SELECT u.id\n",
    "FROM stackoverflow.users as u\n",
    "JOIN  stackoverflow.posts as p on u.id = p.user_id\n",
    "WHERE CAST(DATE_TRUNC('day',u.creation_date)as date )  between '2008-09-01' and '2008-09-30'\n",
    "and CAST(DATE_TRUNC('day',p.creation_date)as date )  between '2008-12-01' and '2008-12-31' )\n",
    "GROUP BY 1\n",
    "ORDER BY 1 DESC\n",
    "\n",
    "'''\n",
    "\n",
    "# выполните запрос\n",
    "\n",
    "df_3 = pd.read_sql_query(query, con=engine) \n",
    "df_3"
   ]
  },
  {
   "cell_type": "code",
   "execution_count": 11,
   "metadata": {},
   "outputs": [
    {
     "data": {
      "image/png": "[encoded data removed]",
      "text/plain": [
       "<Figure size 432x288 with 1 Axes>"
      ]
     },
     "metadata": {
      "needs_background": "light"
     },
     "output_type": "display_data"
    }
   ],
   "source": [
    "df_3.plot.barh(x=\"month\", y=\"posts\")\n",
    "plt.show()"
   ]
  },
  {
   "cell_type": "markdown",
   "metadata": {
    "id": "Vnxn9DVHDWKx"
   },
   "source": [
    "### Изучите данные: есть ли в них аномалии? Предположите, почему могли появиться аномальные значения."
   ]
  },
  {
   "cell_type": "markdown",
   "metadata": {
    "id": "MMVIz4yMlKpN"
   },
   "source": [
    "Так же как и в первом задании сентябрь и октябрь ( на основании представленных данных) сильно вырываются вперед. Вероятно количество просмотров было связано не только с качественными, но и с количественными  показателями публикаций. Количество постов в августе аномально мало. Но тк мы отбираем только пользователей которые зарегистрировались в сентябре, не стоило от них ожидать активного \"прочёсывания\" архивов."
   ]
  },
  {
   "cell_type": "markdown",
   "metadata": {
    "id": "5Pcizm0DDWKz"
   },
   "source": [
    "## Задание 4"
   ]
  },
  {
   "cell_type": "markdown",
   "metadata": {
    "id": "KUZPF6vHDWKz"
   },
   "source": [
    "Используя данные о постах, выведите несколько полей:\n",
    "\n",
    "- идентификатор пользователя, который написал пост;\n",
    "- дата создания поста;\n",
    "- количество просмотров у текущего поста;\n",
    "- сумму просмотров постов автора с накоплением.\n",
    "\n",
    "Данные в таблице должны быть отсортированы по возрастанию идентификаторов пользователей, а данные об одном и том же пользователе — по возрастанию даты создания поста."
   ]
  },
  {
   "cell_type": "markdown",
   "metadata": {
    "id": "ZpsTUVDYDWK0"
   },
   "source": [
    "| user_id | creation_date | views_count | cumulative_count |\n",
    "| ------ | -------------- | ----------- | ---------------- |\n",
    "| 1 | 2008-07-31 23:41:00  | 480476   | 480476  |\n",
    "| 1 | 2008-07-31 23:55:38  | 136033 | 616509  | \n",
    "| 1 | 2008-07-31 23:56:41  | 0 |  616509  |\n",
    "| ... | ... | ... | ... |\n",
    "| 2 | 2008-07-31 23:56:41 | 79087  | 79087 |\n",
    "| 2 | 2008-08-01 05:09:56 | 65443 | 144530 |\n",
    "| ... | ...  | ...  | ...  |"
   ]
  },
  {
   "cell_type": "code",
   "execution_count": 12,
   "metadata": {
    "id": "hDoJhMzfDWK0"
   },
   "outputs": [
    {
     "data": {
      "text/html": [
       "<div>\n",
       "<style scoped>\n",
       "    .dataframe tbody tr th:only-of-type {\n",
       "        vertical-align: middle;\n",
       "    }\n",
       "\n",
       "    .dataframe tbody tr th {\n",
       "        vertical-align: top;\n",
       "    }\n",
       "\n",
       "    .dataframe thead th {\n",
       "        text-align: right;\n",
       "    }\n",
       "</style>\n",
       "<table border=\"1\" class=\"dataframe\">\n",
       "  <thead>\n",
       "    <tr style=\"text-align: right;\">\n",
       "      <th></th>\n",
       "      <th>user_id</th>\n",
       "      <th>creation_date</th>\n",
       "      <th>views_count</th>\n",
       "      <th>cumulative_count</th>\n",
       "    </tr>\n",
       "  </thead>\n",
       "  <tbody>\n",
       "    <tr>\n",
       "      <th>0</th>\n",
       "      <td>1</td>\n",
       "      <td>2008-07-31 23:41:00</td>\n",
       "      <td>480476</td>\n",
       "      <td>480476</td>\n",
       "    </tr>\n",
       "    <tr>\n",
       "      <th>1</th>\n",
       "      <td>1</td>\n",
       "      <td>2008-07-31 23:55:38</td>\n",
       "      <td>136033</td>\n",
       "      <td>616509</td>\n",
       "    </tr>\n",
       "    <tr>\n",
       "      <th>2</th>\n",
       "      <td>1</td>\n",
       "      <td>2008-07-31 23:56:41</td>\n",
       "      <td>0</td>\n",
       "      <td>616509</td>\n",
       "    </tr>\n",
       "    <tr>\n",
       "      <th>3</th>\n",
       "      <td>1</td>\n",
       "      <td>2008-08-04 02:45:08</td>\n",
       "      <td>0</td>\n",
       "      <td>616509</td>\n",
       "    </tr>\n",
       "    <tr>\n",
       "      <th>4</th>\n",
       "      <td>1</td>\n",
       "      <td>2008-08-04 04:31:03</td>\n",
       "      <td>0</td>\n",
       "      <td>616509</td>\n",
       "    </tr>\n",
       "    <tr>\n",
       "      <th>...</th>\n",
       "      <td>...</td>\n",
       "      <td>...</td>\n",
       "      <td>...</td>\n",
       "      <td>...</td>\n",
       "    </tr>\n",
       "    <tr>\n",
       "      <th>243791</th>\n",
       "      <td>5696608</td>\n",
       "      <td>2008-12-23 16:00:37</td>\n",
       "      <td>0</td>\n",
       "      <td>2804</td>\n",
       "    </tr>\n",
       "    <tr>\n",
       "      <th>243792</th>\n",
       "      <td>5696608</td>\n",
       "      <td>2008-12-23 17:35:09</td>\n",
       "      <td>0</td>\n",
       "      <td>2804</td>\n",
       "    </tr>\n",
       "    <tr>\n",
       "      <th>243793</th>\n",
       "      <td>5696608</td>\n",
       "      <td>2008-12-24 01:02:48</td>\n",
       "      <td>0</td>\n",
       "      <td>2804</td>\n",
       "    </tr>\n",
       "    <tr>\n",
       "      <th>243794</th>\n",
       "      <td>5696608</td>\n",
       "      <td>2008-12-30 14:34:45</td>\n",
       "      <td>0</td>\n",
       "      <td>2804</td>\n",
       "    </tr>\n",
       "    <tr>\n",
       "      <th>243795</th>\n",
       "      <td>5696608</td>\n",
       "      <td>2008-12-30 16:32:12</td>\n",
       "      <td>0</td>\n",
       "      <td>2804</td>\n",
       "    </tr>\n",
       "  </tbody>\n",
       "</table>\n",
       "<p>243796 rows × 4 columns</p>\n",
       "</div>"
      ],
      "text/plain": [
       "        user_id       creation_date  views_count  cumulative_count\n",
       "0             1 2008-07-31 23:41:00       480476            480476\n",
       "1             1 2008-07-31 23:55:38       136033            616509\n",
       "2             1 2008-07-31 23:56:41            0            616509\n",
       "3             1 2008-08-04 02:45:08            0            616509\n",
       "4             1 2008-08-04 04:31:03            0            616509\n",
       "...         ...                 ...          ...               ...\n",
       "243791  5696608 2008-12-23 16:00:37            0              2804\n",
       "243792  5696608 2008-12-23 17:35:09            0              2804\n",
       "243793  5696608 2008-12-24 01:02:48            0              2804\n",
       "243794  5696608 2008-12-30 14:34:45            0              2804\n",
       "243795  5696608 2008-12-30 16:32:12            0              2804\n",
       "\n",
       "[243796 rows x 4 columns]"
      ]
     },
     "execution_count": 12,
     "metadata": {},
     "output_type": "execute_result"
    }
   ],
   "source": [
    "# напишите запрос\n",
    "query = '''\n",
    "\n",
    "SELECT user_id, creation_date,views_count, \n",
    "    sum (views_count) OVER (PARTITION BY user_id ORDER BY creation_date)  as cumulative_count\n",
    "FROM stackoverflow.posts\n",
    "ORDER BY 1,2\n",
    "'''\n",
    "\n",
    "# выполните запрос\n",
    "df_4 = pd.read_sql_query(query, con=engine) \n",
    "df_4"
   ]
  },
  {
   "cell_type": "markdown",
   "metadata": {
    "id": "N0kHRHvIDWK2"
   },
   "source": [
    "## Задание 5"
   ]
  },
  {
   "cell_type": "markdown",
   "metadata": {
    "id": "gBgvmPtODWK2"
   },
   "source": [
    "Найдите среднее количество постов пользователей в день за август 2008 года. Отберите данные о пользователях, которые опубликовали больше 120 постов за август. Дни без публикаций не учитывайте. \n",
    "\n",
    "Отсортируйте результат по возрастанию среднего количества постов. Значения можно не округлять."
   ]
  },
  {
   "cell_type": "markdown",
   "metadata": {
    "id": "nfzR08BODWK3"
   },
   "source": [
    "| user_id | avg_daily |\n",
    "| ------- | --------- |\n",
    "| 116     | 4.777778  |\n",
    "| 234     | 5.208333  |\n",
    "| ...     | ... |"
   ]
  },
  {
   "cell_type": "code",
   "execution_count": 13,
   "metadata": {
    "id": "YFyPNz5GDWK3"
   },
   "outputs": [
    {
     "data": {
      "text/html": [
       "<div>\n",
       "<style scoped>\n",
       "    .dataframe tbody tr th:only-of-type {\n",
       "        vertical-align: middle;\n",
       "    }\n",
       "\n",
       "    .dataframe tbody tr th {\n",
       "        vertical-align: top;\n",
       "    }\n",
       "\n",
       "    .dataframe thead th {\n",
       "        text-align: right;\n",
       "    }\n",
       "</style>\n",
       "<table border=\"1\" class=\"dataframe\">\n",
       "  <thead>\n",
       "    <tr style=\"text-align: right;\">\n",
       "      <th></th>\n",
       "      <th>user_id</th>\n",
       "      <th>avg_daily</th>\n",
       "    </tr>\n",
       "  </thead>\n",
       "  <tbody>\n",
       "    <tr>\n",
       "      <th>0</th>\n",
       "      <td>116</td>\n",
       "      <td>4.777778</td>\n",
       "    </tr>\n",
       "    <tr>\n",
       "      <th>1</th>\n",
       "      <td>234</td>\n",
       "      <td>5.208333</td>\n",
       "    </tr>\n",
       "    <tr>\n",
       "      <th>2</th>\n",
       "      <td>91</td>\n",
       "      <td>5.681818</td>\n",
       "    </tr>\n",
       "    <tr>\n",
       "      <th>3</th>\n",
       "      <td>905</td>\n",
       "      <td>7.000000</td>\n",
       "    </tr>\n",
       "    <tr>\n",
       "      <th>4</th>\n",
       "      <td>383</td>\n",
       "      <td>7.277778</td>\n",
       "    </tr>\n",
       "  </tbody>\n",
       "</table>\n",
       "</div>"
      ],
      "text/plain": [
       "   user_id  avg_daily\n",
       "0      116   4.777778\n",
       "1      234   5.208333\n",
       "2       91   5.681818\n",
       "3      905   7.000000\n",
       "4      383   7.277778"
      ]
     },
     "execution_count": 13,
     "metadata": {},
     "output_type": "execute_result"
    }
   ],
   "source": [
    "# напишите запрос\n",
    "query = '''\n",
    "WITH first as (SELECT user_id, count(creation_date) as total\n",
    "FROM stackoverflow.posts\n",
    "where CAST(DATE_TRUNC('month',creation_date)as date ) = '2008-08-01' \n",
    "GROUP BY 1\n",
    "HAVING count (creation_date) > 120 ),\n",
    "\n",
    "second as (SELECT  user_id,CAST(DATE_TRUNC('day', creation_date)as date) as days , count(id)\n",
    "FROM first \n",
    "LEFT JOIN stackoverflow.posts using (user_id)\n",
    "WHERE CAST(DATE_TRUNC('day', creation_date)as date ) between '2008-08-01' and '2008-08-31'\n",
    "GROUP BY 2,1\n",
    "ORDER BY 2)\n",
    "\n",
    "SELECT user_id, avg (count) as avg_daily\n",
    "FROM second\n",
    "GROUP BY 1\n",
    "ORDER BY 2\n",
    "\n",
    "\n",
    "'''\n",
    "\n",
    "# выполните запрос\n",
    "\n",
    "df_5 = pd.read_sql_query(query, con=engine) \n",
    "df_5"
   ]
  },
  {
   "cell_type": "markdown",
   "metadata": {
    "id": "EQ0dcFH4DWK5"
   },
   "source": [
    "## Задание 6"
   ]
  },
  {
   "cell_type": "markdown",
   "metadata": {
    "id": "c7flfg_hDWK5"
   },
   "source": [
    "Сколько в среднем дней в период с 1 по 7 декабря 2008 года пользователи взаимодействовали с платформой? Для каждого пользователя отберите дни, в которые он или она опубликовали хотя бы один пост. Нужно получить одно целое число — не забудьте округлить результат. "
   ]
  },
  {
   "cell_type": "code",
   "execution_count": 14,
   "metadata": {
    "id": "kZ7LXTr6DWK6"
   },
   "outputs": [
    {
     "data": {
      "text/html": [
       "<div>\n",
       "<style scoped>\n",
       "    .dataframe tbody tr th:only-of-type {\n",
       "        vertical-align: middle;\n",
       "    }\n",
       "\n",
       "    .dataframe tbody tr th {\n",
       "        vertical-align: top;\n",
       "    }\n",
       "\n",
       "    .dataframe thead th {\n",
       "        text-align: right;\n",
       "    }\n",
       "</style>\n",
       "<table border=\"1\" class=\"dataframe\">\n",
       "  <thead>\n",
       "    <tr style=\"text-align: right;\">\n",
       "      <th></th>\n",
       "      <th>result</th>\n",
       "    </tr>\n",
       "  </thead>\n",
       "  <tbody>\n",
       "    <tr>\n",
       "      <th>0</th>\n",
       "      <td>2.0</td>\n",
       "    </tr>\n",
       "  </tbody>\n",
       "</table>\n",
       "</div>"
      ],
      "text/plain": [
       "   result\n",
       "0     2.0"
      ]
     },
     "execution_count": 14,
     "metadata": {},
     "output_type": "execute_result"
    }
   ],
   "source": [
    "# напишите запрос\n",
    "query = '''\n",
    "\n",
    "with first as (\n",
    "SELECT user_id,count (DISTINCT CAST( DATE_TRUNC('day', creation_date)as date) )as days \n",
    "FROM stackoverflow.posts\n",
    "where CAST(DATE_TRUNC('day',creation_date)as date ) between '2008-12-01' and '2008-12-07' \n",
    "GROUP BY 1\n",
    ")\n",
    "\n",
    "select round(avg (days))  as result\n",
    "from first\n",
    "\n",
    "\n",
    "'''\n",
    "\n",
    "# выполните запрос\n",
    "df_6 = pd.read_sql_query(query, con=engine) \n",
    "df_6"
   ]
  },
  {
   "cell_type": "markdown",
   "metadata": {
    "id": "UJFtNNggDWK7"
   },
   "source": [
    "### Проанализируйте итоговую таблицу — какие выводы можно сделать?"
   ]
  },
  {
   "cell_type": "markdown",
   "metadata": {
    "id": "LfUuYz-1DWK8"
   },
   "source": [
    "В среднем взамодействие происходит 2 дня . Возможно большинство пользотвателей заходит на платформу только в выходные."
   ]
  },
  {
   "cell_type": "markdown",
   "metadata": {
    "id": "wfOmqmfLDWK8"
   },
   "source": [
    "## Задание 7"
   ]
  },
  {
   "cell_type": "markdown",
   "metadata": {
    "id": "X4ARQimADWK9"
   },
   "source": [
    "Выведите историю активности каждого пользователя в таком виде: идентификатор пользователя, дата публикации поста. Отсортируйте вывод по возрастанию идентификаторов пользователей, а для каждого пользователя — по возрастанию даты публикации.\n",
    "\n",
    "Добавьте в таблицу новое поле: для каждого поста в нём будет указано название месяца предпоследней публикации пользователя относительно текущей. Если такой публикации нет, укажите `NULL`.  Python автоматически поменяет `NULL` на `None`, но дополнительно преобразовывать значения `None` вам не нужно.\n",
    "\n",
    "Посмотрите внимательно на образец таблицы: для первых двух постов предпоследней публикации нет, но, начиная с третьего поста, в новое поле входит нужный месяц. Для следующего пользователя в первые две записи поля `second_last_month` тоже войдёт `NULL`."
   ]
  },
  {
   "cell_type": "markdown",
   "metadata": {
    "id": "IGPjRP01DWK9"
   },
   "source": [
    "| user_id | creation_date | second_last_month |\n",
    "| ------- | ------------- | ----------------- |\n",
    "| 1       | 2008-07-31 23:41:00 | None |\n",
    "| 1       | 2008-07-31 23:55:38 | None |\n",
    "| 1       | 2008-07-31 23:56:41 | July |\n",
    "| 1       | 2008-08-04 02:45:08 | July |\n",
    "| 1       | 2008-08-04 04:31:03 | July |\n",
    "| 1       | 2008-08-04 08:04:42 | August |\n",
    "| ... | ... | ... |"
   ]
  },
  {
   "cell_type": "code",
   "execution_count": 15,
   "metadata": {
    "id": "HzI1vhaMDWK-"
   },
   "outputs": [
    {
     "data": {
      "text/html": [
       "<div>\n",
       "<style scoped>\n",
       "    .dataframe tbody tr th:only-of-type {\n",
       "        vertical-align: middle;\n",
       "    }\n",
       "\n",
       "    .dataframe tbody tr th {\n",
       "        vertical-align: top;\n",
       "    }\n",
       "\n",
       "    .dataframe thead th {\n",
       "        text-align: right;\n",
       "    }\n",
       "</style>\n",
       "<table border=\"1\" class=\"dataframe\">\n",
       "  <thead>\n",
       "    <tr style=\"text-align: right;\">\n",
       "      <th></th>\n",
       "      <th>user_id</th>\n",
       "      <th>creation_date</th>\n",
       "      <th>second_last_month</th>\n",
       "    </tr>\n",
       "  </thead>\n",
       "  <tbody>\n",
       "    <tr>\n",
       "      <th>0</th>\n",
       "      <td>1</td>\n",
       "      <td>2008-07-31 23:41:00</td>\n",
       "      <td>None</td>\n",
       "    </tr>\n",
       "    <tr>\n",
       "      <th>1</th>\n",
       "      <td>1</td>\n",
       "      <td>2008-07-31 23:55:38</td>\n",
       "      <td>None</td>\n",
       "    </tr>\n",
       "    <tr>\n",
       "      <th>2</th>\n",
       "      <td>1</td>\n",
       "      <td>2008-07-31 23:56:41</td>\n",
       "      <td>July</td>\n",
       "    </tr>\n",
       "    <tr>\n",
       "      <th>3</th>\n",
       "      <td>1</td>\n",
       "      <td>2008-08-04 02:45:08</td>\n",
       "      <td>July</td>\n",
       "    </tr>\n",
       "    <tr>\n",
       "      <th>4</th>\n",
       "      <td>1</td>\n",
       "      <td>2008-08-04 04:31:03</td>\n",
       "      <td>July</td>\n",
       "    </tr>\n",
       "    <tr>\n",
       "      <th>...</th>\n",
       "      <td>...</td>\n",
       "      <td>...</td>\n",
       "      <td>...</td>\n",
       "    </tr>\n",
       "    <tr>\n",
       "      <th>243791</th>\n",
       "      <td>5696608</td>\n",
       "      <td>2008-12-23 16:00:37</td>\n",
       "      <td>December</td>\n",
       "    </tr>\n",
       "    <tr>\n",
       "      <th>243792</th>\n",
       "      <td>5696608</td>\n",
       "      <td>2008-12-23 17:35:09</td>\n",
       "      <td>December</td>\n",
       "    </tr>\n",
       "    <tr>\n",
       "      <th>243793</th>\n",
       "      <td>5696608</td>\n",
       "      <td>2008-12-24 01:02:48</td>\n",
       "      <td>December</td>\n",
       "    </tr>\n",
       "    <tr>\n",
       "      <th>243794</th>\n",
       "      <td>5696608</td>\n",
       "      <td>2008-12-30 14:34:45</td>\n",
       "      <td>December</td>\n",
       "    </tr>\n",
       "    <tr>\n",
       "      <th>243795</th>\n",
       "      <td>5696608</td>\n",
       "      <td>2008-12-30 16:32:12</td>\n",
       "      <td>December</td>\n",
       "    </tr>\n",
       "  </tbody>\n",
       "</table>\n",
       "<p>243796 rows × 3 columns</p>\n",
       "</div>"
      ],
      "text/plain": [
       "        user_id       creation_date second_last_month\n",
       "0             1 2008-07-31 23:41:00              None\n",
       "1             1 2008-07-31 23:55:38              None\n",
       "2             1 2008-07-31 23:56:41         July     \n",
       "3             1 2008-08-04 02:45:08         July     \n",
       "4             1 2008-08-04 04:31:03         July     \n",
       "...         ...                 ...               ...\n",
       "243791  5696608 2008-12-23 16:00:37         December \n",
       "243792  5696608 2008-12-23 17:35:09         December \n",
       "243793  5696608 2008-12-24 01:02:48         December \n",
       "243794  5696608 2008-12-30 14:34:45         December \n",
       "243795  5696608 2008-12-30 16:32:12         December \n",
       "\n",
       "[243796 rows x 3 columns]"
      ]
     },
     "execution_count": 15,
     "metadata": {},
     "output_type": "execute_result"
    }
   ],
   "source": [
    "# напишите запрос\n",
    "query = '''\n",
    "SELECT user_id,creation_date,LAG (TO_CHAR(creation_date, 'Month'),2) OVER (PARTITION BY user_id ORDER BY creation_date) AS second_last_month \n",
    "FROM stackoverflow.posts\n",
    "\n",
    "'''\n",
    "\n",
    "# выполните запрос\n",
    "\n",
    "df_7 = pd.read_sql_query(query, con=engine) \n",
    "df_7"
   ]
  },
  {
   "cell_type": "markdown",
   "metadata": {
    "id": "tf9qq2yzDWK_"
   },
   "source": [
    "## Задание 8"
   ]
  },
  {
   "cell_type": "markdown",
   "metadata": {
    "id": "gfwLVXBYDWLA"
   },
   "source": [
    "Рассчитайте аналог Retention Rate по месяцам для пользователей StackOverflow. Объедините пользователей в когорты по месяцу их первого поста. Возвращение определяйте по наличию поста в текущем месяце. "
   ]
  },
  {
   "cell_type": "markdown",
   "metadata": {
    "id": "kN2ic39WlKpl"
   },
   "source": [
    "| cohort_dt | session_date | users_cnt | cohort_users_cnt | retention_rate |\n",
    "| --- | --- | --- | --- | --- |\n",
    "| 2008-07-01 00:00:00 | 2008-07-01 00:00:00 | 3 | 3 | 100 |\n",
    "| 2008-07-01 00:00:00 | 2008-08-01 00:00:00 | 2 | 3 | 66,67 |\n",
    "| 2008-07-01 00:00:00 | 2008-09-01 00:00:00 | 1 | 3 | 33,33 |\n",
    "| 2008-07-01 00:00:00 | 2008-10-01 00:00:00 | 2 | 3 | 66,67 |\n",
    "| 2008-07-01 00:00:00 | 2008-11-01 00:00:00 | 1 | 3 | 33,33 |\n",
    "| 2008-07-01 00:00:00 | 2008-12-01 00:00:00 | 2 | 3 | 66,67 |\n",
    "| 2008-08-01 00:00:00 | 2008-08-01 00:00:00 | 2151 | 2151 | 100 |\n",
    "| ... | ... | ... | ... | ... |"
   ]
  },
  {
   "cell_type": "code",
   "execution_count": 16,
   "metadata": {
    "id": "LUgFmwmTDWLB"
   },
   "outputs": [
    {
     "data": {
      "text/html": [
       "<div>\n",
       "<style scoped>\n",
       "    .dataframe tbody tr th:only-of-type {\n",
       "        vertical-align: middle;\n",
       "    }\n",
       "\n",
       "    .dataframe tbody tr th {\n",
       "        vertical-align: top;\n",
       "    }\n",
       "\n",
       "    .dataframe thead th {\n",
       "        text-align: right;\n",
       "    }\n",
       "</style>\n",
       "<table border=\"1\" class=\"dataframe\">\n",
       "  <thead>\n",
       "    <tr style=\"text-align: right;\">\n",
       "      <th></th>\n",
       "      <th>cohort_dt</th>\n",
       "      <th>session_dt</th>\n",
       "      <th>users_cnt</th>\n",
       "      <th>cohort_users_cnt</th>\n",
       "      <th>retention_rate</th>\n",
       "    </tr>\n",
       "  </thead>\n",
       "  <tbody>\n",
       "    <tr>\n",
       "      <th>0</th>\n",
       "      <td>2008-07-01</td>\n",
       "      <td>2008-07-01</td>\n",
       "      <td>3</td>\n",
       "      <td>3</td>\n",
       "      <td>100.00</td>\n",
       "    </tr>\n",
       "    <tr>\n",
       "      <th>1</th>\n",
       "      <td>2008-07-01</td>\n",
       "      <td>2008-08-01</td>\n",
       "      <td>2</td>\n",
       "      <td>3</td>\n",
       "      <td>66.67</td>\n",
       "    </tr>\n",
       "    <tr>\n",
       "      <th>2</th>\n",
       "      <td>2008-07-01</td>\n",
       "      <td>2008-09-01</td>\n",
       "      <td>1</td>\n",
       "      <td>3</td>\n",
       "      <td>33.33</td>\n",
       "    </tr>\n",
       "    <tr>\n",
       "      <th>3</th>\n",
       "      <td>2008-07-01</td>\n",
       "      <td>2008-10-01</td>\n",
       "      <td>2</td>\n",
       "      <td>3</td>\n",
       "      <td>66.67</td>\n",
       "    </tr>\n",
       "    <tr>\n",
       "      <th>4</th>\n",
       "      <td>2008-07-01</td>\n",
       "      <td>2008-11-01</td>\n",
       "      <td>1</td>\n",
       "      <td>3</td>\n",
       "      <td>33.33</td>\n",
       "    </tr>\n",
       "    <tr>\n",
       "      <th>5</th>\n",
       "      <td>2008-07-01</td>\n",
       "      <td>2008-12-01</td>\n",
       "      <td>2</td>\n",
       "      <td>3</td>\n",
       "      <td>66.67</td>\n",
       "    </tr>\n",
       "    <tr>\n",
       "      <th>6</th>\n",
       "      <td>2008-08-01</td>\n",
       "      <td>2008-08-01</td>\n",
       "      <td>2151</td>\n",
       "      <td>2151</td>\n",
       "      <td>100.00</td>\n",
       "    </tr>\n",
       "    <tr>\n",
       "      <th>7</th>\n",
       "      <td>2008-08-01</td>\n",
       "      <td>2008-09-01</td>\n",
       "      <td>1571</td>\n",
       "      <td>2151</td>\n",
       "      <td>73.04</td>\n",
       "    </tr>\n",
       "    <tr>\n",
       "      <th>8</th>\n",
       "      <td>2008-08-01</td>\n",
       "      <td>2008-10-01</td>\n",
       "      <td>1275</td>\n",
       "      <td>2151</td>\n",
       "      <td>59.27</td>\n",
       "    </tr>\n",
       "    <tr>\n",
       "      <th>9</th>\n",
       "      <td>2008-08-01</td>\n",
       "      <td>2008-11-01</td>\n",
       "      <td>1050</td>\n",
       "      <td>2151</td>\n",
       "      <td>48.81</td>\n",
       "    </tr>\n",
       "    <tr>\n",
       "      <th>10</th>\n",
       "      <td>2008-08-01</td>\n",
       "      <td>2008-12-01</td>\n",
       "      <td>894</td>\n",
       "      <td>2151</td>\n",
       "      <td>41.56</td>\n",
       "    </tr>\n",
       "    <tr>\n",
       "      <th>11</th>\n",
       "      <td>2008-09-01</td>\n",
       "      <td>2008-09-01</td>\n",
       "      <td>7678</td>\n",
       "      <td>7678</td>\n",
       "      <td>100.00</td>\n",
       "    </tr>\n",
       "    <tr>\n",
       "      <th>12</th>\n",
       "      <td>2008-09-01</td>\n",
       "      <td>2008-10-01</td>\n",
       "      <td>4132</td>\n",
       "      <td>7678</td>\n",
       "      <td>53.82</td>\n",
       "    </tr>\n",
       "    <tr>\n",
       "      <th>13</th>\n",
       "      <td>2008-09-01</td>\n",
       "      <td>2008-11-01</td>\n",
       "      <td>2966</td>\n",
       "      <td>7678</td>\n",
       "      <td>38.63</td>\n",
       "    </tr>\n",
       "    <tr>\n",
       "      <th>14</th>\n",
       "      <td>2008-09-01</td>\n",
       "      <td>2008-12-01</td>\n",
       "      <td>2500</td>\n",
       "      <td>7678</td>\n",
       "      <td>32.56</td>\n",
       "    </tr>\n",
       "    <tr>\n",
       "      <th>15</th>\n",
       "      <td>2008-10-01</td>\n",
       "      <td>2008-10-01</td>\n",
       "      <td>3629</td>\n",
       "      <td>3629</td>\n",
       "      <td>100.00</td>\n",
       "    </tr>\n",
       "    <tr>\n",
       "      <th>16</th>\n",
       "      <td>2008-10-01</td>\n",
       "      <td>2008-11-01</td>\n",
       "      <td>1640</td>\n",
       "      <td>3629</td>\n",
       "      <td>45.19</td>\n",
       "    </tr>\n",
       "    <tr>\n",
       "      <th>17</th>\n",
       "      <td>2008-10-01</td>\n",
       "      <td>2008-12-01</td>\n",
       "      <td>1221</td>\n",
       "      <td>3629</td>\n",
       "      <td>33.65</td>\n",
       "    </tr>\n",
       "    <tr>\n",
       "      <th>18</th>\n",
       "      <td>2008-11-01</td>\n",
       "      <td>2008-11-01</td>\n",
       "      <td>2852</td>\n",
       "      <td>2852</td>\n",
       "      <td>100.00</td>\n",
       "    </tr>\n",
       "    <tr>\n",
       "      <th>19</th>\n",
       "      <td>2008-11-01</td>\n",
       "      <td>2008-12-01</td>\n",
       "      <td>1151</td>\n",
       "      <td>2852</td>\n",
       "      <td>40.36</td>\n",
       "    </tr>\n",
       "    <tr>\n",
       "      <th>20</th>\n",
       "      <td>2008-12-01</td>\n",
       "      <td>2008-12-01</td>\n",
       "      <td>2536</td>\n",
       "      <td>2536</td>\n",
       "      <td>100.00</td>\n",
       "    </tr>\n",
       "  </tbody>\n",
       "</table>\n",
       "</div>"
      ],
      "text/plain": [
       "     cohort_dt  session_dt  users_cnt  cohort_users_cnt  retention_rate\n",
       "0   2008-07-01  2008-07-01          3                 3          100.00\n",
       "1   2008-07-01  2008-08-01          2                 3           66.67\n",
       "2   2008-07-01  2008-09-01          1                 3           33.33\n",
       "3   2008-07-01  2008-10-01          2                 3           66.67\n",
       "4   2008-07-01  2008-11-01          1                 3           33.33\n",
       "5   2008-07-01  2008-12-01          2                 3           66.67\n",
       "6   2008-08-01  2008-08-01       2151              2151          100.00\n",
       "7   2008-08-01  2008-09-01       1571              2151           73.04\n",
       "8   2008-08-01  2008-10-01       1275              2151           59.27\n",
       "9   2008-08-01  2008-11-01       1050              2151           48.81\n",
       "10  2008-08-01  2008-12-01        894              2151           41.56\n",
       "11  2008-09-01  2008-09-01       7678              7678          100.00\n",
       "12  2008-09-01  2008-10-01       4132              7678           53.82\n",
       "13  2008-09-01  2008-11-01       2966              7678           38.63\n",
       "14  2008-09-01  2008-12-01       2500              7678           32.56\n",
       "15  2008-10-01  2008-10-01       3629              3629          100.00\n",
       "16  2008-10-01  2008-11-01       1640              3629           45.19\n",
       "17  2008-10-01  2008-12-01       1221              3629           33.65\n",
       "18  2008-11-01  2008-11-01       2852              2852          100.00\n",
       "19  2008-11-01  2008-12-01       1151              2852           40.36\n",
       "20  2008-12-01  2008-12-01       2536              2536          100.00"
      ]
     },
     "execution_count": 16,
     "metadata": {},
     "output_type": "execute_result"
    }
   ],
   "source": [
    "# напишите запрос\n",
    "query = '''\n",
    "WITH profile AS\n",
    "  (SELECT user_id, CAST(DATE_TRUNC('month',min(creation_date) )as date ) as cohort_dt\n",
    "   FROM stackoverflow.posts\n",
    "   GROUP BY 1), \n",
    "sessions AS\n",
    "  (SELECT user_id,\n",
    "          CAST(DATE_TRUNC('month',creation_date)as date ) AS session_dt\n",
    "   FROM stackoverflow.posts\n",
    "   JOIN profile using (user_id)\n",
    "   GROUP BY 1,2),\n",
    "cohort_users_cnt AS\n",
    "  (SELECT cohort_dt,\n",
    "          COUNT(user_id) AS cohort_users_cnt\n",
    "   FROM profile\n",
    "   GROUP BY 1)\n",
    "\n",
    "SELECT cohort_dt, session_dt, count(profile.user_id) as users_cnt, cohort_users_cnt, ROUND(COUNT(profile.user_id) * 100.0 / cohort_users_cnt, 2) as retention_rate\n",
    " FROM profile\n",
    " join sessions using (user_id)\n",
    " join cohort_users_cnt using (cohort_dt)\n",
    " group by 1,2,4   \n",
    "\n",
    "'''\n",
    "\n",
    "# выполните запрос\n",
    "\n",
    "df_8 = pd.read_sql_query(query, con=engine) \n",
    "\n",
    "df_8"
   ]
  },
  {
   "cell_type": "markdown",
   "metadata": {
    "id": "_msBtnb2DWLC"
   },
   "source": [
    "### Постройте тепловую карту Retention Rate. Какие аномалии или другие необычные явления удалось выявить? Сформулируйте гипотезы о возможных причинах."
   ]
  },
  {
   "cell_type": "code",
   "execution_count": 17,
   "metadata": {
    "id": "qAEJc8H1DWLC"
   },
   "outputs": [
    {
     "data": {
      "image/png": "[encoded data removed]",
      "text/plain": [
       "<Figure size 1152x1152 with 2 Axes>"
      ]
     },
     "metadata": {
      "needs_background": "light"
     },
     "output_type": "display_data"
    }
   ],
   "source": [
    "# строим тепловую карту Retention Rate\n",
    "\n",
    "retention = df_8.pivot('cohort_dt', 'session_dt', 'retention_rate')\n",
    "retention.index = [str(x)[0:10] for x in retention.index]\n",
    "retention.columns = [str(x)[0:10] for x in retention.columns]\n",
    "\n",
    "# строим хитмэп\n",
    "plt.figure(figsize=(16, 16)) # задаём размер графика\n",
    "sns.heatmap(retention, # датафрейм с данными\n",
    "            annot=True, # добавляем подписи\n",
    "            fmt='') # задаём исходный формат\n",
    "plt.title('Тепловая карта') # название графика\n",
    "plt.show() \n",
    "\n"
   ]
  },
  {
   "cell_type": "markdown",
   "metadata": {
    "id": "EgOfIsI4DWLC"
   },
   "source": [
    "- Поведение всех когорт кроме июльской при первом взгляде является нормальным (плавно убывающим)\n",
    "- Для июльской когорты являются аномальными \"прыгающие\" значения (66-33-66-33-66). Но в связи с тем, что мы получили далеко не полные данные за июль и расчетный размер когорты - всего 3 человека, нельзя полноценно судить о поведении этой группы. Необходимо больше данных  для анализа."
   ]
  },
  {
   "cell_type": "markdown",
   "metadata": {
    "id": "1k7oPWt5DWLK"
   },
   "source": [
    "## Задание 9\n"
   ]
  },
  {
   "cell_type": "markdown",
   "metadata": {
    "id": "ALsYVSyRDWLM"
   },
   "source": [
    "На сколько процентов менялось количество постов ежемесячно с 1 сентября по 31 декабря 2008 года? Отобразите таблицу со следующими полями:\n",
    "\n",
    "- номер месяца;\n",
    "- количество постов за месяц;\n",
    "- процент, который показывает, насколько изменилось количество постов в текущем месяце по сравнению с предыдущим.\n",
    "\n",
    "Если постов стало меньше, значение процента должно быть отрицательным, если больше — положительным. Округлите значение процента до двух знаков после запятой.\n",
    "\n",
    "Напомним, что при делении одного целого числа на другое в PostgreSQL в результате получится целое число, округлённое до ближайшего целого вниз. Чтобы этого избежать, переведите делимое в тип `numeric`."
   ]
  },
  {
   "cell_type": "code",
   "execution_count": 18,
   "metadata": {
    "id": "Mb5pShStDWLN"
   },
   "outputs": [
    {
     "data": {
      "text/html": [
       "<div>\n",
       "<style scoped>\n",
       "    .dataframe tbody tr th:only-of-type {\n",
       "        vertical-align: middle;\n",
       "    }\n",
       "\n",
       "    .dataframe tbody tr th {\n",
       "        vertical-align: top;\n",
       "    }\n",
       "\n",
       "    .dataframe thead th {\n",
       "        text-align: right;\n",
       "    }\n",
       "</style>\n",
       "<table border=\"1\" class=\"dataframe\">\n",
       "  <thead>\n",
       "    <tr style=\"text-align: right;\">\n",
       "      <th></th>\n",
       "      <th>creation_month</th>\n",
       "      <th>posts_count</th>\n",
       "      <th>percentage</th>\n",
       "    </tr>\n",
       "  </thead>\n",
       "  <tbody>\n",
       "    <tr>\n",
       "      <th>0</th>\n",
       "      <td>9</td>\n",
       "      <td>70371</td>\n",
       "      <td>NaN</td>\n",
       "    </tr>\n",
       "    <tr>\n",
       "      <th>1</th>\n",
       "      <td>10</td>\n",
       "      <td>63102</td>\n",
       "      <td>-10.33</td>\n",
       "    </tr>\n",
       "    <tr>\n",
       "      <th>2</th>\n",
       "      <td>11</td>\n",
       "      <td>46975</td>\n",
       "      <td>-25.56</td>\n",
       "    </tr>\n",
       "    <tr>\n",
       "      <th>3</th>\n",
       "      <td>12</td>\n",
       "      <td>44592</td>\n",
       "      <td>-5.07</td>\n",
       "    </tr>\n",
       "  </tbody>\n",
       "</table>\n",
       "</div>"
      ],
      "text/plain": [
       "   creation_month  posts_count  percentage\n",
       "0               9        70371         NaN\n",
       "1              10        63102      -10.33\n",
       "2              11        46975      -25.56\n",
       "3              12        44592       -5.07"
      ]
     },
     "execution_count": 18,
     "metadata": {},
     "output_type": "execute_result"
    }
   ],
   "source": [
    "# напишите запрос\n",
    "query = '''\n",
    "SELECT CAST (EXTRACT (month FROM creation_date) as int) as creation_month, count (id) as posts_count,  round(\n",
    "    (\n",
    "        (count (id)::numeric / LAG(count (id)) OVER (ORDER BY CAST (EXTRACT (month FROM creation_date) as int) )\n",
    "        ) - 1) * 100,2)  as percentage\n",
    "FROM stackoverflow.posts\n",
    "WHERE EXTRACT (month FROM creation_date) between 9 and 12\n",
    "GROUP BY 1\n",
    "\n",
    "'''\n",
    "\n",
    "# выполните запрос\n",
    "\n",
    "df_9 = pd.read_sql_query(query, con=engine) \n",
    "df_9"
   ]
  },
  {
   "cell_type": "markdown",
   "metadata": {
    "id": "9NQE2y_MDWLP"
   },
   "source": [
    "### Постройте круговую диаграмму с количеством постов по месяцам."
   ]
  },
  {
   "cell_type": "code",
   "execution_count": 19,
   "metadata": {},
   "outputs": [
    {
     "data": {
      "text/html": [
       "<div>\n",
       "<style scoped>\n",
       "    .dataframe tbody tr th:only-of-type {\n",
       "        vertical-align: middle;\n",
       "    }\n",
       "\n",
       "    .dataframe tbody tr th {\n",
       "        vertical-align: top;\n",
       "    }\n",
       "\n",
       "    .dataframe thead th {\n",
       "        text-align: right;\n",
       "    }\n",
       "</style>\n",
       "<table border=\"1\" class=\"dataframe\">\n",
       "  <thead>\n",
       "    <tr style=\"text-align: right;\">\n",
       "      <th></th>\n",
       "      <th>creation_month</th>\n",
       "      <th>posts_count</th>\n",
       "      <th>percentage</th>\n",
       "      <th>month</th>\n",
       "    </tr>\n",
       "  </thead>\n",
       "  <tbody>\n",
       "    <tr>\n",
       "      <th>0</th>\n",
       "      <td>9</td>\n",
       "      <td>70371</td>\n",
       "      <td>NaN</td>\n",
       "      <td>September</td>\n",
       "    </tr>\n",
       "    <tr>\n",
       "      <th>1</th>\n",
       "      <td>10</td>\n",
       "      <td>63102</td>\n",
       "      <td>-10.33</td>\n",
       "      <td>October</td>\n",
       "    </tr>\n",
       "    <tr>\n",
       "      <th>2</th>\n",
       "      <td>11</td>\n",
       "      <td>46975</td>\n",
       "      <td>-25.56</td>\n",
       "      <td>November</td>\n",
       "    </tr>\n",
       "    <tr>\n",
       "      <th>3</th>\n",
       "      <td>12</td>\n",
       "      <td>44592</td>\n",
       "      <td>-5.07</td>\n",
       "      <td>December</td>\n",
       "    </tr>\n",
       "  </tbody>\n",
       "</table>\n",
       "</div>"
      ],
      "text/plain": [
       "   creation_month  posts_count  percentage      month\n",
       "0               9        70371         NaN  September\n",
       "1              10        63102      -10.33    October\n",
       "2              11        46975      -25.56   November\n",
       "3              12        44592       -5.07   December"
      ]
     },
     "execution_count": 19,
     "metadata": {},
     "output_type": "execute_result"
    }
   ],
   "source": [
    "df_9['month'] = df_9['creation_month'].apply(lambda x: calendar.month_name[x])\n",
    "df_9\n"
   ]
  },
  {
   "cell_type": "code",
   "execution_count": 20,
   "metadata": {
    "id": "377ABjiVDWLP"
   },
   "outputs": [
    {
     "data": {
      "image/png": "[encoded data removed]",
      "text/plain": [
       "<Figure size 432x288 with 1 Axes>"
      ]
     },
     "metadata": {},
     "output_type": "display_data"
    }
   ],
   "source": [
    "# постройте круговую диаграмму с количеством постов по месяцам\n",
    "colors = sns.color_palette('pastel')[0:4]\n",
    "plt.pie(df_9['posts_count'], labels =df_9['month'],colors = colors,  autopct='%.0f%%')\n",
    "plt.show()"
   ]
  },
  {
   "cell_type": "markdown",
   "metadata": {},
   "source": [
    "Количество постов с каждым месяцем снижается.Однако темп снижения в декабре существенно снизился."
   ]
  },
  {
   "cell_type": "markdown",
   "metadata": {
    "id": "uw7qMtafDWLP"
   },
   "source": [
    "## Задание 10"
   ]
  },
  {
   "cell_type": "markdown",
   "metadata": {
    "id": "oRBpWKx3DWLQ"
   },
   "source": [
    "Выгрузите данные активности пользователя, который опубликовал больше всего постов за всё время. Выведите данные за октябрь 2008 года в таком виде:\n",
    "\n",
    "- номер недели;\n",
    "- дата и время последнего поста, опубликованного на этой неделе."
   ]
  },
  {
   "cell_type": "markdown",
   "metadata": {
    "id": "XjAWSn_3DWLQ"
   },
   "source": [
    "| week_creation | creation_date |\n",
    "| ------------- | ------------- |\n",
    "| 40 | 2008-10-05 09:00:58 |\n",
    "| 41 | 2008-10-12 21:22:23 |\n",
    "| ... | ... |"
   ]
  },
  {
   "cell_type": "code",
   "execution_count": 21,
   "metadata": {
    "id": "r5F5fSkwDWLQ"
   },
   "outputs": [
    {
     "data": {
      "text/html": [
       "<div>\n",
       "<style scoped>\n",
       "    .dataframe tbody tr th:only-of-type {\n",
       "        vertical-align: middle;\n",
       "    }\n",
       "\n",
       "    .dataframe tbody tr th {\n",
       "        vertical-align: top;\n",
       "    }\n",
       "\n",
       "    .dataframe thead th {\n",
       "        text-align: right;\n",
       "    }\n",
       "</style>\n",
       "<table border=\"1\" class=\"dataframe\">\n",
       "  <thead>\n",
       "    <tr style=\"text-align: right;\">\n",
       "      <th></th>\n",
       "      <th>week_creation</th>\n",
       "      <th>creation_date</th>\n",
       "    </tr>\n",
       "  </thead>\n",
       "  <tbody>\n",
       "    <tr>\n",
       "      <th>0</th>\n",
       "      <td>40</td>\n",
       "      <td>2008-10-05 09:00:58</td>\n",
       "    </tr>\n",
       "    <tr>\n",
       "      <th>1</th>\n",
       "      <td>41</td>\n",
       "      <td>2008-10-12 21:22:23</td>\n",
       "    </tr>\n",
       "    <tr>\n",
       "      <th>2</th>\n",
       "      <td>42</td>\n",
       "      <td>2008-10-19 06:49:30</td>\n",
       "    </tr>\n",
       "    <tr>\n",
       "      <th>3</th>\n",
       "      <td>43</td>\n",
       "      <td>2008-10-26 21:44:36</td>\n",
       "    </tr>\n",
       "    <tr>\n",
       "      <th>4</th>\n",
       "      <td>44</td>\n",
       "      <td>2008-10-31 22:16:01</td>\n",
       "    </tr>\n",
       "  </tbody>\n",
       "</table>\n",
       "</div>"
      ],
      "text/plain": [
       "   week_creation       creation_date\n",
       "0             40 2008-10-05 09:00:58\n",
       "1             41 2008-10-12 21:22:23\n",
       "2             42 2008-10-19 06:49:30\n",
       "3             43 2008-10-26 21:44:36\n",
       "4             44 2008-10-31 22:16:01"
      ]
     },
     "execution_count": 21,
     "metadata": {},
     "output_type": "execute_result"
    }
   ],
   "source": [
    "# напишите запрос\n",
    "query = '''\n",
    "SELECT  DISTINCT CAST(EXTRACT (week FROM cast(creation_date as date)) as int) as week_creation, \n",
    "MAX (creation_date) OVER (PARTITION BY EXTRACT (week FROM cast(creation_date as date))) as creation_date\n",
    "FROM stackoverflow.posts\n",
    "WHERE EXTRACT (month FROM creation_date) = 10\n",
    "and user_id in (\n",
    "SELECT user_id \n",
    "FROM (\n",
    "SELECT user_id, count (id) as posts_count  \n",
    "FROM stackoverflow.posts\n",
    "GROUP BY 1\n",
    "ORDER BY 2 DESC\n",
    "LIMIT 1) \n",
    "as first)\n",
    "\n",
    "'''\n",
    "\n",
    "# выполните запрос\n",
    "df_10 = pd.read_sql_query(query, con=engine) \n",
    "df_10"
   ]
  },
  {
   "cell_type": "markdown",
   "metadata": {},
   "source": [
    "##  Вывод "
   ]
  },
  {
   "cell_type": "markdown",
   "metadata": {},
   "source": [
    "Для проведения анализа поведения пользователей было осуществлено подключение к архиву базы данных сайта Stackoverflow с помощью SQLAlchemy.\n",
    "В ходе исследования определили: \n",
    "- общую сумму просмотров постов за каждый месяц 2008 года\n",
    "- имена самых активных пользователей, и самые часто втречающиеся имена среди них\n",
    "- количество постов за 2008 год по месяцам, от пользователей, которые зарегистрировались в сентябре 2008 года\n",
    "- детализировано количество просмотров у поста / сумма просмотров постов автора с накоплением в течении времени\n",
    "- среднее количество постов пользователей в день за август 2008 года\n",
    "- среднее количество дней взаимодействия с платформой в период с 1 по 7 декабря 2008 года \n",
    "- историю активности каждого пользователя\n",
    "- Retention Rate по месяцам для пользователей StackOverflow так же представили эту метрику в графическом виде\n",
    "- относительное изменение количества постов ежемесячно с 1 сентября по 31 декабря 2008 года, так же эта информация представлена на круговой диаграмме \n",
    "- данные активности пользователя, который опубликовал больше всего постов за всё время.\n",
    "\n",
    "Итоги:\n",
    "среди на соновании представленных данных можем сделать следующие выводы:\n",
    "- больше всего простмотров за сентябрь 2008\n",
    "- наиболе часто всречаются имена Chris и Matt\n",
    "- больше всего постов создано в октябре 2008\n",
    "- самый просматриваемый - пост от 2008-12-08 18:14:26 от пользователя Ray Vega\n",
    "- в среднем за август 2008 года активные пользователи публикуют более 4,7 постов в день\n",
    "- в среднем взамодействие с платформой происходит 2 дня\n",
    "- Retention Rate (интерес к платформе) находится на примелемом уровне. \n",
    "- количество новых постов в ноябре сократилось н ачетверть по сравнению с октябрем"
   ]
  }
 ],
 "metadata": {
  "ExecuteTimeLog": [
   {
    "duration": 1481,
    "start_time": "2022-11-19T08:36:05.756Z"
   },
   {
    "duration": 4,
    "start_time": "2022-11-19T08:36:07.240Z"
   },
   {
    "duration": 11004,
    "start_time": "2022-11-19T08:36:07.245Z"
   },
   {
    "duration": 49,
    "start_time": "2022-11-19T08:36:18.251Z"
   },
   {
    "duration": 15,
    "start_time": "2022-11-19T08:36:18.301Z"
   },
   {
    "duration": 234,
    "start_time": "2022-11-19T08:36:18.317Z"
   },
   {
    "duration": 188,
    "start_time": "2022-11-19T08:36:18.553Z"
   },
   {
    "duration": 265,
    "start_time": "2022-11-19T08:37:09.220Z"
   },
   {
    "duration": 122,
    "start_time": "2022-11-19T08:37:18.944Z"
   },
   {
    "duration": 92,
    "start_time": "2022-11-19T08:37:43.489Z"
   },
   {
    "duration": 112,
    "start_time": "2022-11-19T08:38:05.427Z"
   },
   {
    "duration": 1159,
    "start_time": "2022-11-19T08:38:28.537Z"
   },
   {
    "duration": 3,
    "start_time": "2022-11-19T08:38:29.698Z"
   },
   {
    "duration": 8185,
    "start_time": "2022-11-19T08:38:29.703Z"
   },
   {
    "duration": 30,
    "start_time": "2022-11-19T08:38:37.890Z"
   },
   {
    "duration": 12,
    "start_time": "2022-11-19T08:38:37.921Z"
   },
   {
    "duration": 224,
    "start_time": "2022-11-19T08:38:37.935Z"
   },
   {
    "duration": 137,
    "start_time": "2022-11-19T08:38:38.160Z"
   },
   {
    "duration": 99,
    "start_time": "2022-11-19T08:38:38.299Z"
   },
   {
    "duration": 75,
    "start_time": "2022-11-19T08:38:38.400Z"
   },
   {
    "duration": 119,
    "start_time": "2022-11-19T08:38:38.478Z"
   },
   {
    "duration": 1182,
    "start_time": "2022-11-19T08:38:38.598Z"
   },
   {
    "duration": 71,
    "start_time": "2022-11-19T08:38:39.782Z"
   },
   {
    "duration": 40,
    "start_time": "2022-11-19T08:38:39.855Z"
   },
   {
    "duration": 1028,
    "start_time": "2022-11-19T08:38:39.897Z"
   },
   {
    "duration": 348,
    "start_time": "2022-11-19T08:38:40.927Z"
   },
   {
    "duration": 447,
    "start_time": "2022-11-19T08:38:41.276Z"
   },
   {
    "duration": 63,
    "start_time": "2022-11-19T08:38:41.724Z"
   },
   {
    "duration": 8,
    "start_time": "2022-11-19T08:38:41.789Z"
   },
   {
    "duration": 92,
    "start_time": "2022-11-19T08:38:41.799Z"
   },
   {
    "duration": 97,
    "start_time": "2022-11-19T08:38:41.893Z"
   },
   {
    "duration": 1159,
    "start_time": "2022-11-19T08:38:58.239Z"
   },
   {
    "duration": 3,
    "start_time": "2022-11-19T08:38:59.400Z"
   },
   {
    "duration": 8630,
    "start_time": "2022-11-19T08:38:59.405Z"
   },
   {
    "duration": 47,
    "start_time": "2022-11-19T08:39:08.037Z"
   },
   {
    "duration": 13,
    "start_time": "2022-11-19T08:39:08.085Z"
   },
   {
    "duration": 224,
    "start_time": "2022-11-19T08:39:08.100Z"
   },
   {
    "duration": 150,
    "start_time": "2022-11-19T08:39:08.326Z"
   },
   {
    "duration": 106,
    "start_time": "2022-11-19T08:39:08.478Z"
   },
   {
    "duration": 79,
    "start_time": "2022-11-19T08:39:08.585Z"
   },
   {
    "duration": 119,
    "start_time": "2022-11-19T08:39:08.666Z"
   },
   {
    "duration": 1255,
    "start_time": "2022-11-19T08:39:08.787Z"
   },
   {
    "duration": 71,
    "start_time": "2022-11-19T08:39:10.044Z"
   },
   {
    "duration": 38,
    "start_time": "2022-11-19T08:39:10.117Z"
   },
   {
    "duration": 1032,
    "start_time": "2022-11-19T08:39:10.157Z"
   },
   {
    "duration": 346,
    "start_time": "2022-11-19T08:39:11.190Z"
   },
   {
    "duration": 424,
    "start_time": "2022-11-19T08:39:11.538Z"
   },
   {
    "duration": 64,
    "start_time": "2022-11-19T08:39:11.963Z"
   },
   {
    "duration": 9,
    "start_time": "2022-11-19T08:39:12.028Z"
   },
   {
    "duration": 93,
    "start_time": "2022-11-19T08:39:12.038Z"
   },
   {
    "duration": 96,
    "start_time": "2022-11-19T08:39:12.132Z"
   },
   {
    "duration": 1194,
    "start_time": "2022-11-19T08:39:24.497Z"
   },
   {
    "duration": 3,
    "start_time": "2022-11-19T08:39:25.693Z"
   },
   {
    "duration": 8455,
    "start_time": "2022-11-19T08:39:25.697Z"
   },
   {
    "duration": 33,
    "start_time": "2022-11-19T08:39:34.155Z"
   },
   {
    "duration": 17,
    "start_time": "2022-11-19T08:39:34.190Z"
   },
   {
    "duration": 210,
    "start_time": "2022-11-19T08:39:34.209Z"
   },
   {
    "duration": 152,
    "start_time": "2022-11-19T08:39:34.421Z"
   },
   {
    "duration": 101,
    "start_time": "2022-11-19T08:39:34.574Z"
   },
   {
    "duration": 77,
    "start_time": "2022-11-19T08:39:34.676Z"
   },
   {
    "duration": 127,
    "start_time": "2022-11-19T08:39:34.756Z"
   },
   {
    "duration": 1225,
    "start_time": "2022-11-19T08:39:34.885Z"
   },
   {
    "duration": 71,
    "start_time": "2022-11-19T08:39:36.112Z"
   },
   {
    "duration": 39,
    "start_time": "2022-11-19T08:39:36.185Z"
   },
   {
    "duration": 1005,
    "start_time": "2022-11-19T08:39:36.226Z"
   },
   {
    "duration": 344,
    "start_time": "2022-11-19T08:39:37.233Z"
   },
   {
    "duration": 438,
    "start_time": "2022-11-19T08:39:37.578Z"
   },
   {
    "duration": 62,
    "start_time": "2022-11-19T08:39:38.021Z"
   },
   {
    "duration": 8,
    "start_time": "2022-11-19T08:39:38.085Z"
   },
   {
    "duration": 113,
    "start_time": "2022-11-19T08:39:38.095Z"
   },
   {
    "duration": 100,
    "start_time": "2022-11-19T08:39:38.210Z"
   },
   {
    "duration": 1210,
    "start_time": "2022-11-19T08:39:48.789Z"
   },
   {
    "duration": 4,
    "start_time": "2022-11-19T08:39:50.001Z"
   },
   {
    "duration": 8475,
    "start_time": "2022-11-19T08:39:50.006Z"
   },
   {
    "duration": 44,
    "start_time": "2022-11-19T08:39:58.484Z"
   },
   {
    "duration": 15,
    "start_time": "2022-11-19T08:39:58.530Z"
   },
   {
    "duration": 211,
    "start_time": "2022-11-19T08:39:58.546Z"
   },
   {
    "duration": 146,
    "start_time": "2022-11-19T08:39:58.758Z"
   },
   {
    "duration": 98,
    "start_time": "2022-11-19T08:39:58.906Z"
   },
   {
    "duration": 78,
    "start_time": "2022-11-19T08:39:59.006Z"
   },
   {
    "duration": 129,
    "start_time": "2022-11-19T08:39:59.087Z"
   },
   {
    "duration": 1359,
    "start_time": "2022-11-19T08:39:59.218Z"
   },
   {
    "duration": 72,
    "start_time": "2022-11-19T08:40:00.579Z"
   },
   {
    "duration": 42,
    "start_time": "2022-11-19T08:40:00.652Z"
   },
   {
    "duration": 1074,
    "start_time": "2022-11-19T08:40:00.695Z"
   },
   {
    "duration": 367,
    "start_time": "2022-11-19T08:40:01.771Z"
   },
   {
    "duration": 613,
    "start_time": "2022-11-19T08:40:02.139Z"
   },
   {
    "duration": 66,
    "start_time": "2022-11-19T08:40:02.754Z"
   },
   {
    "duration": 12,
    "start_time": "2022-11-19T08:40:02.821Z"
   },
   {
    "duration": 146,
    "start_time": "2022-11-19T08:40:02.835Z"
   },
   {
    "duration": 97,
    "start_time": "2022-11-19T08:40:02.984Z"
   },
   {
    "duration": 1199,
    "start_time": "2022-11-19T08:40:11.127Z"
   },
   {
    "duration": 3,
    "start_time": "2022-11-19T08:40:12.328Z"
   },
   {
    "duration": 8436,
    "start_time": "2022-11-19T08:40:12.333Z"
   },
   {
    "duration": 25,
    "start_time": "2022-11-19T08:40:20.771Z"
   },
   {
    "duration": 14,
    "start_time": "2022-11-19T08:40:20.798Z"
   },
   {
    "duration": 217,
    "start_time": "2022-11-19T08:40:20.814Z"
   },
   {
    "duration": 145,
    "start_time": "2022-11-19T08:40:21.033Z"
   },
   {
    "duration": 99,
    "start_time": "2022-11-19T08:40:21.179Z"
   },
   {
    "duration": 75,
    "start_time": "2022-11-19T08:40:21.280Z"
   },
   {
    "duration": 117,
    "start_time": "2022-11-19T08:40:21.356Z"
   },
   {
    "duration": 1239,
    "start_time": "2022-11-19T08:40:21.475Z"
   },
   {
    "duration": 70,
    "start_time": "2022-11-19T08:40:22.715Z"
   },
   {
    "duration": 40,
    "start_time": "2022-11-19T08:40:22.787Z"
   },
   {
    "duration": 1063,
    "start_time": "2022-11-19T08:40:22.830Z"
   },
   {
    "duration": 344,
    "start_time": "2022-11-19T08:40:23.895Z"
   },
   {
    "duration": 413,
    "start_time": "2022-11-19T08:40:24.241Z"
   },
   {
    "duration": 63,
    "start_time": "2022-11-19T08:40:24.655Z"
   },
   {
    "duration": 9,
    "start_time": "2022-11-19T08:40:24.719Z"
   },
   {
    "duration": 76,
    "start_time": "2022-11-19T08:40:24.731Z"
   },
   {
    "duration": 110,
    "start_time": "2022-11-19T08:40:24.809Z"
   },
   {
    "duration": 1240,
    "start_time": "2022-11-19T08:40:31.113Z"
   },
   {
    "duration": 4,
    "start_time": "2022-11-19T08:40:32.355Z"
   },
   {
    "duration": 9408,
    "start_time": "2022-11-19T08:40:32.360Z"
   },
   {
    "duration": 29,
    "start_time": "2022-11-19T08:40:41.770Z"
   },
   {
    "duration": 14,
    "start_time": "2022-11-19T08:40:41.801Z"
   },
   {
    "duration": 216,
    "start_time": "2022-11-19T08:40:41.816Z"
   },
   {
    "duration": 138,
    "start_time": "2022-11-19T08:40:42.033Z"
   },
   {
    "duration": 98,
    "start_time": "2022-11-19T08:40:42.173Z"
   },
   {
    "duration": 80,
    "start_time": "2022-11-19T08:40:42.273Z"
   },
   {
    "duration": 118,
    "start_time": "2022-11-19T08:40:42.357Z"
   },
   {
    "duration": 1179,
    "start_time": "2022-11-19T08:40:42.477Z"
   },
   {
    "duration": 71,
    "start_time": "2022-11-19T08:40:43.657Z"
   },
   {
    "duration": 39,
    "start_time": "2022-11-19T08:40:43.729Z"
   },
   {
    "duration": 1056,
    "start_time": "2022-11-19T08:40:43.770Z"
   },
   {
    "duration": 348,
    "start_time": "2022-11-19T08:40:44.827Z"
   },
   {
    "duration": 423,
    "start_time": "2022-11-19T08:40:45.176Z"
   },
   {
    "duration": 67,
    "start_time": "2022-11-19T08:40:45.601Z"
   },
   {
    "duration": 8,
    "start_time": "2022-11-19T08:40:45.670Z"
   },
   {
    "duration": 81,
    "start_time": "2022-11-19T08:40:45.680Z"
   },
   {
    "duration": 108,
    "start_time": "2022-11-19T08:40:45.763Z"
   },
   {
    "duration": 1204,
    "start_time": "2022-11-19T08:40:55.109Z"
   },
   {
    "duration": 3,
    "start_time": "2022-11-19T08:40:56.315Z"
   },
   {
    "duration": 10800,
    "start_time": "2022-11-19T08:40:56.322Z"
   },
   {
    "duration": 29,
    "start_time": "2022-11-19T08:41:07.124Z"
   },
   {
    "duration": 15,
    "start_time": "2022-11-19T08:41:07.155Z"
   },
   {
    "duration": 211,
    "start_time": "2022-11-19T08:41:07.172Z"
   },
   {
    "duration": 145,
    "start_time": "2022-11-19T08:41:07.385Z"
   },
   {
    "duration": 102,
    "start_time": "2022-11-19T08:41:07.532Z"
   },
   {
    "duration": 83,
    "start_time": "2022-11-19T08:41:07.636Z"
   },
   {
    "duration": 140,
    "start_time": "2022-11-19T08:41:07.722Z"
   },
   {
    "duration": 1278,
    "start_time": "2022-11-19T08:41:07.865Z"
   },
   {
    "duration": 76,
    "start_time": "2022-11-19T08:41:09.145Z"
   },
   {
    "duration": 41,
    "start_time": "2022-11-19T08:41:09.223Z"
   },
   {
    "duration": 1074,
    "start_time": "2022-11-19T08:41:09.266Z"
   },
   {
    "duration": 336,
    "start_time": "2022-11-19T08:41:10.342Z"
   },
   {
    "duration": 463,
    "start_time": "2022-11-19T08:41:10.680Z"
   },
   {
    "duration": 61,
    "start_time": "2022-11-19T08:41:11.145Z"
   },
   {
    "duration": 8,
    "start_time": "2022-11-19T08:41:11.207Z"
   },
   {
    "duration": 82,
    "start_time": "2022-11-19T08:41:11.216Z"
   },
   {
    "duration": 96,
    "start_time": "2022-11-19T08:41:11.300Z"
   },
   {
    "duration": 131,
    "start_time": "2022-11-19T08:42:47.165Z"
   },
   {
    "duration": 102,
    "start_time": "2022-11-19T08:43:06.660Z"
   },
   {
    "duration": 1430,
    "start_time": "2022-11-20T09:23:11.231Z"
   },
   {
    "duration": 4,
    "start_time": "2022-11-20T09:23:12.664Z"
   },
   {
    "duration": 5444,
    "start_time": "2022-11-20T09:23:12.670Z"
   },
   {
    "duration": 236,
    "start_time": "2022-11-20T09:23:18.116Z"
   },
   {
    "duration": 14,
    "start_time": "2022-11-20T09:23:18.354Z"
   },
   {
    "duration": 294,
    "start_time": "2022-11-20T09:23:18.370Z"
   },
   {
    "duration": 157,
    "start_time": "2022-11-20T09:23:18.667Z"
   },
   {
    "duration": 129,
    "start_time": "2022-11-20T09:23:18.825Z"
   },
   {
    "duration": 112,
    "start_time": "2022-11-20T09:23:18.956Z"
   },
   {
    "duration": 149,
    "start_time": "2022-11-20T09:23:19.072Z"
   },
   {
    "duration": 1284,
    "start_time": "2022-11-20T09:23:19.223Z"
   },
   {
    "duration": 100,
    "start_time": "2022-11-20T09:23:20.509Z"
   },
   {
    "duration": 68,
    "start_time": "2022-11-20T09:23:20.611Z"
   },
   {
    "duration": 1110,
    "start_time": "2022-11-20T09:23:20.681Z"
   },
   {
    "duration": 377,
    "start_time": "2022-11-20T09:23:21.792Z"
   },
   {
    "duration": 511,
    "start_time": "2022-11-20T09:23:22.171Z"
   },
   {
    "duration": 95,
    "start_time": "2022-11-20T09:23:22.684Z"
   },
   {
    "duration": 9,
    "start_time": "2022-11-20T09:23:22.781Z"
   },
   {
    "duration": 86,
    "start_time": "2022-11-20T09:23:22.792Z"
   },
   {
    "duration": 126,
    "start_time": "2022-11-20T09:23:22.880Z"
   },
   {
    "duration": 220,
    "start_time": "2022-11-20T09:26:49.373Z"
   },
   {
    "duration": 152,
    "start_time": "2022-11-20T09:27:04.853Z"
   },
   {
    "duration": 68,
    "start_time": "2022-11-20T09:27:24.209Z"
   },
   {
    "duration": 4975,
    "start_time": "2022-11-20T09:51:09.482Z"
   },
   {
    "duration": 743,
    "start_time": "2022-11-20T09:51:50.530Z"
   },
   {
    "duration": 167,
    "start_time": "2022-11-20T10:09:31.480Z"
   },
   {
    "duration": 1301,
    "start_time": "2022-11-20T11:05:06.351Z"
   },
   {
    "duration": 4,
    "start_time": "2022-11-20T11:05:07.654Z"
   },
   {
    "duration": 5901,
    "start_time": "2022-11-20T11:05:07.660Z"
   },
   {
    "duration": 215,
    "start_time": "2022-11-20T11:05:13.564Z"
   },
   {
    "duration": 15,
    "start_time": "2022-11-20T11:05:13.781Z"
   },
   {
    "duration": 287,
    "start_time": "2022-11-20T11:05:13.798Z"
   },
   {
    "duration": 162,
    "start_time": "2022-11-20T11:05:14.087Z"
   },
   {
    "duration": 146,
    "start_time": "2022-11-20T11:05:14.251Z"
   },
   {
    "duration": 185,
    "start_time": "2022-11-20T11:05:14.399Z"
   },
   {
    "duration": 118,
    "start_time": "2022-11-20T11:05:14.587Z"
   },
   {
    "duration": 138,
    "start_time": "2022-11-20T11:05:14.707Z"
   },
   {
    "duration": 1365,
    "start_time": "2022-11-20T11:05:14.848Z"
   },
   {
    "duration": 135,
    "start_time": "2022-11-20T11:05:16.214Z"
   },
   {
    "duration": 95,
    "start_time": "2022-11-20T11:05:16.351Z"
   },
   {
    "duration": 1200,
    "start_time": "2022-11-20T11:05:16.448Z"
   },
   {
    "duration": 440,
    "start_time": "2022-11-20T11:05:17.650Z"
   },
   {
    "duration": 468,
    "start_time": "2022-11-20T11:05:18.092Z"
   },
   {
    "duration": 138,
    "start_time": "2022-11-20T11:05:18.563Z"
   },
   {
    "duration": 10,
    "start_time": "2022-11-20T11:05:18.703Z"
   },
   {
    "duration": 121,
    "start_time": "2022-11-20T11:05:18.715Z"
   },
   {
    "duration": 155,
    "start_time": "2022-11-20T11:05:18.838Z"
   }
  ],
  "colab": {
   "name": "AdvansedSQLProjectTemplate.ipynb",
   "provenance": []
  },
  "kernelspec": {
   "display_name": "Python 3 (ipykernel)",
   "language": "python",
   "name": "python3"
  },
  "language_info": {
   "codemirror_mode": {
    "name": "ipython",
    "version": 3
   },
   "file_extension": ".py",
   "mimetype": "text/x-python",
   "name": "python",
   "nbconvert_exporter": "python",
   "pygments_lexer": "ipython3",
   "version": "3.9.13"
  },
  "toc": {
   "base_numbering": 1,
   "nav_menu": {},
   "number_sections": true,
   "sideBar": true,
   "skip_h1_title": true,
   "title_cell": "Table of Contents",
   "title_sidebar": "Contents",
   "toc_cell": false,
   "toc_position": {
    "height": "calc(100% - 180px)",
    "left": "10px",
    "top": "150px",
    "width": "384px"
   },
   "toc_section_display": true,
   "toc_window_display": true
  }
 },
 "nbformat": 4,
 "nbformat_minor": 1
}
