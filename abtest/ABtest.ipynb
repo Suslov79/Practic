{
 "cells": [
  {
   "cell_type": "markdown",
   "id": "4ed3633d",
   "metadata": {},
   "source": [
    "# Приоритизация гипотез и А/В тестирование"
   ]
  },
  {
   "cell_type": "markdown",
   "id": "b887c47c",
   "metadata": {},
   "source": [
    "## Задача\n",
    "\n",
    "- Вместе с отделом маркетинга интернет-магазина был подготовлен список гипотез для увеличения выручки.\n",
    "- Необходимо: \n",
    "     - приоритизировать гипотезы, \n",
    "     - провести A/B-тест,\n",
    "     - проанализировать результаты.\n",
    "- Исследование пройдет в несколько этпов:\n",
    "    - Обзор данных.\n",
    "    - Предобработка данных.\n",
    "    - Приоритизация гипотез.\n",
    "    - Анализ A/B-теста\n",
    "    - Вывод и рекомендации.\n",
    "\n",
    "\n"
   ]
  },
  {
   "cell_type": "code",
   "execution_count": 1,
   "id": "dd37cbe7",
   "metadata": {},
   "outputs": [],
   "source": [
    "import matplotlib.pyplot as plt  # импорт библиотек\n",
    "import numpy as np\n",
    "import pandas as pd\n",
    "import os\n",
    "import seaborn as sns\n",
    "from scipy import stats as st\n",
    "import datetime as dt"
   ]
  },
  {
   "cell_type": "markdown",
   "id": "9f84c893",
   "metadata": {},
   "source": [
    "## Обзор и предобработка данных"
   ]
  },
  {
   "cell_type": "code",
   "execution_count": 2,
   "id": "abb096da",
   "metadata": {},
   "outputs": [
    {
     "data": {
      "text/html": [
       "<div>\n",
       "<style scoped>\n",
       "    .dataframe tbody tr th:only-of-type {\n",
       "        vertical-align: middle;\n",
       "    }\n",
       "\n",
       "    .dataframe tbody tr th {\n",
       "        vertical-align: top;\n",
       "    }\n",
       "\n",
       "    .dataframe thead th {\n",
       "        text-align: right;\n",
       "    }\n",
       "</style>\n",
       "<table border=\"1\" class=\"dataframe\">\n",
       "  <thead>\n",
       "    <tr style=\"text-align: right;\">\n",
       "      <th></th>\n",
       "      <th>Hypothesis</th>\n",
       "      <th>Reach</th>\n",
       "      <th>Impact</th>\n",
       "      <th>Confidence</th>\n",
       "      <th>Efforts</th>\n",
       "    </tr>\n",
       "  </thead>\n",
       "  <tbody>\n",
       "    <tr>\n",
       "      <th>0</th>\n",
       "      <td>Добавить два новых канала привлечения трафика,...</td>\n",
       "      <td>3</td>\n",
       "      <td>10</td>\n",
       "      <td>8</td>\n",
       "      <td>6</td>\n",
       "    </tr>\n",
       "    <tr>\n",
       "      <th>1</th>\n",
       "      <td>Запустить собственную службу доставки, что сок...</td>\n",
       "      <td>2</td>\n",
       "      <td>5</td>\n",
       "      <td>4</td>\n",
       "      <td>10</td>\n",
       "    </tr>\n",
       "    <tr>\n",
       "      <th>2</th>\n",
       "      <td>Добавить блоки рекомендаций товаров на сайт ин...</td>\n",
       "      <td>8</td>\n",
       "      <td>3</td>\n",
       "      <td>7</td>\n",
       "      <td>3</td>\n",
       "    </tr>\n",
       "    <tr>\n",
       "      <th>3</th>\n",
       "      <td>Изменить структура категорий, что увеличит кон...</td>\n",
       "      <td>8</td>\n",
       "      <td>3</td>\n",
       "      <td>3</td>\n",
       "      <td>8</td>\n",
       "    </tr>\n",
       "    <tr>\n",
       "      <th>4</th>\n",
       "      <td>Изменить цвет фона главной страницы, чтобы уве...</td>\n",
       "      <td>3</td>\n",
       "      <td>1</td>\n",
       "      <td>1</td>\n",
       "      <td>1</td>\n",
       "    </tr>\n",
       "    <tr>\n",
       "      <th>5</th>\n",
       "      <td>Добавить страницу отзывов клиентов о магазине,...</td>\n",
       "      <td>3</td>\n",
       "      <td>2</td>\n",
       "      <td>2</td>\n",
       "      <td>3</td>\n",
       "    </tr>\n",
       "    <tr>\n",
       "      <th>6</th>\n",
       "      <td>Показать на главной странице баннеры с актуаль...</td>\n",
       "      <td>5</td>\n",
       "      <td>3</td>\n",
       "      <td>8</td>\n",
       "      <td>3</td>\n",
       "    </tr>\n",
       "    <tr>\n",
       "      <th>7</th>\n",
       "      <td>Добавить форму подписки на все основные страни...</td>\n",
       "      <td>10</td>\n",
       "      <td>7</td>\n",
       "      <td>8</td>\n",
       "      <td>5</td>\n",
       "    </tr>\n",
       "    <tr>\n",
       "      <th>8</th>\n",
       "      <td>Запустить акцию, дающую скидку на товар в день...</td>\n",
       "      <td>1</td>\n",
       "      <td>9</td>\n",
       "      <td>9</td>\n",
       "      <td>5</td>\n",
       "    </tr>\n",
       "  </tbody>\n",
       "</table>\n",
       "</div>"
      ],
      "text/plain": [
       "                                          Hypothesis  Reach  Impact  \\\n",
       "0  Добавить два новых канала привлечения трафика,...      3      10   \n",
       "1  Запустить собственную службу доставки, что сок...      2       5   \n",
       "2  Добавить блоки рекомендаций товаров на сайт ин...      8       3   \n",
       "3  Изменить структура категорий, что увеличит кон...      8       3   \n",
       "4  Изменить цвет фона главной страницы, чтобы уве...      3       1   \n",
       "5  Добавить страницу отзывов клиентов о магазине,...      3       2   \n",
       "6  Показать на главной странице баннеры с актуаль...      5       3   \n",
       "7  Добавить форму подписки на все основные страни...     10       7   \n",
       "8  Запустить акцию, дающую скидку на товар в день...      1       9   \n",
       "\n",
       "   Confidence  Efforts  \n",
       "0           8        6  \n",
       "1           4       10  \n",
       "2           7        3  \n",
       "3           3        8  \n",
       "4           1        1  \n",
       "5           2        3  \n",
       "6           8        3  \n",
       "7           8        5  \n",
       "8           9        5  "
      ]
     },
     "execution_count": 2,
     "metadata": {},
     "output_type": "execute_result"
    }
   ],
   "source": [
    "if os.path.exists('/datasets/hypothesis.csv'):   # чтение файлов с данными\n",
    "    hypothesis = pd.read_csv('/datasets/hypothesis.csv')\n",
    "else:\n",
    "    hypothesis = pd.read_csv('hypothesis.csv')\n",
    "hypothesis"
   ]
  },
  {
   "cell_type": "code",
   "execution_count": 3,
   "id": "b21d45c1",
   "metadata": {},
   "outputs": [
    {
     "name": "stdout",
     "output_type": "stream",
     "text": [
      "<class 'pandas.core.frame.DataFrame'>\n",
      "RangeIndex: 9 entries, 0 to 8\n",
      "Data columns (total 5 columns):\n",
      " #   Column      Non-Null Count  Dtype \n",
      "---  ------      --------------  ----- \n",
      " 0   Hypothesis  9 non-null      object\n",
      " 1   Reach       9 non-null      int64 \n",
      " 2   Impact      9 non-null      int64 \n",
      " 3   Confidence  9 non-null      int64 \n",
      " 4   Efforts     9 non-null      int64 \n",
      "dtypes: int64(4), object(1)\n",
      "memory usage: 488.0+ bytes\n"
     ]
    }
   ],
   "source": [
    "hypothesis.info()  # получение общей информации о данных"
   ]
  },
  {
   "cell_type": "markdown",
   "id": "8204a8ed",
   "metadata": {},
   "source": [
    "В файле представлен список гипотез . Явно что пропусков и дубликатов нет (всего 9 строчек). Необходимо изменить регистр названия столбцов."
   ]
  },
  {
   "cell_type": "code",
   "execution_count": 4,
   "id": "a7f45edc",
   "metadata": {},
   "outputs": [
    {
     "data": {
      "text/html": [
       "<div>\n",
       "<style scoped>\n",
       "    .dataframe tbody tr th:only-of-type {\n",
       "        vertical-align: middle;\n",
       "    }\n",
       "\n",
       "    .dataframe tbody tr th {\n",
       "        vertical-align: top;\n",
       "    }\n",
       "\n",
       "    .dataframe thead th {\n",
       "        text-align: right;\n",
       "    }\n",
       "</style>\n",
       "<table border=\"1\" class=\"dataframe\">\n",
       "  <thead>\n",
       "    <tr style=\"text-align: right;\">\n",
       "      <th></th>\n",
       "      <th>hypothesis</th>\n",
       "      <th>reach</th>\n",
       "      <th>impact</th>\n",
       "      <th>confidence</th>\n",
       "      <th>efforts</th>\n",
       "    </tr>\n",
       "  </thead>\n",
       "  <tbody>\n",
       "    <tr>\n",
       "      <th>0</th>\n",
       "      <td>Добавить два новых канала привлечения трафика,...</td>\n",
       "      <td>3</td>\n",
       "      <td>10</td>\n",
       "      <td>8</td>\n",
       "      <td>6</td>\n",
       "    </tr>\n",
       "    <tr>\n",
       "      <th>1</th>\n",
       "      <td>Запустить собственную службу доставки, что сок...</td>\n",
       "      <td>2</td>\n",
       "      <td>5</td>\n",
       "      <td>4</td>\n",
       "      <td>10</td>\n",
       "    </tr>\n",
       "    <tr>\n",
       "      <th>2</th>\n",
       "      <td>Добавить блоки рекомендаций товаров на сайт ин...</td>\n",
       "      <td>8</td>\n",
       "      <td>3</td>\n",
       "      <td>7</td>\n",
       "      <td>3</td>\n",
       "    </tr>\n",
       "    <tr>\n",
       "      <th>3</th>\n",
       "      <td>Изменить структура категорий, что увеличит кон...</td>\n",
       "      <td>8</td>\n",
       "      <td>3</td>\n",
       "      <td>3</td>\n",
       "      <td>8</td>\n",
       "    </tr>\n",
       "    <tr>\n",
       "      <th>4</th>\n",
       "      <td>Изменить цвет фона главной страницы, чтобы уве...</td>\n",
       "      <td>3</td>\n",
       "      <td>1</td>\n",
       "      <td>1</td>\n",
       "      <td>1</td>\n",
       "    </tr>\n",
       "    <tr>\n",
       "      <th>5</th>\n",
       "      <td>Добавить страницу отзывов клиентов о магазине,...</td>\n",
       "      <td>3</td>\n",
       "      <td>2</td>\n",
       "      <td>2</td>\n",
       "      <td>3</td>\n",
       "    </tr>\n",
       "    <tr>\n",
       "      <th>6</th>\n",
       "      <td>Показать на главной странице баннеры с актуаль...</td>\n",
       "      <td>5</td>\n",
       "      <td>3</td>\n",
       "      <td>8</td>\n",
       "      <td>3</td>\n",
       "    </tr>\n",
       "    <tr>\n",
       "      <th>7</th>\n",
       "      <td>Добавить форму подписки на все основные страни...</td>\n",
       "      <td>10</td>\n",
       "      <td>7</td>\n",
       "      <td>8</td>\n",
       "      <td>5</td>\n",
       "    </tr>\n",
       "    <tr>\n",
       "      <th>8</th>\n",
       "      <td>Запустить акцию, дающую скидку на товар в день...</td>\n",
       "      <td>1</td>\n",
       "      <td>9</td>\n",
       "      <td>9</td>\n",
       "      <td>5</td>\n",
       "    </tr>\n",
       "  </tbody>\n",
       "</table>\n",
       "</div>"
      ],
      "text/plain": [
       "                                          hypothesis  reach  impact  \\\n",
       "0  Добавить два новых канала привлечения трафика,...      3      10   \n",
       "1  Запустить собственную службу доставки, что сок...      2       5   \n",
       "2  Добавить блоки рекомендаций товаров на сайт ин...      8       3   \n",
       "3  Изменить структура категорий, что увеличит кон...      8       3   \n",
       "4  Изменить цвет фона главной страницы, чтобы уве...      3       1   \n",
       "5  Добавить страницу отзывов клиентов о магазине,...      3       2   \n",
       "6  Показать на главной странице баннеры с актуаль...      5       3   \n",
       "7  Добавить форму подписки на все основные страни...     10       7   \n",
       "8  Запустить акцию, дающую скидку на товар в день...      1       9   \n",
       "\n",
       "   confidence  efforts  \n",
       "0           8        6  \n",
       "1           4       10  \n",
       "2           7        3  \n",
       "3           3        8  \n",
       "4           1        1  \n",
       "5           2        3  \n",
       "6           8        3  \n",
       "7           8        5  \n",
       "8           9        5  "
      ]
     },
     "execution_count": 4,
     "metadata": {},
     "output_type": "execute_result"
    }
   ],
   "source": [
    "# приведение названия столбцов к нормальному виду\n",
    "hypothesis.columns = hypothesis.columns.str.lower()\n",
    "hypothesis"
   ]
  },
  {
   "cell_type": "markdown",
   "id": "b0033319",
   "metadata": {},
   "source": [
    "Описание данных\n",
    "\n",
    "    Hypothesis — краткое описание гипотезы;\n",
    "    Reach — охват пользователей по 10-балльной шкале;\n",
    "    Impact — влияние на пользователей по 10-балльной шкале;\n",
    "    Confidence — уверенность в гипотезе по 10-балльной шкале;\n",
    "    Efforts — затраты ресурсов на проверку гипотезы по 10-балльной шкале. Чем больше значение Efforts, тем дороже проверка гипотезы."
   ]
  },
  {
   "cell_type": "code",
   "execution_count": 5,
   "id": "192ef389",
   "metadata": {},
   "outputs": [
    {
     "data": {
      "text/html": [
       "<div>\n",
       "<style scoped>\n",
       "    .dataframe tbody tr th:only-of-type {\n",
       "        vertical-align: middle;\n",
       "    }\n",
       "\n",
       "    .dataframe tbody tr th {\n",
       "        vertical-align: top;\n",
       "    }\n",
       "\n",
       "    .dataframe thead th {\n",
       "        text-align: right;\n",
       "    }\n",
       "</style>\n",
       "<table border=\"1\" class=\"dataframe\">\n",
       "  <thead>\n",
       "    <tr style=\"text-align: right;\">\n",
       "      <th></th>\n",
       "      <th>transactionId</th>\n",
       "      <th>visitorId</th>\n",
       "      <th>date</th>\n",
       "      <th>revenue</th>\n",
       "      <th>group</th>\n",
       "    </tr>\n",
       "  </thead>\n",
       "  <tbody>\n",
       "    <tr>\n",
       "      <th>123</th>\n",
       "      <td>3268937183</td>\n",
       "      <td>3722682546</td>\n",
       "      <td>2019-08-22</td>\n",
       "      <td>1450</td>\n",
       "      <td>A</td>\n",
       "    </tr>\n",
       "    <tr>\n",
       "      <th>1117</th>\n",
       "      <td>3003595335</td>\n",
       "      <td>1810540789</td>\n",
       "      <td>2019-08-13</td>\n",
       "      <td>11565</td>\n",
       "      <td>B</td>\n",
       "    </tr>\n",
       "    <tr>\n",
       "      <th>508</th>\n",
       "      <td>2012347492</td>\n",
       "      <td>2572275626</td>\n",
       "      <td>2019-08-06</td>\n",
       "      <td>5350</td>\n",
       "      <td>B</td>\n",
       "    </tr>\n",
       "    <tr>\n",
       "      <th>491</th>\n",
       "      <td>298049448</td>\n",
       "      <td>3013339133</td>\n",
       "      <td>2019-08-26</td>\n",
       "      <td>2722</td>\n",
       "      <td>B</td>\n",
       "    </tr>\n",
       "    <tr>\n",
       "      <th>807</th>\n",
       "      <td>2740953457</td>\n",
       "      <td>3102053760</td>\n",
       "      <td>2019-08-05</td>\n",
       "      <td>990</td>\n",
       "      <td>A</td>\n",
       "    </tr>\n",
       "    <tr>\n",
       "      <th>507</th>\n",
       "      <td>4067849009</td>\n",
       "      <td>2108163459</td>\n",
       "      <td>2019-08-06</td>\n",
       "      <td>580</td>\n",
       "      <td>A</td>\n",
       "    </tr>\n",
       "    <tr>\n",
       "      <th>482</th>\n",
       "      <td>1715714627</td>\n",
       "      <td>495712671</td>\n",
       "      <td>2019-08-06</td>\n",
       "      <td>1790</td>\n",
       "      <td>A</td>\n",
       "    </tr>\n",
       "    <tr>\n",
       "      <th>67</th>\n",
       "      <td>459227648</td>\n",
       "      <td>2578486380</td>\n",
       "      <td>2019-08-16</td>\n",
       "      <td>2540</td>\n",
       "      <td>B</td>\n",
       "    </tr>\n",
       "    <tr>\n",
       "      <th>378</th>\n",
       "      <td>1964998089</td>\n",
       "      <td>2618159035</td>\n",
       "      <td>2019-08-25</td>\n",
       "      <td>5415</td>\n",
       "      <td>A</td>\n",
       "    </tr>\n",
       "    <tr>\n",
       "      <th>264</th>\n",
       "      <td>3795138501</td>\n",
       "      <td>887812064</td>\n",
       "      <td>2019-08-18</td>\n",
       "      <td>170</td>\n",
       "      <td>A</td>\n",
       "    </tr>\n",
       "  </tbody>\n",
       "</table>\n",
       "</div>"
      ],
      "text/plain": [
       "      transactionId   visitorId        date  revenue group\n",
       "123      3268937183  3722682546  2019-08-22     1450     A\n",
       "1117     3003595335  1810540789  2019-08-13    11565     B\n",
       "508      2012347492  2572275626  2019-08-06     5350     B\n",
       "491       298049448  3013339133  2019-08-26     2722     B\n",
       "807      2740953457  3102053760  2019-08-05      990     A\n",
       "507      4067849009  2108163459  2019-08-06      580     A\n",
       "482      1715714627   495712671  2019-08-06     1790     A\n",
       "67        459227648  2578486380  2019-08-16     2540     B\n",
       "378      1964998089  2618159035  2019-08-25     5415     A\n",
       "264      3795138501   887812064  2019-08-18      170     A"
      ]
     },
     "execution_count": 5,
     "metadata": {},
     "output_type": "execute_result"
    }
   ],
   "source": [
    "if os.path.exists('/datasets/orders.csv'):   # чтение файлов с данными\n",
    "    orders = pd.read_csv('/datasets/orders.csv')\n",
    "else:\n",
    "    orders = pd.read_csv('orders.csv')\n",
    "orders.sample(10, random_state=10)"
   ]
  },
  {
   "cell_type": "code",
   "execution_count": 6,
   "id": "ed58fe96",
   "metadata": {},
   "outputs": [
    {
     "name": "stdout",
     "output_type": "stream",
     "text": [
      "<class 'pandas.core.frame.DataFrame'>\n",
      "RangeIndex: 1197 entries, 0 to 1196\n",
      "Data columns (total 5 columns):\n",
      " #   Column         Non-Null Count  Dtype \n",
      "---  ------         --------------  ----- \n",
      " 0   transactionId  1197 non-null   int64 \n",
      " 1   visitorId      1197 non-null   int64 \n",
      " 2   date           1197 non-null   object\n",
      " 3   revenue        1197 non-null   int64 \n",
      " 4   group          1197 non-null   object\n",
      "dtypes: int64(3), object(2)\n",
      "memory usage: 46.9+ KB\n"
     ]
    }
   ],
   "source": [
    "orders.info()  # получение общей информации о данных"
   ]
  },
  {
   "cell_type": "markdown",
   "id": "d56d4f49",
   "metadata": {},
   "source": [
    "В файле дана информация по заказам. Пропусков нет. Проверим на дубликаты и приведем столбец с датой к нужному типу данных."
   ]
  },
  {
   "cell_type": "code",
   "execution_count": 7,
   "id": "fe1c028b",
   "metadata": {},
   "outputs": [],
   "source": [
    "# Функция замены типа данных для столбцов с датой:\n",
    "def to_date(df, *columns):\n",
    "    for column in columns:\n",
    "        df[column] = pd.to_datetime(df[column], format='%Y-%m-%d')"
   ]
  },
  {
   "cell_type": "code",
   "execution_count": 8,
   "id": "706b2fb9",
   "metadata": {},
   "outputs": [],
   "source": [
    "to_date(orders, 'date')"
   ]
  },
  {
   "cell_type": "code",
   "execution_count": 9,
   "id": "6c099a9b",
   "metadata": {},
   "outputs": [
    {
     "data": {
      "text/plain": [
       "0"
      ]
     },
     "execution_count": 9,
     "metadata": {},
     "output_type": "execute_result"
    }
   ],
   "source": [
    "orders.duplicated().sum()  # проверка на дубликаты"
   ]
  },
  {
   "cell_type": "markdown",
   "id": "d2cbba31",
   "metadata": {},
   "source": [
    "Описание данных\n",
    "\n",
    "    transactionId — идентификатор заказа;\n",
    "    visitorId — идентификатор пользователя, совершившего заказ;\n",
    "    date — дата, когда был совершён заказ;\n",
    "    revenue — выручка заказа;\n",
    "    group — группа A/B-теста, в которую попал заказ."
   ]
  },
  {
   "cell_type": "code",
   "execution_count": 10,
   "id": "f69a9d60",
   "metadata": {},
   "outputs": [
    {
     "data": {
      "text/html": [
       "<div>\n",
       "<style scoped>\n",
       "    .dataframe tbody tr th:only-of-type {\n",
       "        vertical-align: middle;\n",
       "    }\n",
       "\n",
       "    .dataframe tbody tr th {\n",
       "        vertical-align: top;\n",
       "    }\n",
       "\n",
       "    .dataframe thead th {\n",
       "        text-align: right;\n",
       "    }\n",
       "</style>\n",
       "<table border=\"1\" class=\"dataframe\">\n",
       "  <thead>\n",
       "    <tr style=\"text-align: right;\">\n",
       "      <th></th>\n",
       "      <th>date</th>\n",
       "      <th>group</th>\n",
       "      <th>visitors</th>\n",
       "    </tr>\n",
       "  </thead>\n",
       "  <tbody>\n",
       "    <tr>\n",
       "      <th>20</th>\n",
       "      <td>2019-08-21</td>\n",
       "      <td>A</td>\n",
       "      <td>646</td>\n",
       "    </tr>\n",
       "    <tr>\n",
       "      <th>2</th>\n",
       "      <td>2019-08-03</td>\n",
       "      <td>A</td>\n",
       "      <td>507</td>\n",
       "    </tr>\n",
       "    <tr>\n",
       "      <th>31</th>\n",
       "      <td>2019-08-01</td>\n",
       "      <td>B</td>\n",
       "      <td>713</td>\n",
       "    </tr>\n",
       "    <tr>\n",
       "      <th>3</th>\n",
       "      <td>2019-08-04</td>\n",
       "      <td>A</td>\n",
       "      <td>717</td>\n",
       "    </tr>\n",
       "    <tr>\n",
       "      <th>6</th>\n",
       "      <td>2019-08-07</td>\n",
       "      <td>A</td>\n",
       "      <td>644</td>\n",
       "    </tr>\n",
       "    <tr>\n",
       "      <th>35</th>\n",
       "      <td>2019-08-05</td>\n",
       "      <td>B</td>\n",
       "      <td>707</td>\n",
       "    </tr>\n",
       "    <tr>\n",
       "      <th>19</th>\n",
       "      <td>2019-08-20</td>\n",
       "      <td>A</td>\n",
       "      <td>575</td>\n",
       "    </tr>\n",
       "    <tr>\n",
       "      <th>41</th>\n",
       "      <td>2019-08-11</td>\n",
       "      <td>B</td>\n",
       "      <td>721</td>\n",
       "    </tr>\n",
       "    <tr>\n",
       "      <th>53</th>\n",
       "      <td>2019-08-23</td>\n",
       "      <td>B</td>\n",
       "      <td>546</td>\n",
       "    </tr>\n",
       "    <tr>\n",
       "      <th>26</th>\n",
       "      <td>2019-08-27</td>\n",
       "      <td>A</td>\n",
       "      <td>711</td>\n",
       "    </tr>\n",
       "  </tbody>\n",
       "</table>\n",
       "</div>"
      ],
      "text/plain": [
       "          date group  visitors\n",
       "20  2019-08-21     A       646\n",
       "2   2019-08-03     A       507\n",
       "31  2019-08-01     B       713\n",
       "3   2019-08-04     A       717\n",
       "6   2019-08-07     A       644\n",
       "35  2019-08-05     B       707\n",
       "19  2019-08-20     A       575\n",
       "41  2019-08-11     B       721\n",
       "53  2019-08-23     B       546\n",
       "26  2019-08-27     A       711"
      ]
     },
     "execution_count": 10,
     "metadata": {},
     "output_type": "execute_result"
    }
   ],
   "source": [
    "if os.path.exists('/datasets/visitors.csv'):   # чтение файлов с данными\n",
    "    visitors = pd.read_csv('/datasets/visitors.csv')\n",
    "else:\n",
    "    visitors = pd.read_csv('visitors.csv')\n",
    "visitors.sample(10, random_state=10)"
   ]
  },
  {
   "cell_type": "code",
   "execution_count": 11,
   "id": "20e6bf40",
   "metadata": {},
   "outputs": [
    {
     "name": "stdout",
     "output_type": "stream",
     "text": [
      "<class 'pandas.core.frame.DataFrame'>\n",
      "RangeIndex: 62 entries, 0 to 61\n",
      "Data columns (total 3 columns):\n",
      " #   Column    Non-Null Count  Dtype \n",
      "---  ------    --------------  ----- \n",
      " 0   date      62 non-null     object\n",
      " 1   group     62 non-null     object\n",
      " 2   visitors  62 non-null     int64 \n",
      "dtypes: int64(1), object(2)\n",
      "memory usage: 1.6+ KB\n"
     ]
    }
   ],
   "source": [
    "visitors.info()  # получение общей информации о данных"
   ]
  },
  {
   "cell_type": "markdown",
   "id": "4b777b06",
   "metadata": {},
   "source": [
    "В файле дано рапределение клиентов по группам теста. Пропусков нет. Проверим на дубликаты и приведем столбец с датой к нужному типу данных."
   ]
  },
  {
   "cell_type": "code",
   "execution_count": 12,
   "id": "8fe79aa4",
   "metadata": {},
   "outputs": [],
   "source": [
    "to_date(visitors, 'date')"
   ]
  },
  {
   "cell_type": "code",
   "execution_count": 13,
   "id": "eeb80787",
   "metadata": {},
   "outputs": [
    {
     "data": {
      "text/plain": [
       "0"
      ]
     },
     "execution_count": 13,
     "metadata": {},
     "output_type": "execute_result"
    }
   ],
   "source": [
    "visitors.duplicated().sum()"
   ]
  },
  {
   "cell_type": "markdown",
   "id": "af8b8194",
   "metadata": {},
   "source": [
    "Описание данных    \n",
    "    \n",
    "    date — дата;\n",
    "    group — группа A/B-теста;\n",
    "    visitors — количество пользователей в указанную дату в указанной группе A/B-теста"
   ]
  },
  {
   "cell_type": "markdown",
   "id": "95114527",
   "metadata": {},
   "source": [
    "Так же проверим данные на аномальные значения, макисмумы и минимумы и интервал для дат."
   ]
  },
  {
   "cell_type": "code",
   "execution_count": 14,
   "id": "88277175",
   "metadata": {},
   "outputs": [],
   "source": [
    "def value(df, *columns):  # функция познакомит нас с данными в нужных колонках\n",
    "    display(df.info())\n",
    "    for column in columns:\n",
    "        display(column)\n",
    "        display(df[column].value_counts().sort_values(ascending=False))\n",
    "        display('Количестово уникальных значений = {}'.format(\n",
    "            len(df[column].unique())))\n",
    "        display(df[column].describe(datetime_is_numeric=True))\n",
    "        print('*'*20)"
   ]
  },
  {
   "cell_type": "code",
   "execution_count": 15,
   "id": "024962cc",
   "metadata": {},
   "outputs": [
    {
     "name": "stdout",
     "output_type": "stream",
     "text": [
      "<class 'pandas.core.frame.DataFrame'>\n",
      "RangeIndex: 1197 entries, 0 to 1196\n",
      "Data columns (total 5 columns):\n",
      " #   Column         Non-Null Count  Dtype         \n",
      "---  ------         --------------  -----         \n",
      " 0   transactionId  1197 non-null   int64         \n",
      " 1   visitorId      1197 non-null   int64         \n",
      " 2   date           1197 non-null   datetime64[ns]\n",
      " 3   revenue        1197 non-null   int64         \n",
      " 4   group          1197 non-null   object        \n",
      "dtypes: datetime64[ns](1), int64(3), object(1)\n",
      "memory usage: 46.9+ KB\n"
     ]
    },
    {
     "data": {
      "text/plain": [
       "None"
      ]
     },
     "metadata": {},
     "output_type": "display_data"
    },
    {
     "data": {
      "text/plain": [
       "'revenue'"
      ]
     },
     "metadata": {},
     "output_type": "display_data"
    },
    {
     "data": {
      "text/plain": [
       "990       17\n",
       "390       13\n",
       "890       13\n",
       "1190      10\n",
       "400       10\n",
       "          ..\n",
       "24350      1\n",
       "1805       1\n",
       "3410       1\n",
       "5900       1\n",
       "202740     1\n",
       "Name: revenue, Length: 713, dtype: int64"
      ]
     },
     "metadata": {},
     "output_type": "display_data"
    },
    {
     "data": {
      "text/plain": [
       "'Количестово уникальных значений = 713'"
      ]
     },
     "metadata": {},
     "output_type": "display_data"
    },
    {
     "data": {
      "text/plain": [
       "count    1.197000e+03\n",
       "mean     8.348006e+03\n",
       "std      3.919113e+04\n",
       "min      5.000000e+01\n",
       "25%      1.220000e+03\n",
       "50%      2.978000e+03\n",
       "75%      8.290000e+03\n",
       "max      1.294500e+06\n",
       "Name: revenue, dtype: float64"
      ]
     },
     "metadata": {},
     "output_type": "display_data"
    },
    {
     "name": "stdout",
     "output_type": "stream",
     "text": [
      "********************\n"
     ]
    },
    {
     "data": {
      "text/plain": [
       "'date'"
      ]
     },
     "metadata": {},
     "output_type": "display_data"
    },
    {
     "data": {
      "text/plain": [
       "2019-08-05    48\n",
       "2019-08-14    47\n",
       "2019-08-12    47\n",
       "2019-08-15    46\n",
       "2019-08-06    46\n",
       "2019-08-01    45\n",
       "2019-08-28    45\n",
       "2019-08-02    44\n",
       "2019-08-27    44\n",
       "2019-08-08    43\n",
       "2019-08-19    43\n",
       "2019-08-29    42\n",
       "2019-08-07    42\n",
       "2019-08-22    41\n",
       "2019-08-09    41\n",
       "2019-08-26    41\n",
       "2019-08-03    40\n",
       "2019-08-23    40\n",
       "2019-08-10    39\n",
       "2019-08-16    38\n",
       "2019-08-21    37\n",
       "2019-08-30    35\n",
       "2019-08-13    35\n",
       "2019-08-04    33\n",
       "2019-08-20    32\n",
       "2019-08-31    32\n",
       "2019-08-24    31\n",
       "2019-08-18    26\n",
       "2019-08-11    26\n",
       "2019-08-17    24\n",
       "2019-08-25    24\n",
       "Name: date, dtype: int64"
      ]
     },
     "metadata": {},
     "output_type": "display_data"
    },
    {
     "data": {
      "text/plain": [
       "'Количестово уникальных значений = 31'"
      ]
     },
     "metadata": {},
     "output_type": "display_data"
    },
    {
     "data": {
      "text/plain": [
       "count                             1197\n",
       "mean     2019-08-15 13:06:46.015037696\n",
       "min                2019-08-01 00:00:00\n",
       "25%                2019-08-08 00:00:00\n",
       "50%                2019-08-15 00:00:00\n",
       "75%                2019-08-23 00:00:00\n",
       "max                2019-08-31 00:00:00\n",
       "Name: date, dtype: object"
      ]
     },
     "metadata": {},
     "output_type": "display_data"
    },
    {
     "name": "stdout",
     "output_type": "stream",
     "text": [
      "********************\n"
     ]
    }
   ],
   "source": [
    "value(orders, 'revenue', 'date')"
   ]
  },
  {
   "cell_type": "markdown",
   "id": "5319896d",
   "metadata": {},
   "source": [
    "\"Отрицательных\" покупок нет. В основном до 10 000р. Период анализа: август 2019г."
   ]
  },
  {
   "cell_type": "markdown",
   "id": "c4425251",
   "metadata": {},
   "source": [
    "Проверим, что одни и те же пользователи, оформившие заказ, не попали в две разные группы (группу A и группу B), а так же равномерность распредления групп. Это необходимые условия для проведения качественного А/В тестирования."
   ]
  },
  {
   "cell_type": "code",
   "execution_count": 16,
   "id": "bacfe597",
   "metadata": {},
   "outputs": [
    {
     "data": {
      "text/html": [
       "<div>\n",
       "<style scoped>\n",
       "    .dataframe tbody tr th:only-of-type {\n",
       "        vertical-align: middle;\n",
       "    }\n",
       "\n",
       "    .dataframe tbody tr th {\n",
       "        vertical-align: top;\n",
       "    }\n",
       "\n",
       "    .dataframe thead th {\n",
       "        text-align: right;\n",
       "    }\n",
       "</style>\n",
       "<table border=\"1\" class=\"dataframe\">\n",
       "  <thead>\n",
       "    <tr style=\"text-align: right;\">\n",
       "      <th></th>\n",
       "      <th>group</th>\n",
       "      <th>visitors</th>\n",
       "      <th>shape</th>\n",
       "    </tr>\n",
       "  </thead>\n",
       "  <tbody>\n",
       "    <tr>\n",
       "      <th>0</th>\n",
       "      <td>A</td>\n",
       "      <td>18736</td>\n",
       "      <td>49.760969</td>\n",
       "    </tr>\n",
       "    <tr>\n",
       "      <th>1</th>\n",
       "      <td>B</td>\n",
       "      <td>18916</td>\n",
       "      <td>50.239031</td>\n",
       "    </tr>\n",
       "  </tbody>\n",
       "</table>\n",
       "</div>"
      ],
      "text/plain": [
       "  group  visitors      shape\n",
       "0     A     18736  49.760969\n",
       "1     B     18916  50.239031"
      ]
     },
     "execution_count": 16,
     "metadata": {},
     "output_type": "execute_result"
    }
   ],
   "source": [
    "visitors_checker = (visitors\n",
    "                    .pivot_table(index='group',\n",
    "                                 values='visitors',\n",
    "                                 aggfunc='sum')\n",
    "                    .reset_index()\n",
    "                    )\n",
    "\n",
    "visitors_checker['shape'] = visitors_checker['visitors'] * \\\n",
    "    100 / visitors_checker['visitors'].sum()\n",
    "visitors_checker"
   ]
  },
  {
   "cell_type": "code",
   "execution_count": 17,
   "id": "e4813753",
   "metadata": {},
   "outputs": [
    {
     "data": {
      "text/plain": [
       "'Доля группы A: 48.8 %'"
      ]
     },
     "metadata": {},
     "output_type": "display_data"
    }
   ],
   "source": [
    "# Доля группы A до удаления пользователей в обоих группах\n",
    "display(\"Доля группы A: {0:.1f} %\".format(len(orders[orders['group'] == 'A']['visitorId'].unique()) /\n",
    "                                          len(orders['visitorId'].unique()) * 100))"
   ]
  },
  {
   "cell_type": "code",
   "execution_count": 18,
   "id": "ffe0acd4",
   "metadata": {},
   "outputs": [
    {
     "data": {
      "text/plain": [
       "'Доля группы В: 56.8 %'"
      ]
     },
     "metadata": {},
     "output_type": "display_data"
    }
   ],
   "source": [
    "# Доля группы B до удаления пользователей в обоих группах\n",
    "display(\"Доля группы В: {0:.1f} %\".format(len(orders[orders['group'] == 'B']['visitorId'].unique()) /\n",
    "                                          len(orders['visitorId'].unique()) * 100))"
   ]
  },
  {
   "cell_type": "code",
   "execution_count": 19,
   "id": "86185327",
   "metadata": {},
   "outputs": [
    {
     "data": {
      "text/plain": [
       "'Доля посетителей вошедших в обе группы: 5.6 %'"
      ]
     },
     "metadata": {},
     "output_type": "display_data"
    },
    {
     "data": {
      "text/plain": [
       "'Количество посетителей вошедших в обе группы: 58'"
      ]
     },
     "metadata": {},
     "output_type": "display_data"
    }
   ],
   "source": [
    "orders_both_1 = (orders\n",
    "                 .pivot_table(index='visitorId',\n",
    "                              columns='group',\n",
    "                              values='revenue',\n",
    "                              aggfunc='count')\n",
    "                 .reset_index()\n",
    "                 .query('A >= 1 & B >= 1')\n",
    "                 )\n",
    "display(\"Доля посетителей вошедших в обе группы: {0:.1f} %\".format(len(orders_both_1['visitorId'].unique()) /\n",
    "                                                                   len(orders['visitorId'].unique()) * 100))\n",
    "display(\"Количество посетителей вошедших в обе группы: {0:.0f}\".format(\n",
    "    len(orders_both_1)))"
   ]
  },
  {
   "cell_type": "markdown",
   "id": "b8e08b16",
   "metadata": {},
   "source": [
    "Распределение групп равномерно в рамках погрешности. \n",
    "\n",
    "Но пользователи перемешаны. 5,6% пользоватлей в выборке(или 58 человек), которые попали и в группу A, и в группу B при тестировании. Для чистоты эксперимента и выводов их следовало бы исключить. \n",
    "\n",
    "Так же в данных о посетителях есть суммарные данные за каждый день без распределения по ID покупателя. Исключение посетителей по ID на сновании попадания в обе группы не даст возможности скорретикровать таблицу о посещениях , что внесет ещё больше беспорядка.\n",
    "\n",
    "В связи с этим, данные следует оставить, но принимать во внимание то, что есть погрешности в результате, связанные с попаданием одних людей в разные группы при тесте."
   ]
  },
  {
   "cell_type": "markdown",
   "id": "d46c2776",
   "metadata": {},
   "source": [
    "### Предварительные выводы"
   ]
  },
  {
   "cell_type": "markdown",
   "id": "283de968",
   "metadata": {},
   "source": [
    "- пропусков нет \n",
    "- выполнено преобразование типов данных со значениями дат\n",
    "- дубликатов нет\n",
    "- определен интервал анализа - август 2019г\n",
    "- выявлены некорректные значения в распределении по группам: неравномерность и \"чистота\" групп. \n",
    "- в остальном предположительно данные \"чистые\" , дополнительной обработки не требуется"
   ]
  },
  {
   "cell_type": "markdown",
   "id": "61eea71d",
   "metadata": {},
   "source": [
    "## Приоритизация гипотез."
   ]
  },
  {
   "cell_type": "markdown",
   "id": "b4a5ab2c",
   "metadata": {},
   "source": [
    "### Фреймворк ICE для приоритизации гипотез."
   ]
  },
  {
   "cell_type": "markdown",
   "id": "3e314db5",
   "metadata": {},
   "source": [
    "<font size =6>    \n",
    "$\\mathcal{I.C.E.Score} =\\left(\\frac{impact*confidence}{efforts}\\right)$\n",
    " </font>"
   ]
  },
  {
   "cell_type": "code",
   "execution_count": 20,
   "id": "44bcdda5",
   "metadata": {},
   "outputs": [],
   "source": [
    "pd.options.display.max_colwidth = 120"
   ]
  },
  {
   "cell_type": "code",
   "execution_count": 21,
   "id": "9beee205",
   "metadata": {},
   "outputs": [],
   "source": [
    "# изменение опции показа числовых данных\n",
    "pd.options.display.float_format = '{:,.2f}'.format"
   ]
  },
  {
   "cell_type": "code",
   "execution_count": 22,
   "id": "1bd9d17e",
   "metadata": {},
   "outputs": [
    {
     "data": {
      "text/html": [
       "<div>\n",
       "<style scoped>\n",
       "    .dataframe tbody tr th:only-of-type {\n",
       "        vertical-align: middle;\n",
       "    }\n",
       "\n",
       "    .dataframe tbody tr th {\n",
       "        vertical-align: top;\n",
       "    }\n",
       "\n",
       "    .dataframe thead th {\n",
       "        text-align: right;\n",
       "    }\n",
       "</style>\n",
       "<table border=\"1\" class=\"dataframe\">\n",
       "  <thead>\n",
       "    <tr style=\"text-align: right;\">\n",
       "      <th></th>\n",
       "      <th>hypothesis</th>\n",
       "      <th>ice</th>\n",
       "    </tr>\n",
       "  </thead>\n",
       "  <tbody>\n",
       "    <tr>\n",
       "      <th>8</th>\n",
       "      <td>Запустить акцию, дающую скидку на товар в день рождения</td>\n",
       "      <td>16.20</td>\n",
       "    </tr>\n",
       "    <tr>\n",
       "      <th>0</th>\n",
       "      <td>Добавить два новых канала привлечения трафика, что позволит привлекать на 30% больше пользователей</td>\n",
       "      <td>13.33</td>\n",
       "    </tr>\n",
       "    <tr>\n",
       "      <th>7</th>\n",
       "      <td>Добавить форму подписки на все основные страницы, чтобы собрать базу клиентов для email-рассылок</td>\n",
       "      <td>11.20</td>\n",
       "    </tr>\n",
       "    <tr>\n",
       "      <th>6</th>\n",
       "      <td>Показать на главной странице баннеры с актуальными акциями и распродажами, чтобы увеличить конверсию</td>\n",
       "      <td>8.00</td>\n",
       "    </tr>\n",
       "    <tr>\n",
       "      <th>2</th>\n",
       "      <td>Добавить блоки рекомендаций товаров на сайт интернет магазина, чтобы повысить конверсию и средний чек заказа</td>\n",
       "      <td>7.00</td>\n",
       "    </tr>\n",
       "    <tr>\n",
       "      <th>1</th>\n",
       "      <td>Запустить собственную службу доставки, что сократит срок доставки заказов</td>\n",
       "      <td>2.00</td>\n",
       "    </tr>\n",
       "    <tr>\n",
       "      <th>5</th>\n",
       "      <td>Добавить страницу отзывов клиентов о магазине, что позволит увеличить количество заказов</td>\n",
       "      <td>1.33</td>\n",
       "    </tr>\n",
       "    <tr>\n",
       "      <th>3</th>\n",
       "      <td>Изменить структура категорий, что увеличит конверсию, т.к. пользователи быстрее найдут нужный товар</td>\n",
       "      <td>1.12</td>\n",
       "    </tr>\n",
       "    <tr>\n",
       "      <th>4</th>\n",
       "      <td>Изменить цвет фона главной страницы, чтобы увеличить вовлеченность пользователей</td>\n",
       "      <td>1.00</td>\n",
       "    </tr>\n",
       "  </tbody>\n",
       "</table>\n",
       "</div>"
      ],
      "text/plain": [
       "                                                                                                     hypothesis  \\\n",
       "8                                                       Запустить акцию, дающую скидку на товар в день рождения   \n",
       "0            Добавить два новых канала привлечения трафика, что позволит привлекать на 30% больше пользователей   \n",
       "7              Добавить форму подписки на все основные страницы, чтобы собрать базу клиентов для email-рассылок   \n",
       "6          Показать на главной странице баннеры с актуальными акциями и распродажами, чтобы увеличить конверсию   \n",
       "2  Добавить блоки рекомендаций товаров на сайт интернет магазина, чтобы повысить конверсию и средний чек заказа   \n",
       "1                                     Запустить собственную службу доставки, что сократит срок доставки заказов   \n",
       "5                      Добавить страницу отзывов клиентов о магазине, что позволит увеличить количество заказов   \n",
       "3           Изменить структура категорий, что увеличит конверсию, т.к. пользователи быстрее найдут нужный товар   \n",
       "4                              Изменить цвет фона главной страницы, чтобы увеличить вовлеченность пользователей   \n",
       "\n",
       "    ice  \n",
       "8 16.20  \n",
       "0 13.33  \n",
       "7 11.20  \n",
       "6  8.00  \n",
       "2  7.00  \n",
       "1  2.00  \n",
       "5  1.33  \n",
       "3  1.12  \n",
       "4  1.00  "
      ]
     },
     "execution_count": 22,
     "metadata": {},
     "output_type": "execute_result"
    }
   ],
   "source": [
    "# формируем новый столбец по формуле\n",
    "hypothesis['ice'] = hypothesis['impact'] * \\\n",
    "    hypothesis['confidence']/hypothesis['efforts']\n",
    "(hypothesis[['hypothesis', 'ice']].sort_values(by='ice', ascending=False))"
   ]
  },
  {
   "cell_type": "markdown",
   "id": "1146e779",
   "metadata": {},
   "source": [
    "Определена тройка предварительных лидеров гипотез."
   ]
  },
  {
   "cell_type": "markdown",
   "id": "811d637f",
   "metadata": {},
   "source": [
    "###    Фреймворк RICE для приоритизации гипотез."
   ]
  },
  {
   "cell_type": "markdown",
   "id": "9cfc0caa",
   "metadata": {},
   "source": [
    "<font size =6>    \n",
    "$\\mathcal{R.I.C.E.Score} =\\left(\\frac{reach*impact*confidence}{efforts}\\right)$\n",
    " </font>"
   ]
  },
  {
   "cell_type": "code",
   "execution_count": 23,
   "id": "1f0e2607",
   "metadata": {},
   "outputs": [
    {
     "data": {
      "text/html": [
       "<div>\n",
       "<style scoped>\n",
       "    .dataframe tbody tr th:only-of-type {\n",
       "        vertical-align: middle;\n",
       "    }\n",
       "\n",
       "    .dataframe tbody tr th {\n",
       "        vertical-align: top;\n",
       "    }\n",
       "\n",
       "    .dataframe thead th {\n",
       "        text-align: right;\n",
       "    }\n",
       "</style>\n",
       "<table border=\"1\" class=\"dataframe\">\n",
       "  <thead>\n",
       "    <tr style=\"text-align: right;\">\n",
       "      <th></th>\n",
       "      <th>hypothesis</th>\n",
       "      <th>rice</th>\n",
       "    </tr>\n",
       "  </thead>\n",
       "  <tbody>\n",
       "    <tr>\n",
       "      <th>7</th>\n",
       "      <td>Добавить форму подписки на все основные страницы, чтобы собрать базу клиентов для email-рассылок</td>\n",
       "      <td>112.00</td>\n",
       "    </tr>\n",
       "    <tr>\n",
       "      <th>2</th>\n",
       "      <td>Добавить блоки рекомендаций товаров на сайт интернет магазина, чтобы повысить конверсию и средний чек заказа</td>\n",
       "      <td>56.00</td>\n",
       "    </tr>\n",
       "    <tr>\n",
       "      <th>0</th>\n",
       "      <td>Добавить два новых канала привлечения трафика, что позволит привлекать на 30% больше пользователей</td>\n",
       "      <td>40.00</td>\n",
       "    </tr>\n",
       "    <tr>\n",
       "      <th>6</th>\n",
       "      <td>Показать на главной странице баннеры с актуальными акциями и распродажами, чтобы увеличить конверсию</td>\n",
       "      <td>40.00</td>\n",
       "    </tr>\n",
       "    <tr>\n",
       "      <th>8</th>\n",
       "      <td>Запустить акцию, дающую скидку на товар в день рождения</td>\n",
       "      <td>16.20</td>\n",
       "    </tr>\n",
       "    <tr>\n",
       "      <th>3</th>\n",
       "      <td>Изменить структура категорий, что увеличит конверсию, т.к. пользователи быстрее найдут нужный товар</td>\n",
       "      <td>9.00</td>\n",
       "    </tr>\n",
       "    <tr>\n",
       "      <th>1</th>\n",
       "      <td>Запустить собственную службу доставки, что сократит срок доставки заказов</td>\n",
       "      <td>4.00</td>\n",
       "    </tr>\n",
       "    <tr>\n",
       "      <th>5</th>\n",
       "      <td>Добавить страницу отзывов клиентов о магазине, что позволит увеличить количество заказов</td>\n",
       "      <td>4.00</td>\n",
       "    </tr>\n",
       "    <tr>\n",
       "      <th>4</th>\n",
       "      <td>Изменить цвет фона главной страницы, чтобы увеличить вовлеченность пользователей</td>\n",
       "      <td>3.00</td>\n",
       "    </tr>\n",
       "  </tbody>\n",
       "</table>\n",
       "</div>"
      ],
      "text/plain": [
       "                                                                                                     hypothesis  \\\n",
       "7              Добавить форму подписки на все основные страницы, чтобы собрать базу клиентов для email-рассылок   \n",
       "2  Добавить блоки рекомендаций товаров на сайт интернет магазина, чтобы повысить конверсию и средний чек заказа   \n",
       "0            Добавить два новых канала привлечения трафика, что позволит привлекать на 30% больше пользователей   \n",
       "6          Показать на главной странице баннеры с актуальными акциями и распродажами, чтобы увеличить конверсию   \n",
       "8                                                       Запустить акцию, дающую скидку на товар в день рождения   \n",
       "3           Изменить структура категорий, что увеличит конверсию, т.к. пользователи быстрее найдут нужный товар   \n",
       "1                                     Запустить собственную службу доставки, что сократит срок доставки заказов   \n",
       "5                      Добавить страницу отзывов клиентов о магазине, что позволит увеличить количество заказов   \n",
       "4                              Изменить цвет фона главной страницы, чтобы увеличить вовлеченность пользователей   \n",
       "\n",
       "    rice  \n",
       "7 112.00  \n",
       "2  56.00  \n",
       "0  40.00  \n",
       "6  40.00  \n",
       "8  16.20  \n",
       "3   9.00  \n",
       "1   4.00  \n",
       "5   4.00  \n",
       "4   3.00  "
      ]
     },
     "execution_count": 23,
     "metadata": {},
     "output_type": "execute_result"
    }
   ],
   "source": [
    "# формируем новый столбец по формуле\n",
    "hypothesis['rice'] = hypothesis['reach']*hypothesis['impact'] * \\\n",
    "    hypothesis['confidence']/hypothesis['efforts']\n",
    "(hypothesis[['hypothesis', 'rice']].sort_values(by='rice', ascending=False))"
   ]
  },
  {
   "cell_type": "markdown",
   "id": "e7f1a56a",
   "metadata": {},
   "source": [
    "Выявлены ещё 3 приоритетные гипотезы. 2 из них пересекаются с первым вариантом."
   ]
  },
  {
   "cell_type": "markdown",
   "id": "8e6be6de",
   "metadata": {},
   "source": [
    "###     Изменение приоритизации гипотез."
   ]
  },
  {
   "cell_type": "code",
   "execution_count": 24,
   "id": "d3e6e860",
   "metadata": {},
   "outputs": [
    {
     "data": {
      "text/html": [
       "<div>\n",
       "<style scoped>\n",
       "    .dataframe tbody tr th:only-of-type {\n",
       "        vertical-align: middle;\n",
       "    }\n",
       "\n",
       "    .dataframe tbody tr th {\n",
       "        vertical-align: top;\n",
       "    }\n",
       "\n",
       "    .dataframe thead th {\n",
       "        text-align: right;\n",
       "    }\n",
       "</style>\n",
       "<table border=\"1\" class=\"dataframe\">\n",
       "  <thead>\n",
       "    <tr style=\"text-align: right;\">\n",
       "      <th></th>\n",
       "      <th>hypothesis</th>\n",
       "      <th>reach</th>\n",
       "      <th>impact</th>\n",
       "      <th>confidence</th>\n",
       "      <th>efforts</th>\n",
       "      <th>ice</th>\n",
       "      <th>rice</th>\n",
       "    </tr>\n",
       "  </thead>\n",
       "  <tbody>\n",
       "    <tr>\n",
       "      <th>0</th>\n",
       "      <td>Добавить два новых канала привлечения трафика, что позволит привлекать на 30% больше пользователей</td>\n",
       "      <td>3</td>\n",
       "      <td>10</td>\n",
       "      <td>8</td>\n",
       "      <td>6</td>\n",
       "      <td>13.33</td>\n",
       "      <td>40.00</td>\n",
       "    </tr>\n",
       "    <tr>\n",
       "      <th>1</th>\n",
       "      <td>Запустить собственную службу доставки, что сократит срок доставки заказов</td>\n",
       "      <td>2</td>\n",
       "      <td>5</td>\n",
       "      <td>4</td>\n",
       "      <td>10</td>\n",
       "      <td>2.00</td>\n",
       "      <td>4.00</td>\n",
       "    </tr>\n",
       "    <tr>\n",
       "      <th>2</th>\n",
       "      <td>Добавить блоки рекомендаций товаров на сайт интернет магазина, чтобы повысить конверсию и средний чек заказа</td>\n",
       "      <td>8</td>\n",
       "      <td>3</td>\n",
       "      <td>7</td>\n",
       "      <td>3</td>\n",
       "      <td>7.00</td>\n",
       "      <td>56.00</td>\n",
       "    </tr>\n",
       "    <tr>\n",
       "      <th>3</th>\n",
       "      <td>Изменить структура категорий, что увеличит конверсию, т.к. пользователи быстрее найдут нужный товар</td>\n",
       "      <td>8</td>\n",
       "      <td>3</td>\n",
       "      <td>3</td>\n",
       "      <td>8</td>\n",
       "      <td>1.12</td>\n",
       "      <td>9.00</td>\n",
       "    </tr>\n",
       "    <tr>\n",
       "      <th>4</th>\n",
       "      <td>Изменить цвет фона главной страницы, чтобы увеличить вовлеченность пользователей</td>\n",
       "      <td>3</td>\n",
       "      <td>1</td>\n",
       "      <td>1</td>\n",
       "      <td>1</td>\n",
       "      <td>1.00</td>\n",
       "      <td>3.00</td>\n",
       "    </tr>\n",
       "    <tr>\n",
       "      <th>5</th>\n",
       "      <td>Добавить страницу отзывов клиентов о магазине, что позволит увеличить количество заказов</td>\n",
       "      <td>3</td>\n",
       "      <td>2</td>\n",
       "      <td>2</td>\n",
       "      <td>3</td>\n",
       "      <td>1.33</td>\n",
       "      <td>4.00</td>\n",
       "    </tr>\n",
       "    <tr>\n",
       "      <th>6</th>\n",
       "      <td>Показать на главной странице баннеры с актуальными акциями и распродажами, чтобы увеличить конверсию</td>\n",
       "      <td>5</td>\n",
       "      <td>3</td>\n",
       "      <td>8</td>\n",
       "      <td>3</td>\n",
       "      <td>8.00</td>\n",
       "      <td>40.00</td>\n",
       "    </tr>\n",
       "    <tr>\n",
       "      <th>7</th>\n",
       "      <td>Добавить форму подписки на все основные страницы, чтобы собрать базу клиентов для email-рассылок</td>\n",
       "      <td>10</td>\n",
       "      <td>7</td>\n",
       "      <td>8</td>\n",
       "      <td>5</td>\n",
       "      <td>11.20</td>\n",
       "      <td>112.00</td>\n",
       "    </tr>\n",
       "    <tr>\n",
       "      <th>8</th>\n",
       "      <td>Запустить акцию, дающую скидку на товар в день рождения</td>\n",
       "      <td>1</td>\n",
       "      <td>9</td>\n",
       "      <td>9</td>\n",
       "      <td>5</td>\n",
       "      <td>16.20</td>\n",
       "      <td>16.20</td>\n",
       "    </tr>\n",
       "  </tbody>\n",
       "</table>\n",
       "</div>"
      ],
      "text/plain": [
       "                                                                                                     hypothesis  \\\n",
       "0            Добавить два новых канала привлечения трафика, что позволит привлекать на 30% больше пользователей   \n",
       "1                                     Запустить собственную службу доставки, что сократит срок доставки заказов   \n",
       "2  Добавить блоки рекомендаций товаров на сайт интернет магазина, чтобы повысить конверсию и средний чек заказа   \n",
       "3           Изменить структура категорий, что увеличит конверсию, т.к. пользователи быстрее найдут нужный товар   \n",
       "4                              Изменить цвет фона главной страницы, чтобы увеличить вовлеченность пользователей   \n",
       "5                      Добавить страницу отзывов клиентов о магазине, что позволит увеличить количество заказов   \n",
       "6          Показать на главной странице баннеры с актуальными акциями и распродажами, чтобы увеличить конверсию   \n",
       "7              Добавить форму подписки на все основные страницы, чтобы собрать базу клиентов для email-рассылок   \n",
       "8                                                       Запустить акцию, дающую скидку на товар в день рождения   \n",
       "\n",
       "   reach  impact  confidence  efforts   ice   rice  \n",
       "0      3      10           8        6 13.33  40.00  \n",
       "1      2       5           4       10  2.00   4.00  \n",
       "2      8       3           7        3  7.00  56.00  \n",
       "3      8       3           3        8  1.12   9.00  \n",
       "4      3       1           1        1  1.00   3.00  \n",
       "5      3       2           2        3  1.33   4.00  \n",
       "6      5       3           8        3  8.00  40.00  \n",
       "7     10       7           8        5 11.20 112.00  \n",
       "8      1       9           9        5 16.20  16.20  "
      ]
     },
     "execution_count": 24,
     "metadata": {},
     "output_type": "execute_result"
    }
   ],
   "source": [
    "# выводим общие данные\n",
    "hypothesis"
   ]
  },
  {
   "cell_type": "markdown",
   "id": "aa649855",
   "metadata": {},
   "source": [
    "ICE — один из самых популярных способов приоритизации задач. У этого метода есть модификация RICE. В него добавлен параметр Reach — скольких пользователей затронет изменение. Confidence показывает уверенность в оценках других параметров. Считаю целесообразным рассматривать гипотезы где эти два параметра максимальны."
   ]
  },
  {
   "cell_type": "markdown",
   "id": "8cc314c3",
   "metadata": {},
   "source": [
    "### Предварительный вывод"
   ]
  },
  {
   "cell_type": "markdown",
   "id": "873d677a",
   "metadata": {},
   "source": [
    "- Самой приоритетной выделить гипотезу увеличения выручки: \"Добавить форму подписки на все основные страницы, чтобы собрать базу клиентов для email-рассылок\n",
    "- При возможности использования ресурсов добавить в разработку гипотезу: \"Добавить блоки рекомендаций товаров на сайт интернет магазина, чтобы повысить конверсию и средний чек заказа\"\n",
    "- Так же провести первичный маркетинговый анализ гипотезы: \"Добавить два новых канала привлечения трафика, что позволит привлекать на 30% больше пользователей\"."
   ]
  },
  {
   "cell_type": "markdown",
   "id": "2b8ed4c8",
   "metadata": {},
   "source": [
    "##  Часть 2. Анализ A/B-теста"
   ]
  },
  {
   "cell_type": "markdown",
   "id": "5f4c38b7",
   "metadata": {},
   "source": [
    "После проведения A/B-теста были получены результаты. Изучим графики кумулятивных, или накапливаемых данных."
   ]
  },
  {
   "cell_type": "code",
   "execution_count": 25,
   "id": "ac77c1af",
   "metadata": {},
   "outputs": [
    {
     "data": {
      "text/html": [
       "<div>\n",
       "<style scoped>\n",
       "    .dataframe tbody tr th:only-of-type {\n",
       "        vertical-align: middle;\n",
       "    }\n",
       "\n",
       "    .dataframe tbody tr th {\n",
       "        vertical-align: top;\n",
       "    }\n",
       "\n",
       "    .dataframe thead th {\n",
       "        text-align: right;\n",
       "    }\n",
       "</style>\n",
       "<table border=\"1\" class=\"dataframe\">\n",
       "  <thead>\n",
       "    <tr style=\"text-align: right;\">\n",
       "      <th></th>\n",
       "      <th>date</th>\n",
       "      <th>group</th>\n",
       "      <th>orders</th>\n",
       "      <th>buyers</th>\n",
       "      <th>revenue</th>\n",
       "      <th>visitors</th>\n",
       "    </tr>\n",
       "  </thead>\n",
       "  <tbody>\n",
       "    <tr>\n",
       "      <th>0</th>\n",
       "      <td>2019-08-01</td>\n",
       "      <td>A</td>\n",
       "      <td>24</td>\n",
       "      <td>20</td>\n",
       "      <td>148579</td>\n",
       "      <td>719</td>\n",
       "    </tr>\n",
       "    <tr>\n",
       "      <th>1</th>\n",
       "      <td>2019-08-01</td>\n",
       "      <td>B</td>\n",
       "      <td>21</td>\n",
       "      <td>20</td>\n",
       "      <td>101217</td>\n",
       "      <td>713</td>\n",
       "    </tr>\n",
       "    <tr>\n",
       "      <th>2</th>\n",
       "      <td>2019-08-02</td>\n",
       "      <td>A</td>\n",
       "      <td>44</td>\n",
       "      <td>38</td>\n",
       "      <td>242401</td>\n",
       "      <td>1338</td>\n",
       "    </tr>\n",
       "    <tr>\n",
       "      <th>3</th>\n",
       "      <td>2019-08-02</td>\n",
       "      <td>B</td>\n",
       "      <td>45</td>\n",
       "      <td>43</td>\n",
       "      <td>266748</td>\n",
       "      <td>1294</td>\n",
       "    </tr>\n",
       "    <tr>\n",
       "      <th>4</th>\n",
       "      <td>2019-08-03</td>\n",
       "      <td>A</td>\n",
       "      <td>68</td>\n",
       "      <td>62</td>\n",
       "      <td>354874</td>\n",
       "      <td>1845</td>\n",
       "    </tr>\n",
       "    <tr>\n",
       "      <th>...</th>\n",
       "      <td>...</td>\n",
       "      <td>...</td>\n",
       "      <td>...</td>\n",
       "      <td>...</td>\n",
       "      <td>...</td>\n",
       "      <td>...</td>\n",
       "    </tr>\n",
       "    <tr>\n",
       "      <th>57</th>\n",
       "      <td>2019-08-29</td>\n",
       "      <td>B</td>\n",
       "      <td>596</td>\n",
       "      <td>544</td>\n",
       "      <td>5559398</td>\n",
       "      <td>17708</td>\n",
       "    </tr>\n",
       "    <tr>\n",
       "      <th>58</th>\n",
       "      <td>2019-08-30</td>\n",
       "      <td>A</td>\n",
       "      <td>545</td>\n",
       "      <td>493</td>\n",
       "      <td>4022970</td>\n",
       "      <td>18037</td>\n",
       "    </tr>\n",
       "    <tr>\n",
       "      <th>59</th>\n",
       "      <td>2019-08-30</td>\n",
       "      <td>B</td>\n",
       "      <td>620</td>\n",
       "      <td>567</td>\n",
       "      <td>5774631</td>\n",
       "      <td>18198</td>\n",
       "    </tr>\n",
       "    <tr>\n",
       "      <th>60</th>\n",
       "      <td>2019-08-31</td>\n",
       "      <td>A</td>\n",
       "      <td>557</td>\n",
       "      <td>503</td>\n",
       "      <td>4084803</td>\n",
       "      <td>18736</td>\n",
       "    </tr>\n",
       "    <tr>\n",
       "      <th>61</th>\n",
       "      <td>2019-08-31</td>\n",
       "      <td>B</td>\n",
       "      <td>640</td>\n",
       "      <td>586</td>\n",
       "      <td>5907760</td>\n",
       "      <td>18916</td>\n",
       "    </tr>\n",
       "  </tbody>\n",
       "</table>\n",
       "<p>62 rows × 6 columns</p>\n",
       "</div>"
      ],
      "text/plain": [
       "         date group  orders  buyers  revenue  visitors\n",
       "0  2019-08-01     A      24      20   148579       719\n",
       "1  2019-08-01     B      21      20   101217       713\n",
       "2  2019-08-02     A      44      38   242401      1338\n",
       "3  2019-08-02     B      45      43   266748      1294\n",
       "4  2019-08-03     A      68      62   354874      1845\n",
       "..        ...   ...     ...     ...      ...       ...\n",
       "57 2019-08-29     B     596     544  5559398     17708\n",
       "58 2019-08-30     A     545     493  4022970     18037\n",
       "59 2019-08-30     B     620     567  5774631     18198\n",
       "60 2019-08-31     A     557     503  4084803     18736\n",
       "61 2019-08-31     B     640     586  5907760     18916\n",
       "\n",
       "[62 rows x 6 columns]"
      ]
     },
     "execution_count": 25,
     "metadata": {},
     "output_type": "execute_result"
    }
   ],
   "source": [
    "# создаем массив уникальных пар значений дат и групп теста\n",
    "datesGroups = orders[['date', 'group']].drop_duplicates()\n",
    "# получаем агрегированные кумулятивные по дням данные о заказах\n",
    "ordersAggregated = datesGroups.apply(lambda x: orders[np.logical_and(orders['date'] <= x['date'], orders['group'] == x['group'])]\n",
    "                                     .agg({'date': 'max', 'group': 'max', 'transactionId': 'nunique', 'visitorId': 'nunique', 'revenue': 'sum'}), axis=1).sort_values(by=['date', 'group'])\n",
    "\n",
    "# получаем агрегированные кумулятивные по дням данные о посетителях интернет-магазина\n",
    "visitorsAggregated = datesGroups.apply(lambda x: visitors[np.logical_and(visitors['date'] <= x['date'], visitors['group'] == x['group'])].agg({\n",
    "                                       'date': 'max', 'group': 'max', 'visitors': 'sum'}), axis=1).sort_values(by=['date', 'group'])\n",
    "\n",
    "# объединяем кумулятивные данные в одной таблице\n",
    "cumulativeData = ordersAggregated.merge(visitorsAggregated, left_on=[\n",
    "                                        'date', 'group'], right_on=['date', 'group'])\n",
    "\n",
    "cumulativeData.columns = ['date', 'group',\n",
    "                          'orders', 'buyers', 'revenue', 'visitors']\n",
    "cumulativeData"
   ]
  },
  {
   "cell_type": "markdown",
   "id": "d376b355",
   "metadata": {},
   "source": [
    "### График кумулятивной выручки по группам."
   ]
  },
  {
   "cell_type": "markdown",
   "id": "321581eb",
   "metadata": {},
   "source": [
    "Построим графики кумулятивной выручки по дням и группам A/B-тестирования: "
   ]
  },
  {
   "cell_type": "code",
   "execution_count": 26,
   "id": "fcd2b9ed",
   "metadata": {},
   "outputs": [
    {
     "data": {
      "image/png": "[encoded data removed]",
      "text/plain": [
       "<Figure size 1080x576 with 1 Axes>"
      ]
     },
     "metadata": {
      "needs_background": "light"
     },
     "output_type": "display_data"
    }
   ],
   "source": [
    "# Строим график выручки\n",
    "plt.figure(figsize=(15, 8))\n",
    "custom_params = {\"axes.spines.right\": False, \"axes.spines.top\": False}\n",
    "sns.set_theme(style=\"whitegrid\", rc=custom_params, palette=\"pastel\")\n",
    "\n",
    "sns.lineplot(x=\"date\", y=\"revenue\", hue='group',\n",
    "             data=cumulativeData, style=\"group\", linewidth=3.0)\n",
    "# Plot formatting\n",
    "plt.legend(prop={'size': 16}, title='Группа теста')\n",
    "plt.title('График кумулятивной выручки по группам', fontsize=16)\n",
    "plt.xlabel('Дата', fontsize=14)\n",
    "plt.ylabel('Выручка в млн', fontsize=14)\n",
    "plt.xticks(['2019-08-01', '2019-08-08',\n",
    "           '2019-08-16', '2019-08-24', '2019-08-31'])\n",
    "plt.ylim(-0, 6*10.36**6)\n",
    "plt.show()"
   ]
  },
  {
   "cell_type": "markdown",
   "id": "6dbcf852",
   "metadata": {},
   "source": [
    "Выручка почти равномерно увеличивается в течение всего теста.Однако графики выручки группы В имеет резкий рост. Это может сигнализировать о всплесках числа заказов, либо о появлении очень дорогих заказов в выборке. Такие выбросы проанализируем далее."
   ]
  },
  {
   "cell_type": "markdown",
   "id": "cb242cd1",
   "metadata": {},
   "source": [
    "### График кумулятивного среднего чека по группам."
   ]
  },
  {
   "cell_type": "markdown",
   "id": "a3275f14",
   "metadata": {},
   "source": [
    "Построим графики среднего чека по группам — разделим кумулятивную выручку на кумулятивное число заказов"
   ]
  },
  {
   "cell_type": "code",
   "execution_count": 27,
   "id": "cbee8021",
   "metadata": {},
   "outputs": [
    {
     "data": {
      "image/png": "[encoded data removed]",
      "text/plain": [
       "<Figure size 1080x576 with 1 Axes>"
      ]
     },
     "metadata": {},
     "output_type": "display_data"
    }
   ],
   "source": [
    "# добавляем необходимые вычисления\n",
    "cumulativeData['avg_revenue'] = cumulativeData['revenue'] / \\\n",
    "    cumulativeData['orders']\n",
    "\n",
    "# Строим график среднего чека по группам\n",
    "plt.figure(figsize=(15, 8))\n",
    "custom_params = {\"axes.spines.right\": False, \"axes.spines.top\": False}\n",
    "sns.set_theme(style=\"whitegrid\", rc=custom_params, palette=\"pastel\")\n",
    "\n",
    "sns.lineplot(x=\"date\", y=\"avg_revenue\", hue='group',\n",
    "             data=cumulativeData, style=\"group\", linewidth=3.0)\n",
    "# Plot formatting\n",
    "plt.legend(prop={'size': 16}, title='Группа теста', loc=0)\n",
    "plt.title('График кумулятивного среднего чека по группам', fontsize=16)\n",
    "plt.xlabel('Дата', fontsize=14)\n",
    "plt.ylabel('Cредний чек', fontsize=14)\n",
    "plt.xticks(['2019-08-01', '2019-08-08',\n",
    "           '2019-08-16', '2019-08-24', '2019-08-31'])\n",
    "plt.ylim(0, 1.15*10**4)\n",
    "plt.show()"
   ]
  },
  {
   "cell_type": "markdown",
   "id": "1ed65d0b",
   "metadata": {},
   "source": [
    "Средний чек так же варьируется в узком дипазоне с постепенным ростом. Так же имется резкий вспелеск в группе B в ту же дату.  Предположение о появлении дорогого заказа подтверждается. В дальнейшем намечается тенденция к сближению средних значений. За период наблюдений чек группы А - стабилизировался, а группы В - еще нет."
   ]
  },
  {
   "cell_type": "markdown",
   "id": "c36c3906",
   "metadata": {},
   "source": [
    "### График относительного изменения кумулятивного среднего чека группы B к группе A."
   ]
  },
  {
   "cell_type": "markdown",
   "id": "e8e5a2c1",
   "metadata": {},
   "source": [
    "Введем новые переменные с кумулятивной выручкой по дням в каждой группе"
   ]
  },
  {
   "cell_type": "code",
   "execution_count": 28,
   "id": "464f15ae",
   "metadata": {},
   "outputs": [],
   "source": [
    "# датафрейм с кумулятивной выручкой по дням в группе А\n",
    "cumulativeRevenueA = cumulativeData[cumulativeData['group'] == 'A'][[\n",
    "    'date', 'revenue', 'orders']]\n",
    "\n",
    "# датафрейм с кумулятивной выручкой по дням в группе B\n",
    "cumulativeRevenueB = cumulativeData[cumulativeData['group'] == 'B'][[\n",
    "    'date', 'revenue', 'orders']]"
   ]
  },
  {
   "cell_type": "code",
   "execution_count": 29,
   "id": "a6c0eeb3",
   "metadata": {},
   "outputs": [
    {
     "data": {
      "image/png": "[encoded data removed]",
      "text/plain": [
       "<Figure size 1080x576 with 1 Axes>"
      ]
     },
     "metadata": {},
     "output_type": "display_data"
    }
   ],
   "source": [
    "# собираем данные в одном датафрейме\n",
    "mergedCumulativeRevenue = cumulativeRevenueA.merge(\n",
    "    cumulativeRevenueB, left_on='date', right_on='date', how='left', suffixes=['A', 'B'])\n",
    "\n",
    "# cтроим график отношения средних чеков\n",
    "plt.figure(figsize=(15, 8))\n",
    "custom_params = {\"axes.spines.right\": False, \"axes.spines.top\": False}\n",
    "sns.set_theme(style=\"whitegrid\", rc=custom_params, palette=\"pastel\")\n",
    "\n",
    "plt.plot(mergedCumulativeRevenue['date'], (mergedCumulativeRevenue['revenueB']/mergedCumulativeRevenue['ordersB'])/(\n",
    "    mergedCumulativeRevenue['revenueA']/mergedCumulativeRevenue['ordersA'])-1, color='darkblue', linestyle='-', linewidth=3.0)\n",
    "\n",
    "# Plot formatting\n",
    "plt.axhline(y=0, color='black', linestyle=':')\n",
    "plt.title('График относительного изменения \\nкумулятивного среднего чека группы B к группе A', fontsize=16)\n",
    "plt.xlabel('Дата', fontsize=14)\n",
    "plt.ylabel('Отношение кумулятивного среднего чека', fontsize=14)\n",
    "plt.xticks(['2019-08-01', '2019-08-08',\n",
    "           '2019-08-16', '2019-08-24', '2019-08-31'])\n",
    "plt.ylim(-0.5, 0.75)\n",
    "plt.show()"
   ]
  },
  {
   "cell_type": "markdown",
   "id": "0017789f",
   "metadata": {},
   "source": [
    "В нескольких точках график различия между сегментами резко «скачет». Ещё одно подтверждение гипотезы о наличии крупных заказовю Дата их оформления - резкий рост на графике."
   ]
  },
  {
   "cell_type": "markdown",
   "id": "debe461f",
   "metadata": {},
   "source": [
    "### График кумулятивного среднего количества заказов на посетителя по группам."
   ]
  },
  {
   "cell_type": "markdown",
   "id": "8ab69bcf",
   "metadata": {},
   "source": [
    "Анализируем график кумулятивного количества заказов"
   ]
  },
  {
   "cell_type": "code",
   "execution_count": 30,
   "id": "f8f8d0ba",
   "metadata": {},
   "outputs": [
    {
     "data": {
      "image/png": "[encoded data removed]",
      "text/plain": [
       "<Figure size 1080x576 with 1 Axes>"
      ]
     },
     "metadata": {},
     "output_type": "display_data"
    }
   ],
   "source": [
    "# считаем кумулятивное количества заказов\n",
    "cumulativeData['conversion'] = cumulativeData['orders'] / \\\n",
    "    cumulativeData['visitors']\n",
    "\n",
    "plt.figure(figsize=(15, 8))\n",
    "custom_params = {\"axes.spines.right\": False, \"axes.spines.top\": False}\n",
    "sns.set_theme(style=\"whitegrid\", rc=custom_params, palette=\"pastel\")\n",
    "\n",
    "# Строим график  среднего количества заказов по группам\n",
    "sns.lineplot(x=\"date\", y=\"conversion\", hue='group',\n",
    "             data=cumulativeData, style=\"group\", linewidth=3.0)\n",
    "\n",
    "# Plot formatting\n",
    "plt.legend(prop={'size': 16}, title='Группа теста', loc=0)\n",
    "plt.title('График среднего количества заказов на посетителя по группам', fontsize=16)\n",
    "plt.xlabel('Дата', fontsize=14)\n",
    "plt.ylabel('Среднее количества заказов', fontsize=14)\n",
    "plt.xticks(['2019-08-01', '2019-08-08',\n",
    "           '2019-08-16', '2019-08-24', '2019-08-31'])\n",
    "plt.ylim(-0, 0.06)\n",
    "plt.show()"
   ]
  },
  {
   "cell_type": "markdown",
   "id": "112a4126",
   "metadata": {},
   "source": [
    "График стабилизируется на второй декаде периода исследований. Количество заказов группы B становится стабильно выше количества заказов в группе А."
   ]
  },
  {
   "cell_type": "markdown",
   "id": "d162e669",
   "metadata": {},
   "source": [
    "### График относительного изменения кумулятивного среднего количества заказов на посетителя группы B к группе A. "
   ]
  },
  {
   "cell_type": "markdown",
   "id": "bc550451",
   "metadata": {},
   "source": [
    "Введем новые переменные с кумулятивнным количеством заказов по дням в каждой группе"
   ]
  },
  {
   "cell_type": "code",
   "execution_count": 31,
   "id": "67e8103a",
   "metadata": {},
   "outputs": [],
   "source": [
    "# датафрейм с кумулятивнным количеством заказов по дням в группе А\n",
    "cumulativeDataA = cumulativeData[cumulativeData['group'] == 'A'][[\n",
    "    'date', 'conversion']]\n",
    "\n",
    "# датафрейм с кумулятивнным количеством заказов по дням в группе B\n",
    "cumulativeDataB = cumulativeData[cumulativeData['group'] == 'B'][[\n",
    "    'date', 'conversion']]"
   ]
  },
  {
   "cell_type": "code",
   "execution_count": 32,
   "id": "8552f2b1",
   "metadata": {},
   "outputs": [
    {
     "data": {
      "image/png": "[encoded data removed]",
      "text/plain": [
       "<Figure size 1080x576 with 1 Axes>"
      ]
     },
     "metadata": {},
     "output_type": "display_data"
    }
   ],
   "source": [
    "# собираем данные в одном датафрейме\n",
    "mergedCumulativeConversions = cumulativeDataA[['date', 'conversion']].merge(\n",
    "    cumulativeDataB[['date', 'conversion']], left_on='date', right_on='date', how='left', suffixes=['A', 'B'])\n",
    "# cтроим отношение среднего количества заказов\n",
    "plt.figure(figsize=(15, 8))\n",
    "custom_params = {\"axes.spines.right\": False, \"axes.spines.top\": False}\n",
    "sns.set_theme(style=\"whitegrid\", rc=custom_params, palette=\"pastel\")\n",
    "\n",
    "plt.plot(mergedCumulativeConversions['date'], mergedCumulativeConversions['conversionB'] /\n",
    "         mergedCumulativeConversions['conversionA']-1, color='darkblue', linestyle='-', linewidth=3.0)\n",
    "\n",
    "# Plot formatting\n",
    "plt.title(\"Относительный прирост количества заказов \\nгруппы B относительно группы A\", fontsize=16)\n",
    "plt.axhline(y=0, color='black', linestyle='--')\n",
    "plt.axhline(y=0.15, color='grey', linestyle=':')\n",
    "plt.xlabel('Дата', fontsize=14)\n",
    "plt.ylabel('Отношение кумулятивного количества заказов', fontsize=14)\n",
    "plt.xticks(['2019-08-01', '2019-08-08',\n",
    "           '2019-08-16', '2019-08-24', '2019-08-31'])\n",
    "plt.ylim(-0.3, 0.4)\n",
    "plt.show()"
   ]
  },
  {
   "cell_type": "markdown",
   "id": "ffce94de",
   "metadata": {},
   "source": [
    "Имея на начальном этапе минимальные отрицательные различия группа B начиная со второй недели показывает свое преимущество в тесте. Видно стабильное превосходство (порядка 15%) этой тестовой группы."
   ]
  },
  {
   "cell_type": "markdown",
   "id": "bbe5db2c",
   "metadata": {},
   "source": [
    "### Точечный график количества заказов по пользователям."
   ]
  },
  {
   "cell_type": "markdown",
   "id": "499caf28",
   "metadata": {},
   "source": [
    "Введем новую таблицу - каждому уникальному пользователю сопоставим его количество заказов"
   ]
  },
  {
   "cell_type": "code",
   "execution_count": 33,
   "id": "21cdbae2",
   "metadata": {},
   "outputs": [
    {
     "data": {
      "text/html": [
       "<div>\n",
       "<style scoped>\n",
       "    .dataframe tbody tr th:only-of-type {\n",
       "        vertical-align: middle;\n",
       "    }\n",
       "\n",
       "    .dataframe tbody tr th {\n",
       "        vertical-align: top;\n",
       "    }\n",
       "\n",
       "    .dataframe thead th {\n",
       "        text-align: right;\n",
       "    }\n",
       "</style>\n",
       "<table border=\"1\" class=\"dataframe\">\n",
       "  <thead>\n",
       "    <tr style=\"text-align: right;\">\n",
       "      <th></th>\n",
       "      <th>userId</th>\n",
       "      <th>orders</th>\n",
       "    </tr>\n",
       "  </thead>\n",
       "  <tbody>\n",
       "    <tr>\n",
       "      <th>0</th>\n",
       "      <td>5114589</td>\n",
       "      <td>1</td>\n",
       "    </tr>\n",
       "    <tr>\n",
       "      <th>1</th>\n",
       "      <td>6958315</td>\n",
       "      <td>1</td>\n",
       "    </tr>\n",
       "    <tr>\n",
       "      <th>2</th>\n",
       "      <td>8300375</td>\n",
       "      <td>2</td>\n",
       "    </tr>\n",
       "    <tr>\n",
       "      <th>3</th>\n",
       "      <td>11685486</td>\n",
       "      <td>1</td>\n",
       "    </tr>\n",
       "    <tr>\n",
       "      <th>4</th>\n",
       "      <td>39475350</td>\n",
       "      <td>1</td>\n",
       "    </tr>\n",
       "    <tr>\n",
       "      <th>...</th>\n",
       "      <td>...</td>\n",
       "      <td>...</td>\n",
       "    </tr>\n",
       "    <tr>\n",
       "      <th>1026</th>\n",
       "      <td>4266935830</td>\n",
       "      <td>2</td>\n",
       "    </tr>\n",
       "    <tr>\n",
       "      <th>1027</th>\n",
       "      <td>4278982564</td>\n",
       "      <td>1</td>\n",
       "    </tr>\n",
       "    <tr>\n",
       "      <th>1028</th>\n",
       "      <td>4279090005</td>\n",
       "      <td>1</td>\n",
       "    </tr>\n",
       "    <tr>\n",
       "      <th>1029</th>\n",
       "      <td>4281247801</td>\n",
       "      <td>1</td>\n",
       "    </tr>\n",
       "    <tr>\n",
       "      <th>1030</th>\n",
       "      <td>4283872382</td>\n",
       "      <td>1</td>\n",
       "    </tr>\n",
       "  </tbody>\n",
       "</table>\n",
       "<p>1031 rows × 2 columns</p>\n",
       "</div>"
      ],
      "text/plain": [
       "          userId  orders\n",
       "0        5114589       1\n",
       "1        6958315       1\n",
       "2        8300375       2\n",
       "3       11685486       1\n",
       "4       39475350       1\n",
       "...          ...     ...\n",
       "1026  4266935830       2\n",
       "1027  4278982564       1\n",
       "1028  4279090005       1\n",
       "1029  4281247801       1\n",
       "1030  4283872382       1\n",
       "\n",
       "[1031 rows x 2 columns]"
      ]
     },
     "execution_count": 33,
     "metadata": {},
     "output_type": "execute_result"
    }
   ],
   "source": [
    "# датафрейм с количеством заказов по пользователям\n",
    "ordersByUsers = (\n",
    "    orders.groupby('visitorId', as_index=False)\n",
    "    .agg({'transactionId': 'nunique'})\n",
    ")\n",
    "\n",
    "ordersByUsers.columns = ['userId', 'orders']\n",
    "ordersByUsers"
   ]
  },
  {
   "cell_type": "code",
   "execution_count": 34,
   "id": "2da47f10",
   "metadata": {},
   "outputs": [
    {
     "data": {
      "text/html": [
       "<div>\n",
       "<style scoped>\n",
       "    .dataframe tbody tr th:only-of-type {\n",
       "        vertical-align: middle;\n",
       "    }\n",
       "\n",
       "    .dataframe tbody tr th {\n",
       "        vertical-align: top;\n",
       "    }\n",
       "\n",
       "    .dataframe thead th {\n",
       "        text-align: right;\n",
       "    }\n",
       "</style>\n",
       "<table border=\"1\" class=\"dataframe\">\n",
       "  <thead>\n",
       "    <tr style=\"text-align: right;\">\n",
       "      <th></th>\n",
       "      <th>userId</th>\n",
       "      <th>orders</th>\n",
       "    </tr>\n",
       "  </thead>\n",
       "  <tbody>\n",
       "    <tr>\n",
       "      <th>count</th>\n",
       "      <td>1,031.00</td>\n",
       "      <td>1,031.00</td>\n",
       "    </tr>\n",
       "    <tr>\n",
       "      <th>mean</th>\n",
       "      <td>2,130,713,285.94</td>\n",
       "      <td>1.16</td>\n",
       "    </tr>\n",
       "    <tr>\n",
       "      <th>std</th>\n",
       "      <td>1,228,157,182.15</td>\n",
       "      <td>0.72</td>\n",
       "    </tr>\n",
       "    <tr>\n",
       "      <th>min</th>\n",
       "      <td>5,114,589.00</td>\n",
       "      <td>1.00</td>\n",
       "    </tr>\n",
       "    <tr>\n",
       "      <th>25%</th>\n",
       "      <td>1,048,013,147.00</td>\n",
       "      <td>1.00</td>\n",
       "    </tr>\n",
       "    <tr>\n",
       "      <th>50%</th>\n",
       "      <td>2,147,998,719.00</td>\n",
       "      <td>1.00</td>\n",
       "    </tr>\n",
       "    <tr>\n",
       "      <th>75%</th>\n",
       "      <td>3,154,896,968.50</td>\n",
       "      <td>1.00</td>\n",
       "    </tr>\n",
       "    <tr>\n",
       "      <th>max</th>\n",
       "      <td>4,283,872,382.00</td>\n",
       "      <td>11.00</td>\n",
       "    </tr>\n",
       "  </tbody>\n",
       "</table>\n",
       "</div>"
      ],
      "text/plain": [
       "                userId   orders\n",
       "count         1,031.00 1,031.00\n",
       "mean  2,130,713,285.94     1.16\n",
       "std   1,228,157,182.15     0.72\n",
       "min       5,114,589.00     1.00\n",
       "25%   1,048,013,147.00     1.00\n",
       "50%   2,147,998,719.00     1.00\n",
       "75%   3,154,896,968.50     1.00\n",
       "max   4,283,872,382.00    11.00"
      ]
     },
     "execution_count": 34,
     "metadata": {},
     "output_type": "execute_result"
    }
   ],
   "source": [
    "ordersByUsers.describe()"
   ]
  },
  {
   "cell_type": "markdown",
   "id": "7e3be83c",
   "metadata": {},
   "source": [
    "Оценим распределение стоимости заказов графическим способом"
   ]
  },
  {
   "cell_type": "code",
   "execution_count": 35,
   "id": "f8a50a3e",
   "metadata": {},
   "outputs": [
    {
     "data": {
      "image/png": "[encoded data removed]",
      "text/plain": [
       "<Figure size 1080x576 with 1 Axes>"
      ]
     },
     "metadata": {},
     "output_type": "display_data"
    }
   ],
   "source": [
    "# строим распределение количества заказов\n",
    "x_values = pd.Series(range(0, len(ordersByUsers)))\n",
    "plt.figure(figsize=(15, 8))\n",
    "plt.scatter(x_values, ordersByUsers['orders'])\n",
    "# Plot formatting\n",
    "plt.title(\"График распределения количества заказов \", fontsize=16)\n",
    "plt.xlabel('Пользователи', fontsize=14)\n",
    "plt.ylabel('Количество заказов ', fontsize=14)\n",
    "plt.show()"
   ]
  },
  {
   "cell_type": "markdown",
   "id": "a8cf040f",
   "metadata": {},
   "source": [
    "Предварительные выводы: основная масса пользователей с 1-2 заказами. Но точная доля с большим количеством заказов пока не ясна, и не мы не можем однозначно сказать считать их аномалиями или нет. "
   ]
  },
  {
   "cell_type": "markdown",
   "id": "f22807e7",
   "metadata": {},
   "source": [
    "### 95-й и 99-й перцентили количества заказов на пользователя. "
   ]
  },
  {
   "cell_type": "markdown",
   "id": "2cb54b29",
   "metadata": {},
   "source": [
    "Принято отсеивать от 1% до 5% наблюдений с крайними значениями. "
   ]
  },
  {
   "cell_type": "code",
   "execution_count": 36,
   "id": "2f67794d",
   "metadata": {},
   "outputs": [
    {
     "data": {
      "text/plain": [
       "array([2., 4.])"
      ]
     },
     "execution_count": 36,
     "metadata": {},
     "output_type": "execute_result"
    }
   ],
   "source": [
    "# считаем перцентили\n",
    "np.percentile(ordersByUsers['orders'], [95, 99])"
   ]
  },
  {
   "cell_type": "markdown",
   "id": "876fa05a",
   "metadata": {},
   "source": [
    "95% заказчиков осуществляют до 2х заказов Выберем границу для определения аномальных пользователей всех тех кто входит в оставшиеся 5%."
   ]
  },
  {
   "cell_type": "markdown",
   "id": "eddd638c",
   "metadata": {},
   "source": [
    "### Точечный график стоимостей заказов."
   ]
  },
  {
   "cell_type": "markdown",
   "id": "4b6f249c",
   "metadata": {},
   "source": [
    "Посмотрим на распределение заказов по их стоимости "
   ]
  },
  {
   "cell_type": "code",
   "execution_count": 37,
   "id": "9a638470",
   "metadata": {},
   "outputs": [
    {
     "data": {
      "image/png": "[encoded data removed]",
      "text/plain": [
       "<Figure size 1080x576 with 1 Axes>"
      ]
     },
     "metadata": {},
     "output_type": "display_data"
    }
   ],
   "source": [
    "# строим распределение стоимости заказов\n",
    "# строим распределение количества заказов\n",
    "x_values = pd.Series(range(0, len(orders['revenue'])))\n",
    "\n",
    "plt.figure(figsize=(15, 8))\n",
    "plt.scatter(x_values, orders['revenue'])\n",
    "# Plot formatting\n",
    "plt.title(\"График распределение стоимости заказов  \", fontsize=16)\n",
    "plt.xlabel('Пользователи', fontsize=14)\n",
    "plt.ylabel('Стоимость заказов ', fontsize=14)\n",
    "plt.show()"
   ]
  },
  {
   "cell_type": "markdown",
   "id": "36968954",
   "metadata": {},
   "source": [
    "Изменим масштаб и построим график без учёта выбросов для большей информативности по основной массе заказов"
   ]
  },
  {
   "cell_type": "code",
   "execution_count": 38,
   "id": "82f389fb",
   "metadata": {},
   "outputs": [
    {
     "data": {
      "image/png": "[encoded data removed]",
      "text/plain": [
       "<Figure size 1080x576 with 1 Axes>"
      ]
     },
     "metadata": {},
     "output_type": "display_data"
    }
   ],
   "source": [
    "# строим распределение количества заказов\n",
    "x_values = pd.Series(range(0, len(orders['revenue'])))\n",
    "\n",
    "plt.figure(figsize=(15, 8))\n",
    "plt.scatter(x_values, orders['revenue'])\n",
    "# Plot formatting\n",
    "plt.title(\"График распределение стоимости заказов  \", fontsize=16)\n",
    "plt.xlabel('Пользователи', fontsize=14)\n",
    "plt.ylabel('Стоимость заказов ', fontsize=14)\n",
    "plt.ylim(-0, 0.12*10**6)\n",
    "plt.show()"
   ]
  },
  {
   "cell_type": "markdown",
   "id": "2883d0d3",
   "metadata": {},
   "source": [
    "Всё, как предполагали: есть немного дорогих заказов. По графику можно выбрать границу аномальных заказов от 20 000."
   ]
  },
  {
   "cell_type": "markdown",
   "id": "687c5475",
   "metadata": {},
   "source": [
    "### 95-й и 99-й перцентили стоимости заказов."
   ]
  },
  {
   "cell_type": "markdown",
   "id": "5d746906",
   "metadata": {},
   "source": [
    "Так же отсеим анамальные знfчения \"не на глазок\", а по статистическим данным."
   ]
  },
  {
   "cell_type": "code",
   "execution_count": 39,
   "id": "1849d12c",
   "metadata": {},
   "outputs": [
    {
     "data": {
      "text/plain": [
       "array([28000. , 58233.2])"
      ]
     },
     "execution_count": 39,
     "metadata": {},
     "output_type": "execute_result"
    }
   ],
   "source": [
    "# считаем перцентили\n",
    "np.percentile(orders['revenue'], [95, 99])"
   ]
  },
  {
   "cell_type": "markdown",
   "id": "829f0d6f",
   "metadata": {},
   "source": [
    "95% заказчиков осуществляют заказы на сумму до 28000. Так же определим границу для аномальных значений как оставшиеся 5%."
   ]
  },
  {
   "cell_type": "markdown",
   "id": "1f243153",
   "metadata": {},
   "source": [
    "### Статистическая значимость различий в среднем количестве заказов на посетителя между группами по «сырым» данным."
   ]
  },
  {
   "cell_type": "markdown",
   "id": "e1fa477a",
   "metadata": {},
   "source": [
    "Для наших данных подойдет тест, основанный на структурном подходе, или непараметрический тест Уилкоксона-Манна-Уитни. Подготовим данные."
   ]
  },
  {
   "cell_type": "code",
   "execution_count": 40,
   "id": "b2eb60d6",
   "metadata": {},
   "outputs": [],
   "source": [
    "# Количество пользователей в выбранную дату в каждой группе\n",
    "visitorsADaily = visitors[visitors['group'] == 'A'][['date', 'visitors']]\n",
    "visitorsADaily.columns = ['date', 'visitorsPerDateA']\n",
    "\n",
    "visitorsBDaily = visitors[visitors['group'] == 'B'][['date', 'visitors']]\n",
    "visitorsBDaily.columns = ['date', 'visitorsPerDateB']\n",
    "\n",
    "# количество пользователей до выбранной даты включительно в каждой группе\n",
    "visitorsACummulative = visitorsADaily.apply(\n",
    "    lambda x: visitorsADaily[visitorsADaily['date'] <= x['date']].agg(\n",
    "        {'date': 'max', 'visitorsPerDateA': 'sum'}\n",
    "    ),\n",
    "    axis=1,\n",
    ")\n",
    "visitorsACummulative.columns = ['date', 'visitorsCummulativeA']\n",
    "\n",
    "\n",
    "visitorsBCummulative = visitorsBDaily.apply(\n",
    "    lambda x: visitorsBDaily[visitorsBDaily['date'] <= x['date']].agg(\n",
    "        {'date': 'max', 'visitorsPerDateB': 'sum'}\n",
    "    ),\n",
    "    axis=1,\n",
    ")\n",
    "visitorsBCummulative.columns = ['date', 'visitorsCummulativeB']\n",
    "\n",
    "# Суммарное число заказов и суммарная выручка до выбранной даты включительно в каждой группе\n",
    "ordersADaily = (\n",
    "    orders[orders['group'] == 'A'][[\n",
    "        'date', 'transactionId', 'visitorId', 'revenue']]\n",
    "    .groupby('date', as_index=False)\n",
    "    .agg({'transactionId': pd.Series.nunique, 'revenue': 'sum'})\n",
    ")\n",
    "ordersADaily.columns = ['date', 'ordersPerDateA', 'revenuePerDateA']\n",
    "\n",
    "ordersBDaily = (\n",
    "    orders[orders['group'] == 'B'][[\n",
    "        'date', 'transactionId', 'visitorId', 'revenue']]\n",
    "    .groupby('date', as_index=False)\n",
    "    .agg({'transactionId': pd.Series.nunique, 'revenue': 'sum'})\n",
    ")\n",
    "ordersBDaily.columns = ['date', 'ordersPerDateB', 'revenuePerDateB']\n",
    "\n",
    "\n",
    "# Суммарное число заказов и суммарная выручка до выбранной даты включительно в каждой группе\n",
    "ordersACummulative = ordersADaily.apply(\n",
    "    lambda x: ordersADaily[ordersADaily['date'] <= x['date']].agg(\n",
    "        {'date': 'max', 'ordersPerDateA': 'sum', 'revenuePerDateA': 'sum'}\n",
    "    ),\n",
    "    axis=1,\n",
    ").sort_values(by=['date'])\n",
    "ordersACummulative.columns = [\n",
    "    'date',\n",
    "    'ordersCummulativeA',\n",
    "    'revenueCummulativeA',\n",
    "]\n",
    "\n",
    "ordersBCummulative = ordersBDaily.apply(\n",
    "    lambda x: ordersBDaily[ordersBDaily['date'] <= x['date']].agg(\n",
    "        {'date': 'max', 'ordersPerDateB': 'sum', 'revenuePerDateB': 'sum'}\n",
    "    ),\n",
    "    axis=1,\n",
    ").sort_values(by=['date'])\n",
    "ordersBCummulative.columns = [\n",
    "    'date',\n",
    "    'ordersCummulativeB',\n",
    "    'revenueCummulativeB',\n",
    "]"
   ]
  },
  {
   "cell_type": "code",
   "execution_count": 41,
   "id": "33fe1a4f",
   "metadata": {},
   "outputs": [],
   "source": [
    "# Число совершённых заказов для пользователей, которые заказывали хотя бы 1 раз, в каждой группе\n",
    "ordersByUsersA = (\n",
    "    orders[orders['group'] == 'A']\n",
    "    .groupby('visitorId', as_index=False)\n",
    "    .agg({'transactionId': pd.Series.nunique})\n",
    ")\n",
    "ordersByUsersA.columns = ['visitorId', 'orders']\n",
    "\n",
    "ordersByUsersB = (\n",
    "    orders[orders['group'] == 'B']\n",
    "    .groupby('visitorId', as_index=False)\n",
    "    .agg({'transactionId': pd.Series.nunique})\n",
    ")\n",
    "ordersByUsersB.columns = ['visitorId', 'orders']"
   ]
  },
  {
   "cell_type": "markdown",
   "id": "69258b44",
   "metadata": {},
   "source": [
    "Сформируем выборки в которых пользователям из разных групп будет соответствовать количество заказов. Тем, кто ничего не заказал, будут соответствовать нули. Это нужно, чтобы подготовить выборки к проверке критерием Манна-Уитни."
   ]
  },
  {
   "cell_type": "code",
   "execution_count": 42,
   "id": "ce8aa045",
   "metadata": {},
   "outputs": [],
   "source": [
    "sampleA = pd.concat([ordersByUsersA['orders'], pd.Series(0, index=np.arange(\n",
    "    visitors[visitors['group'] == 'A']['visitors'].sum() - len(ordersByUsersA['orders'])), name='orders')], axis=0)\n",
    "\n",
    "sampleB = pd.concat([ordersByUsersB['orders'], pd.Series(0, index=np.arange(\n",
    "    visitors[visitors['group'] == 'B']['visitors'].sum() - len(ordersByUsersB['orders'])), name='orders')], axis=0)"
   ]
  },
  {
   "cell_type": "markdown",
   "id": "d046b68d",
   "metadata": {},
   "source": [
    "Сформулируем нулевую гипотезу $\\mathcal{H₀}$ :\n",
    "\n",
    "    - Различий в среднем количестве заказов на посетителя между группами нет.\n",
    "    - Альтернативная гипотеза H₁ - Различия в среднем количестве заказов на посетителя между группами есть."
   ]
  },
  {
   "cell_type": "code",
   "execution_count": 43,
   "id": "586bb956",
   "metadata": {},
   "outputs": [
    {
     "data": {
      "text/plain": [
       "'p-значение:0.017'"
      ]
     },
     "metadata": {},
     "output_type": "display_data"
    },
    {
     "name": "stdout",
     "output_type": "stream",
     "text": [
      "Отвергаем нулевую гипотезу: о том, что статистически значимых различий в количестве заказов между группами нет\n"
     ]
    },
    {
     "data": {
      "text/plain": [
       "'Относительный прирост количества заказов группы B : 13.8 %'"
      ]
     },
     "metadata": {},
     "output_type": "display_data"
    }
   ],
   "source": [
    "# проводим тест\n",
    "p_value = st.mannwhitneyu(sampleA, sampleB)[1]\n",
    "display(\"p-значение:{0:.3f}\".format(p_value))\n",
    "\n",
    "if p_value < 0.05:\n",
    "    print('Отвергаем нулевую гипотезу: о том, что статистически значимых различий в количестве заказов между группами нет')\n",
    "else:\n",
    "    print(\n",
    "        'Не получилось отвергнуть нулевую гипотезу,  о том, что статистически значимых различий в количестве заказов между группами нет'\n",
    "    )\n",
    "\n",
    "display(\"Относительный прирост количества заказов группы B : {0:.1f} %\".format(\n",
    "    (sampleB.mean() / sampleA.mean() - 1)*100))"
   ]
  },
  {
   "cell_type": "markdown",
   "id": "dd41ab5a",
   "metadata": {},
   "source": [
    "Предварительно по \"сырым данным\" всех пользователей магазина можем сделать вывод что есть статистические значимые различия количества заказов между рассматриваемыми группами. Оносительный прирост по расчетам совпадает с графиком."
   ]
  },
  {
   "cell_type": "markdown",
   "id": "c0c4b394",
   "metadata": {},
   "source": [
    "### Статистическая значимость различий в среднем чеке заказа между группами по «сырым» данным. "
   ]
  },
  {
   "cell_type": "markdown",
   "id": "8617753c",
   "metadata": {},
   "source": [
    "Чтобы рассчитать статистическую значимость различий в среднем чеке, передадим тесту данные о выручке с заказов. "
   ]
  },
  {
   "cell_type": "markdown",
   "id": "1904210d",
   "metadata": {},
   "source": [
    "Сформулируем нулевую гипотезу $\\mathcal{H₀}$ :\n",
    "\n",
    "    - Различий в среднем чеке заказа между группами нет.\n",
    "    - Альтернативная гипотеза H₁ - Различия в среднем среднем чеке заказа между группами есть."
   ]
  },
  {
   "cell_type": "code",
   "execution_count": 44,
   "id": "696def72",
   "metadata": {},
   "outputs": [
    {
     "data": {
      "text/plain": [
       "'p-значение:0.729'"
      ]
     },
     "metadata": {},
     "output_type": "display_data"
    },
    {
     "name": "stdout",
     "output_type": "stream",
     "text": [
      "Не получилось отвергнуть нулевую гипотезу,  о том, что статистически значимых \n",
      "различий в среднем чеке заказа между группами нет\n"
     ]
    },
    {
     "data": {
      "text/plain": [
       "'Относительная разница среднего чека группы B к среднему чеку группы А : 25.9 %'"
      ]
     },
     "metadata": {},
     "output_type": "display_data"
    }
   ],
   "source": [
    "# проводим тест\n",
    "results = st.mannwhitneyu(orders[orders['group'] == 'A']\n",
    "                          ['revenue'], orders[orders['group'] == 'B']['revenue'])[1]\n",
    "display(\"p-значение:{0:.3f}\".format(results))\n",
    "\n",
    "if results < 0.05:\n",
    "    print('Отвергаем нулевую гипотезу: о том, что статистически значимых различий в среднем чеке заказа между группами нет')\n",
    "else:\n",
    "    print('Не получилось отвергнуть нулевую гипотезу,  о том, что статистически значимых \\nразличий в среднем чеке заказа между группами нет')\n",
    "\n",
    "display(\"Относительная разница среднего чека группы B к среднему чеку группы А : {0:.1f} %\".format(\n",
    "    (orders[orders['group'] == 'B']['revenue'].mean()/orders[orders['group'] == 'A']['revenue'].mean()-1)*100))"
   ]
  },
  {
   "cell_type": "markdown",
   "id": "a632eb06",
   "metadata": {},
   "source": [
    "P-value значительно больше 0.05. Значит, причин отвергать нулевую гипотезу и считать, что в среднем чеке есть различия, нет. В то же время средний чек группы B значительно выше среднего чека группы A (на 25.9%). Возможно что мы случайно в этом месяце получили такие значения."
   ]
  },
  {
   "cell_type": "markdown",
   "id": "ca8854a9",
   "metadata": {},
   "source": [
    "### Статистическая значимость различий в среднем количестве заказов на посетителя между группами по «очищенным» данным. "
   ]
  },
  {
   "cell_type": "markdown",
   "id": "b59849f0",
   "metadata": {},
   "source": [
    "Мы определили аномальных пользователей тех, кто совершил больше 2 заказов или совершил заказ дороже 28 000 рублей. Уберём 5% пользователей с наибольшим числом заказов и пользователей с дорогими заказами. \n",
    "Сделаем срезы пользователей и объединим их в таблице abnormalUsers"
   ]
  },
  {
   "cell_type": "code",
   "execution_count": 45,
   "id": "0e7fa44a",
   "metadata": {},
   "outputs": [
    {
     "data": {
      "text/plain": [
       "74"
      ]
     },
     "execution_count": 45,
     "metadata": {},
     "output_type": "execute_result"
    }
   ],
   "source": [
    "# делаем срезы\n",
    "usersWithManyOrders = pd.concat(\n",
    "    [\n",
    "        ordersByUsersA[ordersByUsersA['orders'] > np.percentile(\n",
    "            ordersByUsers['orders'], [95])[0]]['visitorId'],\n",
    "        ordersByUsersB[ordersByUsersB['orders'] > np.percentile(\n",
    "            ordersByUsers['orders'], [95])[0]]['visitorId'],\n",
    "    ],\n",
    "    axis=0,\n",
    ")\n",
    "usersWithExpensiveOrders = orders[orders['revenue'] > np.percentile(\n",
    "    orders['revenue'], [95])[0]]['visitorId']\n",
    "# формируем таблицу\n",
    "abnormalUsers = (\n",
    "    pd.concat([usersWithManyOrders, usersWithExpensiveOrders], axis=0)\n",
    "    .drop_duplicates()\n",
    "    .sort_values()\n",
    ")\n",
    "len(abnormalUsers)"
   ]
  },
  {
   "cell_type": "markdown",
   "id": "7ce84765",
   "metadata": {},
   "source": [
    "Таких пользователей - 74. Узнаем, как их действия повлияли на результаты теста. Посчитаем статистическую значимость различий в среднем количестве заказов между группами теста по очищенным данным. Сначала подготовим выборки количества заказов по пользователям по группам теста."
   ]
  },
  {
   "cell_type": "code",
   "execution_count": 46,
   "id": "8b4c255b",
   "metadata": {},
   "outputs": [],
   "source": [
    "# формируем выборки из групп\n",
    "sampleAFiltered = pd.concat(\n",
    "    [\n",
    "        ordersByUsersA[\n",
    "            np.logical_not(ordersByUsersA['visitorId'].isin(abnormalUsers))\n",
    "        ]['orders'],\n",
    "        pd.Series(\n",
    "            0,\n",
    "            index=np.arange(\n",
    "                visitors[visitors['group'] == 'A']['visitors'].sum() -\n",
    "                len(ordersByUsersA['orders'])\n",
    "            ),\n",
    "            name='orders',\n",
    "        ),\n",
    "    ],\n",
    "    axis=0,\n",
    ")\n",
    "\n",
    "sampleBFiltered = pd.concat(\n",
    "    [\n",
    "        ordersByUsersB[\n",
    "            np.logical_not(ordersByUsersB['visitorId'].isin(abnormalUsers))\n",
    "        ]['orders'],\n",
    "        pd.Series(\n",
    "            0,\n",
    "            index=np.arange(\n",
    "                visitors[visitors['group'] == 'B']['visitors'].sum() -\n",
    "                len(ordersByUsersB['orders'])\n",
    "            ),\n",
    "            name='orders',\n",
    "        ),\n",
    "    ],\n",
    "    axis=0,\n",
    ")"
   ]
  },
  {
   "cell_type": "markdown",
   "id": "8ed0b2e7",
   "metadata": {},
   "source": [
    "Повторим нашу нулевую гипотезу $\\mathcal{H₀}$ для очищенных данных:\n",
    "\n",
    "    - Различий в среднем количестве заказов на посетителя между группами нет.\n",
    "    - Альтернативная гипотеза H₁ - Различия в среднем количестве заказов на посетителя между группами есть."
   ]
  },
  {
   "cell_type": "code",
   "execution_count": 47,
   "id": "e6b79b25",
   "metadata": {},
   "outputs": [
    {
     "data": {
      "text/plain": [
       "'p-значение:0.013'"
      ]
     },
     "metadata": {},
     "output_type": "display_data"
    },
    {
     "name": "stdout",
     "output_type": "stream",
     "text": [
      "Отвергаем нулевую гипотезу: о том, что статистически значимых различий в количестве заказов между группами нет\n"
     ]
    },
    {
     "data": {
      "text/plain": [
       "'Относительный прирост количества заказов группы B : 17.3 %'"
      ]
     },
     "metadata": {},
     "output_type": "display_data"
    }
   ],
   "source": [
    "# проводим тест\n",
    "p_value_1 = st.mannwhitneyu(sampleAFiltered, sampleBFiltered)[1]\n",
    "display(\"p-значение:{0:.3f}\".format(p_value_1))\n",
    "\n",
    "if p_value_1 < 0.05:\n",
    "    print('Отвергаем нулевую гипотезу: о том, что статистически значимых различий в количестве заказов между группами нет')\n",
    "else:\n",
    "    print(\n",
    "        'Не получилось отвергнуть нулевую гипотезу,  о том, что статистически значимых различий в количестве заказов между группами нет'\n",
    "    )\n",
    "\n",
    "display(\"Относительный прирост количества заказов группы B : {0:.1f} %\".format((\n",
    "    sampleBFiltered.mean()/sampleAFiltered.mean()-1)*100))"
   ]
  },
  {
   "cell_type": "markdown",
   "id": "c18675c0",
   "metadata": {},
   "source": [
    "Результаты по среднему количеству заказов практически не изменились. После \"очистки\" всех пользователей магазина по-прежнему фиксируем статистические значимые различия количества заказов между рассматриваемыми группами. \n",
    "\n",
    "p-значение (или вероятность получить такие же или ещё более выраженные значения для подтвеждения нашей гипотезы) изменились крайне не значительно (с 0.017 до 0.013 или всего на 0.4%), а относительный прирост количества заказов группы B  вырос с 13,8% до  17.3 % (изменение на 3.5%)\n",
    "\n",
    "Оносительный прирост по новым расчетам остается в диапазоне указанному на графике.\n"
   ]
  },
  {
   "cell_type": "markdown",
   "id": "626365b6",
   "metadata": {},
   "source": [
    "### Статистическая значимость различий в среднем чеке заказа между группами по «очищенным» данным."
   ]
  },
  {
   "cell_type": "markdown",
   "id": "089f1cd5",
   "metadata": {},
   "source": [
    "Повторим гипотезу $\\mathcal{H₀}$ для среднего чека по очищенным данным:\n",
    "\n",
    "    - Различий в среднем чеке заказа между группами нет.\n",
    "    - Альтернативная гипотеза H₁ - Различия в среднем чеке заказа между группами есть."
   ]
  },
  {
   "cell_type": "code",
   "execution_count": 48,
   "id": "a861dadb",
   "metadata": {},
   "outputs": [
    {
     "data": {
      "text/plain": [
       "'p-значение:0.738'"
      ]
     },
     "metadata": {},
     "output_type": "display_data"
    },
    {
     "name": "stdout",
     "output_type": "stream",
     "text": [
      "Не получилось отвергнуть нулевую гипотезу,  о том, что статистически значимых \n",
      "различий в среднем чеке заказа между группами нет\n"
     ]
    },
    {
     "data": {
      "text/plain": [
       "'Относительная разница среднего чека группы B к среднему чеку группы А: -2.0 %'"
      ]
     },
     "metadata": {},
     "output_type": "display_data"
    }
   ],
   "source": [
    "# проводим тест\n",
    "results_1 = st.mannwhitneyu(\n",
    "    orders[\n",
    "        np.logical_and(\n",
    "            orders['group'] == 'A',\n",
    "            np.logical_not(orders['visitorId'].isin(abnormalUsers)),\n",
    "        )\n",
    "    ]['revenue'],\n",
    "    orders[\n",
    "        np.logical_and(\n",
    "            orders['group'] == 'B',\n",
    "            np.logical_not(orders['visitorId'].isin(abnormalUsers)),\n",
    "        )\n",
    "    ]['revenue'],\n",
    ")[1]\n",
    "display(\"p-значение:{0:.3f}\".format(results_1))\n",
    "\n",
    "if results_1 < 0.05:\n",
    "    print('Отвергаем нулевую гипотезу: о том, что статистически значимых различий в среднем чеке заказа между группами нет')\n",
    "else:\n",
    "    print('Не получилось отвергнуть нулевую гипотезу,  о том, что статистически значимых \\nразличий в среднем чеке заказа между группами нет')\n",
    "\n",
    "display(\"Относительная разница среднего чека группы B к среднему чеку группы А: {0:.1f} %\".format(\n",
    "        (orders[\n",
    "            np.logical_and(\n",
    "                orders['group'] == 'B',\n",
    "                np.logical_not(orders['visitorId'].isin(abnormalUsers)),\n",
    "            )\n",
    "        ]['revenue'].mean()\n",
    "            / orders[\n",
    "            np.logical_and(\n",
    "                orders['group'] == 'A',\n",
    "                np.logical_not(orders['visitorId'].isin(abnormalUsers)),\n",
    "            )\n",
    "        ]['revenue'].mean()\n",
    "            - 1\n",
    "        )*100)\n",
    "        )"
   ]
  },
  {
   "cell_type": "markdown",
   "id": "867fa054",
   "metadata": {},
   "source": [
    "P-value по-прежнему значительно больше 0.05. И у нас не появилось причин отвергать нулевую гипотезу и считать, что в среднем чеке есть различия. А вот средний чек группы B значительно снизился, он даже стал меньше среднего чека группы A. Наше предположение что самые дорогие заказы были в группе В получили ещё одно подтверждение (все, или почти выбросы по стоимости заказов были именно в групе В). Но при этом надо помнить что наши исходные данные по группам далеки от идеальных."
   ]
  },
  {
   "cell_type": "markdown",
   "id": "d75e10e5",
   "metadata": {},
   "source": [
    "### Решение по результатам теста.\n",
    "- Есть статистически значимые различия по среднему количеству заказов между группами и по «сырым», и по данным после фильтрации аномалий;\n",
    "- График различия среднего количества заказов между группами сообщает, что результаты группы B лучше группы A ~ 15%;\n",
    "- Нет статистически значимого различия по среднему чеку между группами ни по «сырым», ни по данным после фильтрации аномалий;\n",
    "- График среднего чека по группам показывает превосходство группы В.Есть влияние выбросов\n",
    "- Подсчет отношения средних значений по «сырым», и по \"очищенным\" данным меняется достаточно сильно.     \n",
    "    \n",
    "    \n",
    "- Остановить тест, зафиксировать победу группы В.\n",
    "    "
   ]
  },
  {
   "cell_type": "markdown",
   "id": "3ca7b9a2",
   "metadata": {},
   "source": [
    "## Выводы"
   ]
  },
  {
   "cell_type": "markdown",
   "id": "86956cbc",
   "metadata": {},
   "source": [
    "Проанализированы полученные данные по итогам месяца работы интерне-магазина  \n",
    "Исходная информация подготовлена для тщательного анализа\n",
    "\n",
    "В ходе анализа проведена следующая работа:\n",
    "\n",
    "    Выполнено преобразование типов данных со значениями дат\n",
    "    Скорректированы названия столбцов в датасете\n",
    "    Выявлены некорректные значения в распределении по группам: неравномерность и \"чистота\" групп. \n",
    "\n",
    "Определено и представлено в табличном виде:\n",
    "\n",
    "    Приоритизированны гипотезы по фрейворку ICE\n",
    "    Приоритизированны гипотезы по фрейворку RICE\n",
    "    По итогам опредлены три наиболее качественные гипотезы для достижения увеличения выручки.\n",
    "    Проведено А/В тестирование \n",
    "    95-й и 99-й перцентили количества заказов на пользователя.\n",
    "    95-й и 99-й перцентили стоимости заказов.\n",
    "\n",
    "Определено и представлено в графическом виде:    \n",
    "\n",
    "    Кумулятивная выручка по группам.\n",
    "    Кумулятивный средний чека по группам.\n",
    "    Относительное изменение кумулятивного среднего чека группы B к группе A. \n",
    "    Кумулятивное среднее количества заказов на посетителя по группам. \n",
    "    Относительного изменение кумулятивного среднего количества заказов на посетителя группы B к группе A. \n",
    "    Распределение количества заказов по пользователям.\n",
    "    Распредление стоимости заказов.\n",
    "\n",
    "\n",
    "На основании непараметрического теста Уилкоксона-Манна-Уитни определены\n",
    "\n",
    "    Статистическая значимость различий в среднем количестве заказов на посетителя между группами по «сырым» данным. \n",
    "    Статистическую значимость различий в среднем чеке заказа между группами по «сырым» данным. \n",
    "    Статистическую значимость различий в среднем количестве заказов на посетителя между группами по «очищенным» данным. \n",
    "    Статистическую значимость различий в среднем чеке заказа между группами по «очищенным» данным. \n",
    "        \n",
    "Итог анализа гипотез:\n",
    "- Самой приоритетной выделить гипотезу увеличения выручки: \"Добавить форму подписки на все основные страницы, чтобы собрать базу клиентов для email-рассылок\n",
    "- При возможности использования ресурсов добавить в разработку гипотезу: \"Добавить блоки рекомендаций товаров на сайт интернет магазина, чтобы повысить конверсию и средний чек заказа\"\n",
    "- Провести первичный маркетинговый анализ гипотезы: \"Добавить два новых канала привлечения трафика, что позволит привлекать на 30% больше пользователей\".\n",
    "\n",
    "Итог проведения А/В теста:\n",
    "- Выручка равномерно увеличивается в течение всего теста для обеих групп.\n",
    "- Средний чек обеих групп так же варьируется в узком дипазоне с постепенным ростом. \n",
    "- Количество заказов группы B по итогу рассматриваемого периода стабильно выше количества заказов в группе А.\n",
    "- Оносительный прирост количества заказов в группе В стабилизировался на уровне около +15% к группе А\n",
    "- 95% заказчиков осуществляют до 2х заказов/ на сумму до 28000\n",
    "- Есть статистически значимые различия по среднему количеству заказов между группами\n",
    "- Нет статистически значимого различия по среднему чеку между группами\n",
    "- Отношение средних значений по «сырым», и по \"очищенным\" данным меняется достаточно сильно.Но даже после очистки данных от выбросов средний чек группы В не уступает серденму чеку группы А. \n",
    "- Отрицательное отношение среднего чека группы В к серденму чеку группы А (сумма среднего чека ниже)после очистки данных от выбровсов говорит о наличии одного или нескольких самых дорогих заказов именно в группе В\n",
    "- В тесте зафиксирована победа группы В"
   ]
  },
  {
   "cell_type": "markdown",
   "id": "94d7b606",
   "metadata": {},
   "source": [
    "## Рекомендации"
   ]
  },
  {
   "cell_type": "markdown",
   "id": "936baaa1",
   "metadata": {},
   "source": [
    "1. Аккуратней подходить к формированию групп тестирования. Группы должны быть равноценны по количеству. в группах не должно быть пересечений участников. \n",
    "2. По возможности проведить А/А тест для опредления групп.\n",
    "3. По итогам теста провести низкозатратное исследование (например анкетирование) группы В  для исключения ошибки результатов А/В тестирования."
   ]
  }
 ],
 "metadata": {
  "ExecuteTimeLog": [
   {
    "duration": 1116,
    "start_time": "2023-01-13T15:30:41.062Z"
   },
   {
    "duration": 72,
    "start_time": "2023-01-13T15:30:42.180Z"
   },
   {
    "duration": 9,
    "start_time": "2023-01-13T15:30:42.254Z"
   },
   {
    "duration": 12,
    "start_time": "2023-01-13T15:30:42.265Z"
   },
   {
    "duration": 94,
    "start_time": "2023-01-13T15:30:42.278Z"
   },
   {
    "duration": 11,
    "start_time": "2023-01-13T15:30:42.374Z"
   },
   {
    "duration": 5,
    "start_time": "2023-01-13T15:30:42.386Z"
   },
   {
    "duration": 8,
    "start_time": "2023-01-13T15:30:42.393Z"
   },
   {
    "duration": 8,
    "start_time": "2023-01-13T15:30:42.402Z"
   },
   {
    "duration": 60,
    "start_time": "2023-01-13T15:30:42.414Z"
   },
   {
    "duration": 10,
    "start_time": "2023-01-13T15:30:42.476Z"
   },
   {
    "duration": 15,
    "start_time": "2023-01-13T15:30:42.488Z"
   },
   {
    "duration": 7,
    "start_time": "2023-01-13T15:30:42.505Z"
   },
   {
    "duration": 9,
    "start_time": "2023-01-13T15:30:42.514Z"
   },
   {
    "duration": 41,
    "start_time": "2023-01-13T15:30:42.525Z"
   },
   {
    "duration": 5,
    "start_time": "2023-01-13T15:30:42.569Z"
   },
   {
    "duration": 7,
    "start_time": "2023-01-13T15:30:42.576Z"
   },
   {
    "duration": 22,
    "start_time": "2023-01-13T15:30:42.585Z"
   },
   {
    "duration": 8,
    "start_time": "2023-01-13T15:30:42.608Z"
   },
   {
    "duration": 39,
    "start_time": "2023-01-13T15:30:42.617Z"
   },
   {
    "duration": 12,
    "start_time": "2023-01-13T15:30:42.658Z"
   },
   {
    "duration": 15,
    "start_time": "2023-01-13T15:30:42.672Z"
   },
   {
    "duration": 10,
    "start_time": "2023-01-13T15:30:42.689Z"
   },
   {
    "duration": 293,
    "start_time": "2023-01-13T15:30:42.701Z"
   },
   {
    "duration": 331,
    "start_time": "2023-01-13T15:30:42.996Z"
   },
   {
    "duration": 236,
    "start_time": "2023-01-13T15:30:43.329Z"
   },
   {
    "duration": 6,
    "start_time": "2023-01-13T15:30:43.566Z"
   },
   {
    "duration": 309,
    "start_time": "2023-01-13T15:30:43.576Z"
   },
   {
    "duration": 260,
    "start_time": "2023-01-13T15:30:43.886Z"
   },
   {
    "duration": 10,
    "start_time": "2023-01-13T15:30:44.148Z"
   },
   {
    "duration": 326,
    "start_time": "2023-01-13T15:30:44.160Z"
   },
   {
    "duration": 13,
    "start_time": "2023-01-13T15:30:44.488Z"
   },
   {
    "duration": 16,
    "start_time": "2023-01-13T15:30:44.502Z"
   },
   {
    "duration": 189,
    "start_time": "2023-01-13T15:30:44.520Z"
   },
   {
    "duration": 5,
    "start_time": "2023-01-13T15:30:44.710Z"
   },
   {
    "duration": 181,
    "start_time": "2023-01-13T15:30:44.717Z"
   },
   {
    "duration": 4,
    "start_time": "2023-01-13T15:30:44.900Z"
   },
   {
    "duration": 316,
    "start_time": "2023-01-13T15:30:44.906Z"
   },
   {
    "duration": 131,
    "start_time": "2023-01-13T15:30:45.224Z"
   },
   {
    "duration": 6,
    "start_time": "2023-01-13T15:30:45.357Z"
   },
   {
    "duration": 32,
    "start_time": "2023-01-13T15:30:45.365Z"
   },
   {
    "duration": 12,
    "start_time": "2023-01-13T15:30:45.399Z"
   },
   {
    "duration": 9,
    "start_time": "2023-01-13T15:30:45.412Z"
   },
   {
    "duration": 36,
    "start_time": "2023-01-13T15:30:45.422Z"
   },
   {
    "duration": 24,
    "start_time": "2023-01-13T15:30:45.460Z"
   },
   {
    "duration": 17,
    "start_time": "2023-01-13T15:30:45.485Z"
   },
   {
    "duration": 5,
    "start_time": "2023-01-13T15:34:51.814Z"
   },
   {
    "duration": 61,
    "start_time": "2023-01-13T15:35:27.030Z"
   },
   {
    "duration": 24,
    "start_time": "2023-01-13T15:35:31.926Z"
   },
   {
    "duration": 15,
    "start_time": "2023-01-13T15:36:25.266Z"
   },
   {
    "duration": 65,
    "start_time": "2023-01-13T15:36:48.358Z"
   },
   {
    "duration": 19,
    "start_time": "2023-01-13T15:36:54.630Z"
   },
   {
    "duration": 25,
    "start_time": "2023-01-13T15:38:33.670Z"
   },
   {
    "duration": 49,
    "start_time": "2023-01-15T14:52:32.976Z"
   },
   {
    "duration": 1112,
    "start_time": "2023-01-15T14:52:38.879Z"
   },
   {
    "duration": 36,
    "start_time": "2023-01-15T14:52:39.993Z"
   },
   {
    "duration": 11,
    "start_time": "2023-01-15T14:52:40.030Z"
   },
   {
    "duration": 9,
    "start_time": "2023-01-15T14:52:40.044Z"
   },
   {
    "duration": 44,
    "start_time": "2023-01-15T14:52:40.054Z"
   },
   {
    "duration": 10,
    "start_time": "2023-01-15T14:52:40.100Z"
   },
   {
    "duration": 6,
    "start_time": "2023-01-15T14:52:40.111Z"
   },
   {
    "duration": 7,
    "start_time": "2023-01-15T14:52:40.118Z"
   },
   {
    "duration": 6,
    "start_time": "2023-01-15T14:52:40.126Z"
   },
   {
    "duration": 20,
    "start_time": "2023-01-15T14:52:40.135Z"
   },
   {
    "duration": 9,
    "start_time": "2023-01-15T14:52:40.157Z"
   },
   {
    "duration": 5,
    "start_time": "2023-01-15T14:52:40.167Z"
   },
   {
    "duration": 5,
    "start_time": "2023-01-15T14:52:40.196Z"
   },
   {
    "duration": 6,
    "start_time": "2023-01-15T14:52:40.203Z"
   },
   {
    "duration": 32,
    "start_time": "2023-01-15T14:52:40.211Z"
   },
   {
    "duration": 5,
    "start_time": "2023-01-15T14:52:40.245Z"
   },
   {
    "duration": 5,
    "start_time": "2023-01-15T14:52:40.252Z"
   },
   {
    "duration": 18,
    "start_time": "2023-01-15T14:52:40.296Z"
   },
   {
    "duration": 5,
    "start_time": "2023-01-15T14:52:40.316Z"
   },
   {
    "duration": 31,
    "start_time": "2023-01-15T14:52:40.322Z"
   },
   {
    "duration": 44,
    "start_time": "2023-01-15T14:52:40.355Z"
   },
   {
    "duration": 16,
    "start_time": "2023-01-15T14:52:40.401Z"
   },
   {
    "duration": 5,
    "start_time": "2023-01-15T14:52:40.418Z"
   },
   {
    "duration": 18,
    "start_time": "2023-01-15T14:52:40.424Z"
   },
   {
    "duration": 9,
    "start_time": "2023-01-15T14:52:40.443Z"
   },
   {
    "duration": 16,
    "start_time": "2023-01-15T14:52:40.453Z"
   },
   {
    "duration": 26,
    "start_time": "2023-01-15T14:52:40.471Z"
   },
   {
    "duration": 21,
    "start_time": "2023-01-15T14:52:40.502Z"
   },
   {
    "duration": 285,
    "start_time": "2023-01-15T14:52:40.525Z"
   },
   {
    "duration": 335,
    "start_time": "2023-01-15T14:52:40.812Z"
   },
   {
    "duration": 256,
    "start_time": "2023-01-15T14:52:41.148Z"
   },
   {
    "duration": 6,
    "start_time": "2023-01-15T14:52:41.406Z"
   },
   {
    "duration": 323,
    "start_time": "2023-01-15T14:52:41.414Z"
   },
   {
    "duration": 267,
    "start_time": "2023-01-15T14:52:41.739Z"
   },
   {
    "duration": 7,
    "start_time": "2023-01-15T14:52:42.007Z"
   },
   {
    "duration": 322,
    "start_time": "2023-01-15T14:52:42.016Z"
   },
   {
    "duration": 12,
    "start_time": "2023-01-15T14:52:42.340Z"
   },
   {
    "duration": 13,
    "start_time": "2023-01-15T14:52:42.354Z"
   },
   {
    "duration": 165,
    "start_time": "2023-01-15T14:52:42.369Z"
   },
   {
    "duration": 191,
    "start_time": "2023-01-15T14:52:42.536Z"
   },
   {
    "duration": 5,
    "start_time": "2023-01-15T14:52:42.728Z"
   },
   {
    "duration": 243,
    "start_time": "2023-01-15T14:52:42.734Z"
   },
   {
    "duration": 205,
    "start_time": "2023-01-15T14:52:42.979Z"
   },
   {
    "duration": 11,
    "start_time": "2023-01-15T14:52:43.186Z"
   },
   {
    "duration": 208,
    "start_time": "2023-01-15T14:52:43.198Z"
   },
   {
    "duration": 138,
    "start_time": "2023-01-15T14:52:43.408Z"
   },
   {
    "duration": 8,
    "start_time": "2023-01-15T14:52:43.547Z"
   },
   {
    "duration": 12,
    "start_time": "2023-01-15T14:52:43.557Z"
   },
   {
    "duration": 23,
    "start_time": "2023-01-15T14:52:43.571Z"
   },
   {
    "duration": 8,
    "start_time": "2023-01-15T14:52:43.596Z"
   },
   {
    "duration": 26,
    "start_time": "2023-01-15T14:52:43.606Z"
   },
   {
    "duration": 17,
    "start_time": "2023-01-15T14:52:43.633Z"
   },
   {
    "duration": 11,
    "start_time": "2023-01-15T14:52:43.652Z"
   },
   {
    "duration": 12,
    "start_time": "2023-01-15T14:52:43.697Z"
   },
   {
    "duration": 15,
    "start_time": "2023-01-15T14:52:43.710Z"
   },
   {
    "duration": 23,
    "start_time": "2023-01-15T14:52:43.726Z"
   },
   {
    "duration": 16,
    "start_time": "2023-01-15T14:52:43.751Z"
   },
   {
    "duration": 129,
    "start_time": "2023-01-15T14:53:10.546Z"
   },
   {
    "duration": 6,
    "start_time": "2023-01-15T14:53:14.004Z"
   },
   {
    "duration": 23,
    "start_time": "2023-01-15T14:53:18.835Z"
   },
   {
    "duration": 49,
    "start_time": "2023-01-15T15:45:20.454Z"
   },
   {
    "duration": 1152,
    "start_time": "2023-01-15T15:45:26.115Z"
   },
   {
    "duration": 69,
    "start_time": "2023-01-15T15:45:27.269Z"
   },
   {
    "duration": 9,
    "start_time": "2023-01-15T15:45:27.340Z"
   },
   {
    "duration": 13,
    "start_time": "2023-01-15T15:45:27.350Z"
   },
   {
    "duration": 93,
    "start_time": "2023-01-15T15:45:27.364Z"
   },
   {
    "duration": 9,
    "start_time": "2023-01-15T15:45:27.459Z"
   },
   {
    "duration": 7,
    "start_time": "2023-01-15T15:45:27.469Z"
   },
   {
    "duration": 8,
    "start_time": "2023-01-15T15:45:27.477Z"
   },
   {
    "duration": 9,
    "start_time": "2023-01-15T15:45:27.486Z"
   },
   {
    "duration": 60,
    "start_time": "2023-01-15T15:45:27.497Z"
   },
   {
    "duration": 8,
    "start_time": "2023-01-15T15:45:27.559Z"
   },
   {
    "duration": 6,
    "start_time": "2023-01-15T15:45:27.569Z"
   },
   {
    "duration": 8,
    "start_time": "2023-01-15T15:45:27.576Z"
   },
   {
    "duration": 5,
    "start_time": "2023-01-15T15:45:27.585Z"
   },
   {
    "duration": 38,
    "start_time": "2023-01-15T15:45:27.591Z"
   },
   {
    "duration": 5,
    "start_time": "2023-01-15T15:45:27.630Z"
   },
   {
    "duration": 8,
    "start_time": "2023-01-15T15:45:27.636Z"
   },
   {
    "duration": 19,
    "start_time": "2023-01-15T15:45:27.645Z"
   },
   {
    "duration": 3,
    "start_time": "2023-01-15T15:45:27.665Z"
   },
   {
    "duration": 38,
    "start_time": "2023-01-15T15:45:27.670Z"
   },
   {
    "duration": 16,
    "start_time": "2023-01-15T15:45:27.709Z"
   },
   {
    "duration": 13,
    "start_time": "2023-01-15T15:45:27.726Z"
   },
   {
    "duration": 6,
    "start_time": "2023-01-15T15:45:27.740Z"
   },
   {
    "duration": 11,
    "start_time": "2023-01-15T15:45:27.748Z"
   },
   {
    "duration": 7,
    "start_time": "2023-01-15T15:45:27.760Z"
   },
   {
    "duration": 9,
    "start_time": "2023-01-15T15:45:27.768Z"
   },
   {
    "duration": 30,
    "start_time": "2023-01-15T15:45:27.778Z"
   },
   {
    "duration": 14,
    "start_time": "2023-01-15T15:45:27.810Z"
   },
   {
    "duration": 259,
    "start_time": "2023-01-15T15:45:27.825Z"
   },
   {
    "duration": 304,
    "start_time": "2023-01-15T15:45:28.086Z"
   },
   {
    "duration": 218,
    "start_time": "2023-01-15T15:45:28.391Z"
   },
   {
    "duration": 7,
    "start_time": "2023-01-15T15:45:28.610Z"
   },
   {
    "duration": 326,
    "start_time": "2023-01-15T15:45:28.618Z"
   },
   {
    "duration": 228,
    "start_time": "2023-01-15T15:45:28.945Z"
   },
   {
    "duration": 6,
    "start_time": "2023-01-15T15:45:29.175Z"
   },
   {
    "duration": 322,
    "start_time": "2023-01-15T15:45:29.182Z"
   },
   {
    "duration": 12,
    "start_time": "2023-01-15T15:45:29.505Z"
   },
   {
    "duration": 11,
    "start_time": "2023-01-15T15:45:29.518Z"
   },
   {
    "duration": 139,
    "start_time": "2023-01-15T15:45:29.531Z"
   },
   {
    "duration": 173,
    "start_time": "2023-01-15T15:45:29.671Z"
   },
   {
    "duration": 4,
    "start_time": "2023-01-15T15:45:29.846Z"
   },
   {
    "duration": 219,
    "start_time": "2023-01-15T15:45:29.851Z"
   },
   {
    "duration": 211,
    "start_time": "2023-01-15T15:45:30.072Z"
   },
   {
    "duration": 12,
    "start_time": "2023-01-15T15:45:30.285Z"
   },
   {
    "duration": 204,
    "start_time": "2023-01-15T15:45:30.298Z"
   },
   {
    "duration": 124,
    "start_time": "2023-01-15T15:45:56.717Z"
   },
   {
    "duration": 7,
    "start_time": "2023-01-15T15:46:04.328Z"
   },
   {
    "duration": 8,
    "start_time": "2023-01-15T15:46:09.250Z"
   },
   {
    "duration": 78,
    "start_time": "2023-01-15T15:46:25.859Z"
   },
   {
    "duration": 24,
    "start_time": "2023-01-15T15:46:40.522Z"
   },
   {
    "duration": 6,
    "start_time": "2023-01-15T15:47:42.593Z"
   },
   {
    "duration": 25,
    "start_time": "2023-01-15T15:47:47.480Z"
   },
   {
    "duration": 3,
    "start_time": "2023-01-15T15:48:29.823Z"
   },
   {
    "duration": 40,
    "start_time": "2023-01-15T15:48:29.829Z"
   },
   {
    "duration": 10,
    "start_time": "2023-01-15T15:48:29.870Z"
   },
   {
    "duration": 18,
    "start_time": "2023-01-15T15:48:29.882Z"
   },
   {
    "duration": 48,
    "start_time": "2023-01-15T15:48:29.902Z"
   },
   {
    "duration": 12,
    "start_time": "2023-01-15T15:48:29.951Z"
   },
   {
    "duration": 6,
    "start_time": "2023-01-15T15:48:29.964Z"
   },
   {
    "duration": 10,
    "start_time": "2023-01-15T15:48:29.971Z"
   },
   {
    "duration": 8,
    "start_time": "2023-01-15T15:48:29.982Z"
   },
   {
    "duration": 23,
    "start_time": "2023-01-15T15:48:29.991Z"
   },
   {
    "duration": 10,
    "start_time": "2023-01-15T15:48:30.017Z"
   },
   {
    "duration": 4,
    "start_time": "2023-01-15T15:48:30.029Z"
   },
   {
    "duration": 24,
    "start_time": "2023-01-15T15:48:30.034Z"
   },
   {
    "duration": 9,
    "start_time": "2023-01-15T15:48:30.059Z"
   },
   {
    "duration": 40,
    "start_time": "2023-01-15T15:48:30.069Z"
   },
   {
    "duration": 7,
    "start_time": "2023-01-15T15:48:30.110Z"
   },
   {
    "duration": 10,
    "start_time": "2023-01-15T15:48:30.119Z"
   },
   {
    "duration": 24,
    "start_time": "2023-01-15T15:48:30.130Z"
   },
   {
    "duration": 6,
    "start_time": "2023-01-15T15:48:30.156Z"
   },
   {
    "duration": 44,
    "start_time": "2023-01-15T15:48:30.163Z"
   },
   {
    "duration": 18,
    "start_time": "2023-01-15T15:48:30.208Z"
   },
   {
    "duration": 13,
    "start_time": "2023-01-15T15:48:30.227Z"
   },
   {
    "duration": 9,
    "start_time": "2023-01-15T15:48:30.241Z"
   },
   {
    "duration": 15,
    "start_time": "2023-01-15T15:48:30.252Z"
   },
   {
    "duration": 29,
    "start_time": "2023-01-15T15:48:30.268Z"
   },
   {
    "duration": 8,
    "start_time": "2023-01-15T15:48:30.299Z"
   },
   {
    "duration": 40,
    "start_time": "2023-01-15T15:48:30.308Z"
   },
   {
    "duration": 40,
    "start_time": "2023-01-15T15:48:30.350Z"
   },
   {
    "duration": 274,
    "start_time": "2023-01-15T15:48:30.394Z"
   },
   {
    "duration": 222,
    "start_time": "2023-01-15T15:48:30.670Z"
   },
   {
    "duration": 227,
    "start_time": "2023-01-15T15:48:30.893Z"
   },
   {
    "duration": 5,
    "start_time": "2023-01-15T15:48:31.122Z"
   },
   {
    "duration": 349,
    "start_time": "2023-01-15T15:48:31.129Z"
   },
   {
    "duration": 230,
    "start_time": "2023-01-15T15:48:31.480Z"
   },
   {
    "duration": 6,
    "start_time": "2023-01-15T15:48:31.711Z"
   },
   {
    "duration": 295,
    "start_time": "2023-01-15T15:48:31.719Z"
   },
   {
    "duration": 10,
    "start_time": "2023-01-15T15:48:32.015Z"
   },
   {
    "duration": 13,
    "start_time": "2023-01-15T15:48:32.027Z"
   },
   {
    "duration": 148,
    "start_time": "2023-01-15T15:48:32.042Z"
   },
   {
    "duration": 172,
    "start_time": "2023-01-15T15:48:32.191Z"
   },
   {
    "duration": 4,
    "start_time": "2023-01-15T15:48:32.365Z"
   },
   {
    "duration": 152,
    "start_time": "2023-01-15T15:48:32.370Z"
   },
   {
    "duration": 200,
    "start_time": "2023-01-15T15:48:32.524Z"
   },
   {
    "duration": 4,
    "start_time": "2023-01-15T15:48:32.726Z"
   },
   {
    "duration": 283,
    "start_time": "2023-01-15T15:48:32.732Z"
   },
   {
    "duration": 126,
    "start_time": "2023-01-15T15:48:33.016Z"
   },
   {
    "duration": 3,
    "start_time": "2023-01-15T15:48:33.144Z"
   },
   {
    "duration": 13,
    "start_time": "2023-01-15T15:48:33.148Z"
   },
   {
    "duration": 36,
    "start_time": "2023-01-15T15:48:33.162Z"
   },
   {
    "duration": 5,
    "start_time": "2023-01-15T15:49:52.351Z"
   },
   {
    "duration": 44,
    "start_time": "2023-01-15T15:49:52.359Z"
   },
   {
    "duration": 9,
    "start_time": "2023-01-15T15:49:52.404Z"
   },
   {
    "duration": 14,
    "start_time": "2023-01-15T15:49:52.414Z"
   },
   {
    "duration": 46,
    "start_time": "2023-01-15T15:49:52.430Z"
   },
   {
    "duration": 8,
    "start_time": "2023-01-15T15:49:52.478Z"
   },
   {
    "duration": 7,
    "start_time": "2023-01-15T15:49:52.488Z"
   },
   {
    "duration": 6,
    "start_time": "2023-01-15T15:49:52.496Z"
   },
   {
    "duration": 8,
    "start_time": "2023-01-15T15:49:52.503Z"
   },
   {
    "duration": 26,
    "start_time": "2023-01-15T15:49:52.512Z"
   },
   {
    "duration": 8,
    "start_time": "2023-01-15T15:49:52.539Z"
   },
   {
    "duration": 5,
    "start_time": "2023-01-15T15:49:52.549Z"
   },
   {
    "duration": 7,
    "start_time": "2023-01-15T15:49:52.557Z"
   },
   {
    "duration": 5,
    "start_time": "2023-01-15T15:49:52.565Z"
   },
   {
    "duration": 39,
    "start_time": "2023-01-15T15:49:52.571Z"
   },
   {
    "duration": 5,
    "start_time": "2023-01-15T15:49:52.611Z"
   },
   {
    "duration": 10,
    "start_time": "2023-01-15T15:49:52.617Z"
   },
   {
    "duration": 16,
    "start_time": "2023-01-15T15:49:52.629Z"
   },
   {
    "duration": 5,
    "start_time": "2023-01-15T15:49:52.646Z"
   },
   {
    "duration": 45,
    "start_time": "2023-01-15T15:49:52.653Z"
   },
   {
    "duration": 17,
    "start_time": "2023-01-15T15:49:52.699Z"
   },
   {
    "duration": 12,
    "start_time": "2023-01-15T15:49:52.717Z"
   },
   {
    "duration": 7,
    "start_time": "2023-01-15T15:49:52.731Z"
   },
   {
    "duration": 15,
    "start_time": "2023-01-15T15:49:52.739Z"
   },
   {
    "duration": 7,
    "start_time": "2023-01-15T15:49:52.755Z"
   },
   {
    "duration": 10,
    "start_time": "2023-01-15T15:49:52.763Z"
   },
   {
    "duration": 31,
    "start_time": "2023-01-15T15:49:52.774Z"
   },
   {
    "duration": 10,
    "start_time": "2023-01-15T15:49:52.806Z"
   },
   {
    "duration": 256,
    "start_time": "2023-01-15T15:49:52.818Z"
   },
   {
    "duration": 221,
    "start_time": "2023-01-15T15:49:53.076Z"
   },
   {
    "duration": 212,
    "start_time": "2023-01-15T15:49:53.299Z"
   },
   {
    "duration": 6,
    "start_time": "2023-01-15T15:49:53.512Z"
   },
   {
    "duration": 299,
    "start_time": "2023-01-15T15:49:53.519Z"
   },
   {
    "duration": 241,
    "start_time": "2023-01-15T15:49:53.819Z"
   },
   {
    "duration": 6,
    "start_time": "2023-01-15T15:49:54.061Z"
   },
   {
    "duration": 324,
    "start_time": "2023-01-15T15:49:54.068Z"
   },
   {
    "duration": 10,
    "start_time": "2023-01-15T15:49:54.398Z"
   },
   {
    "duration": 12,
    "start_time": "2023-01-15T15:49:54.410Z"
   },
   {
    "duration": 140,
    "start_time": "2023-01-15T15:49:54.423Z"
   },
   {
    "duration": 188,
    "start_time": "2023-01-15T15:49:54.565Z"
   },
   {
    "duration": 6,
    "start_time": "2023-01-15T15:49:54.754Z"
   },
   {
    "duration": 154,
    "start_time": "2023-01-15T15:49:54.762Z"
   },
   {
    "duration": 189,
    "start_time": "2023-01-15T15:49:54.917Z"
   },
   {
    "duration": 4,
    "start_time": "2023-01-15T15:49:55.108Z"
   },
   {
    "duration": 188,
    "start_time": "2023-01-15T15:49:55.114Z"
   },
   {
    "duration": 132,
    "start_time": "2023-01-15T15:49:55.304Z"
   },
   {
    "duration": 7,
    "start_time": "2023-01-15T15:49:55.437Z"
   },
   {
    "duration": 24,
    "start_time": "2023-01-15T15:49:55.445Z"
   },
   {
    "duration": 15,
    "start_time": "2023-01-15T15:51:18.500Z"
   },
   {
    "duration": 21,
    "start_time": "2023-01-15T15:51:29.916Z"
   },
   {
    "duration": 11,
    "start_time": "2023-01-15T15:51:35.307Z"
   },
   {
    "duration": 9,
    "start_time": "2023-01-15T15:53:06.364Z"
   },
   {
    "duration": 25,
    "start_time": "2023-01-15T15:53:14.371Z"
   },
   {
    "duration": 15,
    "start_time": "2023-01-15T15:53:23.768Z"
   },
   {
    "duration": 1042,
    "start_time": "2023-01-15T15:55:29.159Z"
   },
   {
    "duration": 35,
    "start_time": "2023-01-15T15:55:30.203Z"
   },
   {
    "duration": 10,
    "start_time": "2023-01-15T15:55:30.240Z"
   },
   {
    "duration": 23,
    "start_time": "2023-01-15T15:55:30.252Z"
   },
   {
    "duration": 55,
    "start_time": "2023-01-15T15:55:30.277Z"
   },
   {
    "duration": 9,
    "start_time": "2023-01-15T15:55:30.334Z"
   },
   {
    "duration": 28,
    "start_time": "2023-01-15T15:55:30.344Z"
   },
   {
    "duration": 21,
    "start_time": "2023-01-15T15:55:30.374Z"
   },
   {
    "duration": 23,
    "start_time": "2023-01-15T15:55:30.397Z"
   },
   {
    "duration": 29,
    "start_time": "2023-01-15T15:55:30.422Z"
   },
   {
    "duration": 11,
    "start_time": "2023-01-15T15:55:30.453Z"
   },
   {
    "duration": 45,
    "start_time": "2023-01-15T15:55:30.466Z"
   },
   {
    "duration": 34,
    "start_time": "2023-01-15T15:55:30.512Z"
   },
   {
    "duration": 33,
    "start_time": "2023-01-15T15:55:30.548Z"
   },
   {
    "duration": 41,
    "start_time": "2023-01-15T15:55:30.583Z"
   },
   {
    "duration": 6,
    "start_time": "2023-01-15T15:55:30.625Z"
   },
   {
    "duration": 17,
    "start_time": "2023-01-15T15:55:30.632Z"
   },
   {
    "duration": 29,
    "start_time": "2023-01-15T15:55:30.650Z"
   },
   {
    "duration": 17,
    "start_time": "2023-01-15T15:55:30.680Z"
   },
   {
    "duration": 25,
    "start_time": "2023-01-15T15:55:30.699Z"
   },
   {
    "duration": 37,
    "start_time": "2023-01-15T15:55:30.726Z"
   },
   {
    "duration": 17,
    "start_time": "2023-01-15T15:55:30.765Z"
   },
   {
    "duration": 19,
    "start_time": "2023-01-15T15:55:30.783Z"
   },
   {
    "duration": 43,
    "start_time": "2023-01-15T15:55:30.804Z"
   },
   {
    "duration": 33,
    "start_time": "2023-01-15T15:55:30.848Z"
   },
   {
    "duration": 67,
    "start_time": "2023-01-15T15:55:30.883Z"
   },
   {
    "duration": 32,
    "start_time": "2023-01-15T15:55:30.951Z"
   },
   {
    "duration": 21,
    "start_time": "2023-01-15T15:55:30.986Z"
   },
   {
    "duration": 276,
    "start_time": "2023-01-15T15:55:31.009Z"
   },
   {
    "duration": 314,
    "start_time": "2023-01-15T15:55:31.286Z"
   },
   {
    "duration": 240,
    "start_time": "2023-01-15T15:55:31.602Z"
   },
   {
    "duration": 7,
    "start_time": "2023-01-15T15:55:31.845Z"
   },
   {
    "duration": 365,
    "start_time": "2023-01-15T15:55:31.854Z"
   },
   {
    "duration": 260,
    "start_time": "2023-01-15T15:55:32.221Z"
   },
   {
    "duration": 6,
    "start_time": "2023-01-15T15:55:32.483Z"
   },
   {
    "duration": 329,
    "start_time": "2023-01-15T15:55:32.497Z"
   },
   {
    "duration": 14,
    "start_time": "2023-01-15T15:55:32.827Z"
   },
   {
    "duration": 13,
    "start_time": "2023-01-15T15:55:32.843Z"
   },
   {
    "duration": 155,
    "start_time": "2023-01-15T15:55:32.858Z"
   },
   {
    "duration": 218,
    "start_time": "2023-01-15T15:55:33.015Z"
   },
   {
    "duration": 6,
    "start_time": "2023-01-15T15:55:33.235Z"
   },
   {
    "duration": 240,
    "start_time": "2023-01-15T15:55:33.243Z"
   },
   {
    "duration": 207,
    "start_time": "2023-01-15T15:55:33.485Z"
   },
   {
    "duration": 5,
    "start_time": "2023-01-15T15:55:33.696Z"
   },
   {
    "duration": 194,
    "start_time": "2023-01-15T15:55:33.703Z"
   },
   {
    "duration": 141,
    "start_time": "2023-01-15T15:55:33.899Z"
   },
   {
    "duration": 8,
    "start_time": "2023-01-15T15:55:34.042Z"
   },
   {
    "duration": 30,
    "start_time": "2023-01-15T15:55:34.052Z"
   },
   {
    "duration": 26,
    "start_time": "2023-01-15T15:55:34.083Z"
   },
   {
    "duration": 17,
    "start_time": "2023-01-15T15:55:34.110Z"
   },
   {
    "duration": 9,
    "start_time": "2023-01-15T15:55:34.129Z"
   },
   {
    "duration": 29,
    "start_time": "2023-01-15T15:55:34.139Z"
   },
   {
    "duration": 33,
    "start_time": "2023-01-15T15:55:34.170Z"
   },
   {
    "duration": 191,
    "start_time": "2023-01-15T16:02:21.915Z"
   },
   {
    "duration": 60,
    "start_time": "2023-01-15T16:02:44.447Z"
   },
   {
    "duration": 143,
    "start_time": "2023-01-15T16:03:30.771Z"
   },
   {
    "duration": 184,
    "start_time": "2023-01-15T16:03:38.945Z"
   },
   {
    "duration": 10,
    "start_time": "2023-01-15T16:06:21.698Z"
   },
   {
    "duration": 14,
    "start_time": "2023-01-15T16:06:36.830Z"
   },
   {
    "duration": 3,
    "start_time": "2023-01-15T16:06:41.218Z"
   },
   {
    "duration": 3,
    "start_time": "2023-01-15T16:06:44.410Z"
   },
   {
    "duration": 9,
    "start_time": "2023-01-15T16:06:44.764Z"
   },
   {
    "duration": 17,
    "start_time": "2023-01-15T16:11:39.208Z"
   },
   {
    "duration": 15,
    "start_time": "2023-01-15T16:12:15.563Z"
   },
   {
    "duration": 17,
    "start_time": "2023-01-15T16:14:12.961Z"
   },
   {
    "duration": 6,
    "start_time": "2023-01-15T16:14:20.351Z"
   },
   {
    "duration": 6,
    "start_time": "2023-01-15T16:14:20.647Z"
   },
   {
    "duration": 14,
    "start_time": "2023-01-15T16:14:23.856Z"
   },
   {
    "duration": 1083,
    "start_time": "2023-01-15T16:14:53.600Z"
   },
   {
    "duration": 40,
    "start_time": "2023-01-15T16:14:54.684Z"
   },
   {
    "duration": 12,
    "start_time": "2023-01-15T16:14:54.726Z"
   },
   {
    "duration": 27,
    "start_time": "2023-01-15T16:14:54.740Z"
   },
   {
    "duration": 57,
    "start_time": "2023-01-15T16:14:54.768Z"
   },
   {
    "duration": 9,
    "start_time": "2023-01-15T16:14:54.827Z"
   },
   {
    "duration": 18,
    "start_time": "2023-01-15T16:14:54.837Z"
   },
   {
    "duration": 11,
    "start_time": "2023-01-15T16:14:54.857Z"
   },
   {
    "duration": 9,
    "start_time": "2023-01-15T16:14:54.869Z"
   },
   {
    "duration": 27,
    "start_time": "2023-01-15T16:14:54.880Z"
   },
   {
    "duration": 8,
    "start_time": "2023-01-15T16:14:54.908Z"
   },
   {
    "duration": 3,
    "start_time": "2023-01-15T16:14:54.918Z"
   },
   {
    "duration": 7,
    "start_time": "2023-01-15T16:14:54.922Z"
   },
   {
    "duration": 5,
    "start_time": "2023-01-15T16:14:54.931Z"
   },
   {
    "duration": 31,
    "start_time": "2023-01-15T16:14:54.938Z"
   },
   {
    "duration": 15,
    "start_time": "2023-01-15T16:14:54.997Z"
   },
   {
    "duration": 6,
    "start_time": "2023-01-15T16:14:55.013Z"
   },
   {
    "duration": 13,
    "start_time": "2023-01-15T16:14:55.020Z"
   },
   {
    "duration": 42,
    "start_time": "2023-01-15T16:14:55.034Z"
   },
   {
    "duration": 3,
    "start_time": "2023-01-15T16:14:55.078Z"
   },
   {
    "duration": 6,
    "start_time": "2023-01-15T16:14:55.082Z"
   },
   {
    "duration": 16,
    "start_time": "2023-01-15T16:14:55.089Z"
   },
   {
    "duration": 15,
    "start_time": "2023-01-15T16:14:55.106Z"
   },
   {
    "duration": 10,
    "start_time": "2023-01-15T16:14:55.122Z"
   },
   {
    "duration": 257,
    "start_time": "2023-01-15T16:14:55.134Z"
   },
   {
    "duration": 307,
    "start_time": "2023-01-15T16:14:55.392Z"
   },
   {
    "duration": 214,
    "start_time": "2023-01-15T16:14:55.701Z"
   },
   {
    "duration": 6,
    "start_time": "2023-01-15T16:14:55.919Z"
   },
   {
    "duration": 283,
    "start_time": "2023-01-15T16:14:55.926Z"
   },
   {
    "duration": 222,
    "start_time": "2023-01-15T16:14:56.210Z"
   },
   {
    "duration": 5,
    "start_time": "2023-01-15T16:14:56.434Z"
   },
   {
    "duration": 297,
    "start_time": "2023-01-15T16:14:56.441Z"
   },
   {
    "duration": 10,
    "start_time": "2023-01-15T16:14:56.739Z"
   },
   {
    "duration": 11,
    "start_time": "2023-01-15T16:14:56.751Z"
   },
   {
    "duration": 175,
    "start_time": "2023-01-15T16:14:56.764Z"
   },
   {
    "duration": 4,
    "start_time": "2023-01-15T16:14:56.941Z"
   },
   {
    "duration": 189,
    "start_time": "2023-01-15T16:14:56.946Z"
   },
   {
    "duration": 250,
    "start_time": "2023-01-15T16:14:57.136Z"
   },
   {
    "duration": 12,
    "start_time": "2023-01-15T16:14:57.387Z"
   },
   {
    "duration": 180,
    "start_time": "2023-01-15T16:14:57.401Z"
   },
   {
    "duration": 117,
    "start_time": "2023-01-15T16:14:57.583Z"
   },
   {
    "duration": 6,
    "start_time": "2023-01-15T16:14:57.702Z"
   },
   {
    "duration": 25,
    "start_time": "2023-01-15T16:14:57.709Z"
   },
   {
    "duration": 11,
    "start_time": "2023-01-15T16:14:57.735Z"
   },
   {
    "duration": 10,
    "start_time": "2023-01-15T16:14:57.747Z"
   },
   {
    "duration": 38,
    "start_time": "2023-01-15T16:14:57.759Z"
   },
   {
    "duration": 23,
    "start_time": "2023-01-15T16:14:57.799Z"
   },
   {
    "duration": 15,
    "start_time": "2023-01-15T16:14:57.823Z"
   },
   {
    "duration": 1035,
    "start_time": "2023-01-15T16:19:44.362Z"
   },
   {
    "duration": 35,
    "start_time": "2023-01-15T16:19:45.399Z"
   },
   {
    "duration": 9,
    "start_time": "2023-01-15T16:19:45.436Z"
   },
   {
    "duration": 11,
    "start_time": "2023-01-15T16:19:45.447Z"
   },
   {
    "duration": 45,
    "start_time": "2023-01-15T16:19:45.459Z"
   },
   {
    "duration": 8,
    "start_time": "2023-01-15T16:19:45.506Z"
   },
   {
    "duration": 5,
    "start_time": "2023-01-15T16:19:45.516Z"
   },
   {
    "duration": 7,
    "start_time": "2023-01-15T16:19:45.522Z"
   },
   {
    "duration": 7,
    "start_time": "2023-01-15T16:19:45.530Z"
   },
   {
    "duration": 21,
    "start_time": "2023-01-15T16:19:45.539Z"
   },
   {
    "duration": 8,
    "start_time": "2023-01-15T16:19:45.562Z"
   },
   {
    "duration": 6,
    "start_time": "2023-01-15T16:19:45.571Z"
   },
   {
    "duration": 21,
    "start_time": "2023-01-15T16:19:45.578Z"
   },
   {
    "duration": 3,
    "start_time": "2023-01-15T16:19:45.600Z"
   },
   {
    "duration": 35,
    "start_time": "2023-01-15T16:19:45.605Z"
   },
   {
    "duration": 14,
    "start_time": "2023-01-15T16:19:45.641Z"
   },
   {
    "duration": 5,
    "start_time": "2023-01-15T16:19:45.656Z"
   },
   {
    "duration": 37,
    "start_time": "2023-01-15T16:19:45.662Z"
   },
   {
    "duration": 18,
    "start_time": "2023-01-15T16:19:45.700Z"
   },
   {
    "duration": 2,
    "start_time": "2023-01-15T16:19:45.720Z"
   },
   {
    "duration": 9,
    "start_time": "2023-01-15T16:19:45.724Z"
   },
   {
    "duration": 15,
    "start_time": "2023-01-15T16:19:45.735Z"
   },
   {
    "duration": 10,
    "start_time": "2023-01-15T16:19:45.751Z"
   },
   {
    "duration": 11,
    "start_time": "2023-01-15T16:19:45.763Z"
   },
   {
    "duration": 262,
    "start_time": "2023-01-15T16:19:45.797Z"
   },
   {
    "duration": 292,
    "start_time": "2023-01-15T16:19:46.061Z"
   },
   {
    "duration": 234,
    "start_time": "2023-01-15T16:19:46.355Z"
   },
   {
    "duration": 7,
    "start_time": "2023-01-15T16:19:46.596Z"
   },
   {
    "duration": 324,
    "start_time": "2023-01-15T16:19:46.605Z"
   },
   {
    "duration": 253,
    "start_time": "2023-01-15T16:19:46.931Z"
   },
   {
    "duration": 14,
    "start_time": "2023-01-15T16:19:47.186Z"
   },
   {
    "duration": 321,
    "start_time": "2023-01-15T16:19:47.201Z"
   },
   {
    "duration": 11,
    "start_time": "2023-01-15T16:19:47.524Z"
   },
   {
    "duration": 13,
    "start_time": "2023-01-15T16:19:47.536Z"
   },
   {
    "duration": 180,
    "start_time": "2023-01-15T16:19:47.550Z"
   },
   {
    "duration": 4,
    "start_time": "2023-01-15T16:19:47.732Z"
   },
   {
    "duration": 186,
    "start_time": "2023-01-15T16:19:47.738Z"
   },
   {
    "duration": 258,
    "start_time": "2023-01-15T16:19:47.926Z"
   },
   {
    "duration": 4,
    "start_time": "2023-01-15T16:19:48.186Z"
   },
   {
    "duration": 189,
    "start_time": "2023-01-15T16:19:48.197Z"
   },
   {
    "duration": 121,
    "start_time": "2023-01-15T16:19:48.388Z"
   },
   {
    "duration": 7,
    "start_time": "2023-01-15T16:19:48.510Z"
   },
   {
    "duration": 39,
    "start_time": "2023-01-15T16:19:48.518Z"
   },
   {
    "duration": 12,
    "start_time": "2023-01-15T16:19:48.558Z"
   },
   {
    "duration": 24,
    "start_time": "2023-01-15T16:19:48.571Z"
   },
   {
    "duration": 18,
    "start_time": "2023-01-15T16:19:48.597Z"
   },
   {
    "duration": 46,
    "start_time": "2023-01-15T16:19:48.616Z"
   },
   {
    "duration": 14,
    "start_time": "2023-01-15T16:19:48.664Z"
   },
   {
    "duration": 1086,
    "start_time": "2023-01-15T23:57:46.857Z"
   },
   {
    "duration": 35,
    "start_time": "2023-01-15T23:57:47.945Z"
   },
   {
    "duration": 13,
    "start_time": "2023-01-15T23:57:47.982Z"
   },
   {
    "duration": 18,
    "start_time": "2023-01-15T23:57:47.997Z"
   },
   {
    "duration": 56,
    "start_time": "2023-01-15T23:57:48.018Z"
   },
   {
    "duration": 12,
    "start_time": "2023-01-15T23:57:48.076Z"
   },
   {
    "duration": 11,
    "start_time": "2023-01-15T23:57:48.089Z"
   },
   {
    "duration": 12,
    "start_time": "2023-01-15T23:57:48.102Z"
   },
   {
    "duration": 14,
    "start_time": "2023-01-15T23:57:48.116Z"
   },
   {
    "duration": 33,
    "start_time": "2023-01-15T23:57:48.134Z"
   },
   {
    "duration": 11,
    "start_time": "2023-01-15T23:57:48.169Z"
   },
   {
    "duration": 6,
    "start_time": "2023-01-15T23:57:48.182Z"
   },
   {
    "duration": 7,
    "start_time": "2023-01-15T23:57:48.190Z"
   },
   {
    "duration": 6,
    "start_time": "2023-01-15T23:57:48.198Z"
   },
   {
    "duration": 45,
    "start_time": "2023-01-15T23:57:48.206Z"
   },
   {
    "duration": 17,
    "start_time": "2023-01-15T23:57:48.253Z"
   },
   {
    "duration": 20,
    "start_time": "2023-01-15T23:57:48.272Z"
   },
   {
    "duration": 14,
    "start_time": "2023-01-15T23:57:48.294Z"
   },
   {
    "duration": 40,
    "start_time": "2023-01-15T23:57:48.310Z"
   },
   {
    "duration": 3,
    "start_time": "2023-01-15T23:57:48.352Z"
   },
   {
    "duration": 9,
    "start_time": "2023-01-15T23:57:48.357Z"
   },
   {
    "duration": 20,
    "start_time": "2023-01-15T23:57:48.368Z"
   },
   {
    "duration": 17,
    "start_time": "2023-01-15T23:57:48.389Z"
   },
   {
    "duration": 17,
    "start_time": "2023-01-15T23:57:48.408Z"
   },
   {
    "duration": 292,
    "start_time": "2023-01-15T23:57:48.436Z"
   },
   {
    "duration": 349,
    "start_time": "2023-01-15T23:57:48.729Z"
   },
   {
    "duration": 263,
    "start_time": "2023-01-15T23:57:49.080Z"
   },
   {
    "duration": 8,
    "start_time": "2023-01-15T23:57:49.346Z"
   },
   {
    "duration": 311,
    "start_time": "2023-01-15T23:57:49.355Z"
   },
   {
    "duration": 264,
    "start_time": "2023-01-15T23:57:49.668Z"
   },
   {
    "duration": 6,
    "start_time": "2023-01-15T23:57:49.935Z"
   },
   {
    "duration": 317,
    "start_time": "2023-01-15T23:57:49.943Z"
   },
   {
    "duration": 13,
    "start_time": "2023-01-15T23:57:50.261Z"
   },
   {
    "duration": 16,
    "start_time": "2023-01-15T23:57:50.276Z"
   },
   {
    "duration": 225,
    "start_time": "2023-01-15T23:57:50.294Z"
   },
   {
    "duration": 14,
    "start_time": "2023-01-15T23:57:50.522Z"
   },
   {
    "duration": 229,
    "start_time": "2023-01-15T23:57:50.538Z"
   },
   {
    "duration": 305,
    "start_time": "2023-01-15T23:57:50.769Z"
   },
   {
    "duration": 5,
    "start_time": "2023-01-15T23:57:51.076Z"
   },
   {
    "duration": 224,
    "start_time": "2023-01-15T23:57:51.082Z"
   },
   {
    "duration": 163,
    "start_time": "2023-01-15T23:57:51.308Z"
   },
   {
    "duration": 8,
    "start_time": "2023-01-15T23:57:51.473Z"
   },
   {
    "duration": 40,
    "start_time": "2023-01-15T23:57:51.483Z"
   },
   {
    "duration": 20,
    "start_time": "2023-01-15T23:57:51.525Z"
   },
   {
    "duration": 19,
    "start_time": "2023-01-15T23:57:51.546Z"
   },
   {
    "duration": 15,
    "start_time": "2023-01-15T23:57:51.567Z"
   },
   {
    "duration": 53,
    "start_time": "2023-01-15T23:57:51.583Z"
   },
   {
    "duration": 17,
    "start_time": "2023-01-15T23:57:51.637Z"
   }
  ],
  "kernelspec": {
   "display_name": "Python 3 (ipykernel)",
   "language": "python",
   "name": "python3"
  },
  "language_info": {
   "codemirror_mode": {
    "name": "ipython",
    "version": 3
   },
   "file_extension": ".py",
   "mimetype": "text/x-python",
   "name": "python",
   "nbconvert_exporter": "python",
   "pygments_lexer": "ipython3",
   "version": "3.9.13"
  },
  "toc": {
   "base_numbering": 1,
   "nav_menu": {
    "height": "504px",
    "width": "614px"
   },
   "number_sections": true,
   "sideBar": true,
   "skip_h1_title": false,
   "title_cell": "Table of Contents",
   "title_sidebar": "Contents",
   "toc_cell": false,
   "toc_position": {
    "height": "calc(100% - 180px)",
    "left": "10px",
    "top": "150px",
    "width": "369.167px"
   },
   "toc_section_display": true,
   "toc_window_display": true
  }
 },
 "nbformat": 4,
 "nbformat_minor": 5
}
