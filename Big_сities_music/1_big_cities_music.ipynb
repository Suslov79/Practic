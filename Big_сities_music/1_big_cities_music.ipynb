{
 "cells": [
  {
   "cell_type": "markdown",
   "metadata": {},
   "source": [
    "<font color='DarkBlue' size=+2><b>Комментарий ревьюера</b></font><br>\n",
    "<font color='DarkBlue'>Привет, Ярослав! <br>Меня зовут Олег Мазуренко, и я буду проверять этот проект. Спасибо за проделанную работу! <br>Предлагаю общаться на «ты». Если против, напиши.</font><br>\n",
    "<font color='DarkBlue'>Я буду использовать различные цвета, чтобы было удобнее воспринимать мои комментарии:</font><br>\n",
    "<font color='DarkBlue'>Синий текст &mdash; просто текст комментария.</font><br>\n",
    "<font color='DarkGreen'>👌 Зеленый текст &mdash; все отлично.</font><br>\n",
    "<font color='DarkMagenta'>👉 Фиолетовый текст &mdash; сделано все правильно, однако есть рекомендации, на что стоит обратить внимание.</font><br>\n",
    "<font color='Red'>🛠 Красный текст &mdash; есть недочеты, они иногда бывают.</font><br>\n",
    "<font color='DarkBlue'>Пожалуйста, не удаляй мои комментарии в случае возврата работы, так будет проще разобраться, какие были недочеты и сразу увидеть исправленное. </font><br>\n",
    "Ответы на мои комментарии лучше тоже помечать. \n",
    "Например: <font color='Blue'><b>Комментарий студента</b></font><br>\n",
    "<font color='DarkBlue'><b>Давай смотреть, что у нас получилось!</b></font>"
   ]
  },
  {
   "cell_type": "markdown",
   "metadata": {
    "id": "E0vqbgi9ay0H"
   },
   "source": [
    "# Яндекс.Музыка"
   ]
  },
  {
   "cell_type": "markdown",
   "metadata": {
    "id": "VUC88oWjTJw2"
   },
   "source": [
    "Сравнение Москвы и Петербурга окружено мифами. Например:\n",
    " * Москва — мегаполис, подчинённый жёсткому ритму рабочей недели;\n",
    " * Петербург — культурная столица, со своими вкусами.\n",
    "\n",
    "На данных Яндекс.Музыки вы сравните поведение пользователей двух столиц.\n",
    "\n",
    "**Цель исследования** — проверьте три гипотезы:\n",
    "1. Активность пользователей зависит от дня недели. Причём в Москве и Петербурге это проявляется по-разному.\n",
    "2. В понедельник утром в Москве преобладают одни жанры, а в Петербурге — другие. Так же и вечером пятницы преобладают разные жанры — в зависимости от города. \n",
    "3. Москва и Петербург предпочитают разные жанры музыки. В Москве чаще слушают поп-музыку, в Петербурге — русский рэп.\n",
    "\n",
    "**Ход исследования**\n",
    "\n",
    "Данные о поведении пользователей вы получите из файла `yandex_music_project.csv`. О качестве данных ничего не известно. Поэтому перед проверкой гипотез понадобится обзор данных. \n",
    "\n",
    "Вы проверите данные на ошибки и оцените их влияние на исследование. Затем, на этапе предобработки вы поищете возможность исправить самые критичные ошибки данных.\n",
    " \n",
    "Таким образом, исследование пройдёт в три этапа:\n",
    " 1. Обзор данных.\n",
    " 2. Предобработка данных.\n",
    " 3. Проверка гипотез.\n",
    "\n"
   ]
  },
  {
   "cell_type": "markdown",
   "metadata": {},
   "source": [
    "<font color='DarkBlue'><b>Комментарий ревьюера</b></font><br>\n",
    "<font color='DarkGreen'>👌 Хочу обратить внимание на начало оформления проекта. Здесь мы выкладываем краткую анотацию самого проекта с целями и планом исследования. В данном проекте это сделала команда Практикума, но в следующих это надо будет делать самому.</font>"
   ]
  },
  {
   "cell_type": "markdown",
   "metadata": {
    "id": "Ml1hmfXC_Zcs"
   },
   "source": [
    "## Обзор данных\n",
    "\n",
    "Составьте первое представление о данных Яндекс.Музыки.\n",
    "\n",
    "\n"
   ]
  },
  {
   "cell_type": "markdown",
   "metadata": {
    "id": "57eAOGIz_Zcs"
   },
   "source": [
    "Основной инструмент аналитика — `pandas`. Импортируйте эту библиотеку."
   ]
  },
  {
   "cell_type": "code",
   "execution_count": 1,
   "metadata": {
    "id": "AXN7PHPN_Zcs"
   },
   "outputs": [],
   "source": [
    "import pandas as pd# импорт библиотеки pandas"
   ]
  },
  {
   "cell_type": "markdown",
   "metadata": {},
   "source": [
    "<font color='DarkBlue'><b>Комментарий ревьюера</b></font><br>\n",
    "<font color='DarkGreen'>👌 Очень хорошо, что ты используешь сокращение pd при импорте библиотеки Pandas, это общепринятое сокращение для удобной дальнейшей работы.</font>"
   ]
  },
  {
   "cell_type": "markdown",
   "metadata": {
    "id": "SG23P8tt_Zcs"
   },
   "source": [
    "Прочитайте файл `yandex_music_project.csv` из папки `/datasets` и сохраните его в переменной `df`:"
   ]
  },
  {
   "cell_type": "code",
   "execution_count": 2,
   "metadata": {
    "id": "fFVu7vqh_Zct"
   },
   "outputs": [],
   "source": [
    "df = pd.read_csv('/datasets/yandex_music_project.csv') # чтение файла с данными и сохранение в df\n",
    "                 "
   ]
  },
  {
   "cell_type": "markdown",
   "metadata": {},
   "source": [
    "<font color='DarkBlue'><b>Комментарий ревьюера</b></font><br>\n",
    "<font color='DarkGreen'>👌 Указан правильный путь к файлу: слэш в начале пути очень важен, так как указывает, что нужно искать файл в корневой папке. 👍</font>"
   ]
  },
  {
   "cell_type": "markdown",
   "metadata": {
    "id": "rDoOMd3uTqnZ"
   },
   "source": [
    "Выведите на экран первые десять строк таблицы:"
   ]
  },
  {
   "cell_type": "code",
   "execution_count": 3,
   "metadata": {
    "id": "oWTVX3gW_Zct"
   },
   "outputs": [
    {
     "data": {
      "text/html": [
       "<div>\n",
       "<style scoped>\n",
       "    .dataframe tbody tr th:only-of-type {\n",
       "        vertical-align: middle;\n",
       "    }\n",
       "\n",
       "    .dataframe tbody tr th {\n",
       "        vertical-align: top;\n",
       "    }\n",
       "\n",
       "    .dataframe thead th {\n",
       "        text-align: right;\n",
       "    }\n",
       "</style>\n",
       "<table border=\"1\" class=\"dataframe\">\n",
       "  <thead>\n",
       "    <tr style=\"text-align: right;\">\n",
       "      <th></th>\n",
       "      <th>userID</th>\n",
       "      <th>Track</th>\n",
       "      <th>artist</th>\n",
       "      <th>genre</th>\n",
       "      <th>City</th>\n",
       "      <th>time</th>\n",
       "      <th>Day</th>\n",
       "    </tr>\n",
       "  </thead>\n",
       "  <tbody>\n",
       "    <tr>\n",
       "      <th>0</th>\n",
       "      <td>FFB692EC</td>\n",
       "      <td>Kamigata To Boots</td>\n",
       "      <td>The Mass Missile</td>\n",
       "      <td>rock</td>\n",
       "      <td>Saint-Petersburg</td>\n",
       "      <td>20:28:33</td>\n",
       "      <td>Wednesday</td>\n",
       "    </tr>\n",
       "    <tr>\n",
       "      <th>1</th>\n",
       "      <td>55204538</td>\n",
       "      <td>Delayed Because of Accident</td>\n",
       "      <td>Andreas Rönnberg</td>\n",
       "      <td>rock</td>\n",
       "      <td>Moscow</td>\n",
       "      <td>14:07:09</td>\n",
       "      <td>Friday</td>\n",
       "    </tr>\n",
       "    <tr>\n",
       "      <th>2</th>\n",
       "      <td>20EC38</td>\n",
       "      <td>Funiculì funiculà</td>\n",
       "      <td>Mario Lanza</td>\n",
       "      <td>pop</td>\n",
       "      <td>Saint-Petersburg</td>\n",
       "      <td>20:58:07</td>\n",
       "      <td>Wednesday</td>\n",
       "    </tr>\n",
       "    <tr>\n",
       "      <th>3</th>\n",
       "      <td>A3DD03C9</td>\n",
       "      <td>Dragons in the Sunset</td>\n",
       "      <td>Fire + Ice</td>\n",
       "      <td>folk</td>\n",
       "      <td>Saint-Petersburg</td>\n",
       "      <td>08:37:09</td>\n",
       "      <td>Monday</td>\n",
       "    </tr>\n",
       "    <tr>\n",
       "      <th>4</th>\n",
       "      <td>E2DC1FAE</td>\n",
       "      <td>Soul People</td>\n",
       "      <td>Space Echo</td>\n",
       "      <td>dance</td>\n",
       "      <td>Moscow</td>\n",
       "      <td>08:34:34</td>\n",
       "      <td>Monday</td>\n",
       "    </tr>\n",
       "    <tr>\n",
       "      <th>5</th>\n",
       "      <td>842029A1</td>\n",
       "      <td>Преданная</td>\n",
       "      <td>IMPERVTOR</td>\n",
       "      <td>rusrap</td>\n",
       "      <td>Saint-Petersburg</td>\n",
       "      <td>13:09:41</td>\n",
       "      <td>Friday</td>\n",
       "    </tr>\n",
       "    <tr>\n",
       "      <th>6</th>\n",
       "      <td>4CB90AA5</td>\n",
       "      <td>True</td>\n",
       "      <td>Roman Messer</td>\n",
       "      <td>dance</td>\n",
       "      <td>Moscow</td>\n",
       "      <td>13:00:07</td>\n",
       "      <td>Wednesday</td>\n",
       "    </tr>\n",
       "    <tr>\n",
       "      <th>7</th>\n",
       "      <td>F03E1C1F</td>\n",
       "      <td>Feeling This Way</td>\n",
       "      <td>Polina Griffith</td>\n",
       "      <td>dance</td>\n",
       "      <td>Moscow</td>\n",
       "      <td>20:47:49</td>\n",
       "      <td>Wednesday</td>\n",
       "    </tr>\n",
       "    <tr>\n",
       "      <th>8</th>\n",
       "      <td>8FA1D3BE</td>\n",
       "      <td>И вновь продолжается бой</td>\n",
       "      <td>NaN</td>\n",
       "      <td>ruspop</td>\n",
       "      <td>Moscow</td>\n",
       "      <td>09:17:40</td>\n",
       "      <td>Friday</td>\n",
       "    </tr>\n",
       "    <tr>\n",
       "      <th>9</th>\n",
       "      <td>E772D5C0</td>\n",
       "      <td>Pessimist</td>\n",
       "      <td>NaN</td>\n",
       "      <td>dance</td>\n",
       "      <td>Saint-Petersburg</td>\n",
       "      <td>21:20:49</td>\n",
       "      <td>Wednesday</td>\n",
       "    </tr>\n",
       "  </tbody>\n",
       "</table>\n",
       "</div>"
      ],
      "text/plain": [
       "     userID                        Track            artist   genre  \\\n",
       "0  FFB692EC            Kamigata To Boots  The Mass Missile    rock   \n",
       "1  55204538  Delayed Because of Accident  Andreas Rönnberg    rock   \n",
       "2    20EC38            Funiculì funiculà       Mario Lanza     pop   \n",
       "3  A3DD03C9        Dragons in the Sunset        Fire + Ice    folk   \n",
       "4  E2DC1FAE                  Soul People        Space Echo   dance   \n",
       "5  842029A1                    Преданная         IMPERVTOR  rusrap   \n",
       "6  4CB90AA5                         True      Roman Messer   dance   \n",
       "7  F03E1C1F             Feeling This Way   Polina Griffith   dance   \n",
       "8  8FA1D3BE     И вновь продолжается бой               NaN  ruspop   \n",
       "9  E772D5C0                    Pessimist               NaN   dance   \n",
       "\n",
       "             City        time        Day  \n",
       "0  Saint-Petersburg  20:28:33  Wednesday  \n",
       "1            Moscow  14:07:09     Friday  \n",
       "2  Saint-Petersburg  20:58:07  Wednesday  \n",
       "3  Saint-Petersburg  08:37:09     Monday  \n",
       "4            Moscow  08:34:34     Monday  \n",
       "5  Saint-Petersburg  13:09:41     Friday  \n",
       "6            Moscow  13:00:07  Wednesday  \n",
       "7            Moscow  20:47:49  Wednesday  \n",
       "8            Moscow  09:17:40     Friday  \n",
       "9  Saint-Petersburg  21:20:49  Wednesday  "
      ]
     },
     "execution_count": 3,
     "metadata": {},
     "output_type": "execute_result"
    }
   ],
   "source": [
    "df.head(10)# получение первых 10 строк таблицы df"
   ]
  },
  {
   "cell_type": "markdown",
   "metadata": {},
   "source": [
    "<font color='DarkBlue'><b>Комментарий ревьюера</b></font><br>\n",
    "<font color='DarkGreen'>👌 Все правильно.</font><br>\n",
    "<font color='DarkMagenta'>👉 Если имя таблицы находится в последней строке, исполняемой ячейки, то не нужна функция display() (и print() тоже). Если мы выводим таблицу в середине ячейки (например, в теле цикла или функции ), то используем display() 😢 Рекомендация данная в тренажере относится к учебной платформе, в которой есть определенные ограничения, а тут эти функции в последней строке ячейки не нужны.</font><br>\n",
    "<font color='Blue'><b>Удалил display </b></font><br>\n",
    "<font color='DarkGreen'>👌 Есть еще метод tail(), который выводит последние n строк.</font>"
   ]
  },
  {
   "cell_type": "markdown",
   "metadata": {},
   "source": [
    "<font color='DarkBlue'><b>Комментарий ревьюера 2</b></font><br>\n",
    "<font color='DarkGreen'>👌 Короткий код - показатель профессионализма. Мы профи! Или как? 😄</font>"
   ]
  },
  {
   "cell_type": "code",
   "execution_count": 4,
   "metadata": {},
   "outputs": [
    {
     "data": {
      "text/html": [
       "<div>\n",
       "<style scoped>\n",
       "    .dataframe tbody tr th:only-of-type {\n",
       "        vertical-align: middle;\n",
       "    }\n",
       "\n",
       "    .dataframe tbody tr th {\n",
       "        vertical-align: top;\n",
       "    }\n",
       "\n",
       "    .dataframe thead th {\n",
       "        text-align: right;\n",
       "    }\n",
       "</style>\n",
       "<table border=\"1\" class=\"dataframe\">\n",
       "  <thead>\n",
       "    <tr style=\"text-align: right;\">\n",
       "      <th></th>\n",
       "      <th>userID</th>\n",
       "      <th>Track</th>\n",
       "      <th>artist</th>\n",
       "      <th>genre</th>\n",
       "      <th>City</th>\n",
       "      <th>time</th>\n",
       "      <th>Day</th>\n",
       "    </tr>\n",
       "  </thead>\n",
       "  <tbody>\n",
       "    <tr>\n",
       "      <th>65074</th>\n",
       "      <td>729CBB09</td>\n",
       "      <td>My Name</td>\n",
       "      <td>McLean</td>\n",
       "      <td>rnb</td>\n",
       "      <td>Moscow</td>\n",
       "      <td>13:32:28</td>\n",
       "      <td>Wednesday</td>\n",
       "    </tr>\n",
       "    <tr>\n",
       "      <th>65075</th>\n",
       "      <td>D08D4A55</td>\n",
       "      <td>Maybe One Day (feat. Black Spade)</td>\n",
       "      <td>Blu &amp; Exile</td>\n",
       "      <td>hip</td>\n",
       "      <td>Saint-Petersburg</td>\n",
       "      <td>10:00:00</td>\n",
       "      <td>Monday</td>\n",
       "    </tr>\n",
       "    <tr>\n",
       "      <th>65076</th>\n",
       "      <td>C5E3A0D5</td>\n",
       "      <td>Jalopiina</td>\n",
       "      <td>NaN</td>\n",
       "      <td>industrial</td>\n",
       "      <td>Moscow</td>\n",
       "      <td>20:09:26</td>\n",
       "      <td>Friday</td>\n",
       "    </tr>\n",
       "    <tr>\n",
       "      <th>65077</th>\n",
       "      <td>321D0506</td>\n",
       "      <td>Freight Train</td>\n",
       "      <td>Chas McDevitt</td>\n",
       "      <td>rock</td>\n",
       "      <td>Moscow</td>\n",
       "      <td>21:43:59</td>\n",
       "      <td>Friday</td>\n",
       "    </tr>\n",
       "    <tr>\n",
       "      <th>65078</th>\n",
       "      <td>3A64EF84</td>\n",
       "      <td>Tell Me Sweet Little Lies</td>\n",
       "      <td>Monica Lopez</td>\n",
       "      <td>country</td>\n",
       "      <td>Moscow</td>\n",
       "      <td>21:59:46</td>\n",
       "      <td>Friday</td>\n",
       "    </tr>\n",
       "  </tbody>\n",
       "</table>\n",
       "</div>"
      ],
      "text/plain": [
       "         userID                              Track         artist       genre  \\\n",
       "65074  729CBB09                            My Name         McLean         rnb   \n",
       "65075  D08D4A55  Maybe One Day (feat. Black Spade)    Blu & Exile         hip   \n",
       "65076  C5E3A0D5                          Jalopiina            NaN  industrial   \n",
       "65077  321D0506                      Freight Train  Chas McDevitt        rock   \n",
       "65078  3A64EF84          Tell Me Sweet Little Lies   Monica Lopez     country   \n",
       "\n",
       "                 City        time        Day  \n",
       "65074            Moscow  13:32:28  Wednesday  \n",
       "65075  Saint-Petersburg  10:00:00     Monday  \n",
       "65076            Moscow  20:09:26     Friday  \n",
       "65077            Moscow  21:43:59     Friday  \n",
       "65078            Moscow  21:59:46     Friday  "
      ]
     },
     "execution_count": 4,
     "metadata": {},
     "output_type": "execute_result"
    }
   ],
   "source": [
    "# Комментарий ревьюера\n",
    "df.tail(5)"
   ]
  },
  {
   "cell_type": "markdown",
   "metadata": {
    "id": "EO73Kwic_Zct"
   },
   "source": [
    "Одной командой получить общую информацию о таблице:"
   ]
  },
  {
   "cell_type": "code",
   "execution_count": 5,
   "metadata": {
    "id": "DSf2kIb-_Zct"
   },
   "outputs": [
    {
     "name": "stdout",
     "output_type": "stream",
     "text": [
      "<class 'pandas.core.frame.DataFrame'>\n",
      "RangeIndex: 65079 entries, 0 to 65078\n",
      "Data columns (total 7 columns):\n",
      " #   Column    Non-Null Count  Dtype \n",
      "---  ------    --------------  ----- \n",
      " 0     userID  65079 non-null  object\n",
      " 1   Track     63848 non-null  object\n",
      " 2   artist    57876 non-null  object\n",
      " 3   genre     63881 non-null  object\n",
      " 4     City    65079 non-null  object\n",
      " 5   time      65079 non-null  object\n",
      " 6   Day       65079 non-null  object\n",
      "dtypes: object(7)\n",
      "memory usage: 3.5+ MB\n"
     ]
    }
   ],
   "source": [
    "df.info() # получение общей информации о данных в таблице df"
   ]
  },
  {
   "cell_type": "markdown",
   "metadata": {},
   "source": [
    "<font color='DarkBlue'><b>Комментарий ревьюера</b></font><br>\n",
    "<font color='DarkGreen'>👌 Отличный выбор, метод info действительно показывает много информации о датафрейме.</font>"
   ]
  },
  {
   "cell_type": "markdown",
   "metadata": {
    "id": "TaQ2Iwbr_Zct"
   },
   "source": [
    "Итак, в таблице семь столбцов. Тип данных во всех столбцах — `object`.\n",
    "\n",
    "Согласно документации к данным:\n",
    "* `userID` — идентификатор пользователя;\n",
    "* `Track` — название трека;  \n",
    "* `artist` — имя исполнителя;\n",
    "* `genre` — название жанра;\n",
    "* `City` — город пользователя;\n",
    "* `time` — время начала прослушивания;\n",
    "* `Day` — день недели.\n",
    "\n",
    "В названиях колонок видны три нарушения стиля:\n",
    "1. Строчные буквы сочетаются с прописными.\n",
    "2. Встречаются пробелы.\n",
    "3. Найдите ещё одну проблему в названии колонок и опишите её в этом пункте.\n",
    " userID переименовать используя \"змеиный регистр\" ( напимер user_id)\n",
    "\n",
    "\n",
    "Количество значений в столбцах различается. Значит, в данных есть пропущенные значения.\n"
   ]
  },
  {
   "cell_type": "markdown",
   "metadata": {
    "id": "MCB6-dXG_Zct"
   },
   "source": [
    "**Выводы**\n",
    "\n",
    "В каждой строке таблицы — данные о прослушанном треке. Часть колонок описывает саму композицию: название, исполнителя и жанр. Остальные данные рассказывают о пользователе: из какого он города, когда он слушал музыку. \n",
    "\n",
    "Предварительно можно утверждать, что, данных достаточно для проверки гипотез. Но встречаются пропуски в данных, а в названиях колонок — расхождения с хорошим стилем.\n",
    "\n",
    "Чтобы двигаться дальше, нужно устранить проблемы в данных."
   ]
  },
  {
   "cell_type": "markdown",
   "metadata": {},
   "source": [
    "<font color='DarkBlue'><b>Комментарий ревьюера</b></font><br>\n",
    "<font color='DarkGreen'>👌 Очень правильно после промежуточного анализа данных делать краткие выводы и планировать дальнейшую обработку проблем. Хорошо, что найдено третье нарушение. </font><br>"
   ]
  },
  {
   "cell_type": "markdown",
   "metadata": {
    "id": "SjYF6Ub9_Zct"
   },
   "source": [
    "## Предобработка данных\n",
    "Исправьте стиль в заголовках столбцов, исключите пропуски. Затем проверьте данные на дубликаты."
   ]
  },
  {
   "cell_type": "markdown",
   "metadata": {
    "id": "dIaKXr29_Zct"
   },
   "source": [
    "### Стиль заголовков\n",
    "Выведите на экран названия столбцов:"
   ]
  },
  {
   "cell_type": "code",
   "execution_count": 6,
   "metadata": {
    "id": "oKOTdF_Q_Zct"
   },
   "outputs": [
    {
     "data": {
      "text/plain": [
       "Index(['  userID', 'Track', 'artist', 'genre', '  City  ', 'time', 'Day'], dtype='object')"
      ]
     },
     "execution_count": 6,
     "metadata": {},
     "output_type": "execute_result"
    }
   ],
   "source": [
    "df.columns   # перечень названий столбцов таблицы df"
   ]
  },
  {
   "cell_type": "markdown",
   "metadata": {},
   "source": [
    "<font color='DarkBlue'><b>Комментарий ревьюера</b></font><br>\n",
    "<font color='DarkGreen'>👌 Отлично, мы видим полностью названия колонок, включая лишние пробелы.</font><br>\n",
    "<font color='DarkMagenta'>👉 <b>display()</b>. 😢</font> <br>\n",
    "<font color='Blue'><b>Удалил display </b></font><br>"
   ]
  },
  {
   "cell_type": "markdown",
   "metadata": {
    "id": "FPZA3ki8xe7T"
   },
   "source": []
  },
  {
   "cell_type": "markdown",
   "metadata": {
    "id": "zj5534cv_Zct"
   },
   "source": [
    "Приведите названия в соответствие с хорошим стилем:\n",
    "* несколько слов в названии запишите в «змеином_регистре»,\n",
    "* все символы сделайте строчными,\n",
    "* устраните пробелы.\n",
    "\n",
    "Для этого переименуйте колонки так:\n",
    "* `'  userID'` → `'user_id'`;\n",
    "* `'Track'` → `'track'`;\n",
    "* `'  City  '` → `'city'`;\n",
    "* `'Day'` → `'day'`."
   ]
  },
  {
   "cell_type": "code",
   "execution_count": 7,
   "metadata": {
    "id": "ISlFqs5y_Zct"
   },
   "outputs": [],
   "source": [
    "df = df.rename(columns= {'  userID':'user_id','Track':'track','  City  ':'city','Day':'day'})   # переименование столбцов"
   ]
  },
  {
   "cell_type": "markdown",
   "metadata": {},
   "source": [
    "<font color='DarkBlue'><b>Комментарий ревьюера</b></font><br>\n",
    "<font color='DarkGreen'>👌 Хороший выбор, метод rename сработает без ошибок, даже если изменится порядок столбцов.</font>"
   ]
  },
  {
   "cell_type": "markdown",
   "metadata": {
    "id": "1dqbh00J_Zct"
   },
   "source": [
    "Проверьте результат. Для этого ещё раз выведите на экран названия столбцов:"
   ]
  },
  {
   "cell_type": "code",
   "execution_count": 8,
   "metadata": {
    "id": "d4NOAmTW_Zct"
   },
   "outputs": [
    {
     "data": {
      "text/plain": [
       "Index(['user_id', 'track', 'artist', 'genre', 'city', 'time', 'day'], dtype='object')"
      ]
     },
     "execution_count": 8,
     "metadata": {},
     "output_type": "execute_result"
    }
   ],
   "source": [
    "df.columns   # проверка результатов - перечень названий столбцов"
   ]
  },
  {
   "cell_type": "markdown",
   "metadata": {},
   "source": [
    "<font color='DarkBlue'><b>Комментарий ревьюера</b></font><br>\n",
    "<font color='DarkGreen'>👌 Действительно, замена названия колонок произошла корректно. Очень полезно после преобразования таблицы проверять результат.</font><br><font color='DarkMagenta'>👉 <b>display()</b> 😒</font> <br>\n",
    "<font color='Blue'><b>Удалил display </b></font><br>"
   ]
  },
  {
   "cell_type": "markdown",
   "metadata": {
    "id": "5ISfbcfY_Zct"
   },
   "source": [
    "### Пропуски значений\n",
    "Сначала посчитайте, сколько в таблице пропущенных значений. Для этого достаточно двух методов `pandas`:"
   ]
  },
  {
   "cell_type": "code",
   "execution_count": 9,
   "metadata": {
    "id": "RskX29qr_Zct"
   },
   "outputs": [
    {
     "data": {
      "text/plain": [
       "user_id       0\n",
       "track      1231\n",
       "artist     7203\n",
       "genre      1198\n",
       "city          0\n",
       "time          0\n",
       "day           0\n",
       "dtype: int64"
      ]
     },
     "execution_count": 9,
     "metadata": {},
     "output_type": "execute_result"
    }
   ],
   "source": [
    "df.isna().sum()  # подсчёт пропусков"
   ]
  },
  {
   "cell_type": "markdown",
   "metadata": {},
   "source": [
    "<font color='DarkBlue'><b>Комментарий ревьюера</b></font><br>\n",
    "<font color='DarkGreen'>👌 Все верно. Выбран метод isna() для нахождения пропущенных значений, это отлично! На самом деле, isnull() и isna() делают одно и то же, но использование isna() предпочтительнее.</font><br><font color='DarkMagenta'>👉 <b>display()</b> 😒</font> <br>\n",
    "<font color='Blue'><b>Удалил display </b></font><br>"
   ]
  },
  {
   "cell_type": "markdown",
   "metadata": {
    "id": "qubhgnlO_Zct"
   },
   "source": [
    "Не все пропущенные значения влияют на исследование. Так в `track` и `artist` пропуски не важны для вашей работы. Достаточно заменить их явными обозначениями.\n",
    "\n",
    "Но пропуски в `genre` могут помешать сравнению музыкальных вкусов в Москве и Санкт-Петербурге. На практике было бы правильно установить причину пропусков и восстановить данные. Такой возможности нет в учебном проекте. Придётся:\n",
    "* заполнить и эти пропуски явными обозначениями,\n",
    "* оценить, насколько они повредят расчётам. "
   ]
  },
  {
   "cell_type": "markdown",
   "metadata": {
    "id": "fSv2laPA_Zct"
   },
   "source": [
    "Замените пропущенные значения в столбцах `track`, `artist` и `genre` на строку `'unknown'`. Для этого создайте список `columns_to_replace`, переберите его элементы циклом `for` и для каждого столбца выполните замену пропущенных значений:"
   ]
  },
  {
   "cell_type": "code",
   "execution_count": 10,
   "metadata": {
    "id": "KplB5qWs_Zct"
   },
   "outputs": [],
   "source": [
    "columns_to_replace = ['track','artist','genre']\n",
    "for column in columns_to_replace:  # перебор названий столбцов в цикле и замена пропущенных значений на 'unknown'\n",
    "    df [columns_to_replace]= df [columns_to_replace].fillna('unknown') "
   ]
  },
  {
   "cell_type": "markdown",
   "metadata": {},
   "source": [
    "<font color='DarkBlue'><b>Комментарий ревьюера</b></font><br>\n",
    "<font color='DarkGreen'>👌 Хорошо. Список columns_to_replace сформирован верно, цикл отработал без ошибок. 😄</font>"
   ]
  },
  {
   "cell_type": "markdown",
   "metadata": {
    "id": "Ilsm-MZo_Zct"
   },
   "source": [
    "Убедитесь, что в таблице не осталось пропусков. Для этого ещё раз посчитайте пропущенные значения."
   ]
  },
  {
   "cell_type": "code",
   "execution_count": 11,
   "metadata": {
    "id": "Tq4nYRX4_Zct"
   },
   "outputs": [
    {
     "data": {
      "text/plain": [
       "user_id    0\n",
       "track      0\n",
       "artist     0\n",
       "genre      0\n",
       "city       0\n",
       "time       0\n",
       "day        0\n",
       "dtype: int64"
      ]
     },
     "execution_count": 11,
     "metadata": {},
     "output_type": "execute_result"
    }
   ],
   "source": [
    "df.isna().sum()   # подсчёт пропусков"
   ]
  },
  {
   "cell_type": "markdown",
   "metadata": {},
   "source": [
    "<font color='DarkBlue'><b>Комментарий ревьюера</b></font><br>\n",
    "<font color='DarkGreen'>👌 Замечательно, сделано почти все правильно.</font><br><font color='DarkMagenta'>👉 <b>display()</b> 😒</font><br>\n",
    "<font color='Blue'><b>Удалил display </b></font><br>"
   ]
  },
  {
   "cell_type": "markdown",
   "metadata": {
    "id": "BWKRtBJ3_Zct"
   },
   "source": [
    "### Дубликаты\n",
    "Посчитайте явные дубликаты в таблице одной командой:"
   ]
  },
  {
   "cell_type": "code",
   "execution_count": 12,
   "metadata": {
    "id": "36eES_S0_Zct"
   },
   "outputs": [
    {
     "data": {
      "text/plain": [
       "3826"
      ]
     },
     "execution_count": 12,
     "metadata": {},
     "output_type": "execute_result"
    }
   ],
   "source": [
    "df.duplicated().sum()  # подсчёт явных дубликатов"
   ]
  },
  {
   "cell_type": "markdown",
   "metadata": {},
   "source": [
    "<font color='DarkBlue'><b>Комментарий ревьюера</b></font><br>\n",
    "<font color='DarkGreen'>👌 Отлично! Дубликаты найдены верно и посчитаны оптимальными методами.</font>\n",
    "<br><font color='DarkMagenta'>👉 <b>display()</b> 😒</font><br>\n",
    "<font color='Blue'><b>Удалил display </b></font><br>"
   ]
  },
  {
   "cell_type": "markdown",
   "metadata": {
    "id": "Ot25h6XR_Zct"
   },
   "source": [
    "Вызовите специальный метод `pandas`, чтобы удалить явные дубликаты:"
   ]
  },
  {
   "cell_type": "code",
   "execution_count": 13,
   "metadata": {
    "id": "exFHq6tt_Zct"
   },
   "outputs": [],
   "source": [
    "df = df.drop_duplicates().reset_index(drop=True)  # удаление явных дубликатов (с удалением старых индексов и формированием новых)"
   ]
  },
  {
   "cell_type": "markdown",
   "metadata": {
    "id": "Im2YwBEG_Zct"
   },
   "source": [
    "Ещё раз посчитайте явные дубликаты в таблице — убедитесь, что полностью от них избавились:"
   ]
  },
  {
   "cell_type": "code",
   "execution_count": 14,
   "metadata": {
    "id": "-8PuNWQ0_Zct"
   },
   "outputs": [
    {
     "data": {
      "text/plain": [
       "0"
      ]
     },
     "execution_count": 14,
     "metadata": {},
     "output_type": "execute_result"
    }
   ],
   "source": [
    "df.duplicated().sum()  # проверка на отсутствие дубликатов"
   ]
  },
  {
   "cell_type": "markdown",
   "metadata": {},
   "source": [
    "<font color='DarkBlue'><b>Комментарий ревьюера</b></font><br>\n",
    "<font color='DarkGreen'>👌 Правильно удалены дубликаты и проверено их отсутствие.</font>\n",
    "<br><font color='DarkMagenta'>👉 <b>display()</b> 😒</font><br>\n",
    "<font color='Blue'><b>Удалил display </b></font><br>"
   ]
  },
  {
   "cell_type": "markdown",
   "metadata": {
    "id": "QlFBsxAr_Zct"
   },
   "source": [
    "Теперь избавьтесь от неявных дубликатов в колонке `genre`. Например, название одного и того же жанра может быть записано немного по-разному. Такие ошибки тоже повлияют на результат исследования."
   ]
  },
  {
   "cell_type": "markdown",
   "metadata": {
    "id": "eSjWwsOh_Zct"
   },
   "source": [
    "Выведите на экран список уникальных названий жанров, отсортированный в алфавитном порядке. Для этого:\n",
    "* извлеките нужный столбец датафрейма, \n",
    "* примените к нему метод сортировки,\n",
    "* для отсортированного столбца вызовите метод, который вернёт уникальные значения из столбца."
   ]
  },
  {
   "cell_type": "code",
   "execution_count": 15,
   "metadata": {
    "id": "JIUcqzZN_Zct"
   },
   "outputs": [
    {
     "data": {
      "text/plain": [
       "array(['acid', 'acoustic', 'action', 'adult', 'africa', 'afrikaans',\n",
       "       'alternative', 'alternativepunk', 'ambient', 'americana',\n",
       "       'animated', 'anime', 'arabesk', 'arabic', 'arena',\n",
       "       'argentinetango', 'art', 'audiobook', 'author', 'avantgarde',\n",
       "       'axé', 'baile', 'balkan', 'beats', 'bigroom', 'black', 'bluegrass',\n",
       "       'blues', 'bollywood', 'bossa', 'brazilian', 'breakbeat', 'breaks',\n",
       "       'broadway', 'cantautori', 'cantopop', 'canzone', 'caribbean',\n",
       "       'caucasian', 'celtic', 'chamber', 'chanson', 'children', 'chill',\n",
       "       'chinese', 'choral', 'christian', 'christmas', 'classical',\n",
       "       'classicmetal', 'club', 'colombian', 'comedy', 'conjazz',\n",
       "       'contemporary', 'country', 'cuban', 'dance', 'dancehall',\n",
       "       'dancepop', 'dark', 'death', 'deep', 'deutschrock', 'deutschspr',\n",
       "       'dirty', 'disco', 'dnb', 'documentary', 'downbeat', 'downtempo',\n",
       "       'drum', 'dub', 'dubstep', 'eastern', 'easy', 'electronic',\n",
       "       'electropop', 'emo', 'entehno', 'epicmetal', 'estrada', 'ethnic',\n",
       "       'eurofolk', 'european', 'experimental', 'extrememetal', 'fado',\n",
       "       'fairytail', 'film', 'fitness', 'flamenco', 'folk', 'folklore',\n",
       "       'folkmetal', 'folkrock', 'folktronica', 'forró', 'frankreich',\n",
       "       'französisch', 'french', 'funk', 'future', 'gangsta', 'garage',\n",
       "       'german', 'ghazal', 'gitarre', 'glitch', 'gospel', 'gothic',\n",
       "       'grime', 'grunge', 'gypsy', 'handsup', \"hard'n'heavy\", 'hardcore',\n",
       "       'hardstyle', 'hardtechno', 'hip', 'hip-hop', 'hiphop',\n",
       "       'historisch', 'holiday', 'hop', 'horror', 'house', 'hymn', 'idm',\n",
       "       'independent', 'indian', 'indie', 'indipop', 'industrial',\n",
       "       'inspirational', 'instrumental', 'international', 'irish', 'jam',\n",
       "       'japanese', 'jazz', 'jewish', 'jpop', 'jungle', 'k-pop',\n",
       "       'karadeniz', 'karaoke', 'kayokyoku', 'korean', 'laiko', 'latin',\n",
       "       'latino', 'leftfield', 'local', 'lounge', 'loungeelectronic',\n",
       "       'lovers', 'malaysian', 'mandopop', 'marschmusik', 'meditative',\n",
       "       'mediterranean', 'melodic', 'metal', 'metalcore', 'mexican',\n",
       "       'middle', 'minimal', 'miscellaneous', 'modern', 'mood', 'mpb',\n",
       "       'muslim', 'native', 'neoklassik', 'neue', 'new', 'newage',\n",
       "       'newwave', 'nu', 'nujazz', 'numetal', 'oceania', 'old', 'opera',\n",
       "       'orchestral', 'other', 'piano', 'podcasts', 'pop', 'popdance',\n",
       "       'popelectronic', 'popeurodance', 'poprussian', 'post',\n",
       "       'posthardcore', 'postrock', 'power', 'progmetal', 'progressive',\n",
       "       'psychedelic', 'punjabi', 'punk', 'quebecois', 'ragga', 'ram',\n",
       "       'rancheras', 'rap', 'rave', 'reggae', 'reggaeton', 'regional',\n",
       "       'relax', 'religious', 'retro', 'rhythm', 'rnb', 'rnr', 'rock',\n",
       "       'rockabilly', 'rockalternative', 'rockindie', 'rockother',\n",
       "       'romance', 'roots', 'ruspop', 'rusrap', 'rusrock', 'russian',\n",
       "       'salsa', 'samba', 'scenic', 'schlager', 'self', 'sertanejo',\n",
       "       'shanson', 'shoegazing', 'showtunes', 'singer', 'ska', 'skarock',\n",
       "       'slow', 'smooth', 'soft', 'soul', 'soulful', 'sound', 'soundtrack',\n",
       "       'southern', 'specialty', 'speech', 'spiritual', 'sport',\n",
       "       'stonerrock', 'surf', 'swing', 'synthpop', 'synthrock',\n",
       "       'sängerportrait', 'tango', 'tanzorchester', 'taraftar', 'tatar',\n",
       "       'tech', 'techno', 'teen', 'thrash', 'top', 'traditional',\n",
       "       'tradjazz', 'trance', 'tribal', 'trip', 'triphop', 'tropical',\n",
       "       'türk', 'türkçe', 'ukrrock', 'unknown', 'urban', 'uzbek',\n",
       "       'variété', 'vi', 'videogame', 'vocal', 'western', 'world',\n",
       "       'worldbeat', 'ïîï', 'электроника'], dtype=object)"
      ]
     },
     "execution_count": 15,
     "metadata": {},
     "output_type": "execute_result"
    }
   ],
   "source": [
    "genre_sort = df['genre']\n",
    "genre_sort = genre_sort.sort_values().unique()\n",
    "genre_sort   # Просмотр уникальных названий жанров"
   ]
  },
  {
   "cell_type": "markdown",
   "metadata": {},
   "source": [
    "<font color='DarkBlue'><b>Комментарий ревьюера</b></font><br>\n",
    "<font color='DarkGreen'>👌 Хотя список большой, но видно, наверняка многие названия дублируются.</font><br>\n",
    "<font color='DarkMagenta'>👉 <b>display</b> 🙄</font><br>\n",
    "<font color='Blue'><b>Удалил display </b></font><br>"
   ]
  },
  {
   "cell_type": "markdown",
   "metadata": {
    "id": "qej-Qmuo_Zct"
   },
   "source": [
    "Просмотрите список и найдите неявные дубликаты названия `hiphop`. Это могут быть названия с ошибками или альтернативные названия того же жанра.\n",
    "\n",
    "Вы увидите следующие неявные дубликаты:\n",
    "* *hip*,\n",
    "* *hop*,\n",
    "* *hip-hop*.\n",
    "\n",
    "Чтобы очистить от них таблицу, напишите функцию `replace_wrong_genres()` с двумя параметрами: \n",
    "* `wrong_genres` — список дубликатов,\n",
    "* `correct_genre` — строка с правильным значением.\n",
    "\n",
    "Функция должна исправить колонку `genre` в таблице `df`: заменить каждое значение из списка `wrong_genres` на значение из `correct_genre`."
   ]
  },
  {
   "cell_type": "markdown",
   "metadata": {},
   "source": [
    "<font color='DarkBlue'><b>Комментарий ревьюера</b></font><br>\n",
    "<font color='DarkMagenta'>👉 А попробуй найти еще неявные дубликаты, кроме указанных в задании. Вдруг получится. 😄</font><br>"
   ]
  },
  {
   "cell_type": "code",
   "execution_count": 16,
   "metadata": {
    "id": "ErNDkmns_Zct"
   },
   "outputs": [],
   "source": [
    " def replace_wrong_genres (wrong_genres, correct_genre): # Функция для замены неявных дубликатов\n",
    "    for genres in wrong_genres:\n",
    "        df['genre'] = df['genre'].replace(genres, correct_genre) "
   ]
  },
  {
   "attachments": {
    "image.png": {
     "image/png": "[encoded data removed]"
    }
   },
   "cell_type": "markdown",
   "metadata": {},
   "source": [
    "<font color='DarkBlue'><b>Комментарий ревьюера</b></font><br>\n",
    "<font color='Red'>🛠 А вот с функцией у нас проблемы. 😢 См.скрин. </font>\n",
    "![image.png](attachment:image.png)<br>\n",
    "<font color='Blue'><b>Так верно? </b></font><br>"
   ]
  },
  {
   "cell_type": "markdown",
   "metadata": {},
   "source": [
    "<font color='DarkBlue'><b>Комментарий ревьюера 2</b></font><br>\n",
    "<font color='Red'>🛠 Не верно. 😢 Мы в переменную `genres` получаем значение из списка `wrong_genres` и передаем это значение первым аргументом в метод `.replace`. А мы зачем-то в метод передаем сам список. 😢</font><br>\n",
    "<font color='Blue'><b>Попытка №2 </b></font><br>"
   ]
  },
  {
   "cell_type": "markdown",
   "metadata": {},
   "source": [
    "<font color='DarkBlue'><b>Комментарий ревьюера 3</b></font><br>\n",
    "<font color='DarkGreen'>👌 При втором подходе к снаряду - вес взят! 😉</font>"
   ]
  },
  {
   "cell_type": "markdown",
   "metadata": {
    "id": "aDoBJxbA_Zct"
   },
   "source": [
    "Вызовите `replace_wrong_genres()` и передайте ей такие аргументы, чтобы она устранила неявные дубликаты: вместо `hip`, `hop` и `hip-hop` в таблице должно быть значение `hiphop`:"
   ]
  },
  {
   "cell_type": "code",
   "execution_count": 17,
   "metadata": {
    "id": "YN5i2hpmSo09"
   },
   "outputs": [],
   "source": [
    "wrong_genres =['hip','hop', 'hip-hop']  # Устранение неявных дубликатов\n",
    "correct_genre = 'hiphop'\n",
    "replace_wrong_genres (wrong_genres, correct_genre)\n"
   ]
  },
  {
   "cell_type": "markdown",
   "metadata": {
    "id": "zQKF16_RG15m"
   },
   "source": [
    "Проверьте, что заменили неправильные названия:\n",
    "\n",
    "*   hip\n",
    "*   hop\n",
    "*   hip-hop\n",
    "\n",
    "Выведите отсортированный список уникальных значений столбца `genre`:"
   ]
  },
  {
   "cell_type": "code",
   "execution_count": 18,
   "metadata": {
    "id": "wvixALnFG15m"
   },
   "outputs": [
    {
     "data": {
      "text/plain": [
       "array(['acid', 'acoustic', 'action', 'adult', 'africa', 'afrikaans',\n",
       "       'alternative', 'alternativepunk', 'ambient', 'americana',\n",
       "       'animated', 'anime', 'arabesk', 'arabic', 'arena',\n",
       "       'argentinetango', 'art', 'audiobook', 'author', 'avantgarde',\n",
       "       'axé', 'baile', 'balkan', 'beats', 'bigroom', 'black', 'bluegrass',\n",
       "       'blues', 'bollywood', 'bossa', 'brazilian', 'breakbeat', 'breaks',\n",
       "       'broadway', 'cantautori', 'cantopop', 'canzone', 'caribbean',\n",
       "       'caucasian', 'celtic', 'chamber', 'chanson', 'children', 'chill',\n",
       "       'chinese', 'choral', 'christian', 'christmas', 'classical',\n",
       "       'classicmetal', 'club', 'colombian', 'comedy', 'conjazz',\n",
       "       'contemporary', 'country', 'cuban', 'dance', 'dancehall',\n",
       "       'dancepop', 'dark', 'death', 'deep', 'deutschrock', 'deutschspr',\n",
       "       'dirty', 'disco', 'dnb', 'documentary', 'downbeat', 'downtempo',\n",
       "       'drum', 'dub', 'dubstep', 'eastern', 'easy', 'electronic',\n",
       "       'electropop', 'emo', 'entehno', 'epicmetal', 'estrada', 'ethnic',\n",
       "       'eurofolk', 'european', 'experimental', 'extrememetal', 'fado',\n",
       "       'fairytail', 'film', 'fitness', 'flamenco', 'folk', 'folklore',\n",
       "       'folkmetal', 'folkrock', 'folktronica', 'forró', 'frankreich',\n",
       "       'französisch', 'french', 'funk', 'future', 'gangsta', 'garage',\n",
       "       'german', 'ghazal', 'gitarre', 'glitch', 'gospel', 'gothic',\n",
       "       'grime', 'grunge', 'gypsy', 'handsup', \"hard'n'heavy\", 'hardcore',\n",
       "       'hardstyle', 'hardtechno', 'hiphop', 'historisch', 'holiday',\n",
       "       'horror', 'house', 'hymn', 'idm', 'independent', 'indian', 'indie',\n",
       "       'indipop', 'industrial', 'inspirational', 'instrumental',\n",
       "       'international', 'irish', 'jam', 'japanese', 'jazz', 'jewish',\n",
       "       'jpop', 'jungle', 'k-pop', 'karadeniz', 'karaoke', 'kayokyoku',\n",
       "       'korean', 'laiko', 'latin', 'latino', 'leftfield', 'local',\n",
       "       'lounge', 'loungeelectronic', 'lovers', 'malaysian', 'mandopop',\n",
       "       'marschmusik', 'meditative', 'mediterranean', 'melodic', 'metal',\n",
       "       'metalcore', 'mexican', 'middle', 'minimal', 'miscellaneous',\n",
       "       'modern', 'mood', 'mpb', 'muslim', 'native', 'neoklassik', 'neue',\n",
       "       'new', 'newage', 'newwave', 'nu', 'nujazz', 'numetal', 'oceania',\n",
       "       'old', 'opera', 'orchestral', 'other', 'piano', 'podcasts', 'pop',\n",
       "       'popdance', 'popelectronic', 'popeurodance', 'poprussian', 'post',\n",
       "       'posthardcore', 'postrock', 'power', 'progmetal', 'progressive',\n",
       "       'psychedelic', 'punjabi', 'punk', 'quebecois', 'ragga', 'ram',\n",
       "       'rancheras', 'rap', 'rave', 'reggae', 'reggaeton', 'regional',\n",
       "       'relax', 'religious', 'retro', 'rhythm', 'rnb', 'rnr', 'rock',\n",
       "       'rockabilly', 'rockalternative', 'rockindie', 'rockother',\n",
       "       'romance', 'roots', 'ruspop', 'rusrap', 'rusrock', 'russian',\n",
       "       'salsa', 'samba', 'scenic', 'schlager', 'self', 'sertanejo',\n",
       "       'shanson', 'shoegazing', 'showtunes', 'singer', 'ska', 'skarock',\n",
       "       'slow', 'smooth', 'soft', 'soul', 'soulful', 'sound', 'soundtrack',\n",
       "       'southern', 'specialty', 'speech', 'spiritual', 'sport',\n",
       "       'stonerrock', 'surf', 'swing', 'synthpop', 'synthrock',\n",
       "       'sängerportrait', 'tango', 'tanzorchester', 'taraftar', 'tatar',\n",
       "       'tech', 'techno', 'teen', 'thrash', 'top', 'traditional',\n",
       "       'tradjazz', 'trance', 'tribal', 'trip', 'triphop', 'tropical',\n",
       "       'türk', 'türkçe', 'ukrrock', 'unknown', 'urban', 'uzbek',\n",
       "       'variété', 'vi', 'videogame', 'vocal', 'western', 'world',\n",
       "       'worldbeat', 'ïîï', 'электроника'], dtype=object)"
      ]
     },
     "execution_count": 18,
     "metadata": {},
     "output_type": "execute_result"
    }
   ],
   "source": [
    "genre_sort = df['genre']\n",
    "genre_sort = genre_sort.sort_values().unique()\n",
    "genre_sort  # Проверка на неявные дубликаты"
   ]
  },
  {
   "cell_type": "markdown",
   "metadata": {},
   "source": [
    "<font color='DarkBlue'><b>Комментарий ревьюера</b></font><br>\n",
    "<font color='DarkGreen'>👌 И функция наша правильно работает. 😄</font><br>\n",
    "<font color='DarkMagenta'>👉 <b>display()</b> 😒</font><br>\n",
    "<font color='Blue'><b>Удалил display </b></font><br>"
   ]
  },
  {
   "cell_type": "markdown",
   "metadata": {
    "id": "jz6a9-7HQUDd"
   },
   "source": [
    "**Выводы**\n",
    "\n",
    "Предобработка обнаружила три проблемы в данных:\n",
    "\n",
    "- нарушения в стиле заголовков,\n",
    "- пропущенные значения,\n",
    "- дубликаты — явные и неявные.\n",
    "\n",
    "Вы исправили заголовки, чтобы упростить работу с таблицей. Без дубликатов исследование станет более точным.\n",
    "\n",
    "Пропущенные значения вы заменили на `'unknown'`. Ещё предстоит увидеть, не повредят ли исследованию пропуски в колонке `genre`.\n",
    "\n",
    "Теперь можно перейти к проверке гипотез. "
   ]
  },
  {
   "cell_type": "markdown",
   "metadata": {
    "id": "WttZHXH0SqKk"
   },
   "source": [
    "## Проверка гипотез"
   ]
  },
  {
   "cell_type": "markdown",
   "metadata": {
    "id": "Im936VVi_Zcu"
   },
   "source": [
    "### Сравнение поведения пользователей двух столиц"
   ]
  },
  {
   "cell_type": "markdown",
   "metadata": {
    "id": "nwt_MuaL_Zcu"
   },
   "source": [
    "Первая гипотеза утверждает, что пользователи по-разному слушают музыку в Москве и Санкт-Петербурге. Проверьте это предположение по данным о трёх днях недели — понедельнике, среде и пятнице. Для этого:\n",
    "\n",
    "* Разделите пользователей Москвы и Санкт-Петербурга\n",
    "* Сравните, сколько треков послушала каждая группа пользователей в понедельник, среду и пятницу.\n"
   ]
  },
  {
   "cell_type": "markdown",
   "metadata": {
    "id": "8Dw_YMmT_Zcu"
   },
   "source": [
    "Для тренировки сначала выполните каждый из расчётов по отдельности. \n",
    "\n",
    "Оцените активность пользователей в каждом городе. Сгруппируйте данные по городу и посчитайте прослушивания в каждой группе.\n",
    "\n"
   ]
  },
  {
   "cell_type": "code",
   "execution_count": 19,
   "metadata": {
    "id": "0_Qs96oh_Zcu"
   },
   "outputs": [
    {
     "data": {
      "text/plain": [
       "city\n",
       "Moscow              42741\n",
       "Saint-Petersburg    18512\n",
       "Name: user_id, dtype: int64"
      ]
     },
     "execution_count": 19,
     "metadata": {},
     "output_type": "execute_result"
    }
   ],
   "source": [
    "city_sort = df.groupby('city')['user_id'].count()\n",
    "city_sort  # Подсчёт прослушиваний в каждом городе"
   ]
  },
  {
   "cell_type": "markdown",
   "metadata": {},
   "source": [
    "<font color='DarkBlue'><b>Комментарий ревьюера</b></font><br>\n",
    "<font color='DarkGreen'>👌 Все сделано почти правильно. 🙄</font><br><font color='DarkMagenta'>👉 <b>display()</b> 😒</font><br>\n",
    "<font color='Blue'><b>Удалил display </b></font><br>"
   ]
  },
  {
   "cell_type": "markdown",
   "metadata": {
    "id": "dzli3w8o_Zcu"
   },
   "source": [
    "В Москве прослушиваний больше, чем в Петербурге. Из этого не следует, что московские пользователи чаще слушают музыку. Просто самих пользователей в Москве больше.\n",
    "\n",
    "Теперь сгруппируйте данные по дню недели и подсчитайте прослушивания в понедельник, среду и пятницу. Учтите, что в данных есть информация о прослушиваниях только за эти дни.\n"
   ]
  },
  {
   "cell_type": "code",
   "execution_count": 20,
   "metadata": {
    "id": "uZMKjiJz_Zcu"
   },
   "outputs": [
    {
     "data": {
      "text/plain": [
       "day\n",
       "Friday       21840\n",
       "Monday       21354\n",
       "Wednesday    18059\n",
       "Name: user_id, dtype: int64"
      ]
     },
     "execution_count": 20,
     "metadata": {},
     "output_type": "execute_result"
    }
   ],
   "source": [
    "day_sort = df.groupby('day')['user_id'].count()\n",
    "day_sort  # Подсчёт прослушиваний в каждый из трёх дней"
   ]
  },
  {
   "cell_type": "markdown",
   "metadata": {},
   "source": [
    "<font color='DarkBlue'><b>Комментарий ревьюера</b></font><br>\n",
    "<font color='DarkGreen'>👌 Хорошо, но:</font><br><font color='DarkMagenta'>👉 <b>display()</b> 😢</font><br>\n",
    "<font color='Blue'><b>Удалил display </b></font><br>"
   ]
  },
  {
   "cell_type": "markdown",
   "metadata": {
    "id": "cC2tNrlL_Zcu"
   },
   "source": [
    "В среднем пользователи из двух городов менее активны по средам. Но картина может измениться, если рассмотреть каждый город в отдельности."
   ]
  },
  {
   "cell_type": "markdown",
   "metadata": {
    "id": "POzs8bGa_Zcu"
   },
   "source": [
    "Вы видели, как работает группировка по городу и по дням недели. Теперь напишите функцию, которая объединит два эти расчёта.\n",
    "\n",
    "Создайте функцию `number_tracks()`, которая посчитает прослушивания для заданного дня и города. Ей понадобятся два параметра:\n",
    "* день недели,\n",
    "* название города.\n",
    "\n",
    "В функции сохраните в переменную строки исходной таблицы, у которых значение:\n",
    "  * в колонке `day` равно параметру `day`,\n",
    "  * в колонке `city` равно параметру `city`.\n",
    "\n",
    "Для этого примените последовательную фильтрацию с логической индексацией.\n",
    "\n",
    "Затем посчитайте значения в столбце `user_id` получившейся таблицы. Результат сохраните в новую переменную. Верните эту переменную из функции."
   ]
  },
  {
   "cell_type": "code",
   "execution_count": 21,
   "metadata": {
    "id": "Nz3GdQB1_Zcu"
   },
   "outputs": [],
   "source": [
    "def number_tracks (day_week,city_name): # <создание функции number_tracks()> Объявляется функция с двумя параметрами: day, city.\n",
    "    track_list = df[df['day'] == day_week]    # В переменной track_list сохраняются те строки таблицы df, для которых значение в столбце 'day' равно параметру day \n",
    "    track_list = track_list[track_list['city']==city_name]    # и одновременно значение в столбце 'city' равно параметру city (используя последовательную фильтрацию с помощью логической индексации).    \n",
    "    track_list_count =track_list['user_id'].count()  # В переменной track_list_count сохраняется число значений столбца 'user_id', рассчитанное методом count() для таблицы track_list.\n",
    "    return track_list_count  # Функция возвращает число - значение track_list_count.\n",
    "\n",
    "# Функция для подсчёта прослушиваний для конкретного города и дня.\n",
    "# С помощью последовательной фильтрации с логической индексацией она \n",
    "# сначала получит из исходной таблицы строки с нужным днём,\n",
    "# затем из результата отфильтрует строки с нужным городом,\n",
    "# методом count() посчитает количество значений в колонке user_id. \n",
    "# Это количество функция вернёт в качестве результата"
   ]
  },
  {
   "attachments": {
    "image.png": {
     "image/png": "[encoded data removed]"
    }
   },
   "cell_type": "markdown",
   "metadata": {},
   "source": [
    "<font color='DarkBlue'><b>Комментарий ревьюера</b></font><br>\n",
    "<font color='Red'>🛠 А вот с функцией у нас проблемы. 😢 Нам надо вернуть из функции значение, а мы возвращаем массив. 😢 См.скрин. </font>\n",
    "![image.png](attachment:image.png)<br>\n",
    "<font color='Blue'><b>Удалил группировку, знчения немного скорретировались. Но теперь в явном виде в результате не указн город к кторому относится знчение.Насколько это удобно / праильно? </b></font><br>"
   ]
  },
  {
   "cell_type": "markdown",
   "metadata": {},
   "source": [
    "<font color='DarkBlue'><b>Комментарий ревьюера 2</b></font><br>\n",
    "<font color='DarkMagenta'>👉 А зачем в результате город, если мы сами его подаем в функцию?</font>"
   ]
  },
  {
   "cell_type": "code",
   "execution_count": 22,
   "metadata": {},
   "outputs": [
    {
     "data": {
      "text/plain": [
       "numpy.int64"
      ]
     },
     "execution_count": 22,
     "metadata": {},
     "output_type": "execute_result"
    }
   ],
   "source": [
    "# Комментарий ревьюера\n",
    "type(number_tracks ('Monday', 'Moscow'))"
   ]
  },
  {
   "cell_type": "markdown",
   "metadata": {
    "id": "ytf7xFrFJQ2r"
   },
   "source": [
    "Вызовите `number_tracks()` шесть раз, меняя значение параметров — так, чтобы получить данные для каждого города в каждый из трёх дней."
   ]
  },
  {
   "cell_type": "code",
   "execution_count": 23,
   "metadata": {
    "id": "rJcRATNQ_Zcu"
   },
   "outputs": [
    {
     "data": {
      "text/plain": [
       "15740"
      ]
     },
     "execution_count": 23,
     "metadata": {},
     "output_type": "execute_result"
    }
   ],
   "source": [
    "number_tracks ('Monday', 'Moscow')  # количество прослушиваний в Москве по понедельникам"
   ]
  },
  {
   "cell_type": "code",
   "execution_count": 24,
   "metadata": {
    "id": "hq_ncZ5T_Zcu"
   },
   "outputs": [
    {
     "data": {
      "text/plain": [
       "5614"
      ]
     },
     "execution_count": 24,
     "metadata": {},
     "output_type": "execute_result"
    }
   ],
   "source": [
    "number_tracks ('Monday', 'Saint-Petersburg')  # количество прослушиваний в Санкт-Петербурге по понедельникам"
   ]
  },
  {
   "cell_type": "code",
   "execution_count": 25,
   "metadata": {
    "id": "_NTy2VPU_Zcu"
   },
   "outputs": [
    {
     "data": {
      "text/plain": [
       "11056"
      ]
     },
     "execution_count": 25,
     "metadata": {},
     "output_type": "execute_result"
    }
   ],
   "source": [
    "number_tracks ('Wednesday', 'Moscow')  # количество прослушиваний в Москве по средам"
   ]
  },
  {
   "cell_type": "code",
   "execution_count": 26,
   "metadata": {
    "id": "j2y3TAwo_Zcu"
   },
   "outputs": [
    {
     "data": {
      "text/plain": [
       "7003"
      ]
     },
     "execution_count": 26,
     "metadata": {},
     "output_type": "execute_result"
    }
   ],
   "source": [
    "number_tracks ('Wednesday', 'Saint-Petersburg')  # количество прослушиваний в Санкт-Петербурге по средам"
   ]
  },
  {
   "cell_type": "code",
   "execution_count": 27,
   "metadata": {
    "id": "vYDw5u_K_Zcu"
   },
   "outputs": [
    {
     "data": {
      "text/plain": [
       "15945"
      ]
     },
     "execution_count": 27,
     "metadata": {},
     "output_type": "execute_result"
    }
   ],
   "source": [
    "number_tracks ('Friday', 'Moscow')  # количество прослушиваний в Москве по пятницам"
   ]
  },
  {
   "cell_type": "code",
   "execution_count": 28,
   "metadata": {
    "id": "8_yzFtW3_Zcu"
   },
   "outputs": [
    {
     "data": {
      "text/plain": [
       "5895"
      ]
     },
     "execution_count": 28,
     "metadata": {},
     "output_type": "execute_result"
    }
   ],
   "source": [
    "number_tracks ('Friday', 'Saint-Petersburg')  # количество прослушиваний в Санкт-Петербурге по пятницам"
   ]
  },
  {
   "cell_type": "markdown",
   "metadata": {
    "id": "7QXffbO-_Zcu"
   },
   "source": [
    "Создайте c помощью конструктора `pd.DataFrame` таблицу, где\n",
    "* названия колонок — `['city', 'monday', 'wednesday', 'friday']`;\n",
    "* данные — результаты, которые вы получили с помощью `number_tracks`."
   ]
  },
  {
   "cell_type": "code",
   "execution_count": 29,
   "metadata": {
    "id": "APAcLpOr_Zcu"
   },
   "outputs": [
    {
     "data": {
      "text/html": [
       "<div>\n",
       "<style scoped>\n",
       "    .dataframe tbody tr th:only-of-type {\n",
       "        vertical-align: middle;\n",
       "    }\n",
       "\n",
       "    .dataframe tbody tr th {\n",
       "        vertical-align: top;\n",
       "    }\n",
       "\n",
       "    .dataframe thead th {\n",
       "        text-align: right;\n",
       "    }\n",
       "</style>\n",
       "<table border=\"1\" class=\"dataframe\">\n",
       "  <thead>\n",
       "    <tr style=\"text-align: right;\">\n",
       "      <th></th>\n",
       "      <th>city</th>\n",
       "      <th>monday</th>\n",
       "      <th>wednesday</th>\n",
       "      <th>friday</th>\n",
       "    </tr>\n",
       "  </thead>\n",
       "  <tbody>\n",
       "    <tr>\n",
       "      <th>0</th>\n",
       "      <td>Moscow</td>\n",
       "      <td>15740</td>\n",
       "      <td>11056</td>\n",
       "      <td>15945</td>\n",
       "    </tr>\n",
       "    <tr>\n",
       "      <th>1</th>\n",
       "      <td>Saint-Petersburg</td>\n",
       "      <td>5614</td>\n",
       "      <td>7003</td>\n",
       "      <td>5895</td>\n",
       "    </tr>\n",
       "  </tbody>\n",
       "</table>\n",
       "</div>"
      ],
      "text/plain": [
       "               city  monday  wednesday  friday\n",
       "0            Moscow   15740      11056   15945\n",
       "1  Saint-Petersburg    5614       7003    5895"
      ]
     },
     "execution_count": 29,
     "metadata": {},
     "output_type": "execute_result"
    }
   ],
   "source": [
    "columns =['city', 'monday', 'wednesday', 'friday']  #Таблица с результатами\n",
    "data = [['Moscow',number_tracks ('Monday', 'Moscow') , number_tracks ('Wednesday', 'Moscow'), number_tracks ('Friday', 'Moscow')],['Saint-Petersburg', number_tracks ('Monday', 'Saint-Petersburg'), number_tracks ('Wednesday', 'Saint-Petersburg'),number_tracks ('Friday', 'Saint-Petersburg')]]\n",
    "result = pd.DataFrame(data=data,columns=columns)    \n",
    "result\n",
    "    "
   ]
  },
  {
   "cell_type": "markdown",
   "metadata": {},
   "source": [
    "<font color='DarkBlue'><b>Комментарий ревьюера</b></font><br>\n",
    "<font color='DarkGreen'>👌 Очень хорошо.</font><br>\n",
    "<font color='DarkMagenta'>👉 Можно было бы сделать по другому, не вводить значения вручную, а использовать тобой написанную функцию number_tracks (после ее исправления). А то функцию написали, но не используем. 😉</font><br>\n",
    "<font color='Blue'><b>Так ? </b></font><br><br>\n",
    "<font color='Blue'><b>Удалил display, верно?  </b></font><br>"
   ]
  },
  {
   "cell_type": "markdown",
   "metadata": {},
   "source": [
    "<font color='DarkBlue'><b>Комментарий ревьюера 2</b></font><br>\n",
    "<font color='DarkGreen'>👌 УРА! Все верно! 💪</font>"
   ]
  },
  {
   "cell_type": "markdown",
   "metadata": {
    "id": "-EgPIHYu_Zcu"
   },
   "source": [
    "**Выводы**\n",
    "\n",
    "Данные показывают разницу поведения пользователей:\n",
    "\n",
    "- В Москве пик прослушиваний приходится на понедельник и пятницу, а в среду заметен спад.\n",
    "- В Петербурге, наоборот, больше слушают музыку по средам. Активность в понедельник и пятницу здесь почти в равной мере уступает среде.\n",
    "\n",
    "Значит, данные говорят в пользу первой гипотезы."
   ]
  },
  {
   "cell_type": "markdown",
   "metadata": {
    "id": "atZAxtq4_Zcu"
   },
   "source": [
    "### Музыка в начале и в конце недели"
   ]
  },
  {
   "cell_type": "markdown",
   "metadata": {
    "id": "eXrQqXFH_Zcu"
   },
   "source": [
    "Согласно второй гипотезе, утром в понедельник в Москве преобладают одни жанры, а в Петербурге — другие. Так же и вечером пятницы преобладают разные жанры — в зависимости от города."
   ]
  },
  {
   "cell_type": "markdown",
   "metadata": {
    "id": "S8UcW6Hw_Zcu"
   },
   "source": [
    "Сохраните таблицы с данными в две переменные:\n",
    "* по Москве — в `moscow_general`;\n",
    "* по Санкт-Петербургу — в `spb_general`."
   ]
  },
  {
   "cell_type": "code",
   "execution_count": 30,
   "metadata": {
    "id": "qeaFfM_P_Zcu"
   },
   "outputs": [
    {
     "data": {
      "text/html": [
       "<div>\n",
       "<style scoped>\n",
       "    .dataframe tbody tr th:only-of-type {\n",
       "        vertical-align: middle;\n",
       "    }\n",
       "\n",
       "    .dataframe tbody tr th {\n",
       "        vertical-align: top;\n",
       "    }\n",
       "\n",
       "    .dataframe thead th {\n",
       "        text-align: right;\n",
       "    }\n",
       "</style>\n",
       "<table border=\"1\" class=\"dataframe\">\n",
       "  <thead>\n",
       "    <tr style=\"text-align: right;\">\n",
       "      <th></th>\n",
       "      <th>user_id</th>\n",
       "      <th>track</th>\n",
       "      <th>artist</th>\n",
       "      <th>genre</th>\n",
       "      <th>city</th>\n",
       "      <th>time</th>\n",
       "      <th>day</th>\n",
       "    </tr>\n",
       "  </thead>\n",
       "  <tbody>\n",
       "    <tr>\n",
       "      <th>1</th>\n",
       "      <td>55204538</td>\n",
       "      <td>Delayed Because of Accident</td>\n",
       "      <td>Andreas Rönnberg</td>\n",
       "      <td>rock</td>\n",
       "      <td>Moscow</td>\n",
       "      <td>14:07:09</td>\n",
       "      <td>Friday</td>\n",
       "    </tr>\n",
       "    <tr>\n",
       "      <th>4</th>\n",
       "      <td>E2DC1FAE</td>\n",
       "      <td>Soul People</td>\n",
       "      <td>Space Echo</td>\n",
       "      <td>dance</td>\n",
       "      <td>Moscow</td>\n",
       "      <td>08:34:34</td>\n",
       "      <td>Monday</td>\n",
       "    </tr>\n",
       "    <tr>\n",
       "      <th>6</th>\n",
       "      <td>4CB90AA5</td>\n",
       "      <td>True</td>\n",
       "      <td>Roman Messer</td>\n",
       "      <td>dance</td>\n",
       "      <td>Moscow</td>\n",
       "      <td>13:00:07</td>\n",
       "      <td>Wednesday</td>\n",
       "    </tr>\n",
       "    <tr>\n",
       "      <th>7</th>\n",
       "      <td>F03E1C1F</td>\n",
       "      <td>Feeling This Way</td>\n",
       "      <td>Polina Griffith</td>\n",
       "      <td>dance</td>\n",
       "      <td>Moscow</td>\n",
       "      <td>20:47:49</td>\n",
       "      <td>Wednesday</td>\n",
       "    </tr>\n",
       "    <tr>\n",
       "      <th>8</th>\n",
       "      <td>8FA1D3BE</td>\n",
       "      <td>И вновь продолжается бой</td>\n",
       "      <td>unknown</td>\n",
       "      <td>ruspop</td>\n",
       "      <td>Moscow</td>\n",
       "      <td>09:17:40</td>\n",
       "      <td>Friday</td>\n",
       "    </tr>\n",
       "    <tr>\n",
       "      <th>...</th>\n",
       "      <td>...</td>\n",
       "      <td>...</td>\n",
       "      <td>...</td>\n",
       "      <td>...</td>\n",
       "      <td>...</td>\n",
       "      <td>...</td>\n",
       "      <td>...</td>\n",
       "    </tr>\n",
       "    <tr>\n",
       "      <th>61247</th>\n",
       "      <td>83A474E7</td>\n",
       "      <td>I Worship Only What You Bleed</td>\n",
       "      <td>The Black Dahlia Murder</td>\n",
       "      <td>extrememetal</td>\n",
       "      <td>Moscow</td>\n",
       "      <td>21:07:12</td>\n",
       "      <td>Monday</td>\n",
       "    </tr>\n",
       "    <tr>\n",
       "      <th>61248</th>\n",
       "      <td>729CBB09</td>\n",
       "      <td>My Name</td>\n",
       "      <td>McLean</td>\n",
       "      <td>rnb</td>\n",
       "      <td>Moscow</td>\n",
       "      <td>13:32:28</td>\n",
       "      <td>Wednesday</td>\n",
       "    </tr>\n",
       "    <tr>\n",
       "      <th>61250</th>\n",
       "      <td>C5E3A0D5</td>\n",
       "      <td>Jalopiina</td>\n",
       "      <td>unknown</td>\n",
       "      <td>industrial</td>\n",
       "      <td>Moscow</td>\n",
       "      <td>20:09:26</td>\n",
       "      <td>Friday</td>\n",
       "    </tr>\n",
       "    <tr>\n",
       "      <th>61251</th>\n",
       "      <td>321D0506</td>\n",
       "      <td>Freight Train</td>\n",
       "      <td>Chas McDevitt</td>\n",
       "      <td>rock</td>\n",
       "      <td>Moscow</td>\n",
       "      <td>21:43:59</td>\n",
       "      <td>Friday</td>\n",
       "    </tr>\n",
       "    <tr>\n",
       "      <th>61252</th>\n",
       "      <td>3A64EF84</td>\n",
       "      <td>Tell Me Sweet Little Lies</td>\n",
       "      <td>Monica Lopez</td>\n",
       "      <td>country</td>\n",
       "      <td>Moscow</td>\n",
       "      <td>21:59:46</td>\n",
       "      <td>Friday</td>\n",
       "    </tr>\n",
       "  </tbody>\n",
       "</table>\n",
       "<p>42741 rows × 7 columns</p>\n",
       "</div>"
      ],
      "text/plain": [
       "        user_id                          track                   artist  \\\n",
       "1      55204538    Delayed Because of Accident         Andreas Rönnberg   \n",
       "4      E2DC1FAE                    Soul People               Space Echo   \n",
       "6      4CB90AA5                           True             Roman Messer   \n",
       "7      F03E1C1F               Feeling This Way          Polina Griffith   \n",
       "8      8FA1D3BE       И вновь продолжается бой                  unknown   \n",
       "...         ...                            ...                      ...   \n",
       "61247  83A474E7  I Worship Only What You Bleed  The Black Dahlia Murder   \n",
       "61248  729CBB09                        My Name                   McLean   \n",
       "61250  C5E3A0D5                      Jalopiina                  unknown   \n",
       "61251  321D0506                  Freight Train            Chas McDevitt   \n",
       "61252  3A64EF84      Tell Me Sweet Little Lies             Monica Lopez   \n",
       "\n",
       "              genre    city      time        day  \n",
       "1              rock  Moscow  14:07:09     Friday  \n",
       "4             dance  Moscow  08:34:34     Monday  \n",
       "6             dance  Moscow  13:00:07  Wednesday  \n",
       "7             dance  Moscow  20:47:49  Wednesday  \n",
       "8            ruspop  Moscow  09:17:40     Friday  \n",
       "...             ...     ...       ...        ...  \n",
       "61247  extrememetal  Moscow  21:07:12     Monday  \n",
       "61248           rnb  Moscow  13:32:28  Wednesday  \n",
       "61250    industrial  Moscow  20:09:26     Friday  \n",
       "61251          rock  Moscow  21:43:59     Friday  \n",
       "61252       country  Moscow  21:59:46     Friday  \n",
       "\n",
       "[42741 rows x 7 columns]"
      ]
     },
     "execution_count": 30,
     "metadata": {},
     "output_type": "execute_result"
    }
   ],
   "source": [
    "moscow_general = df[df['city'] =='Moscow']\n",
    "moscow_general # получение таблицы moscow_general из тех строк таблицы df, для которых значение в столбце 'city' равно 'Moscow'"
   ]
  },
  {
   "cell_type": "markdown",
   "metadata": {},
   "source": [
    "<font color='DarkBlue'><b>Комментарий ревьюера</b></font><br>\n",
    "<font color='DarkGreen'>👌 Правильно используется логическая индексация.</font><br>\n",
    "<font color='DarkMagenta'>👉 А зечем нам функция display(). 😢</font><br>\n",
    "<font color='Blue'><b>Удалил display </b></font><br>"
   ]
  },
  {
   "cell_type": "code",
   "execution_count": 31,
   "metadata": {
    "id": "ORaVRKto_Zcu"
   },
   "outputs": [
    {
     "data": {
      "text/html": [
       "<div>\n",
       "<style scoped>\n",
       "    .dataframe tbody tr th:only-of-type {\n",
       "        vertical-align: middle;\n",
       "    }\n",
       "\n",
       "    .dataframe tbody tr th {\n",
       "        vertical-align: top;\n",
       "    }\n",
       "\n",
       "    .dataframe thead th {\n",
       "        text-align: right;\n",
       "    }\n",
       "</style>\n",
       "<table border=\"1\" class=\"dataframe\">\n",
       "  <thead>\n",
       "    <tr style=\"text-align: right;\">\n",
       "      <th></th>\n",
       "      <th>user_id</th>\n",
       "      <th>track</th>\n",
       "      <th>artist</th>\n",
       "      <th>genre</th>\n",
       "      <th>city</th>\n",
       "      <th>time</th>\n",
       "      <th>day</th>\n",
       "    </tr>\n",
       "  </thead>\n",
       "  <tbody>\n",
       "    <tr>\n",
       "      <th>0</th>\n",
       "      <td>FFB692EC</td>\n",
       "      <td>Kamigata To Boots</td>\n",
       "      <td>The Mass Missile</td>\n",
       "      <td>rock</td>\n",
       "      <td>Saint-Petersburg</td>\n",
       "      <td>20:28:33</td>\n",
       "      <td>Wednesday</td>\n",
       "    </tr>\n",
       "    <tr>\n",
       "      <th>2</th>\n",
       "      <td>20EC38</td>\n",
       "      <td>Funiculì funiculà</td>\n",
       "      <td>Mario Lanza</td>\n",
       "      <td>pop</td>\n",
       "      <td>Saint-Petersburg</td>\n",
       "      <td>20:58:07</td>\n",
       "      <td>Wednesday</td>\n",
       "    </tr>\n",
       "    <tr>\n",
       "      <th>3</th>\n",
       "      <td>A3DD03C9</td>\n",
       "      <td>Dragons in the Sunset</td>\n",
       "      <td>Fire + Ice</td>\n",
       "      <td>folk</td>\n",
       "      <td>Saint-Petersburg</td>\n",
       "      <td>08:37:09</td>\n",
       "      <td>Monday</td>\n",
       "    </tr>\n",
       "    <tr>\n",
       "      <th>5</th>\n",
       "      <td>842029A1</td>\n",
       "      <td>Преданная</td>\n",
       "      <td>IMPERVTOR</td>\n",
       "      <td>rusrap</td>\n",
       "      <td>Saint-Petersburg</td>\n",
       "      <td>13:09:41</td>\n",
       "      <td>Friday</td>\n",
       "    </tr>\n",
       "    <tr>\n",
       "      <th>9</th>\n",
       "      <td>E772D5C0</td>\n",
       "      <td>Pessimist</td>\n",
       "      <td>unknown</td>\n",
       "      <td>dance</td>\n",
       "      <td>Saint-Petersburg</td>\n",
       "      <td>21:20:49</td>\n",
       "      <td>Wednesday</td>\n",
       "    </tr>\n",
       "    <tr>\n",
       "      <th>...</th>\n",
       "      <td>...</td>\n",
       "      <td>...</td>\n",
       "      <td>...</td>\n",
       "      <td>...</td>\n",
       "      <td>...</td>\n",
       "      <td>...</td>\n",
       "      <td>...</td>\n",
       "    </tr>\n",
       "    <tr>\n",
       "      <th>61239</th>\n",
       "      <td>D94F810B</td>\n",
       "      <td>Theme from the Walking Dead</td>\n",
       "      <td>Proyecto Halloween</td>\n",
       "      <td>film</td>\n",
       "      <td>Saint-Petersburg</td>\n",
       "      <td>21:14:40</td>\n",
       "      <td>Monday</td>\n",
       "    </tr>\n",
       "    <tr>\n",
       "      <th>61240</th>\n",
       "      <td>BC8EC5CF</td>\n",
       "      <td>Red Lips: Gta (Rover Rework)</td>\n",
       "      <td>Rover</td>\n",
       "      <td>electronic</td>\n",
       "      <td>Saint-Petersburg</td>\n",
       "      <td>21:06:50</td>\n",
       "      <td>Monday</td>\n",
       "    </tr>\n",
       "    <tr>\n",
       "      <th>61241</th>\n",
       "      <td>29E04611</td>\n",
       "      <td>Bre Petrunko</td>\n",
       "      <td>Perunika Trio</td>\n",
       "      <td>world</td>\n",
       "      <td>Saint-Petersburg</td>\n",
       "      <td>13:56:00</td>\n",
       "      <td>Monday</td>\n",
       "    </tr>\n",
       "    <tr>\n",
       "      <th>61242</th>\n",
       "      <td>1B91C621</td>\n",
       "      <td>(Hello) Cloud Mountain</td>\n",
       "      <td>sleepmakeswaves</td>\n",
       "      <td>postrock</td>\n",
       "      <td>Saint-Petersburg</td>\n",
       "      <td>09:22:13</td>\n",
       "      <td>Monday</td>\n",
       "    </tr>\n",
       "    <tr>\n",
       "      <th>61249</th>\n",
       "      <td>D08D4A55</td>\n",
       "      <td>Maybe One Day (feat. Black Spade)</td>\n",
       "      <td>Blu &amp; Exile</td>\n",
       "      <td>hiphop</td>\n",
       "      <td>Saint-Petersburg</td>\n",
       "      <td>10:00:00</td>\n",
       "      <td>Monday</td>\n",
       "    </tr>\n",
       "  </tbody>\n",
       "</table>\n",
       "<p>18512 rows × 7 columns</p>\n",
       "</div>"
      ],
      "text/plain": [
       "        user_id                              track              artist  \\\n",
       "0      FFB692EC                  Kamigata To Boots    The Mass Missile   \n",
       "2        20EC38                  Funiculì funiculà         Mario Lanza   \n",
       "3      A3DD03C9              Dragons in the Sunset          Fire + Ice   \n",
       "5      842029A1                          Преданная           IMPERVTOR   \n",
       "9      E772D5C0                          Pessimist             unknown   \n",
       "...         ...                                ...                 ...   \n",
       "61239  D94F810B        Theme from the Walking Dead  Proyecto Halloween   \n",
       "61240  BC8EC5CF       Red Lips: Gta (Rover Rework)               Rover   \n",
       "61241  29E04611                       Bre Petrunko       Perunika Trio   \n",
       "61242  1B91C621             (Hello) Cloud Mountain     sleepmakeswaves   \n",
       "61249  D08D4A55  Maybe One Day (feat. Black Spade)         Blu & Exile   \n",
       "\n",
       "            genre              city      time        day  \n",
       "0            rock  Saint-Petersburg  20:28:33  Wednesday  \n",
       "2             pop  Saint-Petersburg  20:58:07  Wednesday  \n",
       "3            folk  Saint-Petersburg  08:37:09     Monday  \n",
       "5          rusrap  Saint-Petersburg  13:09:41     Friday  \n",
       "9           dance  Saint-Petersburg  21:20:49  Wednesday  \n",
       "...           ...               ...       ...        ...  \n",
       "61239        film  Saint-Petersburg  21:14:40     Monday  \n",
       "61240  electronic  Saint-Petersburg  21:06:50     Monday  \n",
       "61241       world  Saint-Petersburg  13:56:00     Monday  \n",
       "61242    postrock  Saint-Petersburg  09:22:13     Monday  \n",
       "61249      hiphop  Saint-Petersburg  10:00:00     Monday  \n",
       "\n",
       "[18512 rows x 7 columns]"
      ]
     },
     "execution_count": 31,
     "metadata": {},
     "output_type": "execute_result"
    }
   ],
   "source": [
    "spb_general = df[df['city'] =='Saint-Petersburg']\n",
    "spb_general # получение таблицы spb_general из тех строк таблицы df,для которых значение в столбце 'city' равно 'Saint-Petersburg'"
   ]
  },
  {
   "cell_type": "markdown",
   "metadata": {},
   "source": [
    "<font color='DarkBlue'><b>Комментарий ревьюера</b></font><br>\n",
    "<font color='DarkGreen'>👌 Все почти правильно.</font><br><font color='DarkMagenta'>👉 <b>display()</b> 😒</font><br>\n",
    "<font color='Blue'><b>Удалил display</b></font><br>"
   ]
  },
  {
   "cell_type": "markdown",
   "metadata": {
    "id": "MEJV-CX2_Zcu"
   },
   "source": [
    "Создайте функцию `genre_weekday()` с четырьмя параметрами:\n",
    "* таблица (датафрейм) с данными,\n",
    "* день недели,\n",
    "* начальная временная метка в формате 'hh:mm', \n",
    "* последняя временная метка в формате 'hh:mm'.\n",
    "\n",
    "Функция должна вернуть информацию о топ-10 жанров тех треков, которые прослушивали в указанный день, в промежутке между двумя отметками времени."
   ]
  },
  {
   "cell_type": "code",
   "execution_count": 32,
   "metadata": {
    "id": "laJT9BYl_Zcu"
   },
   "outputs": [],
   "source": [
    "def genre_weekday (table, day, time1, time2):       # Объявление функции genre_weekday() с параметрами table, day, time1, time2,которая возвращает информацию о самых популярных жанрах в указанный день в заданное время:  \n",
    "    genre_df = table[table['day']==day]             #  в переменную genre_df сохраняются те строки переданного датафрейма table, для которых одновременно:  значение в столбце day равно значению аргумента day\n",
    "    genre_df = genre_df[genre_df['time']> time1]    #  значение в столбце time больше значения аргумента time1\n",
    "    genre_df = genre_df [genre_df['time']< time2]   #  значение в столбце time меньше значения аргумента time2   #    Используйте последовательную фильтрацию с помощью логической индексации.\n",
    "    genre_df_count = genre_df.groupby('genre')['user_id'].count()  # 2) сгруппировать датафрейм genre_df по столбцу genre, взять один из его столбцов и посчитать методом count() количество записей для каждого из присутствующих жанров, получившийся Series записать в переменную genre_df_count\n",
    "    genre_df_sorted = genre_df_count.sort_values(ascending=False)  # 3) отсортировать genre_df_count по убыванию встречаемости и сохранить в переменную genre_df_sorted\n",
    "    return genre_df_sorted[:10]        # 4) вернуть Series из 10 первых значений genre_df_sorted, это будут топ-10 популярных жанров (в указанный день, в заданное время)\n",
    "    \n",
    " "
   ]
  },
  {
   "cell_type": "markdown",
   "metadata": {},
   "source": [
    "<font color='DarkBlue'><b>Комментарий ревьюера</b></font><br>\n",
    "<font color='DarkGreen'>👌 Хорошо сделана фильтрация 😉. Хочу обратить внимание, что при подаче аргументов времени данные равные этому времени не будут обработаны. Обращай внимание на операторы сравнения '<' и '=<'. </font><br>\n",
    "<font color='DarkMagenta'>👉 И не обычное применение метода .haed(10). Ожидалось использование среза. Да, результат одинаковый, но у потенциального работодателя могут возникнуть вопросы по такому коду 😒.</font><br>\n",
    "<font color='Blue'><b>Верно исправил? Срез работает эффективней чем .head?  Далее ( в п3.3) так же использован .head(10) для вывода первых 10 строк - замечаний нет. Или это потому что там указано в задании \"вывести на экран первые 10 строк\" ?</b></font>"
   ]
  },
  {
   "cell_type": "markdown",
   "metadata": {},
   "source": [
    "<font color='DarkBlue'><b>Комментарий ревьюера 2</b></font><br>\n",
    "<font color='DarkGreen'>👌 Теперь ни кто не скажет, что мы не знаем, что такое срезы. 😉</font>\n",
    "<br>\n",
    "<font color='DarkGreen'>👌 Суть в том, что метод `.head(N)` предназначен только для вывода N первых строк таблицы. А срезы предназначены для извлечения из таблицы диапазона строк. Это как гвоздь, можно забивать ботинком, но лучше молотком. А такое использование метода `.head()` может дать повод усомниться в профессионализме автора кода. 🙄</font>"
   ]
  },
  {
   "cell_type": "markdown",
   "metadata": {
    "id": "la2s2_PF_Zcu"
   },
   "source": [
    "Cравните результаты функции `genre_weekday()` для Москвы и Санкт-Петербурга в понедельник утром (с 7:00 до 11:00) и в пятницу вечером (с 17:00 до 23:00):"
   ]
  },
  {
   "cell_type": "code",
   "execution_count": 33,
   "metadata": {
    "id": "yz7itPUQ_Zcu"
   },
   "outputs": [
    {
     "data": {
      "text/plain": [
       "genre\n",
       "pop            781\n",
       "dance          549\n",
       "electronic     480\n",
       "rock           474\n",
       "hiphop         286\n",
       "ruspop         186\n",
       "world          181\n",
       "rusrap         175\n",
       "alternative    164\n",
       "unknown        161\n",
       "Name: user_id, dtype: int64"
      ]
     },
     "execution_count": 33,
     "metadata": {},
     "output_type": "execute_result"
    }
   ],
   "source": [
    "genre_weekday (moscow_general,'Monday', '07:00', '11:00' ) # вызов функции для утра понедельника в Москве (вместо df — таблица moscow_general)\n",
    "# объекты, хранящие время, являются строками и сравниваются как строки\n",
    "# пример вызова: genre_weekday(moscow_general, 'Monday', '07:00', '11:00')"
   ]
  },
  {
   "cell_type": "code",
   "execution_count": 34,
   "metadata": {
    "id": "kwUcHPdy_Zcu"
   },
   "outputs": [
    {
     "data": {
      "text/plain": [
       "genre\n",
       "pop            218\n",
       "dance          182\n",
       "rock           162\n",
       "electronic     147\n",
       "hiphop          80\n",
       "ruspop          64\n",
       "alternative     58\n",
       "rusrap          55\n",
       "jazz            44\n",
       "classical       40\n",
       "Name: user_id, dtype: int64"
      ]
     },
     "execution_count": 34,
     "metadata": {},
     "output_type": "execute_result"
    }
   ],
   "source": [
    "genre_weekday (spb_general,'Monday', '07:00', '11:00' ) # вызов функции для утра понедельника в Петербурге (вместо df — таблица spb_general)"
   ]
  },
  {
   "cell_type": "code",
   "execution_count": 35,
   "metadata": {
    "id": "EzXVRE1o_Zcu"
   },
   "outputs": [
    {
     "data": {
      "text/plain": [
       "genre\n",
       "pop            713\n",
       "rock           517\n",
       "dance          495\n",
       "electronic     482\n",
       "hiphop         273\n",
       "world          208\n",
       "ruspop         170\n",
       "alternative    163\n",
       "classical      163\n",
       "rusrap         142\n",
       "Name: user_id, dtype: int64"
      ]
     },
     "execution_count": 35,
     "metadata": {},
     "output_type": "execute_result"
    }
   ],
   "source": [
    "genre_weekday (moscow_general,'Friday', '17:00', '23:00' ) # вызов функции для вечера пятницы в Москве"
   ]
  },
  {
   "cell_type": "markdown",
   "metadata": {},
   "source": [
    "<font color='DarkBlue'><b>Комментарий ревьюера</b></font><br>\n",
    "<font color='Red'>🛠 Ая-я-яй! А что у нас написано в задании: <b> в пятницу вечером (с 17:00 до 23:00)</b>. А мы совсем не читаем задание? 😢</font><br>\n",
    "<font color='Blue'><b>Исправил вечернее время</b></font><br>"
   ]
  },
  {
   "cell_type": "markdown",
   "metadata": {},
   "source": [
    "<font color='DarkBlue'><b>Комментарий ревьюера 2</b></font><br>\n",
    "<font color='DarkGreen'>👌 Молодец! Будем внимательно относиться к тексту задания, а то можем, что то пропустить. Хорошо? 😄</font>"
   ]
  },
  {
   "cell_type": "code",
   "execution_count": 36,
   "metadata": {
    "id": "JZaEKu5v_Zcu"
   },
   "outputs": [
    {
     "data": {
      "text/plain": [
       "genre\n",
       "pop            256\n",
       "electronic     216\n",
       "rock           216\n",
       "dance          210\n",
       "hiphop          97\n",
       "alternative     63\n",
       "jazz            61\n",
       "classical       60\n",
       "rusrap          59\n",
       "world           54\n",
       "Name: user_id, dtype: int64"
      ]
     },
     "execution_count": 36,
     "metadata": {},
     "output_type": "execute_result"
    }
   ],
   "source": [
    "genre_weekday (spb_general,'Friday', '17:00', '23:00' )# вызов функции для вечера пятницы в Петербурге"
   ]
  },
  {
   "cell_type": "markdown",
   "metadata": {},
   "source": [
    "<font color='DarkBlue'><b>Комментарий ревьюера</b></font><br>\n",
    "<font color='Red'>🛠 Аналогичная ошибка. 🙄</font><br>\n",
    "<font color='Blue'><b>Исправил вечернее время</b></font><br>"
   ]
  },
  {
   "cell_type": "markdown",
   "metadata": {
    "id": "wrCe4MNX_Zcu"
   },
   "source": [
    "**Выводы**\n",
    "\n",
    "Если сравнить топ-10 жанров в понедельник утром, можно сделать такие выводы:\n",
    "\n",
    "1. В Москве и Петербурге слушают похожую музыку. Единственное отличие — в московский рейтинг вошёл жанр “world”, а в петербургский — джаз и классика.\n",
    "\n",
    "2. В Москве пропущенных значений оказалось так много, что значение `'unknown'` заняло десятое место среди самых популярных жанров. Значит, пропущенные значения занимают существенную долю в данных и угрожают достоверности исследования.\n",
    "\n",
    "Вечер пятницы не меняет эту картину. Некоторые жанры поднимаются немного выше, другие спускаются, но в целом топ-10 остаётся тем же самым.\n",
    "\n",
    "Таким образом, вторая гипотеза подтвердилась лишь частично:\n",
    "* Пользователи слушают похожую музыку в начале недели и в конце.\n",
    "* Разница между Москвой и Петербургом не слишком выражена. В Москве чаще слушают русскую популярную музыку, в Петербурге — джаз.\n",
    "\n",
    "Однако пропуски в данных ставят под сомнение этот результат. В Москве их так много, что рейтинг топ-10 мог бы выглядеть иначе, если бы не утерянные  данные о жанрах."
   ]
  },
  {
   "cell_type": "markdown",
   "metadata": {
    "id": "JolODAqr_Zcu"
   },
   "source": [
    "### Жанровые предпочтения в Москве и Петербурге\n",
    "\n",
    "Гипотеза: Петербург — столица рэпа, музыку этого жанра там слушают чаще, чем в Москве.  А Москва — город контрастов, в котором, тем не менее, преобладает поп-музыка."
   ]
  },
  {
   "cell_type": "markdown",
   "metadata": {
    "id": "DlegSvaT_Zcu"
   },
   "source": [
    "Сгруппируйте таблицу `moscow_general` по жанру и посчитайте прослушивания треков каждого жанра методом `count()`. Затем отсортируйте результат в порядке убывания и сохраните его в таблице `moscow_genres`."
   ]
  },
  {
   "cell_type": "code",
   "execution_count": 37,
   "metadata": {
    "id": "r19lIPke_Zcu"
   },
   "outputs": [],
   "source": [
    "moscow_genres=moscow_general.groupby('genre')['user_id'].count().sort_values(ascending=False)  # одной строкой: группировка таблицы moscow_general по столбцу 'genre', подсчёт числа значений 'genre' в этой группировке методом count(),сортировка получившегося Series в порядке убывания и сохранение в moscow_genres"
   ]
  },
  {
   "cell_type": "markdown",
   "metadata": {
    "id": "6kMuomxTiIr8"
   },
   "source": [
    "Выведите на экран первые десять строк `moscow_genres`:"
   ]
  },
  {
   "cell_type": "code",
   "execution_count": 38,
   "metadata": {
    "id": "WhCSooF8_Zcv"
   },
   "outputs": [
    {
     "data": {
      "text/plain": [
       "genre\n",
       "pop            5892\n",
       "dance          4435\n",
       "rock           3965\n",
       "electronic     3786\n",
       "hiphop         2096\n",
       "classical      1616\n",
       "world          1432\n",
       "alternative    1379\n",
       "ruspop         1372\n",
       "rusrap         1161\n",
       "Name: user_id, dtype: int64"
      ]
     },
     "execution_count": 38,
     "metadata": {},
     "output_type": "execute_result"
    }
   ],
   "source": [
    "moscow_genres.head(10)   # просмотр первых 10 строк moscow_genres"
   ]
  },
  {
   "cell_type": "markdown",
   "metadata": {
    "id": "cnPG2vnN_Zcv"
   },
   "source": [
    "Теперь повторите то же и для Петербурга.\n",
    "\n",
    "Сгруппируйте таблицу `spb_general` по жанру. Посчитайте прослушивания треков каждого жанра. Результат отсортируйте в порядке убывания и сохраните в таблице `spb_genres`:\n"
   ]
  },
  {
   "cell_type": "code",
   "execution_count": 39,
   "metadata": {
    "id": "gluLIpE7_Zcv"
   },
   "outputs": [],
   "source": [
    "spb_genres=spb_general.groupby('genre')['user_id'].count().sort_values(ascending=False)    # одной строкой: группировка таблицы spb_general по столбцу 'genre', подсчёт числа значений 'genre' в этой группировке методом count(), сортировка получившегося Series в порядке убывания и сохранение в spb_genres"
   ]
  },
  {
   "cell_type": "markdown",
   "metadata": {
    "id": "5Doha_ODgyQ8"
   },
   "source": [
    "Выведите на экран первые десять строк `spb_genres`:"
   ]
  },
  {
   "cell_type": "code",
   "execution_count": 40,
   "metadata": {
    "id": "uaGJHjVU_Zcv"
   },
   "outputs": [
    {
     "data": {
      "text/plain": [
       "genre\n",
       "pop            2431\n",
       "dance          1932\n",
       "rock           1879\n",
       "electronic     1736\n",
       "hiphop          960\n",
       "alternative     649\n",
       "classical       646\n",
       "rusrap          564\n",
       "ruspop          538\n",
       "world           515\n",
       "Name: user_id, dtype: int64"
      ]
     },
     "execution_count": 40,
     "metadata": {},
     "output_type": "execute_result"
    }
   ],
   "source": [
    "spb_genres.head (10) # просмотр первых 10 строк spb_genres"
   ]
  },
  {
   "cell_type": "markdown",
   "metadata": {},
   "source": [
    "<font color='DarkBlue'><b>Комментарий ревьюера</b></font><br>\n",
    "<font color='DarkGreen'>👌 Молодец! Все правильно.</font>"
   ]
  },
  {
   "cell_type": "markdown",
   "metadata": {
    "id": "RY51YJYu_Zcv"
   },
   "source": [
    "**Выводы**"
   ]
  },
  {
   "cell_type": "markdown",
   "metadata": {
    "id": "nVhnJEm__Zcv"
   },
   "source": [
    "Гипотеза частично подтвердилась:\n",
    "* Поп-музыка — самый популярный жанр в Москве, как и предполагала гипотеза. Более того, в топ-10 жанров встречается близкий жанр — русская популярная музыка.\n",
    "* Вопреки ожиданиям, рэп одинаково популярен в Москве и Петербурге. \n"
   ]
  },
  {
   "cell_type": "markdown",
   "metadata": {
    "id": "ykKQ0N65_Zcv"
   },
   "source": [
    "## Итоги исследования"
   ]
  },
  {
   "cell_type": "markdown",
   "metadata": {
    "id": "tjUwbHb3_Zcv"
   },
   "source": [
    "Вы проверили три гипотезы и установили:\n",
    "\n",
    "1. День недели по-разному влияет на активность пользователей в Москве и Петербурге. \n",
    "\n",
    "Первая гипотеза полностью подтвердилась.\n",
    "\n",
    "2. Музыкальные предпочтения не сильно меняются в течение недели — будь то Москва или Петербург. Небольшие различия заметны в начале недели, по понедельникам:\n",
    "* в Москве слушают музыку жанра “world”,\n",
    "* в Петербурге — джаз и классику.\n",
    "\n",
    "Таким образом, вторая гипотеза подтвердилась лишь отчасти. Этот результат мог оказаться иным, если бы не пропуски в данных.\n",
    "\n",
    "3. Во вкусах пользователей Москвы и Петербурга больше общего чем различий. Вопреки ожиданиям, предпочтения жанров в Петербурге напоминают московские.\n",
    "\n",
    "Третья гипотеза не подтвердилась. Если различия в предпочтениях и существуют, на основной массе пользователей они незаметны.\n",
    "\n",
    "**На практике исследования содержат проверки статистических гипотез.**\n",
    "Из данных одного сервиса не всегда можно сделать вывод о всех жителях города.\n",
    "Проверки статистических гипотез покажут, насколько они достоверны, исходя из имеющихся данных. \n",
    "С методами проверок гипотез вы ещё познакомитесь в следующих темах."
   ]
  },
  {
   "cell_type": "markdown",
   "metadata": {},
   "source": [
    "<font color='DarkBlue'><b>Комментарий ревьюера</b></font><br>\n",
    "<font color='DarkGreen'>👌 Хочу обратить внимание на выводы/итоги исследования. Этот пример сделан командой Практикума, как образец. <br>\n",
    "В следующих проектах тебе надо общие выводы писать самостоятельно на основе проведенного исследования и полученных результатов.</font>"
   ]
  },
  {
   "cell_type": "markdown",
   "metadata": {},
   "source": [
    "<font color='DarkBlue'><b>Заключительный комментарий ревьюера</b></font><br><br>\n",
    "<font color='DarkGreen'>👌 Ярослав, очень хороший проект, отлично структурирован. Так держать и дальше! 😄<br></font>\n",
    "<font color='DarkMagenta'>👉 Главные проблемы начинающего Джуна: не делаем, что написано в задании или пишем лишний код. 🙄<br>\n",
    "А если мы такие огрехи допустим на тестовом задании потенциального работодателя, то могут и не пригласить на дальнейшую беседу.\n",
    "И мы даже не узнаем почему нас не взяли.  Начинаем аккуратно относиться к коду и тексту задания. 🙄</font><br>\n",
    "<font color='Red'>🛠 Что нам нужно, что бы сделать проект лучше:<br>\n",
    " Удалить лишние функции display(). Исправить функцию replace_wrong_genres. Исправить ошибку в функции number_tracks. Исправить входные параметры, подаваемые в функцию genre_weekday. </font><br><font color='DarkMagenta'>👉 Договорились? </font><br>\n",
    "<font color='DarkGreen'>👌 Жду окончательный вариант! Успехов. 😉</font>"
   ]
  },
  {
   "cell_type": "markdown",
   "metadata": {},
   "source": [
    "<font color='DarkBlue'><b>Заключительный комментарий ревьюера 2</b></font><br><br>\n",
    "<font color='DarkGreen'>👌 Ярослав! Ну проект еще сопротивляется, нам осталось совсем не много, что бы его победить. 😄<br></font>\n",
    "<font color='Red'>🛠 Что нам осталось для победы:<br>\n",
    "Исправить функцию replace_wrong_genres.</font><br><font color='DarkMagenta'>👉 Добъем проект? </font><br>\n",
    "<font color='DarkGreen'>👌 Жду совсем окончательный вариант! Удачи! 😉</font>"
   ]
  },
  {
   "attachments": {
    "image.png": {
     "image/png": "[encoded data removed]"
    }
   },
   "cell_type": "markdown",
   "metadata": {},
   "source": [
    "<font color='DarkBlue'><b>Заключительный комментарий ревьюера 2</b></font><br><br>\n",
    "<font color='DarkGreen'>👌 Ярослав! УРА! Мы его победили, нам удалось исправить огрехи в проекте и не наделать новых.  Мы молодцы! 😄<br>\n",
    "Кроме того, мы много важного узнали в процессе выполнения проекта. Нам это пригодится в будущем.<br></font>\n",
    "<font color='DarkGreen'>👌 Теперь, вперед за новыми знаниями и навыками! Удачи! 😉</font>\n",
    "![image.png](attachment:image.png)\n",
    "<br>\n",
    "<font color='Blue'><b>Спасибо ! </b></font><br>"
   ]
  },
  {
   "cell_type": "code",
   "execution_count": null,
   "metadata": {},
   "outputs": [],
   "source": []
  }
 ],
 "metadata": {
  "ExecuteTimeLog": [
   {
    "duration": 368,
    "start_time": "2022-04-23T09:16:21.573Z"
   },
   {
    "duration": 56,
    "start_time": "2022-04-23T09:16:26.423Z"
   },
   {
    "duration": 65,
    "start_time": "2022-04-23T09:16:42.088Z"
   },
   {
    "duration": 67,
    "start_time": "2022-04-23T09:18:32.686Z"
   },
   {
    "duration": 57,
    "start_time": "2022-04-23T09:18:54.836Z"
   },
   {
    "duration": 58,
    "start_time": "2022-04-23T09:20:46.392Z"
   },
   {
    "duration": 64,
    "start_time": "2022-04-23T09:35:08.015Z"
   },
   {
    "duration": 3,
    "start_time": "2022-04-23T09:35:25.826Z"
   },
   {
    "duration": 69,
    "start_time": "2022-04-23T09:35:33.824Z"
   },
   {
    "duration": 60,
    "start_time": "2022-04-23T09:36:00.361Z"
   },
   {
    "duration": 59,
    "start_time": "2022-04-23T09:36:58.724Z"
   },
   {
    "duration": 7,
    "start_time": "2022-04-23T09:37:03.325Z"
   },
   {
    "duration": 2,
    "start_time": "2022-04-23T09:37:43.363Z"
   },
   {
    "duration": 78,
    "start_time": "2022-04-23T09:37:44.740Z"
   },
   {
    "duration": 46,
    "start_time": "2022-04-23T09:38:45.772Z"
   },
   {
    "duration": 7,
    "start_time": "2022-04-23T09:39:00.589Z"
   },
   {
    "duration": 131,
    "start_time": "2022-04-23T09:39:25.238Z"
   },
   {
    "duration": 17,
    "start_time": "2022-04-23T09:39:30.858Z"
   },
   {
    "duration": 31,
    "start_time": "2022-04-23T09:39:55.336Z"
   },
   {
    "duration": 18,
    "start_time": "2022-04-23T09:52:28.021Z"
   },
   {
    "duration": 75,
    "start_time": "2022-04-23T09:52:40.349Z"
   },
   {
    "duration": 4,
    "start_time": "2022-04-23T09:53:21.554Z"
   },
   {
    "duration": 4,
    "start_time": "2022-04-23T09:53:39.800Z"
   },
   {
    "duration": 71,
    "start_time": "2022-04-23T09:54:10.756Z"
   },
   {
    "duration": 4,
    "start_time": "2022-04-23T09:54:12.525Z"
   },
   {
    "duration": 4,
    "start_time": "2022-04-23T09:55:16.340Z"
   },
   {
    "duration": 2,
    "start_time": "2022-04-23T09:55:32.125Z"
   },
   {
    "duration": 158,
    "start_time": "2022-04-23T09:55:32.129Z"
   },
   {
    "duration": 11,
    "start_time": "2022-04-23T09:55:32.288Z"
   },
   {
    "duration": 39,
    "start_time": "2022-04-23T09:55:32.300Z"
   },
   {
    "duration": 4,
    "start_time": "2022-04-23T09:55:34.440Z"
   },
   {
    "duration": 3,
    "start_time": "2022-04-23T09:58:08.968Z"
   },
   {
    "duration": 169,
    "start_time": "2022-04-23T09:58:08.972Z"
   },
   {
    "duration": 10,
    "start_time": "2022-04-23T09:58:09.143Z"
   },
   {
    "duration": 30,
    "start_time": "2022-04-23T09:58:09.154Z"
   },
   {
    "duration": 4,
    "start_time": "2022-04-23T09:58:09.186Z"
   },
   {
    "duration": 9,
    "start_time": "2022-04-23T09:58:09.216Z"
   },
   {
    "duration": 7,
    "start_time": "2022-04-23T09:58:09.226Z"
   },
   {
    "duration": 65,
    "start_time": "2022-04-23T09:58:44.280Z"
   },
   {
    "duration": 1445,
    "start_time": "2022-04-23T10:03:50.245Z"
   },
   {
    "duration": 61,
    "start_time": "2022-04-23T10:04:02.386Z"
   },
   {
    "duration": 37,
    "start_time": "2022-04-23T10:06:35.369Z"
   },
   {
    "duration": 26,
    "start_time": "2022-04-23T10:06:49.893Z"
   },
   {
    "duration": 3,
    "start_time": "2022-04-23T10:07:35.618Z"
   },
   {
    "duration": 25,
    "start_time": "2022-04-23T10:07:40.029Z"
   },
   {
    "duration": 2,
    "start_time": "2022-04-23T10:07:45.296Z"
   },
   {
    "duration": 25,
    "start_time": "2022-04-23T10:07:55.623Z"
   },
   {
    "duration": 9,
    "start_time": "2022-04-23T10:08:22.104Z"
   },
   {
    "duration": 9,
    "start_time": "2022-04-23T10:09:36.408Z"
   },
   {
    "duration": 7,
    "start_time": "2022-04-23T10:09:50.288Z"
   },
   {
    "duration": 21,
    "start_time": "2022-04-23T10:13:24.750Z"
   },
   {
    "duration": 20,
    "start_time": "2022-04-23T10:13:27.573Z"
   },
   {
    "duration": 25,
    "start_time": "2022-04-23T10:13:30.266Z"
   },
   {
    "duration": 3,
    "start_time": "2022-04-23T10:14:30.876Z"
   },
   {
    "duration": 168,
    "start_time": "2022-04-23T10:14:30.880Z"
   },
   {
    "duration": 10,
    "start_time": "2022-04-23T10:14:31.050Z"
   },
   {
    "duration": 30,
    "start_time": "2022-04-23T10:14:31.062Z"
   },
   {
    "duration": 15,
    "start_time": "2022-04-23T10:14:31.094Z"
   },
   {
    "duration": 11,
    "start_time": "2022-04-23T10:14:31.110Z"
   },
   {
    "duration": 5,
    "start_time": "2022-04-23T10:14:31.122Z"
   },
   {
    "duration": 26,
    "start_time": "2022-04-23T10:14:34.749Z"
   },
   {
    "duration": 24,
    "start_time": "2022-04-23T10:14:37.954Z"
   },
   {
    "duration": 45,
    "start_time": "2022-04-23T10:14:39.905Z"
   },
   {
    "duration": 24,
    "start_time": "2022-04-23T10:14:41.066Z"
   },
   {
    "duration": 43,
    "start_time": "2022-04-23T10:14:55.630Z"
   },
   {
    "duration": 25,
    "start_time": "2022-04-23T10:14:56.834Z"
   },
   {
    "duration": 65,
    "start_time": "2022-04-23T10:15:27.377Z"
   },
   {
    "duration": 102,
    "start_time": "2022-04-23T10:16:17.705Z"
   },
   {
    "duration": 62,
    "start_time": "2022-04-23T10:16:20.689Z"
   },
   {
    "duration": 38,
    "start_time": "2022-04-23T10:51:49.244Z"
   },
   {
    "duration": 48,
    "start_time": "2022-04-23T10:52:10.382Z"
   },
   {
    "duration": 75,
    "start_time": "2022-04-23T11:02:28.088Z"
   },
   {
    "duration": 86,
    "start_time": "2022-04-23T11:02:42.340Z"
   },
   {
    "duration": 89,
    "start_time": "2022-04-23T11:02:53.183Z"
   },
   {
    "duration": 67,
    "start_time": "2022-04-23T11:03:10.342Z"
   },
   {
    "duration": 3,
    "start_time": "2022-04-23T11:03:38.979Z"
   },
   {
    "duration": 9,
    "start_time": "2022-04-23T11:05:55.556Z"
   },
   {
    "duration": 3,
    "start_time": "2022-04-23T11:09:46.649Z"
   },
   {
    "duration": 24,
    "start_time": "2022-04-23T11:09:53.550Z"
   },
   {
    "duration": 40,
    "start_time": "2022-04-23T11:10:43.954Z"
   },
   {
    "duration": 37,
    "start_time": "2022-04-23T11:16:16.416Z"
   },
   {
    "duration": 608,
    "start_time": "2022-04-23T11:16:33.847Z"
   },
   {
    "duration": 35,
    "start_time": "2022-04-23T11:16:40.977Z"
   },
   {
    "duration": 39,
    "start_time": "2022-04-23T11:16:49.880Z"
   },
   {
    "duration": 8,
    "start_time": "2022-04-23T11:18:22.129Z"
   },
   {
    "duration": 62,
    "start_time": "2022-04-23T11:19:09.108Z"
   },
   {
    "duration": 36,
    "start_time": "2022-04-23T11:19:20.516Z"
   },
   {
    "duration": 19,
    "start_time": "2022-04-23T11:19:40.731Z"
   },
   {
    "duration": 33,
    "start_time": "2022-04-23T11:19:56.227Z"
   },
   {
    "duration": 13,
    "start_time": "2022-04-23T11:20:16.706Z"
   },
   {
    "duration": 13,
    "start_time": "2022-04-23T11:21:45.195Z"
   },
   {
    "duration": 3,
    "start_time": "2022-04-23T11:46:21.701Z"
   },
   {
    "duration": 7,
    "start_time": "2022-04-23T11:47:04.379Z"
   },
   {
    "duration": 3,
    "start_time": "2022-04-23T11:47:37.423Z"
   },
   {
    "duration": 7,
    "start_time": "2022-04-23T11:47:40.299Z"
   },
   {
    "duration": 3,
    "start_time": "2022-04-23T11:51:18.979Z"
   },
   {
    "duration": 7,
    "start_time": "2022-04-23T11:51:23.598Z"
   },
   {
    "duration": 4,
    "start_time": "2022-04-23T11:56:42.977Z"
   },
   {
    "duration": 7,
    "start_time": "2022-04-23T11:56:45.368Z"
   },
   {
    "duration": 24,
    "start_time": "2022-04-23T11:57:19.583Z"
   },
   {
    "duration": 4,
    "start_time": "2022-04-23T11:59:33.568Z"
   },
   {
    "duration": 7,
    "start_time": "2022-04-23T11:59:34.685Z"
   },
   {
    "duration": 6,
    "start_time": "2022-04-23T11:59:48.971Z"
   },
   {
    "duration": 4,
    "start_time": "2022-04-23T12:00:06.561Z"
   },
   {
    "duration": 7,
    "start_time": "2022-04-23T12:00:07.783Z"
   },
   {
    "duration": 4,
    "start_time": "2022-04-23T12:00:29.070Z"
   },
   {
    "duration": 7,
    "start_time": "2022-04-23T12:00:30.091Z"
   },
   {
    "duration": 113,
    "start_time": "2022-04-23T12:07:34.315Z"
   },
   {
    "duration": 79,
    "start_time": "2022-04-23T12:07:42.035Z"
   },
   {
    "duration": 7,
    "start_time": "2022-04-23T12:07:43.771Z"
   },
   {
    "duration": 3,
    "start_time": "2022-04-23T12:08:33.919Z"
   },
   {
    "duration": 7,
    "start_time": "2022-04-23T12:08:35.527Z"
   },
   {
    "duration": 73,
    "start_time": "2022-04-23T12:18:53.562Z"
   },
   {
    "duration": 3,
    "start_time": "2022-04-23T12:21:03.635Z"
   },
   {
    "duration": 7,
    "start_time": "2022-04-23T12:21:05.193Z"
   },
   {
    "duration": 4,
    "start_time": "2022-04-23T12:22:03.472Z"
   },
   {
    "duration": 7,
    "start_time": "2022-04-23T12:22:04.435Z"
   },
   {
    "duration": 3,
    "start_time": "2022-04-23T12:29:10.397Z"
   },
   {
    "duration": 7,
    "start_time": "2022-04-23T12:29:11.353Z"
   },
   {
    "duration": 4,
    "start_time": "2022-04-23T12:31:00.689Z"
   },
   {
    "duration": 7,
    "start_time": "2022-04-23T12:31:03.370Z"
   },
   {
    "duration": 3,
    "start_time": "2022-04-23T12:31:59.149Z"
   },
   {
    "duration": 7,
    "start_time": "2022-04-23T12:32:00.409Z"
   },
   {
    "duration": 6,
    "start_time": "2022-04-23T12:32:07.013Z"
   },
   {
    "duration": 3,
    "start_time": "2022-04-23T12:32:18.663Z"
   },
   {
    "duration": 7,
    "start_time": "2022-04-23T12:32:19.520Z"
   },
   {
    "duration": 3,
    "start_time": "2022-04-23T12:33:02.776Z"
   },
   {
    "duration": 7,
    "start_time": "2022-04-23T12:33:03.794Z"
   },
   {
    "duration": 3,
    "start_time": "2022-04-23T12:33:48.188Z"
   },
   {
    "duration": 6,
    "start_time": "2022-04-23T12:33:49.432Z"
   },
   {
    "duration": 3,
    "start_time": "2022-04-23T12:34:31.156Z"
   },
   {
    "duration": 7,
    "start_time": "2022-04-23T12:34:32.004Z"
   },
   {
    "duration": 3,
    "start_time": "2022-04-23T12:34:49.538Z"
   },
   {
    "duration": 6,
    "start_time": "2022-04-23T12:38:46.374Z"
   },
   {
    "duration": 7,
    "start_time": "2022-04-23T12:38:53.524Z"
   },
   {
    "duration": 3,
    "start_time": "2022-04-23T12:39:40.570Z"
   },
   {
    "duration": 7,
    "start_time": "2022-04-23T12:39:41.873Z"
   },
   {
    "duration": 4,
    "start_time": "2022-04-23T12:39:57.116Z"
   },
   {
    "duration": 7,
    "start_time": "2022-04-23T12:39:58.185Z"
   },
   {
    "duration": 3,
    "start_time": "2022-04-23T13:01:44.815Z"
   },
   {
    "duration": 6,
    "start_time": "2022-04-23T13:01:46.434Z"
   },
   {
    "duration": 75,
    "start_time": "2022-04-23T13:08:52.787Z"
   },
   {
    "duration": 6,
    "start_time": "2022-04-23T13:09:10.081Z"
   },
   {
    "duration": 10,
    "start_time": "2022-04-23T13:12:07.586Z"
   },
   {
    "duration": 7,
    "start_time": "2022-04-23T13:12:16.733Z"
   },
   {
    "duration": 77,
    "start_time": "2022-04-23T13:12:34.473Z"
   },
   {
    "duration": 6,
    "start_time": "2022-04-23T13:12:38.788Z"
   },
   {
    "duration": 4,
    "start_time": "2022-04-23T13:12:45.923Z"
   },
   {
    "duration": 6,
    "start_time": "2022-04-23T13:12:48.698Z"
   },
   {
    "duration": 3,
    "start_time": "2022-04-23T13:14:53.358Z"
   },
   {
    "duration": 3,
    "start_time": "2022-04-23T13:15:50.301Z"
   },
   {
    "duration": 7,
    "start_time": "2022-04-23T13:15:55.447Z"
   },
   {
    "duration": 4,
    "start_time": "2022-04-23T13:16:03.680Z"
   },
   {
    "duration": 6,
    "start_time": "2022-04-23T13:16:04.564Z"
   },
   {
    "duration": 3,
    "start_time": "2022-04-23T13:20:59.880Z"
   },
   {
    "duration": 7,
    "start_time": "2022-04-23T13:21:01.008Z"
   },
   {
    "duration": 3,
    "start_time": "2022-04-23T13:21:56.161Z"
   },
   {
    "duration": 7,
    "start_time": "2022-04-23T13:21:56.935Z"
   },
   {
    "duration": 3,
    "start_time": "2022-04-23T13:22:48.901Z"
   },
   {
    "duration": 7,
    "start_time": "2022-04-23T13:22:49.765Z"
   },
   {
    "duration": 4,
    "start_time": "2022-04-23T13:23:17.968Z"
   },
   {
    "duration": 7,
    "start_time": "2022-04-23T13:23:18.942Z"
   },
   {
    "duration": 408,
    "start_time": "2022-04-23T13:31:30.407Z"
   },
   {
    "duration": 156,
    "start_time": "2022-04-23T13:31:30.817Z"
   },
   {
    "duration": 17,
    "start_time": "2022-04-23T13:31:30.974Z"
   },
   {
    "duration": 43,
    "start_time": "2022-04-23T13:31:30.994Z"
   },
   {
    "duration": 5,
    "start_time": "2022-04-23T13:31:31.039Z"
   },
   {
    "duration": 16,
    "start_time": "2022-04-23T13:31:31.045Z"
   },
   {
    "duration": 8,
    "start_time": "2022-04-23T13:31:31.062Z"
   },
   {
    "duration": 40,
    "start_time": "2022-04-23T13:31:31.071Z"
   },
   {
    "duration": 45,
    "start_time": "2022-04-23T13:31:31.112Z"
   },
   {
    "duration": 24,
    "start_time": "2022-04-23T13:31:31.159Z"
   },
   {
    "duration": 77,
    "start_time": "2022-04-23T13:31:31.184Z"
   },
   {
    "duration": 75,
    "start_time": "2022-04-23T13:31:31.263Z"
   },
   {
    "duration": 51,
    "start_time": "2022-04-23T13:31:31.340Z"
   },
   {
    "duration": 47,
    "start_time": "2022-04-23T13:31:31.393Z"
   },
   {
    "duration": 3,
    "start_time": "2022-04-23T13:31:31.442Z"
   },
   {
    "duration": 31,
    "start_time": "2022-04-23T13:31:31.446Z"
   },
   {
    "duration": 45,
    "start_time": "2022-04-23T13:31:31.479Z"
   },
   {
    "duration": 13,
    "start_time": "2022-04-23T13:31:31.526Z"
   },
   {
    "duration": 11,
    "start_time": "2022-04-23T13:31:31.541Z"
   },
   {
    "duration": 6,
    "start_time": "2022-04-23T13:31:31.553Z"
   },
   {
    "duration": 84,
    "start_time": "2022-04-23T13:31:31.560Z"
   },
   {
    "duration": 0,
    "start_time": "2022-04-23T13:31:31.646Z"
   },
   {
    "duration": 0,
    "start_time": "2022-04-23T13:31:31.647Z"
   },
   {
    "duration": 0,
    "start_time": "2022-04-23T13:31:31.648Z"
   },
   {
    "duration": 0,
    "start_time": "2022-04-23T13:31:31.649Z"
   },
   {
    "duration": 0,
    "start_time": "2022-04-23T13:31:31.650Z"
   },
   {
    "duration": 0,
    "start_time": "2022-04-23T13:31:31.651Z"
   },
   {
    "duration": 0,
    "start_time": "2022-04-23T13:31:31.652Z"
   },
   {
    "duration": 0,
    "start_time": "2022-04-23T13:31:31.653Z"
   },
   {
    "duration": 0,
    "start_time": "2022-04-23T13:31:31.654Z"
   },
   {
    "duration": 0,
    "start_time": "2022-04-23T13:31:31.655Z"
   },
   {
    "duration": 0,
    "start_time": "2022-04-23T13:31:31.655Z"
   },
   {
    "duration": 0,
    "start_time": "2022-04-23T13:31:31.656Z"
   },
   {
    "duration": 0,
    "start_time": "2022-04-23T13:31:31.657Z"
   },
   {
    "duration": 0,
    "start_time": "2022-04-23T13:31:31.658Z"
   },
   {
    "duration": 0,
    "start_time": "2022-04-23T13:31:31.659Z"
   },
   {
    "duration": 1,
    "start_time": "2022-04-23T13:31:31.659Z"
   },
   {
    "duration": 0,
    "start_time": "2022-04-23T13:31:31.660Z"
   },
   {
    "duration": 4,
    "start_time": "2022-04-23T15:07:44.238Z"
   },
   {
    "duration": 7,
    "start_time": "2022-04-23T15:07:46.513Z"
   },
   {
    "duration": 23,
    "start_time": "2022-04-23T15:07:55.552Z"
   },
   {
    "duration": 6,
    "start_time": "2022-04-23T15:14:04.838Z"
   },
   {
    "duration": 40,
    "start_time": "2022-04-23T15:14:08.978Z"
   },
   {
    "duration": 4,
    "start_time": "2022-04-23T15:14:52.021Z"
   },
   {
    "duration": 26,
    "start_time": "2022-04-23T15:14:53.367Z"
   },
   {
    "duration": 4,
    "start_time": "2022-04-23T15:15:17.279Z"
   },
   {
    "duration": 21,
    "start_time": "2022-04-23T15:15:18.081Z"
   },
   {
    "duration": 17,
    "start_time": "2022-04-23T15:15:55.644Z"
   },
   {
    "duration": 395,
    "start_time": "2022-04-23T15:17:00.042Z"
   },
   {
    "duration": 154,
    "start_time": "2022-04-23T15:17:00.439Z"
   },
   {
    "duration": 22,
    "start_time": "2022-04-23T15:17:00.594Z"
   },
   {
    "duration": 29,
    "start_time": "2022-04-23T15:17:00.618Z"
   },
   {
    "duration": 5,
    "start_time": "2022-04-23T15:17:00.648Z"
   },
   {
    "duration": 16,
    "start_time": "2022-04-23T15:17:00.654Z"
   },
   {
    "duration": 9,
    "start_time": "2022-04-23T15:17:00.672Z"
   },
   {
    "duration": 48,
    "start_time": "2022-04-23T15:17:00.683Z"
   },
   {
    "duration": 59,
    "start_time": "2022-04-23T15:17:00.732Z"
   },
   {
    "duration": 25,
    "start_time": "2022-04-23T15:17:00.794Z"
   },
   {
    "duration": 71,
    "start_time": "2022-04-23T15:17:00.821Z"
   },
   {
    "duration": 92,
    "start_time": "2022-04-23T15:17:00.894Z"
   },
   {
    "duration": 66,
    "start_time": "2022-04-23T15:17:00.988Z"
   },
   {
    "duration": 79,
    "start_time": "2022-04-23T15:17:01.057Z"
   },
   {
    "duration": 3,
    "start_time": "2022-04-23T15:17:01.137Z"
   },
   {
    "duration": 26,
    "start_time": "2022-04-23T15:17:01.142Z"
   },
   {
    "duration": 52,
    "start_time": "2022-04-23T15:17:01.170Z"
   },
   {
    "duration": 12,
    "start_time": "2022-04-23T15:17:01.224Z"
   },
   {
    "duration": 16,
    "start_time": "2022-04-23T15:17:01.238Z"
   },
   {
    "duration": 4,
    "start_time": "2022-04-23T15:17:01.256Z"
   },
   {
    "duration": 24,
    "start_time": "2022-04-23T15:17:01.262Z"
   },
   {
    "duration": 32,
    "start_time": "2022-04-23T15:17:01.288Z"
   },
   {
    "duration": 17,
    "start_time": "2022-04-23T15:17:01.322Z"
   },
   {
    "duration": 38,
    "start_time": "2022-04-23T15:17:01.341Z"
   },
   {
    "duration": 28,
    "start_time": "2022-04-23T15:17:01.381Z"
   },
   {
    "duration": 17,
    "start_time": "2022-04-23T15:17:01.411Z"
   },
   {
    "duration": 4,
    "start_time": "2022-04-23T15:17:01.429Z"
   },
   {
    "duration": 26,
    "start_time": "2022-04-23T15:17:01.437Z"
   },
   {
    "duration": 26,
    "start_time": "2022-04-23T15:17:01.465Z"
   },
   {
    "duration": 7,
    "start_time": "2022-04-23T15:17:01.493Z"
   },
   {
    "duration": 17,
    "start_time": "2022-04-23T15:17:01.501Z"
   },
   {
    "duration": 7,
    "start_time": "2022-04-23T15:17:01.519Z"
   },
   {
    "duration": 10,
    "start_time": "2022-04-23T15:17:01.528Z"
   },
   {
    "duration": 9,
    "start_time": "2022-04-23T15:17:01.540Z"
   },
   {
    "duration": 8,
    "start_time": "2022-04-23T15:17:01.550Z"
   },
   {
    "duration": 16,
    "start_time": "2022-04-23T15:17:01.559Z"
   },
   {
    "duration": 15,
    "start_time": "2022-04-23T15:17:01.576Z"
   },
   {
    "duration": 6,
    "start_time": "2022-04-23T15:17:01.593Z"
   },
   {
    "duration": 5,
    "start_time": "2022-04-23T15:38:37.198Z"
   },
   {
    "duration": 8,
    "start_time": "2022-04-23T15:38:51.644Z"
   },
   {
    "duration": 4,
    "start_time": "2022-04-23T15:41:56.966Z"
   },
   {
    "duration": 38,
    "start_time": "2022-04-23T15:41:58.111Z"
   },
   {
    "duration": 3,
    "start_time": "2022-04-23T15:45:50.111Z"
   },
   {
    "duration": 20,
    "start_time": "2022-04-23T15:45:50.842Z"
   },
   {
    "duration": 468,
    "start_time": "2022-04-23T15:49:30.121Z"
   },
   {
    "duration": 251,
    "start_time": "2022-04-23T15:49:30.592Z"
   },
   {
    "duration": 19,
    "start_time": "2022-04-23T15:49:30.845Z"
   },
   {
    "duration": 57,
    "start_time": "2022-04-23T15:49:30.866Z"
   },
   {
    "duration": 5,
    "start_time": "2022-04-23T15:49:30.926Z"
   },
   {
    "duration": 26,
    "start_time": "2022-04-23T15:49:30.933Z"
   },
   {
    "duration": 52,
    "start_time": "2022-04-23T15:49:30.961Z"
   },
   {
    "duration": 44,
    "start_time": "2022-04-23T15:49:31.015Z"
   },
   {
    "duration": 74,
    "start_time": "2022-04-23T15:49:31.061Z"
   },
   {
    "duration": 28,
    "start_time": "2022-04-23T15:49:31.138Z"
   },
   {
    "duration": 129,
    "start_time": "2022-04-23T15:49:31.168Z"
   },
   {
    "duration": 101,
    "start_time": "2022-04-23T15:49:31.301Z"
   },
   {
    "duration": 80,
    "start_time": "2022-04-23T15:49:31.404Z"
   },
   {
    "duration": 64,
    "start_time": "2022-04-23T15:49:31.486Z"
   },
   {
    "duration": 4,
    "start_time": "2022-04-23T15:49:31.551Z"
   },
   {
    "duration": 30,
    "start_time": "2022-04-23T15:49:31.556Z"
   },
   {
    "duration": 71,
    "start_time": "2022-04-23T15:49:31.589Z"
   },
   {
    "duration": 13,
    "start_time": "2022-04-23T15:49:31.661Z"
   },
   {
    "duration": 50,
    "start_time": "2022-04-23T15:49:31.677Z"
   },
   {
    "duration": 4,
    "start_time": "2022-04-23T15:49:31.729Z"
   },
   {
    "duration": 28,
    "start_time": "2022-04-23T15:49:31.735Z"
   },
   {
    "duration": 26,
    "start_time": "2022-04-23T15:49:31.765Z"
   },
   {
    "duration": 29,
    "start_time": "2022-04-23T15:49:31.810Z"
   },
   {
    "duration": 17,
    "start_time": "2022-04-23T15:49:31.841Z"
   },
   {
    "duration": 20,
    "start_time": "2022-04-23T15:49:31.859Z"
   },
   {
    "duration": 53,
    "start_time": "2022-04-23T15:49:31.881Z"
   },
   {
    "duration": 9,
    "start_time": "2022-04-23T15:49:31.936Z"
   },
   {
    "duration": 2,
    "start_time": "2022-04-23T15:49:31.951Z"
   },
   {
    "duration": 6,
    "start_time": "2022-04-23T15:49:31.956Z"
   },
   {
    "duration": 4,
    "start_time": "2022-04-23T15:49:31.964Z"
   },
   {
    "duration": 9,
    "start_time": "2022-04-23T15:49:31.971Z"
   },
   {
    "duration": 38,
    "start_time": "2022-04-23T15:49:31.982Z"
   },
   {
    "duration": 7,
    "start_time": "2022-04-23T15:49:32.023Z"
   },
   {
    "duration": 5,
    "start_time": "2022-04-23T15:49:32.032Z"
   },
   {
    "duration": 5,
    "start_time": "2022-04-23T15:49:32.039Z"
   },
   {
    "duration": 4,
    "start_time": "2022-04-23T15:49:32.046Z"
   },
   {
    "duration": 4,
    "start_time": "2022-04-23T15:49:32.052Z"
   },
   {
    "duration": 4,
    "start_time": "2022-04-23T15:49:32.058Z"
   },
   {
    "duration": 24,
    "start_time": "2022-04-23T15:59:54.693Z"
   },
   {
    "duration": 23,
    "start_time": "2022-04-23T16:00:29.288Z"
   },
   {
    "duration": 4,
    "start_time": "2022-04-23T16:10:33.805Z"
   },
   {
    "duration": 29,
    "start_time": "2022-04-23T16:11:20.309Z"
   },
   {
    "duration": 4,
    "start_time": "2022-04-23T16:12:19.367Z"
   },
   {
    "duration": 32,
    "start_time": "2022-04-23T16:12:20.384Z"
   },
   {
    "duration": 5,
    "start_time": "2022-04-23T16:12:52.120Z"
   },
   {
    "duration": 16,
    "start_time": "2022-04-23T16:12:53.953Z"
   },
   {
    "duration": 3,
    "start_time": "2022-04-23T16:13:03.543Z"
   },
   {
    "duration": 26,
    "start_time": "2022-04-23T16:13:04.329Z"
   },
   {
    "duration": 5,
    "start_time": "2022-04-23T16:13:42.481Z"
   },
   {
    "duration": 29,
    "start_time": "2022-04-23T16:13:43.374Z"
   },
   {
    "duration": 4,
    "start_time": "2022-04-23T16:15:45.327Z"
   },
   {
    "duration": 20,
    "start_time": "2022-04-23T16:15:46.850Z"
   },
   {
    "duration": 5,
    "start_time": "2022-04-23T16:16:31.679Z"
   },
   {
    "duration": 19,
    "start_time": "2022-04-23T16:16:32.964Z"
   },
   {
    "duration": 20,
    "start_time": "2022-04-23T16:20:45.801Z"
   },
   {
    "duration": 14,
    "start_time": "2022-04-23T16:21:58.956Z"
   },
   {
    "duration": 26,
    "start_time": "2022-04-23T16:22:01.059Z"
   },
   {
    "duration": 40,
    "start_time": "2022-04-23T16:35:47.999Z"
   },
   {
    "duration": 71,
    "start_time": "2022-04-23T16:36:42.260Z"
   },
   {
    "duration": 65,
    "start_time": "2022-04-23T16:36:51.065Z"
   },
   {
    "duration": 17,
    "start_time": "2022-04-23T16:36:56.809Z"
   },
   {
    "duration": 10,
    "start_time": "2022-04-23T16:37:09.026Z"
   },
   {
    "duration": 5,
    "start_time": "2022-04-23T16:37:40.994Z"
   },
   {
    "duration": 11,
    "start_time": "2022-04-23T16:38:24.699Z"
   },
   {
    "duration": 5,
    "start_time": "2022-04-23T16:38:25.932Z"
   },
   {
    "duration": 7,
    "start_time": "2022-04-23T16:40:07.858Z"
   },
   {
    "duration": 6,
    "start_time": "2022-04-23T16:40:17.832Z"
   },
   {
    "duration": 439,
    "start_time": "2022-04-23T16:42:27.092Z"
   },
   {
    "duration": 147,
    "start_time": "2022-04-23T16:42:27.533Z"
   },
   {
    "duration": 18,
    "start_time": "2022-04-23T16:42:27.681Z"
   },
   {
    "duration": 34,
    "start_time": "2022-04-23T16:42:27.711Z"
   },
   {
    "duration": 4,
    "start_time": "2022-04-23T16:42:27.746Z"
   },
   {
    "duration": 14,
    "start_time": "2022-04-23T16:42:27.751Z"
   },
   {
    "duration": 8,
    "start_time": "2022-04-23T16:42:27.766Z"
   },
   {
    "duration": 50,
    "start_time": "2022-04-23T16:42:27.776Z"
   },
   {
    "duration": 45,
    "start_time": "2022-04-23T16:42:27.828Z"
   },
   {
    "duration": 42,
    "start_time": "2022-04-23T16:42:27.876Z"
   },
   {
    "duration": 65,
    "start_time": "2022-04-23T16:42:27.920Z"
   },
   {
    "duration": 98,
    "start_time": "2022-04-23T16:42:27.987Z"
   },
   {
    "duration": 73,
    "start_time": "2022-04-23T16:42:28.087Z"
   },
   {
    "duration": 50,
    "start_time": "2022-04-23T16:42:28.161Z"
   },
   {
    "duration": 6,
    "start_time": "2022-04-23T16:42:28.214Z"
   },
   {
    "duration": 25,
    "start_time": "2022-04-23T16:42:28.221Z"
   },
   {
    "duration": 39,
    "start_time": "2022-04-23T16:42:28.248Z"
   },
   {
    "duration": 21,
    "start_time": "2022-04-23T16:42:28.308Z"
   },
   {
    "duration": 12,
    "start_time": "2022-04-23T16:42:28.330Z"
   },
   {
    "duration": 4,
    "start_time": "2022-04-23T16:42:28.344Z"
   },
   {
    "duration": 22,
    "start_time": "2022-04-23T16:42:28.349Z"
   },
   {
    "duration": 51,
    "start_time": "2022-04-23T16:42:28.373Z"
   },
   {
    "duration": 18,
    "start_time": "2022-04-23T16:42:28.426Z"
   },
   {
    "duration": 14,
    "start_time": "2022-04-23T16:42:28.445Z"
   },
   {
    "duration": 17,
    "start_time": "2022-04-23T16:42:28.460Z"
   },
   {
    "duration": 22,
    "start_time": "2022-04-23T16:42:28.508Z"
   },
   {
    "duration": 7,
    "start_time": "2022-04-23T16:42:28.532Z"
   },
   {
    "duration": 21,
    "start_time": "2022-04-23T16:42:28.543Z"
   },
   {
    "duration": 55,
    "start_time": "2022-04-23T16:42:28.566Z"
   },
   {
    "duration": 4,
    "start_time": "2022-04-23T16:42:28.624Z"
   },
   {
    "duration": 21,
    "start_time": "2022-04-23T16:42:28.631Z"
   },
   {
    "duration": 12,
    "start_time": "2022-04-23T16:42:28.653Z"
   },
   {
    "duration": 44,
    "start_time": "2022-04-23T16:42:28.667Z"
   },
   {
    "duration": 15,
    "start_time": "2022-04-23T16:42:28.714Z"
   },
   {
    "duration": 8,
    "start_time": "2022-04-23T16:42:28.731Z"
   },
   {
    "duration": 4,
    "start_time": "2022-04-23T16:42:28.741Z"
   },
   {
    "duration": 9,
    "start_time": "2022-04-23T16:42:28.746Z"
   },
   {
    "duration": 4,
    "start_time": "2022-04-23T16:42:28.757Z"
   },
   {
    "duration": 45,
    "start_time": "2022-04-30T12:02:58.311Z"
   },
   {
    "duration": 450,
    "start_time": "2022-04-30T12:03:07.842Z"
   },
   {
    "duration": 154,
    "start_time": "2022-04-30T12:03:08.294Z"
   },
   {
    "duration": 26,
    "start_time": "2022-04-30T12:03:08.452Z"
   },
   {
    "duration": 9,
    "start_time": "2022-04-30T12:03:08.481Z"
   },
   {
    "duration": 33,
    "start_time": "2022-04-30T12:03:08.492Z"
   },
   {
    "duration": 4,
    "start_time": "2022-04-30T12:03:08.528Z"
   },
   {
    "duration": 12,
    "start_time": "2022-04-30T12:03:08.533Z"
   },
   {
    "duration": 30,
    "start_time": "2022-04-30T12:03:08.547Z"
   },
   {
    "duration": 28,
    "start_time": "2022-04-30T12:03:08.579Z"
   },
   {
    "duration": 71,
    "start_time": "2022-04-30T12:03:08.609Z"
   },
   {
    "duration": 27,
    "start_time": "2022-04-30T12:03:08.682Z"
   },
   {
    "duration": 109,
    "start_time": "2022-04-30T12:03:08.711Z"
   },
   {
    "duration": 88,
    "start_time": "2022-04-30T12:03:08.824Z"
   },
   {
    "duration": 66,
    "start_time": "2022-04-30T12:03:08.914Z"
   },
   {
    "duration": 39,
    "start_time": "2022-04-30T12:03:08.982Z"
   },
   {
    "duration": 3,
    "start_time": "2022-04-30T12:03:09.023Z"
   },
   {
    "duration": 45,
    "start_time": "2022-04-30T12:03:09.028Z"
   },
   {
    "duration": 39,
    "start_time": "2022-04-30T12:03:09.075Z"
   },
   {
    "duration": 12,
    "start_time": "2022-04-30T12:03:09.116Z"
   },
   {
    "duration": 13,
    "start_time": "2022-04-30T12:03:09.130Z"
   },
   {
    "duration": 28,
    "start_time": "2022-04-30T12:03:09.145Z"
   },
   {
    "duration": 30,
    "start_time": "2022-04-30T12:03:09.175Z"
   },
   {
    "duration": 16,
    "start_time": "2022-04-30T12:03:09.207Z"
   },
   {
    "duration": 16,
    "start_time": "2022-04-30T12:03:09.224Z"
   },
   {
    "duration": 46,
    "start_time": "2022-04-30T12:03:09.242Z"
   },
   {
    "duration": 20,
    "start_time": "2022-04-30T12:03:09.290Z"
   },
   {
    "duration": 18,
    "start_time": "2022-04-30T12:03:09.311Z"
   },
   {
    "duration": 9,
    "start_time": "2022-04-30T12:03:09.331Z"
   },
   {
    "duration": 21,
    "start_time": "2022-04-30T12:03:09.374Z"
   },
   {
    "duration": 19,
    "start_time": "2022-04-30T12:03:09.397Z"
   },
   {
    "duration": 4,
    "start_time": "2022-04-30T12:03:09.418Z"
   },
   {
    "duration": 25,
    "start_time": "2022-04-30T12:03:09.423Z"
   },
   {
    "duration": 15,
    "start_time": "2022-04-30T12:03:09.472Z"
   },
   {
    "duration": 17,
    "start_time": "2022-04-30T12:03:09.489Z"
   },
   {
    "duration": 12,
    "start_time": "2022-04-30T12:03:09.509Z"
   },
   {
    "duration": 11,
    "start_time": "2022-04-30T12:03:09.523Z"
   },
   {
    "duration": 6,
    "start_time": "2022-04-30T12:03:09.572Z"
   },
   {
    "duration": 10,
    "start_time": "2022-04-30T12:03:09.579Z"
   },
   {
    "duration": 7,
    "start_time": "2022-04-30T12:03:09.590Z"
   },
   {
    "duration": 19,
    "start_time": "2022-04-30T12:24:20.277Z"
   },
   {
    "duration": 18,
    "start_time": "2022-04-30T12:37:17.321Z"
   },
   {
    "duration": 45,
    "start_time": "2022-05-01T08:41:59.184Z"
   },
   {
    "duration": 462,
    "start_time": "2022-05-01T08:42:19.124Z"
   },
   {
    "duration": 147,
    "start_time": "2022-05-01T08:42:19.588Z"
   },
   {
    "duration": 17,
    "start_time": "2022-05-01T08:42:23.207Z"
   },
   {
    "duration": 401,
    "start_time": "2022-05-01T08:44:39.393Z"
   },
   {
    "duration": 155,
    "start_time": "2022-05-01T08:44:39.796Z"
   },
   {
    "duration": 26,
    "start_time": "2022-05-01T08:44:39.957Z"
   },
   {
    "duration": 9,
    "start_time": "2022-05-01T08:44:39.988Z"
   },
   {
    "duration": 34,
    "start_time": "2022-05-01T08:44:39.999Z"
   },
   {
    "duration": 5,
    "start_time": "2022-05-01T08:44:40.034Z"
   },
   {
    "duration": 12,
    "start_time": "2022-05-01T08:44:40.061Z"
   },
   {
    "duration": 33,
    "start_time": "2022-05-01T08:44:40.075Z"
   },
   {
    "duration": 82,
    "start_time": "2022-05-01T08:44:40.110Z"
   },
   {
    "duration": 94,
    "start_time": "2022-05-01T08:44:40.196Z"
   },
   {
    "duration": 43,
    "start_time": "2022-05-01T08:44:40.292Z"
   },
   {
    "duration": 121,
    "start_time": "2022-05-01T08:44:40.337Z"
   },
   {
    "duration": 120,
    "start_time": "2022-05-01T08:44:40.460Z"
   },
   {
    "duration": 88,
    "start_time": "2022-05-01T08:44:40.582Z"
   },
   {
    "duration": 45,
    "start_time": "2022-05-01T08:44:40.673Z"
   },
   {
    "duration": 3,
    "start_time": "2022-05-01T08:44:40.720Z"
   },
   {
    "duration": 53,
    "start_time": "2022-05-01T08:44:40.724Z"
   },
   {
    "duration": 45,
    "start_time": "2022-05-01T08:44:40.780Z"
   },
   {
    "duration": 11,
    "start_time": "2022-05-01T08:44:40.827Z"
   },
   {
    "duration": 24,
    "start_time": "2022-05-01T08:44:40.840Z"
   },
   {
    "duration": 5,
    "start_time": "2022-05-01T08:44:40.866Z"
   },
   {
    "duration": 36,
    "start_time": "2022-05-01T08:44:40.873Z"
   },
   {
    "duration": 18,
    "start_time": "2022-05-01T08:44:40.911Z"
   },
   {
    "duration": 16,
    "start_time": "2022-05-01T08:44:40.930Z"
   },
   {
    "duration": 25,
    "start_time": "2022-05-01T08:44:40.958Z"
   },
   {
    "duration": 19,
    "start_time": "2022-05-01T08:44:40.985Z"
   },
   {
    "duration": 19,
    "start_time": "2022-05-01T08:44:41.005Z"
   },
   {
    "duration": 36,
    "start_time": "2022-05-01T08:44:41.027Z"
   },
   {
    "duration": 16,
    "start_time": "2022-05-01T08:44:41.065Z"
   },
   {
    "duration": 35,
    "start_time": "2022-05-01T08:44:41.083Z"
   },
   {
    "duration": 19,
    "start_time": "2022-05-01T08:44:41.120Z"
   },
   {
    "duration": 24,
    "start_time": "2022-05-01T08:44:41.141Z"
   },
   {
    "duration": 43,
    "start_time": "2022-05-01T08:44:41.167Z"
   },
   {
    "duration": 17,
    "start_time": "2022-05-01T08:44:41.212Z"
   },
   {
    "duration": 25,
    "start_time": "2022-05-01T08:44:41.231Z"
   },
   {
    "duration": 24,
    "start_time": "2022-05-01T08:44:41.268Z"
   },
   {
    "duration": 10,
    "start_time": "2022-05-01T08:44:41.294Z"
   },
   {
    "duration": 5,
    "start_time": "2022-05-01T08:44:41.306Z"
   },
   {
    "duration": 8,
    "start_time": "2022-05-01T08:44:41.313Z"
   },
   {
    "duration": 5,
    "start_time": "2022-05-01T08:44:41.323Z"
   },
   {
    "duration": 4,
    "start_time": "2022-05-01T08:45:19.975Z"
   },
   {
    "duration": 5,
    "start_time": "2022-05-01T08:46:15.560Z"
   },
   {
    "duration": 31,
    "start_time": "2022-05-01T08:47:15.340Z"
   },
   {
    "duration": 26,
    "start_time": "2022-05-01T08:47:54.751Z"
   },
   {
    "duration": 57,
    "start_time": "2022-05-01T08:48:11.571Z"
   },
   {
    "duration": 62,
    "start_time": "2022-05-01T08:48:23.203Z"
   },
   {
    "duration": 3,
    "start_time": "2022-05-01T08:49:25.938Z"
   },
   {
    "duration": 177,
    "start_time": "2022-05-01T08:49:25.945Z"
   },
   {
    "duration": 11,
    "start_time": "2022-05-01T08:49:26.124Z"
   },
   {
    "duration": 62,
    "start_time": "2022-05-01T08:49:26.136Z"
   },
   {
    "duration": 66,
    "start_time": "2022-05-01T08:49:26.200Z"
   },
   {
    "duration": 21,
    "start_time": "2022-05-01T08:49:26.271Z"
   },
   {
    "duration": 23,
    "start_time": "2022-05-01T08:49:26.294Z"
   },
   {
    "duration": 29,
    "start_time": "2022-05-01T08:49:26.319Z"
   },
   {
    "duration": 55,
    "start_time": "2022-05-01T08:49:26.350Z"
   },
   {
    "duration": 69,
    "start_time": "2022-05-01T08:49:26.407Z"
   },
   {
    "duration": 26,
    "start_time": "2022-05-01T08:49:26.478Z"
   },
   {
    "duration": 61,
    "start_time": "2022-05-01T08:49:29.098Z"
   },
   {
    "duration": 44,
    "start_time": "2022-05-01T08:50:10.419Z"
   },
   {
    "duration": 44,
    "start_time": "2022-05-01T08:51:28.315Z"
   },
   {
    "duration": 16,
    "start_time": "2022-05-01T08:52:05.449Z"
   },
   {
    "duration": 18,
    "start_time": "2022-05-01T08:52:28.630Z"
   },
   {
    "duration": 4,
    "start_time": "2022-05-01T08:53:28.134Z"
   },
   {
    "duration": 19,
    "start_time": "2022-05-01T08:53:38.487Z"
   },
   {
    "duration": 21,
    "start_time": "2022-05-01T08:54:34.699Z"
   },
   {
    "duration": 16,
    "start_time": "2022-05-01T08:54:43.910Z"
   },
   {
    "duration": 22,
    "start_time": "2022-05-01T08:55:01.150Z"
   },
   {
    "duration": 16,
    "start_time": "2022-05-01T08:55:04.582Z"
   },
   {
    "duration": 20,
    "start_time": "2022-05-01T08:55:13.619Z"
   },
   {
    "duration": 18,
    "start_time": "2022-05-01T08:55:15.771Z"
   },
   {
    "duration": 126,
    "start_time": "2022-05-01T08:58:21.455Z"
   },
   {
    "duration": 24,
    "start_time": "2022-05-01T09:02:12.991Z"
   },
   {
    "duration": 18,
    "start_time": "2022-05-01T09:03:45.872Z"
   },
   {
    "duration": 13,
    "start_time": "2022-05-01T09:03:56.600Z"
   },
   {
    "duration": 80,
    "start_time": "2022-05-01T09:05:48.618Z"
   },
   {
    "duration": 3,
    "start_time": "2022-05-01T09:21:27.444Z"
   },
   {
    "duration": 40,
    "start_time": "2022-05-01T09:21:31.348Z"
   },
   {
    "duration": 54,
    "start_time": "2022-05-01T09:21:42.523Z"
   },
   {
    "duration": 388,
    "start_time": "2022-05-01T09:23:07.496Z"
   },
   {
    "duration": 149,
    "start_time": "2022-05-01T09:23:07.887Z"
   },
   {
    "duration": 23,
    "start_time": "2022-05-01T09:23:08.038Z"
   },
   {
    "duration": 12,
    "start_time": "2022-05-01T09:23:08.063Z"
   },
   {
    "duration": 31,
    "start_time": "2022-05-01T09:23:08.076Z"
   },
   {
    "duration": 4,
    "start_time": "2022-05-01T09:23:08.108Z"
   },
   {
    "duration": 11,
    "start_time": "2022-05-01T09:23:08.114Z"
   },
   {
    "duration": 28,
    "start_time": "2022-05-01T09:23:08.127Z"
   },
   {
    "duration": 36,
    "start_time": "2022-05-01T09:23:08.157Z"
   },
   {
    "duration": 65,
    "start_time": "2022-05-01T09:23:08.195Z"
   },
   {
    "duration": 29,
    "start_time": "2022-05-01T09:23:08.262Z"
   },
   {
    "duration": 82,
    "start_time": "2022-05-01T09:23:08.293Z"
   },
   {
    "duration": 85,
    "start_time": "2022-05-01T09:23:08.377Z"
   },
   {
    "duration": 91,
    "start_time": "2022-05-01T09:23:08.470Z"
   },
   {
    "duration": 42,
    "start_time": "2022-05-01T09:23:08.563Z"
   },
   {
    "duration": 3,
    "start_time": "2022-05-01T09:23:08.606Z"
   },
   {
    "duration": 25,
    "start_time": "2022-05-01T09:23:08.611Z"
   },
   {
    "duration": 61,
    "start_time": "2022-05-01T09:23:08.637Z"
   },
   {
    "duration": 13,
    "start_time": "2022-05-01T09:23:08.700Z"
   },
   {
    "duration": 11,
    "start_time": "2022-05-01T09:23:08.715Z"
   },
   {
    "duration": 4,
    "start_time": "2022-05-01T09:23:08.727Z"
   },
   {
    "duration": 22,
    "start_time": "2022-05-01T09:23:08.755Z"
   },
   {
    "duration": 24,
    "start_time": "2022-05-01T09:23:08.779Z"
   },
   {
    "duration": 20,
    "start_time": "2022-05-01T09:23:08.805Z"
   },
   {
    "duration": 41,
    "start_time": "2022-05-01T09:23:08.827Z"
   },
   {
    "duration": 13,
    "start_time": "2022-05-01T09:23:08.870Z"
   },
   {
    "duration": 20,
    "start_time": "2022-05-01T09:23:08.885Z"
   },
   {
    "duration": 46,
    "start_time": "2022-05-01T09:23:08.909Z"
   },
   {
    "duration": 113,
    "start_time": "2022-05-01T09:23:08.957Z"
   },
   {
    "duration": 23,
    "start_time": "2022-05-01T09:23:09.072Z"
   },
   {
    "duration": 17,
    "start_time": "2022-05-01T09:23:09.097Z"
   },
   {
    "duration": 5,
    "start_time": "2022-05-01T09:23:09.116Z"
   },
   {
    "duration": 55,
    "start_time": "2022-05-01T09:23:09.122Z"
   },
   {
    "duration": 11,
    "start_time": "2022-05-01T09:23:09.179Z"
   },
   {
    "duration": 17,
    "start_time": "2022-05-01T09:23:09.191Z"
   },
   {
    "duration": 11,
    "start_time": "2022-05-01T09:23:09.209Z"
   },
   {
    "duration": 9,
    "start_time": "2022-05-01T09:23:09.222Z"
   },
   {
    "duration": 29,
    "start_time": "2022-05-01T09:23:09.232Z"
   },
   {
    "duration": 21,
    "start_time": "2022-05-01T09:23:09.263Z"
   },
   {
    "duration": 6,
    "start_time": "2022-05-01T09:23:09.286Z"
   },
   {
    "duration": 6,
    "start_time": "2022-05-01T09:40:39.472Z"
   },
   {
    "duration": 21,
    "start_time": "2022-05-01T09:40:43.387Z"
   },
   {
    "duration": 9,
    "start_time": "2022-05-01T09:40:58.245Z"
   },
   {
    "duration": 23,
    "start_time": "2022-05-01T09:40:59.772Z"
   },
   {
    "duration": 15,
    "start_time": "2022-05-01T09:42:19.424Z"
   },
   {
    "duration": 19,
    "start_time": "2022-05-01T09:42:20.495Z"
   },
   {
    "duration": 552,
    "start_time": "2022-05-01T09:42:30.412Z"
   },
   {
    "duration": 239,
    "start_time": "2022-05-01T09:42:30.966Z"
   },
   {
    "duration": 30,
    "start_time": "2022-05-01T09:42:31.207Z"
   },
   {
    "duration": 17,
    "start_time": "2022-05-01T09:42:31.254Z"
   },
   {
    "duration": 65,
    "start_time": "2022-05-01T09:42:31.274Z"
   },
   {
    "duration": 15,
    "start_time": "2022-05-01T09:42:31.341Z"
   },
   {
    "duration": 20,
    "start_time": "2022-05-01T09:42:31.358Z"
   },
   {
    "duration": 13,
    "start_time": "2022-05-01T09:42:31.380Z"
   },
   {
    "duration": 34,
    "start_time": "2022-05-01T09:42:31.395Z"
   },
   {
    "duration": 70,
    "start_time": "2022-05-01T09:42:31.432Z"
   },
   {
    "duration": 27,
    "start_time": "2022-05-01T09:42:31.504Z"
   },
   {
    "duration": 92,
    "start_time": "2022-05-01T09:42:31.532Z"
   },
   {
    "duration": 94,
    "start_time": "2022-05-01T09:42:31.625Z"
   },
   {
    "duration": 74,
    "start_time": "2022-05-01T09:42:31.721Z"
   },
   {
    "duration": 75,
    "start_time": "2022-05-01T09:42:31.798Z"
   },
   {
    "duration": 4,
    "start_time": "2022-05-01T09:42:31.875Z"
   },
   {
    "duration": 29,
    "start_time": "2022-05-01T09:42:31.880Z"
   },
   {
    "duration": 80,
    "start_time": "2022-05-01T09:42:31.911Z"
   },
   {
    "duration": 20,
    "start_time": "2022-05-01T09:42:31.993Z"
   },
   {
    "duration": 13,
    "start_time": "2022-05-01T09:42:32.015Z"
   },
   {
    "duration": 28,
    "start_time": "2022-05-01T09:42:32.029Z"
   },
   {
    "duration": 44,
    "start_time": "2022-05-01T09:42:32.059Z"
   },
   {
    "duration": 23,
    "start_time": "2022-05-01T09:42:32.105Z"
   },
   {
    "duration": 17,
    "start_time": "2022-05-01T09:42:32.130Z"
   },
   {
    "duration": 19,
    "start_time": "2022-05-01T09:42:32.155Z"
   },
   {
    "duration": 64,
    "start_time": "2022-05-01T09:42:32.176Z"
   },
   {
    "duration": 19,
    "start_time": "2022-05-01T09:42:32.242Z"
   },
   {
    "duration": 17,
    "start_time": "2022-05-01T09:42:32.264Z"
   },
   {
    "duration": 141,
    "start_time": "2022-05-01T09:42:32.283Z"
   },
   {
    "duration": 40,
    "start_time": "2022-05-01T09:42:32.426Z"
   },
   {
    "duration": 28,
    "start_time": "2022-05-01T09:42:32.469Z"
   },
   {
    "duration": 6,
    "start_time": "2022-05-01T09:42:32.499Z"
   },
   {
    "duration": 49,
    "start_time": "2022-05-01T09:42:32.507Z"
   },
   {
    "duration": 16,
    "start_time": "2022-05-01T09:42:32.558Z"
   },
   {
    "duration": 22,
    "start_time": "2022-05-01T09:42:32.576Z"
   },
   {
    "duration": 16,
    "start_time": "2022-05-01T09:42:32.600Z"
   },
   {
    "duration": 44,
    "start_time": "2022-05-01T09:42:32.618Z"
   },
   {
    "duration": 17,
    "start_time": "2022-05-01T09:42:32.664Z"
   },
   {
    "duration": 19,
    "start_time": "2022-05-01T09:42:32.683Z"
   },
   {
    "duration": 21,
    "start_time": "2022-05-01T09:42:32.704Z"
   },
   {
    "duration": 44,
    "start_time": "2022-05-02T10:52:48.826Z"
   },
   {
    "duration": 449,
    "start_time": "2022-05-02T10:53:01.795Z"
   },
   {
    "duration": 149,
    "start_time": "2022-05-02T10:53:02.246Z"
   },
   {
    "duration": 18,
    "start_time": "2022-05-02T10:53:02.396Z"
   },
   {
    "duration": 8,
    "start_time": "2022-05-02T10:53:02.416Z"
   },
   {
    "duration": 44,
    "start_time": "2022-05-02T10:53:02.426Z"
   },
   {
    "duration": 4,
    "start_time": "2022-05-02T10:53:02.472Z"
   },
   {
    "duration": 15,
    "start_time": "2022-05-02T10:53:02.477Z"
   },
   {
    "duration": 6,
    "start_time": "2022-05-02T10:53:02.494Z"
   },
   {
    "duration": 28,
    "start_time": "2022-05-02T10:53:02.501Z"
   },
   {
    "duration": 62,
    "start_time": "2022-05-02T10:53:02.532Z"
   },
   {
    "duration": 22,
    "start_time": "2022-05-02T10:53:02.596Z"
   },
   {
    "duration": 78,
    "start_time": "2022-05-02T10:53:02.620Z"
   },
   {
    "duration": 84,
    "start_time": "2022-05-02T10:53:02.699Z"
   },
   {
    "duration": 56,
    "start_time": "2022-05-02T10:53:02.785Z"
   },
   {
    "duration": 47,
    "start_time": "2022-05-02T10:53:02.842Z"
   },
   {
    "duration": 37,
    "start_time": "2022-05-02T10:53:14.072Z"
   },
   {
    "duration": 3,
    "start_time": "2022-05-02T10:53:28.469Z"
   },
   {
    "duration": 9,
    "start_time": "2022-05-02T10:53:31.553Z"
   },
   {
    "duration": 42,
    "start_time": "2022-05-02T10:53:37.454Z"
   },
   {
    "duration": 394,
    "start_time": "2022-05-02T10:56:20.981Z"
   },
   {
    "duration": 169,
    "start_time": "2022-05-02T10:56:21.377Z"
   },
   {
    "duration": 19,
    "start_time": "2022-05-02T10:56:21.547Z"
   },
   {
    "duration": 9,
    "start_time": "2022-05-02T10:56:21.568Z"
   },
   {
    "duration": 37,
    "start_time": "2022-05-02T10:56:21.578Z"
   },
   {
    "duration": 4,
    "start_time": "2022-05-02T10:56:21.617Z"
   },
   {
    "duration": 43,
    "start_time": "2022-05-02T10:56:21.622Z"
   },
   {
    "duration": 7,
    "start_time": "2022-05-02T10:56:21.667Z"
   },
   {
    "duration": 28,
    "start_time": "2022-05-02T10:56:21.676Z"
   },
   {
    "duration": 93,
    "start_time": "2022-05-02T10:56:21.707Z"
   },
   {
    "duration": 27,
    "start_time": "2022-05-02T10:56:21.802Z"
   },
   {
    "duration": 82,
    "start_time": "2022-05-02T10:56:21.832Z"
   },
   {
    "duration": 99,
    "start_time": "2022-05-02T10:56:21.916Z"
   },
   {
    "duration": 64,
    "start_time": "2022-05-02T10:56:22.017Z"
   },
   {
    "duration": 42,
    "start_time": "2022-05-02T10:56:22.083Z"
   },
   {
    "duration": 3,
    "start_time": "2022-05-02T10:56:22.127Z"
   },
   {
    "duration": 28,
    "start_time": "2022-05-02T10:56:22.132Z"
   },
   {
    "duration": 38,
    "start_time": "2022-05-02T10:56:22.162Z"
   },
   {
    "duration": 13,
    "start_time": "2022-05-02T10:56:22.202Z"
   },
   {
    "duration": 13,
    "start_time": "2022-05-02T10:56:22.216Z"
   },
   {
    "duration": 4,
    "start_time": "2022-05-02T10:56:22.255Z"
   },
   {
    "duration": 25,
    "start_time": "2022-05-02T10:56:22.260Z"
   },
   {
    "duration": 16,
    "start_time": "2022-05-02T10:56:22.287Z"
   },
   {
    "duration": 14,
    "start_time": "2022-05-02T10:56:22.305Z"
   },
   {
    "duration": 35,
    "start_time": "2022-05-02T10:56:22.321Z"
   },
   {
    "duration": 22,
    "start_time": "2022-05-02T10:56:22.358Z"
   },
   {
    "duration": 25,
    "start_time": "2022-05-02T10:56:22.382Z"
   },
   {
    "duration": 49,
    "start_time": "2022-05-02T10:56:22.412Z"
   },
   {
    "duration": 78,
    "start_time": "2022-05-02T10:56:22.463Z"
   },
   {
    "duration": 32,
    "start_time": "2022-05-02T10:56:22.555Z"
   },
   {
    "duration": 29,
    "start_time": "2022-05-02T10:56:22.590Z"
   },
   {
    "duration": 5,
    "start_time": "2022-05-02T10:56:22.622Z"
   },
   {
    "duration": 42,
    "start_time": "2022-05-02T10:56:22.629Z"
   },
   {
    "duration": 13,
    "start_time": "2022-05-02T10:56:22.673Z"
   },
   {
    "duration": 19,
    "start_time": "2022-05-02T10:56:22.689Z"
   },
   {
    "duration": 13,
    "start_time": "2022-05-02T10:56:22.709Z"
   },
   {
    "duration": 39,
    "start_time": "2022-05-02T10:56:22.723Z"
   },
   {
    "duration": 6,
    "start_time": "2022-05-02T10:56:22.763Z"
   },
   {
    "duration": 8,
    "start_time": "2022-05-02T10:56:22.771Z"
   },
   {
    "duration": 5,
    "start_time": "2022-05-02T10:56:22.781Z"
   }
  ],
  "colab": {
   "collapsed_sections": [
    "E0vqbgi9ay0H",
    "VUC88oWjTJw2"
   ],
   "name": "yandex_music_project.ipynb",
   "provenance": []
  },
  "kernelspec": {
   "display_name": "Python 3 (ipykernel)",
   "language": "python",
   "name": "python3"
  },
  "language_info": {
   "codemirror_mode": {
    "name": "ipython",
    "version": 3
   },
   "file_extension": ".py",
   "mimetype": "text/x-python",
   "name": "python",
   "nbconvert_exporter": "python",
   "pygments_lexer": "ipython3",
   "version": "3.9.13"
  },
  "toc": {
   "base_numbering": 1,
   "nav_menu": {},
   "number_sections": true,
   "sideBar": true,
   "skip_h1_title": true,
   "title_cell": "Table of Contents",
   "title_sidebar": "Contents",
   "toc_cell": false,
   "toc_position": {
    "height": "calc(100% - 180px)",
    "left": "10px",
    "top": "150px",
    "width": "277.148px"
   },
   "toc_section_display": true,
   "toc_window_display": true
  }
 },
 "nbformat": 4,
 "nbformat_minor": 1
}
